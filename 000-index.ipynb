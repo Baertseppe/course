{
 "cells": [
  {
   "attachments": {},
   "cell_type": "markdown",
   "metadata": {
    "slideshow": {
     "slide_type": "-"
    }
   },
   "source": [
    "\n",
    "# Machine Learning\n",
    "#### Johan Decorte - Koen Mertens\n",
    "\n",
    ">_The development of full artificial intelligence could spell_\n",
    ">_the end of the human race….It would take off on its own,_ \n",
    ">_and re-design itself at an ever-increasing rate._ \n",
    ">_Humans, who are limited by slow biological evolution,_ \n",
    ">_couldn’t compete, and would be superseded.”_\n",
    ">\n",
    ">Stephen Hawking, BBC\n",
    "    \n",
    "\n",
    "## INTRODUCTION\n",
    "\n",
    "This course is mainly based on the following book. \n",
    "![Hands-on Machine Learning with Scikit-Learn, Keras, and TensorFlow (3d edition)](img/book.png).  \n",
    "This book is an integral part of the course and is as such mandatory lecture. \n",
    "\n",
    "## Table of Contents\n",
    "0. [Introduction](001-introduction.pdf)\n",
    "1. The Machine Learning Landscape\n",
    "    1. [Slides](100-the_machine_learning_landscape.pdf)\n",
    "       1. [Example](101-the_machine_learning_landscape.ipynb)\n",
    "    2. Overview of supporting libraries\n",
    "       1. [Numpy](121-numpy.ipynb)\n",
    "       2. [Pandas](122-pandas.ipynb)\n",
    "       3. [Matplotlib](123-matplotlib.ipynb)\n",
    "    3. Our First Machine Learning Project\n",
    "       1. [Notebook](011-first_machine_learning_project.ipynb)  \n",
    "    4. [Project TODO](012-project-TODO.pdf)\n",
    "\n",
    "2. End-toEnd Machine Learning Project\n",
    "    1. [Notebook](200-end_to_end_machine_learning_project.ipynb)  \n",
    "    2. [Excercise \"Building OAT\"](201-exercise_building_oat.ipynb)\n",
    "3. Classification\n",
    "    1. [Notebook](300-classification.ipynb)\n",
    "    2. [Exercise \"TODO\"](301-exercise_todo.ipynb)\n",
    "4. Training Models\n",
    "    1. [Notebook](400-training_models.ipynb)\n",
    "    2. [Exercise \"Women Clothing Sizes Prediction\"](041-women_clothing_sizes_prediction.ipynb)\n",
    "    3. [Exercise \"TODO\"](420-exercise_todo.ipynb)\n",
    "5. Support Vector Machines\n",
    "    1. [Notebook](0500-support_vector_machines.ipynb)\n",
    "    2. [Exercise \"Students score\"](510-exercise_demographic_studentscore_svm.ipynb)\n",
    "6. Decision Trees\n",
    "    1. [Notebook](600-decision_trees.ipynb)\n",
    "    2. [Exercise \"Penguins\"](610-exercise_penguins.ipynb)\n",
    "7. Ensemble Learning and Random Forests\n",
    "    1. [Notebook](700-ensemble_learning_and_random_forests.ipynb)\n",
    "    2. [Exercise \"TODO\"](710-exercise_todo.ipynb)\n",
    "8. Dimensionality Reduction\n",
    "   1. TODO\n",
    "9.  Unsupervised Learning Techniques\n",
    "   1.  TODO\n",
    "\n",
    "\n",
    "### SOLUTIONS\n",
    "\n",
    "We publish the solutions to the exercises when the lectures have finished. "
   ]
  }
 ],
 "metadata": {
  "celltoolbar": "Slideshow",
  "kernelspec": {
   "display_name": "Python 3",
   "language": "python",
   "name": "python3"
  },
  "language_info": {
   "codemirror_mode": {
    "name": "ipython",
    "version": 3
   },
   "file_extension": ".py",
   "mimetype": "text/x-python",
   "name": "python",
   "nbconvert_exporter": "python",
   "pygments_lexer": "ipython3",
   "version": "3.9.12 (tags/v3.9.12:b28265d, Mar 23 2022, 23:52:46) [MSC v.1929 64 bit (AMD64)]"
  },
  "nbTranslate": {
   "displayLangs": [
    "*"
   ],
   "hotkey": "alt-t",
   "langInMainMenu": true,
   "sourceLang": "en",
   "targetLang": "fr",
   "useGoogleTranslate": true
  },
  "rise": {
   "scroll": true
  },
  "vscode": {
   "interpreter": {
    "hash": "11938c6bc6919ae2720b4d5011047913343b08a43b18698fd82dedb0d4417594"
   }
  }
 },
 "nbformat": 4,
 "nbformat_minor": 2
}

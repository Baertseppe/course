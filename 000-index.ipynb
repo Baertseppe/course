{
 "cells": [
  {
   "attachments": {},
   "cell_type": "markdown",
   "metadata": {
    "slideshow": {
     "slide_type": "-"
    }
   },
   "source": [
    "\n",
    "# Machine Learning\n",
    "#### Johan Decorte - Koen Mertens\n",
    "\n",
    ">_The development of full artificial intelligence could spell_\n",
    ">_the end of the human race….It would take off on its own,_ \n",
    ">_and re-design itself at an ever-increasing rate._ \n",
    ">_Humans, who are limited by slow biological evolution,_ \n",
    ">_couldn’t compete, and would be superseded.”_\n",
    ">\n",
    ">Stephen Hawking, BBC\n",
    "    \n",
    "\n",
    "## INTRODUCTION\n",
    "\n",
    "This course is mainly based on the following book. \n",
    "![Hands-on Machine Learning with Scikit-Learn, Keras, and TensorFlow (3d edition)](img/book.png).  \n",
    "This book is an integral part of the course and is as such mandatory lecture. \n",
    "\n",
    "## Table of Contents\n",
    "0. [Introduction](001-introduction.pdf)\n",
    "1. The Machine Learning Landscape\n",
    "    1. [Slides](010-the_machine_learning_landscape.pdf)  \n",
    "    2. Our First Machine Learning Project\n",
    "       1. [Notebook](011-first_machine_learning_project.ipynb)  \n",
    "       2. [Excercise \"TODO\"](011-exercise_TODO.ipynb)\n",
    "    1. [Project TODO](012-project-TODO.pdf)\n",
    "    2. Overview of supporting libraries\n",
    "       1. Numpy\n",
    "           1. [Arrays](013-0-numpy_arrays.ipynb)\n",
    "           2. [Indexing and Selection](013-1-numpy_indexing-and_selection.ipynb)\n",
    "           3. [Operations](013-2-numpy_operations.ipynb)\n",
    "       2. [Pandas en Matplotlib](014-pandas_matplotlib_introduction_case_corona.ipynb)\n",
    "2. End-toEnd Machine Learning Project\n",
    "    1. [Notebook](020-end_to_end_machine_learning_project.ipynb)  \n",
    "    2. [Excercise \"Building OAT\"](021-exercise_building_oat.ipynb)\n",
    "3. Classification\n",
    "    1. [Notebook](030-classification.ipynb)\n",
    "    2. [Exercise \"TODO\"](031-exercise_todo.ipynb)\n",
    "4. Training Models\n",
    "    1. [Notebook](040-training_models.ipynb)\n",
    "    2. [Introduction to Linear Algebra](041-introduction_to_linear_algebra.pdf) (optional)\n",
    "    3. [Exercise \"Women Clothing Sizes Prediction\"](042-women_clothing_sizes_prediction.ipynb)\n",
    "    4. [Exercise \"TODO\"](043-exercise_todo.ipynb)\n",
    "5. Support Vector Machines\n",
    "    1. [Notebook](050-support_vector_machines.ipynb)\n",
    "    2. [Exercise \"Students score\"](051-exercise_demographic_studentscore_svm.ipynb)\n",
    "6. Decision Trees\n",
    "    1. [Notebook](060-decision_trees.ipynb)\n",
    "    2. [Exercise \"Penguins\"](061-exercise_penguins.ipynb)\n",
    "7. Ensemble Learning and Random Forests\n",
    "    1. [Notebook](070-ensemble_learning_and_random_forests.ipynb)\n",
    "    2. [Exercise \"TODO\"](071-exercise_todo.ipynb)\n",
    "8. Dimensionality Reduction\n",
    "9. Unsupervised Learning Techniques\n",
    "\n",
    "\n",
    "### SOLUTIONS\n",
    "\n",
    "We publish the solutions to the exercises when the lectures have finished. "
   ]
  }
 ],
 "metadata": {
  "celltoolbar": "Slideshow",
  "kernelspec": {
   "display_name": "Python 3",
   "language": "python",
   "name": "python3"
  },
  "language_info": {
   "codemirror_mode": {
    "name": "ipython",
    "version": 3
   },
   "file_extension": ".py",
   "mimetype": "text/x-python",
   "name": "python",
   "nbconvert_exporter": "python",
   "pygments_lexer": "ipython3",
   "version": "3.9.12 (tags/v3.9.12:b28265d, Mar 23 2022, 23:52:46) [MSC v.1929 64 bit (AMD64)]"
  },
  "nbTranslate": {
   "displayLangs": [
    "*"
   ],
   "hotkey": "alt-t",
   "langInMainMenu": true,
   "sourceLang": "en",
   "targetLang": "fr",
   "useGoogleTranslate": true
  },
  "rise": {
   "scroll": true
  },
  "vscode": {
   "interpreter": {
    "hash": "11938c6bc6919ae2720b4d5011047913343b08a43b18698fd82dedb0d4417594"
   }
  }
 },
 "nbformat": 4,
 "nbformat_minor": 2
}

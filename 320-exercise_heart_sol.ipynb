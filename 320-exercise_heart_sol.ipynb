{
  "cells": [
    {
      "cell_type": "code",
      "execution_count": 2,
      "metadata": {
        "id": "rO-a8LratBrG"
      },
      "outputs": [],
      "source": [
        "# Python ≥3.7 is required\n",
        "import sys\n",
        "assert sys.version_info >= (3, 7)\n",
        "\n",
        "# Is this notebook running on Colab or Kaggle?\n",
        "IS_COLAB = \"google.colab\" in sys.modules\n",
        "\n",
        "# Scikit-Learn ≥1.0.1 is required\n",
        "from packaging import version\n",
        "import sklearn\n",
        "\n",
        "assert version.parse(sklearn.__version__) >= version.parse(\"1.0.1\")\n",
        "\n",
        "# Common imports\n",
        "import numpy as np\n",
        "import os\n",
        "\n",
        "# to make this notebook's output stable across runs\n",
        "np.random.seed(42)\n",
        "\n",
        "# To plot pretty figures\n",
        "import matplotlib.pyplot as plt\n",
        "\n",
        "plt.rc('font', size=14)\n",
        "plt.rc('axes', labelsize=14, titlesize=14)\n",
        "plt.rc('legend', fontsize=14)\n",
        "plt.rc('xtick', labelsize=10)\n",
        "plt.rc('ytick', labelsize=10)\n",
        "\n",
        "import pandas as pd"
      ]
    },
    {
      "cell_type": "markdown",
      "metadata": {
        "id": "UlSAWVUST66t"
      },
      "source": [
        "Deze dataset bevat data van cardiotocogrammen die gemaakt werden bij prenatale echo's. Door 3 experten werd een classificatie gedaan, zowel met betrekking tot het morfologisch patroon (CLASS) als met betrekking tot de toestand van de foetus (NSP). Dus zowel de kolom CLASS als de kolom NSP bevatten een 'score' die de 3 experten aan de data gaven.  \n",
        "Daarom kan deze dataset gebruikt worden voor een 10-class of voor een 3-class classificatie.  \n",
        "\n",
        "\n",
        "* LB - FHR-basislijn (slagen per minuut)    \n",
        "* AC - aantal versnellingen per seconde  \n",
        "* FM - aantal foetale bewegingen per seconde  \n",
        "* UC - aantal baarmoedersamentrekkingen per seconde  \n",
        "* DL - aantal lichtvertragingen per seconde  \n",
        "* DS - aantal ernstige vertragingen per seconde  \n",
        "* DP - aantal langdurige vertragingen per seconde  \n",
        "* ASTV - percentage van de tijd met abnormale kortetermijnvariabiliteit  \n",
        "* MSTV - gemiddelde waarde van kortetermijnvariabiliteit  \n",
        "* ALTV - percentage van de tijd met abnormale langetermijnvariabiliteit  \n",
        "* MLTV - gemiddelde waarde van langetermijnvariabiliteit  \n",
        "* Width - breedte van FHR-histogram  \n",
        "* Min - minimum van FHR-histogram  \n",
        "* Max - Maximum van FHR-histogram  \n",
        "* Nmax - aantal histogrampieken  \n",
        "* Nzeros - aantal histogramnullen  \n",
        "* Mode - histogrammodus  \n",
        "* Mean - histogram gemiddelde  \n",
        "* Median - histogram mediaan  \n",
        "* Variance - histogramvariantie  \n",
        "* Tendency - histogramtendens  \n",
        "* CLASS - klassecode van de FHR (1 tot 10)\n",
        "* NSP - klassecode van de toestand van de foetus (1 -> N=normaal; 2 -> S=verdacht (suspect); 3 -> P=pathologisch (= dit wijst op een ziekte))\n",
        "\n",
        "\n",
        "Bron: https://archive.ics.uci.edu/ml/datasets/cardiotocography "
      ]
    },
    {
      "cell_type": "code",
      "execution_count": 3,
      "metadata": {
        "colab": {
          "base_uri": "https://localhost:8080/"
        },
        "id": "9DDydng9tKwj",
        "outputId": "e3e855e8-9764-4883-c9c8-be2dd5b0348c"
      },
      "outputs": [
        {
          "name": "stdout",
          "output_type": "stream",
          "text": [
            "You are not running on Google Colab\n"
          ]
        }
      ],
      "source": [
        "if 'google.colab' in str(get_ipython()):\n",
        "    colab = True\n",
        "    print ('You are running on Google Colab')\n",
        "else:\n",
        "    colab = False\n",
        "    print ('You are not running on Google Colab')\n",
        "\n",
        "if colab:\n",
        "    from google.colab import drive\n",
        "    drive.mount('/content/gdrive')"
      ]
    },
    {
      "cell_type": "code",
      "execution_count": 4,
      "metadata": {
        "colab": {
          "base_uri": "https://localhost:8080/",
          "height": 235
        },
        "id": "u5k9dXTvtn3i",
        "outputId": "346449d7-6088-47ae-986c-6c845738bc2b"
      },
      "outputs": [
        {
          "data": {
            "text/html": [
              "<div>\n",
              "<style scoped>\n",
              "    .dataframe tbody tr th:only-of-type {\n",
              "        vertical-align: middle;\n",
              "    }\n",
              "\n",
              "    .dataframe tbody tr th {\n",
              "        vertical-align: top;\n",
              "    }\n",
              "\n",
              "    .dataframe thead th {\n",
              "        text-align: right;\n",
              "    }\n",
              "</style>\n",
              "<table border=\"1\" class=\"dataframe\">\n",
              "  <thead>\n",
              "    <tr style=\"text-align: right;\">\n",
              "      <th></th>\n",
              "      <th>LB</th>\n",
              "      <th>AC</th>\n",
              "      <th>FM</th>\n",
              "      <th>UC</th>\n",
              "      <th>DL</th>\n",
              "      <th>DS</th>\n",
              "      <th>DP</th>\n",
              "      <th>ASTV</th>\n",
              "      <th>MSTV</th>\n",
              "      <th>ALTV</th>\n",
              "      <th>...</th>\n",
              "      <th>Max</th>\n",
              "      <th>Nmax</th>\n",
              "      <th>Nzeros</th>\n",
              "      <th>Mode</th>\n",
              "      <th>Mean</th>\n",
              "      <th>Median</th>\n",
              "      <th>Variance</th>\n",
              "      <th>Tendency</th>\n",
              "      <th>CLASS</th>\n",
              "      <th>NSP</th>\n",
              "    </tr>\n",
              "  </thead>\n",
              "  <tbody>\n",
              "    <tr>\n",
              "      <th>0</th>\n",
              "      <td>120.0</td>\n",
              "      <td>0.000</td>\n",
              "      <td>0.0</td>\n",
              "      <td>0.000</td>\n",
              "      <td>0.000</td>\n",
              "      <td>0.0</td>\n",
              "      <td>0.0</td>\n",
              "      <td>73.0</td>\n",
              "      <td>0.5</td>\n",
              "      <td>43.0</td>\n",
              "      <td>...</td>\n",
              "      <td>126.0</td>\n",
              "      <td>2.0</td>\n",
              "      <td>0.0</td>\n",
              "      <td>120.0</td>\n",
              "      <td>137.0</td>\n",
              "      <td>121.0</td>\n",
              "      <td>73.0</td>\n",
              "      <td>1.0</td>\n",
              "      <td>9</td>\n",
              "      <td>2.0</td>\n",
              "    </tr>\n",
              "    <tr>\n",
              "      <th>1</th>\n",
              "      <td>132.0</td>\n",
              "      <td>0.006</td>\n",
              "      <td>0.0</td>\n",
              "      <td>0.006</td>\n",
              "      <td>0.003</td>\n",
              "      <td>0.0</td>\n",
              "      <td>0.0</td>\n",
              "      <td>17.0</td>\n",
              "      <td>2.1</td>\n",
              "      <td>0.0</td>\n",
              "      <td>...</td>\n",
              "      <td>198.0</td>\n",
              "      <td>6.0</td>\n",
              "      <td>1.0</td>\n",
              "      <td>141.0</td>\n",
              "      <td>136.0</td>\n",
              "      <td>140.0</td>\n",
              "      <td>12.0</td>\n",
              "      <td>0.0</td>\n",
              "      <td>6</td>\n",
              "      <td>1.0</td>\n",
              "    </tr>\n",
              "    <tr>\n",
              "      <th>2</th>\n",
              "      <td>133.0</td>\n",
              "      <td>0.003</td>\n",
              "      <td>0.0</td>\n",
              "      <td>0.008</td>\n",
              "      <td>0.003</td>\n",
              "      <td>0.0</td>\n",
              "      <td>0.0</td>\n",
              "      <td>16.0</td>\n",
              "      <td>2.1</td>\n",
              "      <td>0.0</td>\n",
              "      <td>...</td>\n",
              "      <td>198.0</td>\n",
              "      <td>5.0</td>\n",
              "      <td>1.0</td>\n",
              "      <td>141.0</td>\n",
              "      <td>135.0</td>\n",
              "      <td>138.0</td>\n",
              "      <td>13.0</td>\n",
              "      <td>0.0</td>\n",
              "      <td>6</td>\n",
              "      <td>1.0</td>\n",
              "    </tr>\n",
              "    <tr>\n",
              "      <th>3</th>\n",
              "      <td>134.0</td>\n",
              "      <td>0.003</td>\n",
              "      <td>0.0</td>\n",
              "      <td>0.008</td>\n",
              "      <td>0.003</td>\n",
              "      <td>0.0</td>\n",
              "      <td>0.0</td>\n",
              "      <td>16.0</td>\n",
              "      <td>2.4</td>\n",
              "      <td>0.0</td>\n",
              "      <td>...</td>\n",
              "      <td>170.0</td>\n",
              "      <td>11.0</td>\n",
              "      <td>0.0</td>\n",
              "      <td>137.0</td>\n",
              "      <td>134.0</td>\n",
              "      <td>137.0</td>\n",
              "      <td>13.0</td>\n",
              "      <td>1.0</td>\n",
              "      <td>6</td>\n",
              "      <td>1.0</td>\n",
              "    </tr>\n",
              "    <tr>\n",
              "      <th>4</th>\n",
              "      <td>132.0</td>\n",
              "      <td>0.007</td>\n",
              "      <td>0.0</td>\n",
              "      <td>0.008</td>\n",
              "      <td>0.000</td>\n",
              "      <td>0.0</td>\n",
              "      <td>0.0</td>\n",
              "      <td>16.0</td>\n",
              "      <td>2.4</td>\n",
              "      <td>0.0</td>\n",
              "      <td>...</td>\n",
              "      <td>170.0</td>\n",
              "      <td>9.0</td>\n",
              "      <td>0.0</td>\n",
              "      <td>137.0</td>\n",
              "      <td>136.0</td>\n",
              "      <td>138.0</td>\n",
              "      <td>11.0</td>\n",
              "      <td>1.0</td>\n",
              "      <td>2</td>\n",
              "      <td>1.0</td>\n",
              "    </tr>\n",
              "  </tbody>\n",
              "</table>\n",
              "<p>5 rows × 23 columns</p>\n",
              "</div>"
            ],
            "text/plain": [
              "      LB     AC   FM     UC     DL   DS   DP  ASTV  MSTV  ALTV  ...    Max  \\\n",
              "0  120.0  0.000  0.0  0.000  0.000  0.0  0.0  73.0   0.5  43.0  ...  126.0   \n",
              "1  132.0  0.006  0.0  0.006  0.003  0.0  0.0  17.0   2.1   0.0  ...  198.0   \n",
              "2  133.0  0.003  0.0  0.008  0.003  0.0  0.0  16.0   2.1   0.0  ...  198.0   \n",
              "3  134.0  0.003  0.0  0.008  0.003  0.0  0.0  16.0   2.4   0.0  ...  170.0   \n",
              "4  132.0  0.007  0.0  0.008  0.000  0.0  0.0  16.0   2.4   0.0  ...  170.0   \n",
              "\n",
              "   Nmax  Nzeros   Mode   Mean  Median  Variance  Tendency  CLASS  NSP  \n",
              "0   2.0     0.0  120.0  137.0   121.0      73.0       1.0      9  2.0  \n",
              "1   6.0     1.0  141.0  136.0   140.0      12.0       0.0      6  1.0  \n",
              "2   5.0     1.0  141.0  135.0   138.0      13.0       0.0      6  1.0  \n",
              "3  11.0     0.0  137.0  134.0   137.0      13.0       1.0      6  1.0  \n",
              "4   9.0     0.0  137.0  136.0   138.0      11.0       1.0      2  1.0  \n",
              "\n",
              "[5 rows x 23 columns]"
            ]
          },
          "execution_count": 4,
          "metadata": {},
          "output_type": "execute_result"
        }
      ],
      "source": [
        "if colab:\n",
        "    df = pd.read_csv('/content/gdrive/MyDrive/DataEchos.csv', delimiter=\";\")\n",
        "else:\n",
        "    df = pd.read_csv('https://raw.githubusercontent.com/HOGENT-ML/course/main/datasets/DataEchos.csv', delimiter=\";\")\n",
        "df.head()"
      ]
    },
    {
      "cell_type": "markdown",
      "metadata": {
        "id": "hWrct3ddbfjN"
      },
      "source": [
        "Geef algemene informatie over de  dataset (type van elke kolom, null waarden, ...)"
      ]
    },
    {
      "cell_type": "code",
      "execution_count": 5,
      "metadata": {
        "colab": {
          "base_uri": "https://localhost:8080/"
        },
        "id": "DiWPQpAGWuPH",
        "outputId": "2c7b4ac5-3669-47a2-f956-c0e3cfa035d6"
      },
      "outputs": [
        {
          "name": "stdout",
          "output_type": "stream",
          "text": [
            "<class 'pandas.core.frame.DataFrame'>\n",
            "RangeIndex: 2126 entries, 0 to 2125\n",
            "Data columns (total 23 columns):\n",
            " #   Column    Non-Null Count  Dtype  \n",
            "---  ------    --------------  -----  \n",
            " 0   LB        2126 non-null   float64\n",
            " 1   AC        2126 non-null   float64\n",
            " 2   FM        2126 non-null   float64\n",
            " 3   UC        2126 non-null   float64\n",
            " 4   DL        2126 non-null   float64\n",
            " 5   DS        2126 non-null   float64\n",
            " 6   DP        2126 non-null   float64\n",
            " 7   ASTV      2126 non-null   float64\n",
            " 8   MSTV      2126 non-null   float64\n",
            " 9   ALTV      2126 non-null   float64\n",
            " 10  MLTV      2126 non-null   float64\n",
            " 11  Width     2126 non-null   float64\n",
            " 12  Min       2126 non-null   float64\n",
            " 13  Max       2126 non-null   float64\n",
            " 14  Nmax      2126 non-null   float64\n",
            " 15  Nzeros    2126 non-null   float64\n",
            " 16  Mode      2126 non-null   float64\n",
            " 17  Mean      2126 non-null   float64\n",
            " 18  Median    2126 non-null   float64\n",
            " 19  Variance  2126 non-null   float64\n",
            " 20  Tendency  2126 non-null   float64\n",
            " 21  CLASS     2126 non-null   int64  \n",
            " 22  NSP       2126 non-null   float64\n",
            "dtypes: float64(22), int64(1)\n",
            "memory usage: 382.1 KB\n"
          ]
        }
      ],
      "source": [
        "df.info()"
      ]
    },
    {
      "cell_type": "markdown",
      "metadata": {
        "id": "3Zo4eNCD5n5c"
      },
      "source": [
        "Is dit een scheve (skewed) dataset? Geef het aantal records voor NSP = 1, 2 en 3."
      ]
    },
    {
      "cell_type": "code",
      "execution_count": 6,
      "metadata": {
        "colab": {
          "base_uri": "https://localhost:8080/"
        },
        "id": "Glj6bSs65mof",
        "outputId": "ce0c7b8d-6f1d-42f8-d6e7-ccd0435f999b"
      },
      "outputs": [
        {
          "data": {
            "text/plain": [
              "1.0    1655\n",
              "2.0     295\n",
              "3.0     176\n",
              "Name: NSP, dtype: int64"
            ]
          },
          "execution_count": 6,
          "metadata": {},
          "output_type": "execute_result"
        }
      ],
      "source": [
        "df['NSP'].value_counts()"
      ]
    },
    {
      "attachments": {},
      "cell_type": "markdown",
      "metadata": {
        "id": "rAad8r0Y0zL4"
      },
      "source": [
        "We willen de classificatie doen op basis van NSP (en níet CLASS).  \n",
        "Wat is X? Wat is y?"
      ]
    },
    {
      "cell_type": "code",
      "execution_count": 7,
      "metadata": {
        "id": "AJELc5MV1GjS"
      },
      "outputs": [],
      "source": [
        "X = df.drop(['CLASS','NSP'],axis=1)\n",
        "y = df['NSP']"
      ]
    },
    {
      "cell_type": "markdown",
      "metadata": {
        "id": "Vc4ZvkTt1bm9"
      },
      "source": [
        "Wat is X_train, y_train, X_test, y_test?"
      ]
    },
    {
      "cell_type": "code",
      "execution_count": 8,
      "metadata": {
        "id": "1G7hJhzp1auG"
      },
      "outputs": [],
      "source": [
        "from sklearn.model_selection import train_test_split\n",
        "X_train, X_test, y_train, y_test = train_test_split(X, y, test_size=0.2, random_state=42)"
      ]
    },
    {
      "cell_type": "markdown",
      "metadata": {
        "id": "emWmYaom2Ocu"
      },
      "source": [
        "Wat zijn de numerieke kolommen in X?"
      ]
    },
    {
      "cell_type": "code",
      "execution_count": 9,
      "metadata": {
        "colab": {
          "base_uri": "https://localhost:8080/"
        },
        "id": "EeCjTDN22Mkm",
        "outputId": "da092fe0-23c3-4d30-a3c9-eba9f6c6c663"
      },
      "outputs": [
        {
          "data": {
            "text/plain": [
              "Index(['LB', 'AC', 'FM', 'UC', 'DL', 'DS', 'DP', 'ASTV', 'MSTV', 'ALTV',\n",
              "       'MLTV', 'Width', 'Min', 'Max', 'Nmax', 'Nzeros', 'Mode', 'Mean',\n",
              "       'Median', 'Variance', 'Tendency'],\n",
              "      dtype='object')"
            ]
          },
          "execution_count": 9,
          "metadata": {},
          "output_type": "execute_result"
        }
      ],
      "source": [
        "numerical_ix = X.select_dtypes(include=['int64','float64']).columns\n",
        "numerical_ix"
      ]
    },
    {
      "cell_type": "markdown",
      "metadata": {
        "id": "7gzC7vfeIgcd"
      },
      "source": [
        "Geef de unieke waarden in NSP **gesorteerd** van klein naar groot."
      ]
    },
    {
      "cell_type": "code",
      "execution_count": 10,
      "metadata": {
        "colab": {
          "base_uri": "https://localhost:8080/"
        },
        "id": "I_D44r9MlujM",
        "outputId": "31dbb840-5bde-4672-89e6-c1994fd15daa"
      },
      "outputs": [
        {
          "data": {
            "text/plain": [
              "array([1., 2., 3.])"
            ]
          },
          "execution_count": 10,
          "metadata": {},
          "output_type": "execute_result"
        }
      ],
      "source": [
        "nsp_values = np.sort(df['NSP'].unique())\n",
        "nsp_values"
      ]
    },
    {
      "attachments": {},
      "cell_type": "markdown",
      "metadata": {
        "id": "3PLWp4ZH2yag"
      },
      "source": [
        "Standardiseer de waarden in de numerieke kolommen."
      ]
    },
    {
      "cell_type": "code",
      "execution_count": 11,
      "metadata": {
        "id": "72MFbKsX2WGW"
      },
      "outputs": [
        {
          "data": {
            "text/html": [
              "<div>\n",
              "<style scoped>\n",
              "    .dataframe tbody tr th:only-of-type {\n",
              "        vertical-align: middle;\n",
              "    }\n",
              "\n",
              "    .dataframe tbody tr th {\n",
              "        vertical-align: top;\n",
              "    }\n",
              "\n",
              "    .dataframe thead th {\n",
              "        text-align: right;\n",
              "    }\n",
              "</style>\n",
              "<table border=\"1\" class=\"dataframe\">\n",
              "  <thead>\n",
              "    <tr style=\"text-align: right;\">\n",
              "      <th></th>\n",
              "      <th>LB</th>\n",
              "      <th>AC</th>\n",
              "      <th>FM</th>\n",
              "      <th>UC</th>\n",
              "      <th>DL</th>\n",
              "      <th>DS</th>\n",
              "      <th>DP</th>\n",
              "      <th>ASTV</th>\n",
              "      <th>MSTV</th>\n",
              "      <th>ALTV</th>\n",
              "      <th>...</th>\n",
              "      <th>Width</th>\n",
              "      <th>Min</th>\n",
              "      <th>Max</th>\n",
              "      <th>Nmax</th>\n",
              "      <th>Nzeros</th>\n",
              "      <th>Mode</th>\n",
              "      <th>Mean</th>\n",
              "      <th>Median</th>\n",
              "      <th>Variance</th>\n",
              "      <th>Tendency</th>\n",
              "    </tr>\n",
              "  </thead>\n",
              "  <tbody>\n",
              "    <tr>\n",
              "      <th>1233</th>\n",
              "      <td>-0.818907</td>\n",
              "      <td>-0.824976</td>\n",
              "      <td>-0.204261</td>\n",
              "      <td>1.218555</td>\n",
              "      <td>-0.637350</td>\n",
              "      <td>-0.064301</td>\n",
              "      <td>-0.268148</td>\n",
              "      <td>-0.859657</td>\n",
              "      <td>-0.262589</td>\n",
              "      <td>-0.367038</td>\n",
              "      <td>...</td>\n",
              "      <td>-0.500418</td>\n",
              "      <td>0.090151</td>\n",
              "      <td>-0.947494</td>\n",
              "      <td>-0.014607</td>\n",
              "      <td>-0.445313</td>\n",
              "      <td>-0.680274</td>\n",
              "      <td>-0.603307</td>\n",
              "      <td>-0.742903</td>\n",
              "      <td>-0.580514</td>\n",
              "      <td>-0.516697</td>\n",
              "    </tr>\n",
              "    <tr>\n",
              "      <th>480</th>\n",
              "      <td>0.692429</td>\n",
              "      <td>-0.824976</td>\n",
              "      <td>-0.204261</td>\n",
              "      <td>-1.159016</td>\n",
              "      <td>-0.637350</td>\n",
              "      <td>-0.064301</td>\n",
              "      <td>-0.268148</td>\n",
              "      <td>0.762723</td>\n",
              "      <td>-0.604484</td>\n",
              "      <td>1.233861</td>\n",
              "      <td>...</td>\n",
              "      <td>1.267146</td>\n",
              "      <td>-0.482204</td>\n",
              "      <td>1.975298</td>\n",
              "      <td>1.686204</td>\n",
              "      <td>-0.445313</td>\n",
              "      <td>0.222228</td>\n",
              "      <td>0.414302</td>\n",
              "      <td>0.281431</td>\n",
              "      <td>-0.545964</td>\n",
              "      <td>-0.516697</td>\n",
              "    </tr>\n",
              "    <tr>\n",
              "      <th>1111</th>\n",
              "      <td>-1.121174</td>\n",
              "      <td>-0.824976</td>\n",
              "      <td>-0.204261</td>\n",
              "      <td>-1.498669</td>\n",
              "      <td>-0.296949</td>\n",
              "      <td>-0.064301</td>\n",
              "      <td>-0.268148</td>\n",
              "      <td>-1.554963</td>\n",
              "      <td>0.535166</td>\n",
              "      <td>-0.532648</td>\n",
              "      <td>...</td>\n",
              "      <td>-0.807820</td>\n",
              "      <td>0.325826</td>\n",
              "      <td>-1.228531</td>\n",
              "      <td>-1.035093</td>\n",
              "      <td>-0.445313</td>\n",
              "      <td>-1.041275</td>\n",
              "      <td>-0.984911</td>\n",
              "      <td>-1.152636</td>\n",
              "      <td>-0.545964</td>\n",
              "      <td>-0.516697</td>\n",
              "    </tr>\n",
              "    <tr>\n",
              "      <th>1303</th>\n",
              "      <td>0.390162</td>\n",
              "      <td>0.464049</td>\n",
              "      <td>-0.204261</td>\n",
              "      <td>0.199596</td>\n",
              "      <td>0.043451</td>\n",
              "      <td>-0.064301</td>\n",
              "      <td>-0.268148</td>\n",
              "      <td>-0.627888</td>\n",
              "      <td>-0.490519</td>\n",
              "      <td>-0.532648</td>\n",
              "      <td>...</td>\n",
              "      <td>-0.193016</td>\n",
              "      <td>0.729841</td>\n",
              "      <td>0.794940</td>\n",
              "      <td>-0.014607</td>\n",
              "      <td>-0.445313</td>\n",
              "      <td>0.643396</td>\n",
              "      <td>0.859505</td>\n",
              "      <td>0.759453</td>\n",
              "      <td>-0.338667</td>\n",
              "      <td>-0.516697</td>\n",
              "    </tr>\n",
              "    <tr>\n",
              "      <th>861</th>\n",
              "      <td>0.893941</td>\n",
              "      <td>-0.051561</td>\n",
              "      <td>-0.204261</td>\n",
              "      <td>-0.140057</td>\n",
              "      <td>-0.637350</td>\n",
              "      <td>-0.064301</td>\n",
              "      <td>-0.268148</td>\n",
              "      <td>-0.048467</td>\n",
              "      <td>-0.718449</td>\n",
              "      <td>0.957844</td>\n",
              "      <td>...</td>\n",
              "      <td>-1.140840</td>\n",
              "      <td>1.335863</td>\n",
              "      <td>-0.273003</td>\n",
              "      <td>-1.035093</td>\n",
              "      <td>-0.445313</td>\n",
              "      <td>0.763729</td>\n",
              "      <td>0.859505</td>\n",
              "      <td>0.827742</td>\n",
              "      <td>-0.615063</td>\n",
              "      <td>-0.516697</td>\n",
              "    </tr>\n",
              "    <tr>\n",
              "      <th>...</th>\n",
              "      <td>...</td>\n",
              "      <td>...</td>\n",
              "      <td>...</td>\n",
              "      <td>...</td>\n",
              "      <td>...</td>\n",
              "      <td>...</td>\n",
              "      <td>...</td>\n",
              "      <td>...</td>\n",
              "      <td>...</td>\n",
              "      <td>...</td>\n",
              "      <td>...</td>\n",
              "      <td>...</td>\n",
              "      <td>...</td>\n",
              "      <td>...</td>\n",
              "      <td>...</td>\n",
              "      <td>...</td>\n",
              "      <td>...</td>\n",
              "      <td>...</td>\n",
              "      <td>...</td>\n",
              "      <td>...</td>\n",
              "      <td>...</td>\n",
              "    </tr>\n",
              "    <tr>\n",
              "      <th>1638</th>\n",
              "      <td>-0.315128</td>\n",
              "      <td>1.495268</td>\n",
              "      <td>-0.183561</td>\n",
              "      <td>-0.140057</td>\n",
              "      <td>-0.296949</td>\n",
              "      <td>-0.064301</td>\n",
              "      <td>-0.268148</td>\n",
              "      <td>0.299186</td>\n",
              "      <td>-0.034659</td>\n",
              "      <td>-0.532648</td>\n",
              "      <td>...</td>\n",
              "      <td>0.729192</td>\n",
              "      <td>-0.684211</td>\n",
              "      <td>0.457695</td>\n",
              "      <td>0.665717</td>\n",
              "      <td>-0.445313</td>\n",
              "      <td>0.402728</td>\n",
              "      <td>0.414302</td>\n",
              "      <td>0.418008</td>\n",
              "      <td>-0.096820</td>\n",
              "      <td>1.119029</td>\n",
              "    </tr>\n",
              "    <tr>\n",
              "      <th>1095</th>\n",
              "      <td>-1.020419</td>\n",
              "      <td>2.268683</td>\n",
              "      <td>-0.204261</td>\n",
              "      <td>-0.819363</td>\n",
              "      <td>-0.637350</td>\n",
              "      <td>-0.064301</td>\n",
              "      <td>-0.268148</td>\n",
              "      <td>-1.439078</td>\n",
              "      <td>0.991026</td>\n",
              "      <td>-0.532648</td>\n",
              "      <td>...</td>\n",
              "      <td>-0.474801</td>\n",
              "      <td>0.224822</td>\n",
              "      <td>-0.666456</td>\n",
              "      <td>-0.694931</td>\n",
              "      <td>-0.445313</td>\n",
              "      <td>-0.379440</td>\n",
              "      <td>-0.158104</td>\n",
              "      <td>-0.333169</td>\n",
              "      <td>-0.511415</td>\n",
              "      <td>-0.516697</td>\n",
              "    </tr>\n",
              "    <tr>\n",
              "      <th>1130</th>\n",
              "      <td>-1.121174</td>\n",
              "      <td>0.464049</td>\n",
              "      <td>-0.204261</td>\n",
              "      <td>-0.140057</td>\n",
              "      <td>1.064653</td>\n",
              "      <td>-0.064301</td>\n",
              "      <td>-0.268148</td>\n",
              "      <td>-1.554963</td>\n",
              "      <td>1.446887</td>\n",
              "      <td>-0.532648</td>\n",
              "      <td>...</td>\n",
              "      <td>0.703575</td>\n",
              "      <td>-1.121894</td>\n",
              "      <td>-0.329211</td>\n",
              "      <td>0.665717</td>\n",
              "      <td>-0.445313</td>\n",
              "      <td>-0.379440</td>\n",
              "      <td>-0.857710</td>\n",
              "      <td>-0.811192</td>\n",
              "      <td>0.421423</td>\n",
              "      <td>-0.516697</td>\n",
              "    </tr>\n",
              "    <tr>\n",
              "      <th>1294</th>\n",
              "      <td>-1.826465</td>\n",
              "      <td>-0.051561</td>\n",
              "      <td>-0.204261</td>\n",
              "      <td>1.218555</td>\n",
              "      <td>0.043451</td>\n",
              "      <td>-0.064301</td>\n",
              "      <td>1.383487</td>\n",
              "      <td>-1.323194</td>\n",
              "      <td>0.307236</td>\n",
              "      <td>-0.532648</td>\n",
              "      <td>...</td>\n",
              "      <td>0.959744</td>\n",
              "      <td>-0.751547</td>\n",
              "      <td>0.851147</td>\n",
              "      <td>-0.354769</td>\n",
              "      <td>2.444122</td>\n",
              "      <td>-0.259107</td>\n",
              "      <td>-0.794109</td>\n",
              "      <td>-0.606325</td>\n",
              "      <td>0.905117</td>\n",
              "      <td>-0.516697</td>\n",
              "    </tr>\n",
              "    <tr>\n",
              "      <th>860</th>\n",
              "      <td>0.893941</td>\n",
              "      <td>-0.567171</td>\n",
              "      <td>-0.204261</td>\n",
              "      <td>-0.140057</td>\n",
              "      <td>-0.637350</td>\n",
              "      <td>-0.064301</td>\n",
              "      <td>-0.268148</td>\n",
              "      <td>-0.454062</td>\n",
              "      <td>-0.490519</td>\n",
              "      <td>-0.532648</td>\n",
              "      <td>...</td>\n",
              "      <td>-0.987139</td>\n",
              "      <td>1.133856</td>\n",
              "      <td>-0.273003</td>\n",
              "      <td>-1.035093</td>\n",
              "      <td>-0.445313</td>\n",
              "      <td>0.823896</td>\n",
              "      <td>0.795905</td>\n",
              "      <td>0.759453</td>\n",
              "      <td>-0.511415</td>\n",
              "      <td>1.119029</td>\n",
              "    </tr>\n",
              "  </tbody>\n",
              "</table>\n",
              "<p>1700 rows × 21 columns</p>\n",
              "</div>"
            ],
            "text/plain": [
              "            LB        AC        FM        UC        DL        DS        DP  \\\n",
              "1233 -0.818907 -0.824976 -0.204261  1.218555 -0.637350 -0.064301 -0.268148   \n",
              "480   0.692429 -0.824976 -0.204261 -1.159016 -0.637350 -0.064301 -0.268148   \n",
              "1111 -1.121174 -0.824976 -0.204261 -1.498669 -0.296949 -0.064301 -0.268148   \n",
              "1303  0.390162  0.464049 -0.204261  0.199596  0.043451 -0.064301 -0.268148   \n",
              "861   0.893941 -0.051561 -0.204261 -0.140057 -0.637350 -0.064301 -0.268148   \n",
              "...        ...       ...       ...       ...       ...       ...       ...   \n",
              "1638 -0.315128  1.495268 -0.183561 -0.140057 -0.296949 -0.064301 -0.268148   \n",
              "1095 -1.020419  2.268683 -0.204261 -0.819363 -0.637350 -0.064301 -0.268148   \n",
              "1130 -1.121174  0.464049 -0.204261 -0.140057  1.064653 -0.064301 -0.268148   \n",
              "1294 -1.826465 -0.051561 -0.204261  1.218555  0.043451 -0.064301  1.383487   \n",
              "860   0.893941 -0.567171 -0.204261 -0.140057 -0.637350 -0.064301 -0.268148   \n",
              "\n",
              "          ASTV      MSTV      ALTV  ...     Width       Min       Max  \\\n",
              "1233 -0.859657 -0.262589 -0.367038  ... -0.500418  0.090151 -0.947494   \n",
              "480   0.762723 -0.604484  1.233861  ...  1.267146 -0.482204  1.975298   \n",
              "1111 -1.554963  0.535166 -0.532648  ... -0.807820  0.325826 -1.228531   \n",
              "1303 -0.627888 -0.490519 -0.532648  ... -0.193016  0.729841  0.794940   \n",
              "861  -0.048467 -0.718449  0.957844  ... -1.140840  1.335863 -0.273003   \n",
              "...        ...       ...       ...  ...       ...       ...       ...   \n",
              "1638  0.299186 -0.034659 -0.532648  ...  0.729192 -0.684211  0.457695   \n",
              "1095 -1.439078  0.991026 -0.532648  ... -0.474801  0.224822 -0.666456   \n",
              "1130 -1.554963  1.446887 -0.532648  ...  0.703575 -1.121894 -0.329211   \n",
              "1294 -1.323194  0.307236 -0.532648  ...  0.959744 -0.751547  0.851147   \n",
              "860  -0.454062 -0.490519 -0.532648  ... -0.987139  1.133856 -0.273003   \n",
              "\n",
              "          Nmax    Nzeros      Mode      Mean    Median  Variance  Tendency  \n",
              "1233 -0.014607 -0.445313 -0.680274 -0.603307 -0.742903 -0.580514 -0.516697  \n",
              "480   1.686204 -0.445313  0.222228  0.414302  0.281431 -0.545964 -0.516697  \n",
              "1111 -1.035093 -0.445313 -1.041275 -0.984911 -1.152636 -0.545964 -0.516697  \n",
              "1303 -0.014607 -0.445313  0.643396  0.859505  0.759453 -0.338667 -0.516697  \n",
              "861  -1.035093 -0.445313  0.763729  0.859505  0.827742 -0.615063 -0.516697  \n",
              "...        ...       ...       ...       ...       ...       ...       ...  \n",
              "1638  0.665717 -0.445313  0.402728  0.414302  0.418008 -0.096820  1.119029  \n",
              "1095 -0.694931 -0.445313 -0.379440 -0.158104 -0.333169 -0.511415 -0.516697  \n",
              "1130  0.665717 -0.445313 -0.379440 -0.857710 -0.811192  0.421423 -0.516697  \n",
              "1294 -0.354769  2.444122 -0.259107 -0.794109 -0.606325  0.905117 -0.516697  \n",
              "860  -1.035093 -0.445313  0.823896  0.795905  0.759453 -0.511415  1.119029  \n",
              "\n",
              "[1700 rows x 21 columns]"
            ]
          },
          "execution_count": 11,
          "metadata": {},
          "output_type": "execute_result"
        }
      ],
      "source": [
        "from sklearn.preprocessing import StandardScaler\n",
        "\n",
        "std_scaler = StandardScaler()\n",
        "X_train_num = X_train[numerical_ix]\n",
        "X_train_num_scaled = std_scaler.fit_transform(X_train_num)\n",
        "\n",
        "X_train_num_scaled_df = pd.DataFrame(X_train_num_scaled, columns=X_train_num.columns, index=X_train_num.index)\n",
        "\n",
        "X_train_num_scaled_df"
      ]
    },
    {
      "cell_type": "code",
      "execution_count": 12,
      "metadata": {},
      "outputs": [
        {
          "data": {
            "text/html": [
              "<div>\n",
              "<style scoped>\n",
              "    .dataframe tbody tr th:only-of-type {\n",
              "        vertical-align: middle;\n",
              "    }\n",
              "\n",
              "    .dataframe tbody tr th {\n",
              "        vertical-align: top;\n",
              "    }\n",
              "\n",
              "    .dataframe thead th {\n",
              "        text-align: right;\n",
              "    }\n",
              "</style>\n",
              "<table border=\"1\" class=\"dataframe\">\n",
              "  <thead>\n",
              "    <tr style=\"text-align: right;\">\n",
              "      <th></th>\n",
              "      <th>LB</th>\n",
              "      <th>AC</th>\n",
              "      <th>FM</th>\n",
              "      <th>UC</th>\n",
              "      <th>DL</th>\n",
              "      <th>DS</th>\n",
              "      <th>DP</th>\n",
              "      <th>ASTV</th>\n",
              "      <th>MSTV</th>\n",
              "      <th>ALTV</th>\n",
              "      <th>...</th>\n",
              "      <th>Width</th>\n",
              "      <th>Min</th>\n",
              "      <th>Max</th>\n",
              "      <th>Nmax</th>\n",
              "      <th>Nzeros</th>\n",
              "      <th>Mode</th>\n",
              "      <th>Mean</th>\n",
              "      <th>Median</th>\n",
              "      <th>Variance</th>\n",
              "      <th>Tendency</th>\n",
              "    </tr>\n",
              "  </thead>\n",
              "  <tbody>\n",
              "    <tr>\n",
              "      <th>282</th>\n",
              "      <td>-0.012861</td>\n",
              "      <td>-0.309366</td>\n",
              "      <td>0.002740</td>\n",
              "      <td>-0.479710</td>\n",
              "      <td>0.043451</td>\n",
              "      <td>-0.064301</td>\n",
              "      <td>-0.268148</td>\n",
              "      <td>-0.048467</td>\n",
              "      <td>-0.262589</td>\n",
              "      <td>-0.532648</td>\n",
              "      <td>...</td>\n",
              "      <td>-0.039314</td>\n",
              "      <td>0.056483</td>\n",
              "      <td>0.008034</td>\n",
              "      <td>0.325555</td>\n",
              "      <td>-0.445313</td>\n",
              "      <td>0.101894</td>\n",
              "      <td>0.032698</td>\n",
              "      <td>0.008275</td>\n",
              "      <td>-0.338667</td>\n",
              "      <td>-0.516697</td>\n",
              "    </tr>\n",
              "    <tr>\n",
              "      <th>1999</th>\n",
              "      <td>-0.818907</td>\n",
              "      <td>-0.824976</td>\n",
              "      <td>-0.183561</td>\n",
              "      <td>1.558208</td>\n",
              "      <td>2.085854</td>\n",
              "      <td>-0.064301</td>\n",
              "      <td>-0.268148</td>\n",
              "      <td>0.878607</td>\n",
              "      <td>0.421201</td>\n",
              "      <td>-0.532648</td>\n",
              "      <td>...</td>\n",
              "      <td>0.037536</td>\n",
              "      <td>-0.852550</td>\n",
              "      <td>-1.340946</td>\n",
              "      <td>0.325555</td>\n",
              "      <td>-0.445313</td>\n",
              "      <td>-0.439607</td>\n",
              "      <td>-1.175713</td>\n",
              "      <td>-0.879481</td>\n",
              "      <td>0.352324</td>\n",
              "      <td>1.119029</td>\n",
              "    </tr>\n",
              "    <tr>\n",
              "      <th>1709</th>\n",
              "      <td>-0.214373</td>\n",
              "      <td>0.206244</td>\n",
              "      <td>-0.142161</td>\n",
              "      <td>-0.140057</td>\n",
              "      <td>1.064653</td>\n",
              "      <td>-0.064301</td>\n",
              "      <td>1.383487</td>\n",
              "      <td>0.762723</td>\n",
              "      <td>0.877061</td>\n",
              "      <td>-0.532648</td>\n",
              "      <td>...</td>\n",
              "      <td>0.498640</td>\n",
              "      <td>-0.515871</td>\n",
              "      <td>0.232864</td>\n",
              "      <td>1.346042</td>\n",
              "      <td>-0.445313</td>\n",
              "      <td>-0.259107</td>\n",
              "      <td>-0.476106</td>\n",
              "      <td>-0.401458</td>\n",
              "      <td>0.075928</td>\n",
              "      <td>-0.516697</td>\n",
              "    </tr>\n",
              "    <tr>\n",
              "      <th>988</th>\n",
              "      <td>-0.214373</td>\n",
              "      <td>2.010878</td>\n",
              "      <td>-0.204261</td>\n",
              "      <td>0.199596</td>\n",
              "      <td>-0.637350</td>\n",
              "      <td>-0.064301</td>\n",
              "      <td>-0.268148</td>\n",
              "      <td>-1.033483</td>\n",
              "      <td>-0.034659</td>\n",
              "      <td>-0.532648</td>\n",
              "      <td>...</td>\n",
              "      <td>0.473023</td>\n",
              "      <td>-0.381200</td>\n",
              "      <td>0.401487</td>\n",
              "      <td>1.346042</td>\n",
              "      <td>-0.445313</td>\n",
              "      <td>0.342562</td>\n",
              "      <td>0.668704</td>\n",
              "      <td>0.486297</td>\n",
              "      <td>-0.338667</td>\n",
              "      <td>1.119029</td>\n",
              "    </tr>\n",
              "    <tr>\n",
              "      <th>2018</th>\n",
              "      <td>-0.818907</td>\n",
              "      <td>-0.824976</td>\n",
              "      <td>-0.204261</td>\n",
              "      <td>1.218555</td>\n",
              "      <td>1.745453</td>\n",
              "      <td>-0.064301</td>\n",
              "      <td>1.383487</td>\n",
              "      <td>0.994492</td>\n",
              "      <td>-0.034659</td>\n",
              "      <td>-0.532648</td>\n",
              "      <td>...</td>\n",
              "      <td>0.165621</td>\n",
              "      <td>-0.515871</td>\n",
              "      <td>-0.497833</td>\n",
              "      <td>-0.014607</td>\n",
              "      <td>-0.445313</td>\n",
              "      <td>-1.402276</td>\n",
              "      <td>-1.493715</td>\n",
              "      <td>-1.630658</td>\n",
              "      <td>-0.407766</td>\n",
              "      <td>-0.516697</td>\n",
              "    </tr>\n",
              "    <tr>\n",
              "      <th>...</th>\n",
              "      <td>...</td>\n",
              "      <td>...</td>\n",
              "      <td>...</td>\n",
              "      <td>...</td>\n",
              "      <td>...</td>\n",
              "      <td>...</td>\n",
              "      <td>...</td>\n",
              "      <td>...</td>\n",
              "      <td>...</td>\n",
              "      <td>...</td>\n",
              "      <td>...</td>\n",
              "      <td>...</td>\n",
              "      <td>...</td>\n",
              "      <td>...</td>\n",
              "      <td>...</td>\n",
              "      <td>...</td>\n",
              "      <td>...</td>\n",
              "      <td>...</td>\n",
              "      <td>...</td>\n",
              "      <td>...</td>\n",
              "      <td>...</td>\n",
              "    </tr>\n",
              "    <tr>\n",
              "      <th>305</th>\n",
              "      <td>1.196208</td>\n",
              "      <td>-0.824976</td>\n",
              "      <td>0.230441</td>\n",
              "      <td>-1.498669</td>\n",
              "      <td>-0.637350</td>\n",
              "      <td>-0.064301</td>\n",
              "      <td>-0.268148</td>\n",
              "      <td>1.573913</td>\n",
              "      <td>-1.174309</td>\n",
              "      <td>1.123455</td>\n",
              "      <td>...</td>\n",
              "      <td>-0.423567</td>\n",
              "      <td>1.268527</td>\n",
              "      <td>1.188392</td>\n",
              "      <td>-0.694931</td>\n",
              "      <td>-0.445313</td>\n",
              "      <td>0.462895</td>\n",
              "      <td>0.605103</td>\n",
              "      <td>0.554586</td>\n",
              "      <td>-0.615063</td>\n",
              "      <td>-2.152424</td>\n",
              "    </tr>\n",
              "    <tr>\n",
              "      <th>973</th>\n",
              "      <td>-0.214373</td>\n",
              "      <td>-0.824976</td>\n",
              "      <td>-0.204261</td>\n",
              "      <td>0.199596</td>\n",
              "      <td>2.085854</td>\n",
              "      <td>-0.064301</td>\n",
              "      <td>-0.268148</td>\n",
              "      <td>-0.859657</td>\n",
              "      <td>0.535166</td>\n",
              "      <td>-0.201428</td>\n",
              "      <td>...</td>\n",
              "      <td>0.677958</td>\n",
              "      <td>-1.155561</td>\n",
              "      <td>-0.441626</td>\n",
              "      <td>-0.354769</td>\n",
              "      <td>0.999405</td>\n",
              "      <td>-0.138773</td>\n",
              "      <td>-0.921310</td>\n",
              "      <td>-0.333169</td>\n",
              "      <td>1.768856</td>\n",
              "      <td>1.119029</td>\n",
              "    </tr>\n",
              "    <tr>\n",
              "      <th>611</th>\n",
              "      <td>1.095452</td>\n",
              "      <td>0.721854</td>\n",
              "      <td>-0.100761</td>\n",
              "      <td>-0.819363</td>\n",
              "      <td>-0.637350</td>\n",
              "      <td>-0.064301</td>\n",
              "      <td>-0.268148</td>\n",
              "      <td>-0.801715</td>\n",
              "      <td>0.421201</td>\n",
              "      <td>-0.532648</td>\n",
              "      <td>...</td>\n",
              "      <td>0.831659</td>\n",
              "      <td>-0.751547</td>\n",
              "      <td>0.570110</td>\n",
              "      <td>0.325555</td>\n",
              "      <td>0.999405</td>\n",
              "      <td>0.763729</td>\n",
              "      <td>0.923106</td>\n",
              "      <td>0.896031</td>\n",
              "      <td>-0.304117</td>\n",
              "      <td>1.119029</td>\n",
              "    </tr>\n",
              "    <tr>\n",
              "      <th>2108</th>\n",
              "      <td>0.289406</td>\n",
              "      <td>-0.824976</td>\n",
              "      <td>-0.142161</td>\n",
              "      <td>1.218555</td>\n",
              "      <td>-0.296949</td>\n",
              "      <td>-0.064301</td>\n",
              "      <td>-0.268148</td>\n",
              "      <td>1.168318</td>\n",
              "      <td>0.991026</td>\n",
              "      <td>-0.532648</td>\n",
              "      <td>...</td>\n",
              "      <td>-0.654119</td>\n",
              "      <td>0.224822</td>\n",
              "      <td>-1.059909</td>\n",
              "      <td>-0.354769</td>\n",
              "      <td>-0.445313</td>\n",
              "      <td>-0.259107</td>\n",
              "      <td>-0.221704</td>\n",
              "      <td>-0.128303</td>\n",
              "      <td>-0.580514</td>\n",
              "      <td>1.119029</td>\n",
              "    </tr>\n",
              "    <tr>\n",
              "      <th>192</th>\n",
              "      <td>1.095452</td>\n",
              "      <td>-0.309366</td>\n",
              "      <td>-0.204261</td>\n",
              "      <td>-0.479710</td>\n",
              "      <td>-0.637350</td>\n",
              "      <td>-0.064301</td>\n",
              "      <td>-0.268148</td>\n",
              "      <td>0.125360</td>\n",
              "      <td>-0.718449</td>\n",
              "      <td>-0.367038</td>\n",
              "      <td>...</td>\n",
              "      <td>-0.679736</td>\n",
              "      <td>1.571538</td>\n",
              "      <td>1.132185</td>\n",
              "      <td>-0.354769</td>\n",
              "      <td>-0.445313</td>\n",
              "      <td>1.485731</td>\n",
              "      <td>1.495511</td>\n",
              "      <td>1.647208</td>\n",
              "      <td>-0.511415</td>\n",
              "      <td>-0.516697</td>\n",
              "    </tr>\n",
              "  </tbody>\n",
              "</table>\n",
              "<p>426 rows × 21 columns</p>\n",
              "</div>"
            ],
            "text/plain": [
              "            LB        AC        FM        UC        DL        DS        DP  \\\n",
              "282  -0.012861 -0.309366  0.002740 -0.479710  0.043451 -0.064301 -0.268148   \n",
              "1999 -0.818907 -0.824976 -0.183561  1.558208  2.085854 -0.064301 -0.268148   \n",
              "1709 -0.214373  0.206244 -0.142161 -0.140057  1.064653 -0.064301  1.383487   \n",
              "988  -0.214373  2.010878 -0.204261  0.199596 -0.637350 -0.064301 -0.268148   \n",
              "2018 -0.818907 -0.824976 -0.204261  1.218555  1.745453 -0.064301  1.383487   \n",
              "...        ...       ...       ...       ...       ...       ...       ...   \n",
              "305   1.196208 -0.824976  0.230441 -1.498669 -0.637350 -0.064301 -0.268148   \n",
              "973  -0.214373 -0.824976 -0.204261  0.199596  2.085854 -0.064301 -0.268148   \n",
              "611   1.095452  0.721854 -0.100761 -0.819363 -0.637350 -0.064301 -0.268148   \n",
              "2108  0.289406 -0.824976 -0.142161  1.218555 -0.296949 -0.064301 -0.268148   \n",
              "192   1.095452 -0.309366 -0.204261 -0.479710 -0.637350 -0.064301 -0.268148   \n",
              "\n",
              "          ASTV      MSTV      ALTV  ...     Width       Min       Max  \\\n",
              "282  -0.048467 -0.262589 -0.532648  ... -0.039314  0.056483  0.008034   \n",
              "1999  0.878607  0.421201 -0.532648  ...  0.037536 -0.852550 -1.340946   \n",
              "1709  0.762723  0.877061 -0.532648  ...  0.498640 -0.515871  0.232864   \n",
              "988  -1.033483 -0.034659 -0.532648  ...  0.473023 -0.381200  0.401487   \n",
              "2018  0.994492 -0.034659 -0.532648  ...  0.165621 -0.515871 -0.497833   \n",
              "...        ...       ...       ...  ...       ...       ...       ...   \n",
              "305   1.573913 -1.174309  1.123455  ... -0.423567  1.268527  1.188392   \n",
              "973  -0.859657  0.535166 -0.201428  ...  0.677958 -1.155561 -0.441626   \n",
              "611  -0.801715  0.421201 -0.532648  ...  0.831659 -0.751547  0.570110   \n",
              "2108  1.168318  0.991026 -0.532648  ... -0.654119  0.224822 -1.059909   \n",
              "192   0.125360 -0.718449 -0.367038  ... -0.679736  1.571538  1.132185   \n",
              "\n",
              "          Nmax    Nzeros      Mode      Mean    Median  Variance  Tendency  \n",
              "282   0.325555 -0.445313  0.101894  0.032698  0.008275 -0.338667 -0.516697  \n",
              "1999  0.325555 -0.445313 -0.439607 -1.175713 -0.879481  0.352324  1.119029  \n",
              "1709  1.346042 -0.445313 -0.259107 -0.476106 -0.401458  0.075928 -0.516697  \n",
              "988   1.346042 -0.445313  0.342562  0.668704  0.486297 -0.338667  1.119029  \n",
              "2018 -0.014607 -0.445313 -1.402276 -1.493715 -1.630658 -0.407766 -0.516697  \n",
              "...        ...       ...       ...       ...       ...       ...       ...  \n",
              "305  -0.694931 -0.445313  0.462895  0.605103  0.554586 -0.615063 -2.152424  \n",
              "973  -0.354769  0.999405 -0.138773 -0.921310 -0.333169  1.768856  1.119029  \n",
              "611   0.325555  0.999405  0.763729  0.923106  0.896031 -0.304117  1.119029  \n",
              "2108 -0.354769 -0.445313 -0.259107 -0.221704 -0.128303 -0.580514  1.119029  \n",
              "192  -0.354769 -0.445313  1.485731  1.495511  1.647208 -0.511415 -0.516697  \n",
              "\n",
              "[426 rows x 21 columns]"
            ]
          },
          "execution_count": 12,
          "metadata": {},
          "output_type": "execute_result"
        }
      ],
      "source": [
        "X_test_num = X_test[numerical_ix]\n",
        "X_test_num_scaled = std_scaler.transform(X_test_num)\n",
        "\n",
        "X_test_num_scaled_df = pd.DataFrame(X_test_num_scaled, columns=X_test_num.columns, index=X_test_num.index)\n",
        "\n",
        "X_test_num_scaled_df"
      ]
    },
    {
      "attachments": {},
      "cell_type": "markdown",
      "metadata": {
        "id": "mc2mlDo8XYnr"
      },
      "source": [
        "Creëer een model op basis van een Random Forest Classifier.  \n",
        "Bepaal  de optimale waarden voor de parameters gebruik makend van GridSearchCV.  \n",
        "Gebruik volgende parametercombinaties: \n",
        "- bootstrap = True, n_estimators = 3,10,30  max_features = 4,6,8\n",
        "- bootstrap = False, n_estimators = 3,10  max_features = 2,3,4  \n",
        "Geef de gevonden optimale waarden voor de classifier.    \n",
        "Geef de accuracy."
      ]
    },
    {
      "cell_type": "markdown",
      "metadata": {
        "id": "4Aok88xHmujr"
      },
      "source": [
        "### RandomForestClassifier\n"
      ]
    },
    {
      "cell_type": "code",
      "execution_count": 13,
      "metadata": {
        "colab": {
          "base_uri": "https://localhost:8080/"
        },
        "id": "ISmO8mtUmujy",
        "outputId": "c7ef4e75-4c19-4a8d-b7b8-8ff5135e958b"
      },
      "outputs": [
        {
          "data": {
            "text/html": [
              "<style>#sk-container-id-1 {\n",
              "  /* Definition of color scheme common for light and dark mode */\n",
              "  --sklearn-color-text: black;\n",
              "  --sklearn-color-line: gray;\n",
              "  /* Definition of color scheme for unfitted estimators */\n",
              "  --sklearn-color-unfitted-level-0: #fff5e6;\n",
              "  --sklearn-color-unfitted-level-1: #f6e4d2;\n",
              "  --sklearn-color-unfitted-level-2: #ffe0b3;\n",
              "  --sklearn-color-unfitted-level-3: chocolate;\n",
              "  /* Definition of color scheme for fitted estimators */\n",
              "  --sklearn-color-fitted-level-0: #f0f8ff;\n",
              "  --sklearn-color-fitted-level-1: #d4ebff;\n",
              "  --sklearn-color-fitted-level-2: #b3dbfd;\n",
              "  --sklearn-color-fitted-level-3: cornflowerblue;\n",
              "\n",
              "  /* Specific color for light theme */\n",
              "  --sklearn-color-text-on-default-background: var(--sg-text-color, var(--theme-code-foreground, var(--jp-content-font-color1, black)));\n",
              "  --sklearn-color-background: var(--sg-background-color, var(--theme-background, var(--jp-layout-color0, white)));\n",
              "  --sklearn-color-border-box: var(--sg-text-color, var(--theme-code-foreground, var(--jp-content-font-color1, black)));\n",
              "  --sklearn-color-icon: #696969;\n",
              "\n",
              "  @media (prefers-color-scheme: dark) {\n",
              "    /* Redefinition of color scheme for dark theme */\n",
              "    --sklearn-color-text-on-default-background: var(--sg-text-color, var(--theme-code-foreground, var(--jp-content-font-color1, white)));\n",
              "    --sklearn-color-background: var(--sg-background-color, var(--theme-background, var(--jp-layout-color0, #111)));\n",
              "    --sklearn-color-border-box: var(--sg-text-color, var(--theme-code-foreground, var(--jp-content-font-color1, white)));\n",
              "    --sklearn-color-icon: #878787;\n",
              "  }\n",
              "}\n",
              "\n",
              "#sk-container-id-1 {\n",
              "  color: var(--sklearn-color-text);\n",
              "}\n",
              "\n",
              "#sk-container-id-1 pre {\n",
              "  padding: 0;\n",
              "}\n",
              "\n",
              "#sk-container-id-1 input.sk-hidden--visually {\n",
              "  border: 0;\n",
              "  clip: rect(1px 1px 1px 1px);\n",
              "  clip: rect(1px, 1px, 1px, 1px);\n",
              "  height: 1px;\n",
              "  margin: -1px;\n",
              "  overflow: hidden;\n",
              "  padding: 0;\n",
              "  position: absolute;\n",
              "  width: 1px;\n",
              "}\n",
              "\n",
              "#sk-container-id-1 div.sk-dashed-wrapped {\n",
              "  border: 1px dashed var(--sklearn-color-line);\n",
              "  margin: 0 0.4em 0.5em 0.4em;\n",
              "  box-sizing: border-box;\n",
              "  padding-bottom: 0.4em;\n",
              "  background-color: var(--sklearn-color-background);\n",
              "}\n",
              "\n",
              "#sk-container-id-1 div.sk-container {\n",
              "  /* jupyter's `normalize.less` sets `[hidden] { display: none; }`\n",
              "     but bootstrap.min.css set `[hidden] { display: none !important; }`\n",
              "     so we also need the `!important` here to be able to override the\n",
              "     default hidden behavior on the sphinx rendered scikit-learn.org.\n",
              "     See: https://github.com/scikit-learn/scikit-learn/issues/21755 */\n",
              "  display: inline-block !important;\n",
              "  position: relative;\n",
              "}\n",
              "\n",
              "#sk-container-id-1 div.sk-text-repr-fallback {\n",
              "  display: none;\n",
              "}\n",
              "\n",
              "div.sk-parallel-item,\n",
              "div.sk-serial,\n",
              "div.sk-item {\n",
              "  /* draw centered vertical line to link estimators */\n",
              "  background-image: linear-gradient(var(--sklearn-color-text-on-default-background), var(--sklearn-color-text-on-default-background));\n",
              "  background-size: 2px 100%;\n",
              "  background-repeat: no-repeat;\n",
              "  background-position: center center;\n",
              "}\n",
              "\n",
              "/* Parallel-specific style estimator block */\n",
              "\n",
              "#sk-container-id-1 div.sk-parallel-item::after {\n",
              "  content: \"\";\n",
              "  width: 100%;\n",
              "  border-bottom: 2px solid var(--sklearn-color-text-on-default-background);\n",
              "  flex-grow: 1;\n",
              "}\n",
              "\n",
              "#sk-container-id-1 div.sk-parallel {\n",
              "  display: flex;\n",
              "  align-items: stretch;\n",
              "  justify-content: center;\n",
              "  background-color: var(--sklearn-color-background);\n",
              "  position: relative;\n",
              "}\n",
              "\n",
              "#sk-container-id-1 div.sk-parallel-item {\n",
              "  display: flex;\n",
              "  flex-direction: column;\n",
              "}\n",
              "\n",
              "#sk-container-id-1 div.sk-parallel-item:first-child::after {\n",
              "  align-self: flex-end;\n",
              "  width: 50%;\n",
              "}\n",
              "\n",
              "#sk-container-id-1 div.sk-parallel-item:last-child::after {\n",
              "  align-self: flex-start;\n",
              "  width: 50%;\n",
              "}\n",
              "\n",
              "#sk-container-id-1 div.sk-parallel-item:only-child::after {\n",
              "  width: 0;\n",
              "}\n",
              "\n",
              "/* Serial-specific style estimator block */\n",
              "\n",
              "#sk-container-id-1 div.sk-serial {\n",
              "  display: flex;\n",
              "  flex-direction: column;\n",
              "  align-items: center;\n",
              "  background-color: var(--sklearn-color-background);\n",
              "  padding-right: 1em;\n",
              "  padding-left: 1em;\n",
              "}\n",
              "\n",
              "\n",
              "/* Toggleable style: style used for estimator/Pipeline/ColumnTransformer box that is\n",
              "clickable and can be expanded/collapsed.\n",
              "- Pipeline and ColumnTransformer use this feature and define the default style\n",
              "- Estimators will overwrite some part of the style using the `sk-estimator` class\n",
              "*/\n",
              "\n",
              "/* Pipeline and ColumnTransformer style (default) */\n",
              "\n",
              "#sk-container-id-1 div.sk-toggleable {\n",
              "  /* Default theme specific background. It is overwritten whether we have a\n",
              "  specific estimator or a Pipeline/ColumnTransformer */\n",
              "  background-color: var(--sklearn-color-background);\n",
              "}\n",
              "\n",
              "/* Toggleable label */\n",
              "#sk-container-id-1 label.sk-toggleable__label {\n",
              "  cursor: pointer;\n",
              "  display: block;\n",
              "  width: 100%;\n",
              "  margin-bottom: 0;\n",
              "  padding: 0.5em;\n",
              "  box-sizing: border-box;\n",
              "  text-align: center;\n",
              "}\n",
              "\n",
              "#sk-container-id-1 label.sk-toggleable__label-arrow:before {\n",
              "  /* Arrow on the left of the label */\n",
              "  content: \"▸\";\n",
              "  float: left;\n",
              "  margin-right: 0.25em;\n",
              "  color: var(--sklearn-color-icon);\n",
              "}\n",
              "\n",
              "#sk-container-id-1 label.sk-toggleable__label-arrow:hover:before {\n",
              "  color: var(--sklearn-color-text);\n",
              "}\n",
              "\n",
              "/* Toggleable content - dropdown */\n",
              "\n",
              "#sk-container-id-1 div.sk-toggleable__content {\n",
              "  max-height: 0;\n",
              "  max-width: 0;\n",
              "  overflow: hidden;\n",
              "  text-align: left;\n",
              "  /* unfitted */\n",
              "  background-color: var(--sklearn-color-unfitted-level-0);\n",
              "}\n",
              "\n",
              "#sk-container-id-1 div.sk-toggleable__content.fitted {\n",
              "  /* fitted */\n",
              "  background-color: var(--sklearn-color-fitted-level-0);\n",
              "}\n",
              "\n",
              "#sk-container-id-1 div.sk-toggleable__content pre {\n",
              "  margin: 0.2em;\n",
              "  border-radius: 0.25em;\n",
              "  color: var(--sklearn-color-text);\n",
              "  /* unfitted */\n",
              "  background-color: var(--sklearn-color-unfitted-level-0);\n",
              "}\n",
              "\n",
              "#sk-container-id-1 div.sk-toggleable__content.fitted pre {\n",
              "  /* unfitted */\n",
              "  background-color: var(--sklearn-color-fitted-level-0);\n",
              "}\n",
              "\n",
              "#sk-container-id-1 input.sk-toggleable__control:checked~div.sk-toggleable__content {\n",
              "  /* Expand drop-down */\n",
              "  max-height: 200px;\n",
              "  max-width: 100%;\n",
              "  overflow: auto;\n",
              "}\n",
              "\n",
              "#sk-container-id-1 input.sk-toggleable__control:checked~label.sk-toggleable__label-arrow:before {\n",
              "  content: \"▾\";\n",
              "}\n",
              "\n",
              "/* Pipeline/ColumnTransformer-specific style */\n",
              "\n",
              "#sk-container-id-1 div.sk-label input.sk-toggleable__control:checked~label.sk-toggleable__label {\n",
              "  color: var(--sklearn-color-text);\n",
              "  background-color: var(--sklearn-color-unfitted-level-2);\n",
              "}\n",
              "\n",
              "#sk-container-id-1 div.sk-label.fitted input.sk-toggleable__control:checked~label.sk-toggleable__label {\n",
              "  background-color: var(--sklearn-color-fitted-level-2);\n",
              "}\n",
              "\n",
              "/* Estimator-specific style */\n",
              "\n",
              "/* Colorize estimator box */\n",
              "#sk-container-id-1 div.sk-estimator input.sk-toggleable__control:checked~label.sk-toggleable__label {\n",
              "  /* unfitted */\n",
              "  background-color: var(--sklearn-color-unfitted-level-2);\n",
              "}\n",
              "\n",
              "#sk-container-id-1 div.sk-estimator.fitted input.sk-toggleable__control:checked~label.sk-toggleable__label {\n",
              "  /* fitted */\n",
              "  background-color: var(--sklearn-color-fitted-level-2);\n",
              "}\n",
              "\n",
              "#sk-container-id-1 div.sk-label label.sk-toggleable__label,\n",
              "#sk-container-id-1 div.sk-label label {\n",
              "  /* The background is the default theme color */\n",
              "  color: var(--sklearn-color-text-on-default-background);\n",
              "}\n",
              "\n",
              "/* On hover, darken the color of the background */\n",
              "#sk-container-id-1 div.sk-label:hover label.sk-toggleable__label {\n",
              "  color: var(--sklearn-color-text);\n",
              "  background-color: var(--sklearn-color-unfitted-level-2);\n",
              "}\n",
              "\n",
              "/* Label box, darken color on hover, fitted */\n",
              "#sk-container-id-1 div.sk-label.fitted:hover label.sk-toggleable__label.fitted {\n",
              "  color: var(--sklearn-color-text);\n",
              "  background-color: var(--sklearn-color-fitted-level-2);\n",
              "}\n",
              "\n",
              "/* Estimator label */\n",
              "\n",
              "#sk-container-id-1 div.sk-label label {\n",
              "  font-family: monospace;\n",
              "  font-weight: bold;\n",
              "  display: inline-block;\n",
              "  line-height: 1.2em;\n",
              "}\n",
              "\n",
              "#sk-container-id-1 div.sk-label-container {\n",
              "  text-align: center;\n",
              "}\n",
              "\n",
              "/* Estimator-specific */\n",
              "#sk-container-id-1 div.sk-estimator {\n",
              "  font-family: monospace;\n",
              "  border: 1px dotted var(--sklearn-color-border-box);\n",
              "  border-radius: 0.25em;\n",
              "  box-sizing: border-box;\n",
              "  margin-bottom: 0.5em;\n",
              "  /* unfitted */\n",
              "  background-color: var(--sklearn-color-unfitted-level-0);\n",
              "}\n",
              "\n",
              "#sk-container-id-1 div.sk-estimator.fitted {\n",
              "  /* fitted */\n",
              "  background-color: var(--sklearn-color-fitted-level-0);\n",
              "}\n",
              "\n",
              "/* on hover */\n",
              "#sk-container-id-1 div.sk-estimator:hover {\n",
              "  /* unfitted */\n",
              "  background-color: var(--sklearn-color-unfitted-level-2);\n",
              "}\n",
              "\n",
              "#sk-container-id-1 div.sk-estimator.fitted:hover {\n",
              "  /* fitted */\n",
              "  background-color: var(--sklearn-color-fitted-level-2);\n",
              "}\n",
              "\n",
              "/* Specification for estimator info (e.g. \"i\" and \"?\") */\n",
              "\n",
              "/* Common style for \"i\" and \"?\" */\n",
              "\n",
              ".sk-estimator-doc-link,\n",
              "a:link.sk-estimator-doc-link,\n",
              "a:visited.sk-estimator-doc-link {\n",
              "  float: right;\n",
              "  font-size: smaller;\n",
              "  line-height: 1em;\n",
              "  font-family: monospace;\n",
              "  background-color: var(--sklearn-color-background);\n",
              "  border-radius: 1em;\n",
              "  height: 1em;\n",
              "  width: 1em;\n",
              "  text-decoration: none !important;\n",
              "  margin-left: 1ex;\n",
              "  /* unfitted */\n",
              "  border: var(--sklearn-color-unfitted-level-1) 1pt solid;\n",
              "  color: var(--sklearn-color-unfitted-level-1);\n",
              "}\n",
              "\n",
              ".sk-estimator-doc-link.fitted,\n",
              "a:link.sk-estimator-doc-link.fitted,\n",
              "a:visited.sk-estimator-doc-link.fitted {\n",
              "  /* fitted */\n",
              "  border: var(--sklearn-color-fitted-level-1) 1pt solid;\n",
              "  color: var(--sklearn-color-fitted-level-1);\n",
              "}\n",
              "\n",
              "/* On hover */\n",
              "div.sk-estimator:hover .sk-estimator-doc-link:hover,\n",
              ".sk-estimator-doc-link:hover,\n",
              "div.sk-label-container:hover .sk-estimator-doc-link:hover,\n",
              ".sk-estimator-doc-link:hover {\n",
              "  /* unfitted */\n",
              "  background-color: var(--sklearn-color-unfitted-level-3);\n",
              "  color: var(--sklearn-color-background);\n",
              "  text-decoration: none;\n",
              "}\n",
              "\n",
              "div.sk-estimator.fitted:hover .sk-estimator-doc-link.fitted:hover,\n",
              ".sk-estimator-doc-link.fitted:hover,\n",
              "div.sk-label-container:hover .sk-estimator-doc-link.fitted:hover,\n",
              ".sk-estimator-doc-link.fitted:hover {\n",
              "  /* fitted */\n",
              "  background-color: var(--sklearn-color-fitted-level-3);\n",
              "  color: var(--sklearn-color-background);\n",
              "  text-decoration: none;\n",
              "}\n",
              "\n",
              "/* Span, style for the box shown on hovering the info icon */\n",
              ".sk-estimator-doc-link span {\n",
              "  display: none;\n",
              "  z-index: 9999;\n",
              "  position: relative;\n",
              "  font-weight: normal;\n",
              "  right: .2ex;\n",
              "  padding: .5ex;\n",
              "  margin: .5ex;\n",
              "  width: min-content;\n",
              "  min-width: 20ex;\n",
              "  max-width: 50ex;\n",
              "  color: var(--sklearn-color-text);\n",
              "  box-shadow: 2pt 2pt 4pt #999;\n",
              "  /* unfitted */\n",
              "  background: var(--sklearn-color-unfitted-level-0);\n",
              "  border: .5pt solid var(--sklearn-color-unfitted-level-3);\n",
              "}\n",
              "\n",
              ".sk-estimator-doc-link.fitted span {\n",
              "  /* fitted */\n",
              "  background: var(--sklearn-color-fitted-level-0);\n",
              "  border: var(--sklearn-color-fitted-level-3);\n",
              "}\n",
              "\n",
              ".sk-estimator-doc-link:hover span {\n",
              "  display: block;\n",
              "}\n",
              "\n",
              "/* \"?\"-specific style due to the `<a>` HTML tag */\n",
              "\n",
              "#sk-container-id-1 a.estimator_doc_link {\n",
              "  float: right;\n",
              "  font-size: 1rem;\n",
              "  line-height: 1em;\n",
              "  font-family: monospace;\n",
              "  background-color: var(--sklearn-color-background);\n",
              "  border-radius: 1rem;\n",
              "  height: 1rem;\n",
              "  width: 1rem;\n",
              "  text-decoration: none;\n",
              "  /* unfitted */\n",
              "  color: var(--sklearn-color-unfitted-level-1);\n",
              "  border: var(--sklearn-color-unfitted-level-1) 1pt solid;\n",
              "}\n",
              "\n",
              "#sk-container-id-1 a.estimator_doc_link.fitted {\n",
              "  /* fitted */\n",
              "  border: var(--sklearn-color-fitted-level-1) 1pt solid;\n",
              "  color: var(--sklearn-color-fitted-level-1);\n",
              "}\n",
              "\n",
              "/* On hover */\n",
              "#sk-container-id-1 a.estimator_doc_link:hover {\n",
              "  /* unfitted */\n",
              "  background-color: var(--sklearn-color-unfitted-level-3);\n",
              "  color: var(--sklearn-color-background);\n",
              "  text-decoration: none;\n",
              "}\n",
              "\n",
              "#sk-container-id-1 a.estimator_doc_link.fitted:hover {\n",
              "  /* fitted */\n",
              "  background-color: var(--sklearn-color-fitted-level-3);\n",
              "}\n",
              "</style><div id=\"sk-container-id-1\" class=\"sk-top-container\"><div class=\"sk-text-repr-fallback\"><pre>GridSearchCV(cv=5, estimator=RandomForestClassifier(random_state=42),\n",
              "             param_grid=[{&#x27;bootstrap&#x27;: [True], &#x27;max_features&#x27;: [4, 6, 8],\n",
              "                          &#x27;n_estimators&#x27;: [3, 10, 30]},\n",
              "                         {&#x27;bootstrap&#x27;: [False], &#x27;max_features&#x27;: [2, 3, 4],\n",
              "                          &#x27;n_estimators&#x27;: [3, 10]}],\n",
              "             scoring=&#x27;accuracy&#x27;)</pre><b>In a Jupyter environment, please rerun this cell to show the HTML representation or trust the notebook. <br />On GitHub, the HTML representation is unable to render, please try loading this page with nbviewer.org.</b></div><div class=\"sk-container\" hidden><div class=\"sk-item sk-dashed-wrapped\"><div class=\"sk-label-container\"><div class=\"sk-label fitted sk-toggleable\"><input class=\"sk-toggleable__control sk-hidden--visually\" id=\"sk-estimator-id-1\" type=\"checkbox\" ><label for=\"sk-estimator-id-1\" class=\"sk-toggleable__label fitted sk-toggleable__label-arrow fitted\">&nbsp;&nbsp;GridSearchCV<a class=\"sk-estimator-doc-link fitted\" rel=\"noreferrer\" target=\"_blank\" href=\"https://scikit-learn.org/1.4/modules/generated/sklearn.model_selection.GridSearchCV.html\">?<span>Documentation for GridSearchCV</span></a><span class=\"sk-estimator-doc-link fitted\">i<span>Fitted</span></span></label><div class=\"sk-toggleable__content fitted\"><pre>GridSearchCV(cv=5, estimator=RandomForestClassifier(random_state=42),\n",
              "             param_grid=[{&#x27;bootstrap&#x27;: [True], &#x27;max_features&#x27;: [4, 6, 8],\n",
              "                          &#x27;n_estimators&#x27;: [3, 10, 30]},\n",
              "                         {&#x27;bootstrap&#x27;: [False], &#x27;max_features&#x27;: [2, 3, 4],\n",
              "                          &#x27;n_estimators&#x27;: [3, 10]}],\n",
              "             scoring=&#x27;accuracy&#x27;)</pre></div> </div></div><div class=\"sk-parallel\"><div class=\"sk-parallel-item\"><div class=\"sk-item\"><div class=\"sk-label-container\"><div class=\"sk-label fitted sk-toggleable\"><input class=\"sk-toggleable__control sk-hidden--visually\" id=\"sk-estimator-id-2\" type=\"checkbox\" ><label for=\"sk-estimator-id-2\" class=\"sk-toggleable__label fitted sk-toggleable__label-arrow fitted\">estimator: RandomForestClassifier</label><div class=\"sk-toggleable__content fitted\"><pre>RandomForestClassifier(random_state=42)</pre></div> </div></div><div class=\"sk-serial\"><div class=\"sk-item\"><div class=\"sk-estimator fitted sk-toggleable\"><input class=\"sk-toggleable__control sk-hidden--visually\" id=\"sk-estimator-id-3\" type=\"checkbox\" ><label for=\"sk-estimator-id-3\" class=\"sk-toggleable__label fitted sk-toggleable__label-arrow fitted\">&nbsp;RandomForestClassifier<a class=\"sk-estimator-doc-link fitted\" rel=\"noreferrer\" target=\"_blank\" href=\"https://scikit-learn.org/1.4/modules/generated/sklearn.ensemble.RandomForestClassifier.html\">?<span>Documentation for RandomForestClassifier</span></a></label><div class=\"sk-toggleable__content fitted\"><pre>RandomForestClassifier(random_state=42)</pre></div> </div></div></div></div></div></div></div></div></div>"
            ],
            "text/plain": [
              "GridSearchCV(cv=5, estimator=RandomForestClassifier(random_state=42),\n",
              "             param_grid=[{'bootstrap': [True], 'max_features': [4, 6, 8],\n",
              "                          'n_estimators': [3, 10, 30]},\n",
              "                         {'bootstrap': [False], 'max_features': [2, 3, 4],\n",
              "                          'n_estimators': [3, 10]}],\n",
              "             scoring='accuracy')"
            ]
          },
          "execution_count": 13,
          "metadata": {},
          "output_type": "execute_result"
        }
      ],
      "source": [
        "from sklearn.model_selection import GridSearchCV\n",
        "from sklearn.ensemble import RandomForestClassifier\n",
        "\n",
        "rf = RandomForestClassifier(random_state=42)\n",
        "\n",
        "param_grid = [\n",
        "    {'bootstrap':[True], 'n_estimators': [3,10,30], 'max_features': [4,6,8]},\n",
        "    {'bootstrap':[False], 'n_estimators': [3,10], 'max_features': [2,3,4]}\n",
        "]\n",
        "\n",
        "grid_rf = GridSearchCV(rf,param_grid, cv=5, scoring='accuracy')\n",
        "\n",
        "grid_rf.fit(X_train_num_scaled_df, y_train)\n"
      ]
    },
    {
      "cell_type": "code",
      "execution_count": 14,
      "metadata": {},
      "outputs": [
        {
          "data": {
            "text/plain": [
              "0.9364705882352942"
            ]
          },
          "execution_count": 14,
          "metadata": {},
          "output_type": "execute_result"
        }
      ],
      "source": [
        "grid_rf.best_score_"
      ]
    },
    {
      "cell_type": "code",
      "execution_count": 15,
      "metadata": {},
      "outputs": [
        {
          "data": {
            "text/plain": [
              "{'bootstrap': True, 'max_features': 8, 'n_estimators': 30}"
            ]
          },
          "execution_count": 15,
          "metadata": {},
          "output_type": "execute_result"
        }
      ],
      "source": [
        "grid_rf.best_params_"
      ]
    },
    {
      "attachments": {},
      "cell_type": "markdown",
      "metadata": {},
      "source": [
        "Stel de confusion matrix (zowel als numeriek cijferdiagramma en als genormaliseerd kleurdiagramma) op m.b.v. de TEST set en interpreteer. "
      ]
    },
    {
      "cell_type": "code",
      "execution_count": 16,
      "metadata": {},
      "outputs": [],
      "source": [
        "y_test_pred = grid_rf.predict(X_test_num_scaled_df)"
      ]
    },
    {
      "cell_type": "code",
      "execution_count": 17,
      "metadata": {},
      "outputs": [
        {
          "data": {
            "text/plain": [
              "array([1., 1., 1., 1., 1., 3., 1., 3., 2., 2.])"
            ]
          },
          "execution_count": 17,
          "metadata": {},
          "output_type": "execute_result"
        }
      ],
      "source": [
        "y_test_pred[:10]"
      ]
    },
    {
      "cell_type": "code",
      "execution_count": 18,
      "metadata": {},
      "outputs": [
        {
          "data": {
            "text/plain": [
              "array([[325,   7,   1],\n",
              "       [ 11,  52,   1],\n",
              "       [  1,   1,  27]], dtype=int64)"
            ]
          },
          "execution_count": 18,
          "metadata": {},
          "output_type": "execute_result"
        }
      ],
      "source": [
        "from sklearn.metrics import confusion_matrix\n",
        "\n",
        "cm = confusion_matrix(y_test, y_test_pred)\n",
        "cm"
      ]
    },
    {
      "cell_type": "code",
      "execution_count": 19,
      "metadata": {
        "colab": {
          "base_uri": "https://localhost:8080/",
          "height": 297
        },
        "id": "BUv191fPSmCF",
        "outputId": "46652ae4-61b5-4b20-abe2-b0cc2c7948d5"
      },
      "outputs": [
        {
          "data": {
            "text/plain": [
              "<sklearn.metrics._plot.confusion_matrix.ConfusionMatrixDisplay at 0x1e0130c1e50>"
            ]
          },
          "execution_count": 19,
          "metadata": {},
          "output_type": "execute_result"
        },
        {
          "data": {
            "image/png": "[encoded data removed]",
            "text/plain": [
              "<Figure size 640x480 with 2 Axes>"
            ]
          },
          "metadata": {},
          "output_type": "display_data"
        }
      ],
      "source": [
        "from sklearn.metrics import ConfusionMatrixDisplay\n",
        "\n",
        "ConfusionMatrixDisplay.from_predictions(y_test, y_test_pred, normalize=\"true\", values_format=\".0%\")"
      ]
    },
    {
      "cell_type": "markdown",
      "metadata": {
        "id": "pK8zyrOlJ-vq"
      },
      "source": [
        "Bekijk de confusion matrix goed. Hoewel de accuracy best ok lijkt, zijn de feitelijke resultaten niet goed."
      ]
    },
    {
      "attachments": {},
      "cell_type": "markdown",
      "metadata": {
        "id": "-D_xpDOqKOzS",
        "slideshow": {
          "slide_type": "slide"
        }
      },
      "source": [
        "Stel dat we NSP = 2 (Suspect) en 3 (Pathologisch) zonder onderscheid volledig samennemen als zijnde Positief (~ er is iets aan de hand) en NSP = 1 (Normaal) beschouwen als zijnde Negatief (~ er is niets aan de hand).  \n",
        "Bereken en geef dan de precision op basis van de voorgaande numerieke confusion matrix."
      ]
    },
    {
      "cell_type": "code",
      "execution_count": 20,
      "metadata": {
        "colab": {
          "base_uri": "https://localhost:8080/"
        },
        "id": "qRCkN2DdKNyg",
        "outputId": "7401994b-ba19-4897-b6ea-aba919090c9b"
      },
      "outputs": [
        {
          "data": {
            "text/plain": [
              "0.9101123595505618"
            ]
          },
          "execution_count": 20,
          "metadata": {},
          "output_type": "execute_result"
        }
      ],
      "source": [
        "precision = (cm[1][1] + cm[2][2] + cm[2][1] + cm[1][2])/(cm[1][1] + cm[2][2] + cm[2][1] + cm[1][2] + cm[0][1] + cm[0][2])\n",
        "precision"
      ]
    },
    {
      "cell_type": "markdown",
      "metadata": {
        "id": "eM0Z7eetKYW0"
      },
      "source": [
        "Bereken en geef dan de recall op basis van de voorgaande confusion matrix."
      ]
    },
    {
      "cell_type": "code",
      "execution_count": 21,
      "metadata": {
        "colab": {
          "base_uri": "https://localhost:8080/"
        },
        "id": "c5ts1AsKKXTH",
        "outputId": "0d187ce0-39b8-401b-b66d-f47b4e4998b8"
      },
      "outputs": [
        {
          "data": {
            "text/plain": [
              "0.8709677419354839"
            ]
          },
          "execution_count": 21,
          "metadata": {},
          "output_type": "execute_result"
        }
      ],
      "source": [
        "recall = (cm[1][1] + cm[2][2] + cm[2][1] + cm[1][2])/(cm[1][1] + cm[2][2] + cm[2][1] + cm[1][2] + cm[1][0] + cm[2][0])\n",
        "recall"
      ]
    },
    {
      "cell_type": "markdown",
      "metadata": {
        "id": "DsaunsJSK0ry"
      },
      "source": [
        "Wat is belangrijker in dit geval: precision of recall? Leg kort uit."
      ]
    },
    {
      "cell_type": "markdown",
      "metadata": {
        "id": "d-kcCebcKMtK"
      },
      "source": [
        "recall"
      ]
    },
    {
      "cell_type": "markdown",
      "metadata": {
        "id": "vRkT4zjkf02d"
      },
      "source": [
        "Wat is een mogelijke verklaring voor de slechte resultaten?"
      ]
    },
    {
      "cell_type": "code",
      "execution_count": null,
      "metadata": {
        "id": "ztMRhPMrf3ic"
      },
      "outputs": [],
      "source": [
        "from sklearn.model_selection import GridSearchCV\n",
        "from sklearn.ensemble import RandomForestClassifier\n",
        "\n",
        "rf = RandomForestClassifier(random_state=42)\n",
        "\n",
        "param_grid = [\n",
        "    {'bootstrap':[True], 'n_estimators': [3,10,30], 'max_features': [4,6,8]},\n",
        "    {'bootstrap':[False], 'n_estimators': [3,10], 'max_features': [2,3,4]}\n",
        "]\n",
        "\n",
        "grid_rf = GridSearchCV(rf,param_grid, cv=5, scoring='accuracy')\n",
        "\n",
        "grid_rf.fit(X_train_num_scaled_df, y_train_23_series)\n",
        "\n",
        "print(grid_rf.best_estimator_)\n",
        "print(grid_rf.best_score_)"
      ]
    },
    {
      "attachments": {},
      "cell_type": "markdown",
      "metadata": {},
      "source": [
        "Teken de ROC curve voor de testset en bereken de AUC voor de binaire classifier waarbij negatief beschouwd wordt als NSP = 1 en positief als NSP = 2 of 3. Herwerk hiervoor de dataset. \n",
        "Aangezien Random Forest geen decision function heeft, moeten we gebruik maken van de functie `predict_proba()` op de classifier. "
      ]
    },
    {
      "cell_type": "code",
      "execution_count": 23,
      "metadata": {},
      "outputs": [
        {
          "data": {
            "text/plain": [
              "1233    1.0\n",
              "480     2.0\n",
              "1111    1.0\n",
              "1303    1.0\n",
              "861     1.0\n",
              "1064    1.0\n",
              "1526    1.0\n",
              "218     1.0\n",
              "755     1.0\n",
              "2091    1.0\n",
              "351     3.0\n",
              "1931    1.0\n",
              "1606    1.0\n",
              "1761    3.0\n",
              "1804    1.0\n",
              "1185    1.0\n",
              "649     2.0\n",
              "59      1.0\n",
              "411     2.0\n",
              "1979    1.0\n",
              "Name: NSP, dtype: float64"
            ]
          },
          "execution_count": 23,
          "metadata": {},
          "output_type": "execute_result"
        }
      ],
      "source": [
        "y_train[:20]"
      ]
    },
    {
      "cell_type": "code",
      "execution_count": 25,
      "metadata": {},
      "outputs": [
        {
          "data": {
            "text/plain": [
              "0       1\n",
              "1       2\n",
              "2       1\n",
              "3       1\n",
              "4       1\n",
              "       ..\n",
              "1695    1\n",
              "1696    1\n",
              "1697    1\n",
              "1698    1\n",
              "1699    1\n",
              "Length: 1700, dtype: int64"
            ]
          },
          "execution_count": 25,
          "metadata": {},
          "output_type": "execute_result"
        }
      ],
      "source": [
        "y_train_23 = [1 if val==1 else 2 for val in y_train.values]\n",
        "y_train_23_series = pd.Series(y_train_23)\n",
        "y_train_23_series"
      ]
    },
    {
      "cell_type": "code",
      "execution_count": 27,
      "metadata": {},
      "outputs": [
        {
          "data": {
            "text/plain": [
              "1    1322\n",
              "2     378\n",
              "dtype: int64"
            ]
          },
          "execution_count": 27,
          "metadata": {},
          "output_type": "execute_result"
        }
      ],
      "source": [
        "y_train_23_series.value_counts()"
      ]
    },
    {
      "cell_type": "code",
      "execution_count": 28,
      "metadata": {},
      "outputs": [
        {
          "data": {
            "text/plain": [
              "0      1\n",
              "1      1\n",
              "2      1\n",
              "3      1\n",
              "4      1\n",
              "      ..\n",
              "421    2\n",
              "422    1\n",
              "423    1\n",
              "424    1\n",
              "425    2\n",
              "Length: 426, dtype: int64"
            ]
          },
          "execution_count": 28,
          "metadata": {},
          "output_type": "execute_result"
        }
      ],
      "source": [
        "y_test_23 = [1 if val==1 else 2 for val in y_test.values]\n",
        "y_test_23_series = pd.Series(y_test_23)\n",
        "y_test_23_series"
      ]
    },
    {
      "cell_type": "code",
      "execution_count": 37,
      "metadata": {},
      "outputs": [
        {
          "name": "stdout",
          "output_type": "stream",
          "text": [
            "RandomForestClassifier(max_features=6, n_estimators=50, random_state=42)\n",
            "0.9476470588235294\n"
          ]
        }
      ],
      "source": [
        "from sklearn.model_selection import GridSearchCV\n",
        "from sklearn.ensemble import RandomForestClassifier\n",
        "\n",
        "rf = RandomForestClassifier(random_state=42)\n",
        "\n",
        "param_grid = [\n",
        "    {'bootstrap':[True], 'n_estimators': [3,10,30,50], 'max_features': [4,6,8]},\n",
        "    {'bootstrap':[False], 'n_estimators': [3,10], 'max_features': [2,3,4]}\n",
        "]\n",
        "\n",
        "grid_rf = GridSearchCV(rf,param_grid, cv=5, scoring='accuracy')\n",
        "\n",
        "grid_rf.fit(X_train_num_scaled_df, y_train_23_series)\n",
        "\n",
        "print(grid_rf.best_estimator_)\n",
        "print(grid_rf.best_score_)"
      ]
    },
    {
      "cell_type": "code",
      "execution_count": 38,
      "metadata": {},
      "outputs": [],
      "source": [
        "y_scores = grid_rf.predict_proba(X_test_num_scaled_df)"
      ]
    },
    {
      "cell_type": "code",
      "execution_count": 39,
      "metadata": {},
      "outputs": [],
      "source": [
        "y_scores = y_scores[:,1]"
      ]
    },
    {
      "cell_type": "code",
      "execution_count": 34,
      "metadata": {},
      "outputs": [],
      "source": [
        "from sklearn.metrics import roc_curve\n",
        "\n",
        "fpr, tpr, thresholds = roc_curve(y_test_23_series, y_scores, pos_label=2)"
      ]
    },
    {
      "cell_type": "code",
      "execution_count": 35,
      "metadata": {},
      "outputs": [
        {
          "data": {
            "image/png": "[encoded data removed]",
            "text/plain": [
              "<Figure size 600x500 with 1 Axes>"
            ]
          },
          "metadata": {},
          "output_type": "display_data"
        }
      ],
      "source": [
        "import matplotlib.patches as patches  # extra code – for the curved arrow\n",
        "\n",
        "plt.figure(figsize=(6, 5))  # extra code – not needed, just formatting\n",
        "plt.plot(fpr, tpr, linewidth=2, label=\"ROC curve\")\n",
        "plt.plot([0, 1], [0, 1], 'k:', label=\"Random classifier's ROC curve\")\n",
        "\n",
        "# extra code – just beautifies the figure with the curved arrow\n",
        "plt.gca().add_patch(patches.FancyArrowPatch(\n",
        "     (0.20, 0.89), (0.07, 0.70),\n",
        "     connectionstyle=\"arc3,rad=.4\",\n",
        "     arrowstyle=\"Simple, tail_width=1.5, head_width=8, head_length=10\",\n",
        "     color=\"#444444\"))\n",
        "plt.text(0.12, 0.71, \"Higher\\nthreshold\", color=\"#333333\")\n",
        "plt.xlabel('False Positive Rate (Fall-Out)')\n",
        "plt.ylabel('True Positive Rate (Recall)')\n",
        "plt.grid()\n",
        "plt.axis([0, 1, 0, 1])\n",
        "plt.legend(loc=\"lower right\", fontsize=13)\n",
        "\n",
        "plt.show()"
      ]
    },
    {
      "cell_type": "code",
      "execution_count": 40,
      "metadata": {},
      "outputs": [
        {
          "data": {
            "text/plain": [
              "0.9881978752946495"
            ]
          },
          "execution_count": 40,
          "metadata": {},
          "output_type": "execute_result"
        }
      ],
      "source": [
        "from sklearn.metrics import roc_auc_score\n",
        "\n",
        "roc_auc_score(y_test_23_series,y_scores)"
      ]
    }
  ],
  "metadata": {
    "colab": {
      "collapsed_sections": [],
      "name": "Examen Machine Learning Juni 2022.ipynb",
      "provenance": []
    },
    "kernelspec": {
      "display_name": "Python 3",
      "language": "python",
      "name": "python3"
    },
    "language_info": {
      "codemirror_mode": {
        "name": "ipython",
        "version": 3
      },
      "file_extension": ".py",
      "mimetype": "text/x-python",
      "name": "python",
      "nbconvert_exporter": "python",
      "pygments_lexer": "ipython3",
      "version": "3.11.8"
    },
    "vscode": {
      "interpreter": {
        "hash": "6e919314690ba078a9c4cab482e45708028526432cf77d9e4e02ebe923b94e34"
      }
    }
  },
  "nbformat": 4,
  "nbformat_minor": 0
}

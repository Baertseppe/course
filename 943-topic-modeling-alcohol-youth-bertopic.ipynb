{
 "cells": [
  {
   "cell_type": "markdown",
   "metadata": {},
   "source": [
    "# Topic Modeling for youth alcohol consumption - Bertopic"
   ]
  },
  {
   "cell_type": "code",
   "execution_count": 53,
   "metadata": {},
   "outputs": [
    {
     "name": "stdout",
     "output_type": "stream",
     "text": [
      "Defaulting to user installation because normal site-packages is not writeable\n",
      "Requirement already satisfied: bertopic in c:\\users\\jcor864\\appdata\\roaming\\python\\python311\\site-packages (0.16.0)\n",
      "Requirement already satisfied: numpy>=1.20.0 in c:\\users\\jcor864\\appdata\\roaming\\python\\python311\\site-packages (from bertopic) (1.26.4)\n",
      "Requirement already satisfied: hdbscan>=0.8.29 in c:\\users\\jcor864\\appdata\\roaming\\python\\python311\\site-packages (from bertopic) (0.8.33)\n",
      "Requirement already satisfied: umap-learn>=0.5.0 in c:\\users\\jcor864\\appdata\\roaming\\python\\python311\\site-packages (from bertopic) (0.5.5)\n",
      "Requirement already satisfied: pandas>=1.1.5 in c:\\users\\jcor864\\appdata\\roaming\\python\\python311\\site-packages (from bertopic) (1.5.3)\n",
      "Requirement already satisfied: scikit-learn>=0.22.2.post1 in c:\\users\\jcor864\\appdata\\roaming\\python\\python311\\site-packages (from bertopic) (1.4.1.post1)\n",
      "Requirement already satisfied: tqdm>=4.41.1 in c:\\users\\jcor864\\appdata\\roaming\\python\\python311\\site-packages (from bertopic) (4.66.2)\n",
      "Requirement already satisfied: sentence-transformers>=0.4.1 in c:\\users\\jcor864\\appdata\\roaming\\python\\python311\\site-packages (from bertopic) (2.6.0)\n",
      "Requirement already satisfied: plotly>=4.7.0 in c:\\users\\jcor864\\appdata\\roaming\\python\\python311\\site-packages (from bertopic) (5.20.0)\n",
      "Requirement already satisfied: cython<3,>=0.27 in c:\\users\\jcor864\\appdata\\roaming\\python\\python311\\site-packages (from hdbscan>=0.8.29->bertopic) (0.29.37)\n",
      "Requirement already satisfied: scipy>=1.0 in c:\\users\\jcor864\\appdata\\roaming\\python\\python311\\site-packages (from hdbscan>=0.8.29->bertopic) (1.12.0)\n",
      "Requirement already satisfied: joblib>=1.0 in c:\\users\\jcor864\\appdata\\roaming\\python\\python311\\site-packages (from hdbscan>=0.8.29->bertopic) (1.3.2)\n",
      "Requirement already satisfied: python-dateutil>=2.8.1 in c:\\users\\jcor864\\appdata\\roaming\\python\\python311\\site-packages (from pandas>=1.1.5->bertopic) (2.8.2)\n",
      "Requirement already satisfied: pytz>=2020.1 in c:\\users\\jcor864\\appdata\\roaming\\python\\python311\\site-packages (from pandas>=1.1.5->bertopic) (2024.1)\n",
      "Requirement already satisfied: tenacity>=6.2.0 in c:\\users\\jcor864\\appdata\\roaming\\python\\python311\\site-packages (from plotly>=4.7.0->bertopic) (8.2.3)\n",
      "Requirement already satisfied: packaging in c:\\users\\jcor864\\appdata\\roaming\\python\\python311\\site-packages (from plotly>=4.7.0->bertopic) (23.2)\n",
      "Requirement already satisfied: threadpoolctl>=2.0.0 in c:\\users\\jcor864\\appdata\\roaming\\python\\python311\\site-packages (from scikit-learn>=0.22.2.post1->bertopic) (3.3.0)\n",
      "Requirement already satisfied: transformers<5.0.0,>=4.32.0 in c:\\users\\jcor864\\appdata\\roaming\\python\\python311\\site-packages (from sentence-transformers>=0.4.1->bertopic) (4.39.1)\n",
      "Requirement already satisfied: torch>=1.11.0 in c:\\users\\jcor864\\appdata\\roaming\\python\\python311\\site-packages (from sentence-transformers>=0.4.1->bertopic) (2.2.1)\n",
      "Requirement already satisfied: huggingface-hub>=0.15.1 in c:\\users\\jcor864\\appdata\\roaming\\python\\python311\\site-packages (from sentence-transformers>=0.4.1->bertopic) (0.21.4)\n",
      "Requirement already satisfied: Pillow in c:\\users\\jcor864\\appdata\\roaming\\python\\python311\\site-packages (from sentence-transformers>=0.4.1->bertopic) (10.2.0)\n",
      "Requirement already satisfied: colorama in c:\\users\\jcor864\\appdata\\roaming\\python\\python311\\site-packages (from tqdm>=4.41.1->bertopic) (0.4.6)\n",
      "Requirement already satisfied: numba>=0.51.2 in c:\\users\\jcor864\\appdata\\roaming\\python\\python311\\site-packages (from umap-learn>=0.5.0->bertopic) (0.59.1)\n",
      "Requirement already satisfied: pynndescent>=0.5 in c:\\users\\jcor864\\appdata\\roaming\\python\\python311\\site-packages (from umap-learn>=0.5.0->bertopic) (0.5.11)\n",
      "Requirement already satisfied: filelock in c:\\users\\jcor864\\appdata\\roaming\\python\\python311\\site-packages (from huggingface-hub>=0.15.1->sentence-transformers>=0.4.1->bertopic) (3.13.1)\n",
      "Requirement already satisfied: fsspec>=2023.5.0 in c:\\users\\jcor864\\appdata\\roaming\\python\\python311\\site-packages (from huggingface-hub>=0.15.1->sentence-transformers>=0.4.1->bertopic) (2024.2.0)\n",
      "Requirement already satisfied: requests in c:\\users\\jcor864\\appdata\\roaming\\python\\python311\\site-packages (from huggingface-hub>=0.15.1->sentence-transformers>=0.4.1->bertopic) (2.31.0)\n",
      "Requirement already satisfied: pyyaml>=5.1 in c:\\users\\jcor864\\appdata\\roaming\\python\\python311\\site-packages (from huggingface-hub>=0.15.1->sentence-transformers>=0.4.1->bertopic) (6.0.1)\n",
      "Requirement already satisfied: typing-extensions>=3.7.4.3 in c:\\users\\jcor864\\appdata\\roaming\\python\\python311\\site-packages (from huggingface-hub>=0.15.1->sentence-transformers>=0.4.1->bertopic) (4.10.0)\n",
      "Requirement already satisfied: llvmlite<0.43,>=0.42.0dev0 in c:\\users\\jcor864\\appdata\\roaming\\python\\python311\\site-packages (from numba>=0.51.2->umap-learn>=0.5.0->bertopic) (0.42.0)\n",
      "Requirement already satisfied: six>=1.5 in c:\\users\\jcor864\\appdata\\roaming\\python\\python311\\site-packages (from python-dateutil>=2.8.1->pandas>=1.1.5->bertopic) (1.16.0)\n",
      "Requirement already satisfied: sympy in c:\\users\\jcor864\\appdata\\roaming\\python\\python311\\site-packages (from torch>=1.11.0->sentence-transformers>=0.4.1->bertopic) (1.12)\n",
      "Requirement already satisfied: networkx in c:\\users\\jcor864\\appdata\\roaming\\python\\python311\\site-packages (from torch>=1.11.0->sentence-transformers>=0.4.1->bertopic) (3.2.1)\n",
      "Requirement already satisfied: jinja2 in c:\\users\\jcor864\\appdata\\roaming\\python\\python311\\site-packages (from torch>=1.11.0->sentence-transformers>=0.4.1->bertopic) (2.11.3)\n",
      "Requirement already satisfied: regex!=2019.12.17 in c:\\users\\jcor864\\appdata\\roaming\\python\\python311\\site-packages (from transformers<5.0.0,>=4.32.0->sentence-transformers>=0.4.1->bertopic) (2020.11.13)\n",
      "Requirement already satisfied: tokenizers<0.19,>=0.14 in c:\\users\\jcor864\\appdata\\roaming\\python\\python311\\site-packages (from transformers<5.0.0,>=4.32.0->sentence-transformers>=0.4.1->bertopic) (0.15.2)\n",
      "Requirement already satisfied: safetensors>=0.4.1 in c:\\users\\jcor864\\appdata\\roaming\\python\\python311\\site-packages (from transformers<5.0.0,>=4.32.0->sentence-transformers>=0.4.1->bertopic) (0.4.2)\n",
      "Requirement already satisfied: MarkupSafe>=0.23 in c:\\users\\jcor864\\appdata\\roaming\\python\\python311\\site-packages (from jinja2->torch>=1.11.0->sentence-transformers>=0.4.1->bertopic) (2.0.1)\n",
      "Requirement already satisfied: charset-normalizer<4,>=2 in c:\\users\\jcor864\\appdata\\roaming\\python\\python311\\site-packages (from requests->huggingface-hub>=0.15.1->sentence-transformers>=0.4.1->bertopic) (3.3.2)\n",
      "Requirement already satisfied: idna<4,>=2.5 in c:\\users\\jcor864\\appdata\\roaming\\python\\python311\\site-packages (from requests->huggingface-hub>=0.15.1->sentence-transformers>=0.4.1->bertopic) (3.6)\n",
      "Requirement already satisfied: urllib3<3,>=1.21.1 in c:\\users\\jcor864\\appdata\\roaming\\python\\python311\\site-packages (from requests->huggingface-hub>=0.15.1->sentence-transformers>=0.4.1->bertopic) (2.2.1)\n",
      "Requirement already satisfied: certifi>=2017.4.17 in c:\\users\\jcor864\\appdata\\roaming\\python\\python311\\site-packages (from requests->huggingface-hub>=0.15.1->sentence-transformers>=0.4.1->bertopic) (2024.2.2)\n",
      "Requirement already satisfied: mpmath>=0.19 in c:\\users\\jcor864\\appdata\\roaming\\python\\python311\\site-packages (from sympy->torch>=1.11.0->sentence-transformers>=0.4.1->bertopic) (1.3.0)\n"
     ]
    }
   ],
   "source": [
    "!pip install bertopic"
   ]
  },
  {
   "cell_type": "markdown",
   "metadata": {},
   "source": [
    "In deze toepassing wordt topic modeling gebruikt om op een systematische wijze op zoek te gaan naar artikelen m.b.t. alcololgebruik bij jongeren en de bepalende factoren. "
   ]
  },
  {
   "cell_type": "code",
   "execution_count": 70,
   "metadata": {},
   "outputs": [],
   "source": [
    "# parameters\n",
    "nr_of_articles = 10500 # max. 11000\n",
    "startyear = 1991 \n",
    "nr_topics = 11\n",
    "min_topic_size = 25\n",
    "ngram = 3\n",
    "\n",
    "# hyperparameter tuning: https://maartengr.github.io/BERTopic/getting_started/parameter%20tuning/parametertuning.html"
   ]
  },
  {
   "cell_type": "code",
   "execution_count": 55,
   "metadata": {},
   "outputs": [],
   "source": [
    "import matplotlib.pyplot as plt\n",
    "\n",
    "plt.rc('font', size=14)\n",
    "plt.rc('axes', labelsize=14, titlesize=14)\n",
    "plt.rc('legend', fontsize=14)\n",
    "plt.rc('xtick', labelsize=10)\n",
    "plt.rc('ytick', labelsize=10)\n",
    "\n",
    "import numpy as np\n",
    "import pandas as pd\n",
    "\n",
    "pd.set_option('display.max_colwidth', 0)\n",
    "pd.set_option('display.max_rows', 1000)\n",
    "pd.set_option('display.max_columns', 1000)\n"
   ]
  },
  {
   "cell_type": "markdown",
   "metadata": {},
   "source": [
    "## Data"
   ]
  },
  {
   "cell_type": "markdown",
   "metadata": {},
   "source": [
    "Searchstring Web of Science: alcohol* AND (adolescen* OR youth OR minor OR underage*) AND (factors OR determinant* OR Cause* OR influence* OR Predictor*)\n",
    " \n",
    "zoeken op Topic  (--> Searches title, abstract and author keywords.)\n",
    "\n",
    "Dit geeft: n = 23.260 (artikels)\n",
    "\n",
    "inclusie/exclusiecriteria\n",
    "Refine: open acces (n=11.605)\n",
    "Refine: english (n=11.260)\n",
    "Refine: article + early acces (n = 10,436) --> alle andere bronnen geëxcludeerd op deze wijze\n",
    "\n",
    "Sort by relevance. \n"
   ]
  },
  {
   "cell_type": "code",
   "execution_count": 56,
   "metadata": {},
   "outputs": [],
   "source": [
    "art1 = pd.read_excel('bertopic/savedrecs0001-1000.xls')\n",
    "art2 = pd.read_excel('bertopic/savedrecs1001-2000.xls')\n",
    "art3 = pd.read_excel('bertopic/savedrecs2001-3000.xls')\n",
    "art4 = pd.read_excel('bertopic/savedrecs3001-4000.xls')\n",
    "art5 = pd.read_excel('bertopic/savedrecs4001-5000.xls')\n",
    "art6 = pd.read_excel('bertopic/savedrecs5001-6000.xls')\n",
    "art7 = pd.read_excel('bertopic/savedrecs6001-7000.xls')\n",
    "art8 = pd.read_excel('bertopic/savedrecs7001-8000.xls')\n",
    "art9 = pd.read_excel('bertopic/savedrecs8001-9000.xls')\n",
    "art10 = pd.read_excel('bertopic/savedrecs9001-10000.xls')\n",
    "art11 = pd.read_excel('bertopic/savedrecs10001-10439.xls')"
   ]
  },
  {
   "cell_type": "code",
   "execution_count": 57,
   "metadata": {},
   "outputs": [],
   "source": [
    "articles = pd.concat([art1, art2, art3, art4, art5, art6, art7, art8, art9, art10, art11], ignore_index=True, axis=0)"
   ]
  },
  {
   "cell_type": "code",
   "execution_count": 58,
   "metadata": {},
   "outputs": [],
   "source": [
    "articles = articles.iloc[:nr_of_articles, :]"
   ]
  },
  {
   "cell_type": "code",
   "execution_count": 59,
   "metadata": {},
   "outputs": [],
   "source": [
    "articles = articles[articles['Publication Year'] >= startyear]"
   ]
  },
  {
   "cell_type": "code",
   "execution_count": 60,
   "metadata": {},
   "outputs": [
    {
     "data": {
      "text/plain": [
       "10442"
      ]
     },
     "execution_count": 60,
     "metadata": {},
     "output_type": "execute_result"
    }
   ],
   "source": [
    "len(articles)"
   ]
  },
  {
   "cell_type": "code",
   "execution_count": 61,
   "metadata": {},
   "outputs": [
    {
     "name": "stdout",
     "output_type": "stream",
     "text": [
      "<class 'pandas.core.frame.DataFrame'>\n",
      "Int64Index: 10442 entries, 0 to 10441\n",
      "Data columns (total 72 columns):\n",
      " #   Column                      Non-Null Count  Dtype  \n",
      "---  ------                      --------------  -----  \n",
      " 0   Publication Type            10442 non-null  object \n",
      " 1   Authors                     10442 non-null  object \n",
      " 2   Book Authors                0 non-null      float64\n",
      " 3   Book Editors                11 non-null     object \n",
      " 4   Book Group Authors          0 non-null      float64\n",
      " 5   Author Full Names           10442 non-null  object \n",
      " 6   Book Author Full Names      0 non-null      float64\n",
      " 7   Group Authors               161 non-null    object \n",
      " 8   Article Title               10442 non-null  object \n",
      " 9   Source Title                10442 non-null  object \n",
      " 10  Book Series Title           11 non-null     object \n",
      " 11  Book Series Subtitle        0 non-null      float64\n",
      " 12  Language                    10442 non-null  object \n",
      " 13  Document Type               10442 non-null  object \n",
      " 14  Conference Title            108 non-null    object \n",
      " 15  Conference Date             108 non-null    object \n",
      " 16  Conference Location         108 non-null    object \n",
      " 17  Conference Sponsor          87 non-null     object \n",
      " 18  Conference Host             5 non-null      object \n",
      " 19  Author Keywords             8228 non-null   object \n",
      " 20  Keywords Plus               10256 non-null  object \n",
      " 21  Abstract                    10439 non-null  object \n",
      " 22  Addresses                   10406 non-null  object \n",
      " 23  Affiliations                10228 non-null  object \n",
      " 24  Reprint Addresses           10403 non-null  object \n",
      " 25  Email Addresses             10042 non-null  object \n",
      " 26  Researcher Ids              6793 non-null   object \n",
      " 27  ORCIDs                      8171 non-null   object \n",
      " 28  Funding Orgs                7636 non-null   object \n",
      " 29  Funding Name Preferred      7610 non-null   object \n",
      " 30  Funding Text                6682 non-null   object \n",
      " 31  Cited References            0 non-null      float64\n",
      " 32  Cited Reference Count       10442 non-null  int64  \n",
      " 33  Times Cited, WoS Core       10442 non-null  int64  \n",
      " 34  Times Cited, All Databases  10442 non-null  int64  \n",
      " 35  180 Day Usage Count         10442 non-null  int64  \n",
      " 36  Since 2013 Usage Count      10442 non-null  int64  \n",
      " 37  Publisher                   10442 non-null  object \n",
      " 38  Publisher City              10442 non-null  object \n",
      " 39  Publisher Address           10442 non-null  object \n",
      " 40  ISSN                        9268 non-null   object \n",
      " 41  eISSN                       8197 non-null   object \n",
      " 42  ISBN                        9 non-null      object \n",
      " 43  Journal Abbreviation        10442 non-null  object \n",
      " 44  Journal ISO Abbreviation    10438 non-null  object \n",
      " 45  Publication Date            9612 non-null   object \n",
      " 46  Publication Year            10442 non-null  int64  \n",
      " 47  Volume                      10328 non-null  object \n",
      " 48  Issue                       8208 non-null   object \n",
      " 49  Part Number                 30 non-null     object \n",
      " 50  Supplement                  130 non-null    object \n",
      " 51  Special Issue               304 non-null    object \n",
      " 52  Meeting Abstract            0 non-null      float64\n",
      " 53  Start Page                  7436 non-null   object \n",
      " 54  End Page                    7436 non-null   object \n",
      " 55  Article Number              3025 non-null   object \n",
      " 56  DOI                         10381 non-null  object \n",
      " 57  DOI Link                    10381 non-null  float64\n",
      " 58  Book DOI                    1 non-null      object \n",
      " 59  Early Access Date           1239 non-null   object \n",
      " 60  Number of Pages             10442 non-null  int64  \n",
      " 61  WoS Categories              10441 non-null  object \n",
      " 62  Web of Science Index        10442 non-null  object \n",
      " 63  Research Areas              10441 non-null  object \n",
      " 64  IDS Number                  10442 non-null  object \n",
      " 65  Pubmed Id                   9702 non-null   float64\n",
      " 66  Open Access Designations    10442 non-null  object \n",
      " 67  Highly Cited Status         0 non-null      float64\n",
      " 68  Hot Paper Status            0 non-null      float64\n",
      " 69  Date of Export              10442 non-null  object \n",
      " 70  UT (Unique WOS ID)          10442 non-null  object \n",
      " 71  Web of Science Record       10442 non-null  int64  \n",
      "dtypes: float64(10), int64(8), object(54)\n",
      "memory usage: 5.8+ MB\n"
     ]
    }
   ],
   "source": [
    "articles.info()"
   ]
  },
  {
   "cell_type": "markdown",
   "metadata": {},
   "source": [
    "## Preprocessing"
   ]
  },
  {
   "cell_type": "code",
   "execution_count": 62,
   "metadata": {},
   "outputs": [
    {
     "name": "stdout",
     "output_type": "stream",
     "text": [
      "10442\n",
      "10435\n"
     ]
    }
   ],
   "source": [
    "print(len(articles))\n",
    "articles.drop_duplicates(subset=['Article Title', 'Abstract'], inplace=True)\n",
    "print(len(articles))"
   ]
  },
  {
   "cell_type": "code",
   "execution_count": 63,
   "metadata": {},
   "outputs": [
    {
     "data": {
      "text/html": [
       "<div>\n",
       "<style scoped>\n",
       "    .dataframe tbody tr th:only-of-type {\n",
       "        vertical-align: middle;\n",
       "    }\n",
       "\n",
       "    .dataframe tbody tr th {\n",
       "        vertical-align: top;\n",
       "    }\n",
       "\n",
       "    .dataframe thead th {\n",
       "        text-align: right;\n",
       "    }\n",
       "</style>\n",
       "<table border=\"1\" class=\"dataframe\">\n",
       "  <thead>\n",
       "    <tr style=\"text-align: right;\">\n",
       "      <th></th>\n",
       "      <th>Publication Type</th>\n",
       "      <th>Authors</th>\n",
       "      <th>Book Authors</th>\n",
       "      <th>Book Editors</th>\n",
       "      <th>Book Group Authors</th>\n",
       "      <th>Author Full Names</th>\n",
       "      <th>Book Author Full Names</th>\n",
       "      <th>Group Authors</th>\n",
       "      <th>Article Title</th>\n",
       "      <th>Source Title</th>\n",
       "      <th>Book Series Title</th>\n",
       "      <th>Book Series Subtitle</th>\n",
       "      <th>Language</th>\n",
       "      <th>Document Type</th>\n",
       "      <th>Conference Title</th>\n",
       "      <th>Conference Date</th>\n",
       "      <th>Conference Location</th>\n",
       "      <th>Conference Sponsor</th>\n",
       "      <th>Conference Host</th>\n",
       "      <th>Author Keywords</th>\n",
       "      <th>Keywords Plus</th>\n",
       "      <th>Abstract</th>\n",
       "      <th>Addresses</th>\n",
       "      <th>Affiliations</th>\n",
       "      <th>Reprint Addresses</th>\n",
       "      <th>Email Addresses</th>\n",
       "      <th>Researcher Ids</th>\n",
       "      <th>ORCIDs</th>\n",
       "      <th>Funding Orgs</th>\n",
       "      <th>Funding Name Preferred</th>\n",
       "      <th>Funding Text</th>\n",
       "      <th>Cited References</th>\n",
       "      <th>Cited Reference Count</th>\n",
       "      <th>Times Cited, WoS Core</th>\n",
       "      <th>Times Cited, All Databases</th>\n",
       "      <th>180 Day Usage Count</th>\n",
       "      <th>Since 2013 Usage Count</th>\n",
       "      <th>Publisher</th>\n",
       "      <th>Publisher City</th>\n",
       "      <th>Publisher Address</th>\n",
       "      <th>ISSN</th>\n",
       "      <th>eISSN</th>\n",
       "      <th>ISBN</th>\n",
       "      <th>Journal Abbreviation</th>\n",
       "      <th>Journal ISO Abbreviation</th>\n",
       "      <th>Publication Date</th>\n",
       "      <th>Publication Year</th>\n",
       "      <th>Volume</th>\n",
       "      <th>Issue</th>\n",
       "      <th>Part Number</th>\n",
       "      <th>Supplement</th>\n",
       "      <th>Special Issue</th>\n",
       "      <th>Meeting Abstract</th>\n",
       "      <th>Start Page</th>\n",
       "      <th>End Page</th>\n",
       "      <th>Article Number</th>\n",
       "      <th>DOI</th>\n",
       "      <th>DOI Link</th>\n",
       "      <th>Book DOI</th>\n",
       "      <th>Early Access Date</th>\n",
       "      <th>Number of Pages</th>\n",
       "      <th>WoS Categories</th>\n",
       "      <th>Web of Science Index</th>\n",
       "      <th>Research Areas</th>\n",
       "      <th>IDS Number</th>\n",
       "      <th>Pubmed Id</th>\n",
       "      <th>Open Access Designations</th>\n",
       "      <th>Highly Cited Status</th>\n",
       "      <th>Hot Paper Status</th>\n",
       "      <th>Date of Export</th>\n",
       "      <th>UT (Unique WOS ID)</th>\n",
       "      <th>Web of Science Record</th>\n",
       "    </tr>\n",
       "  </thead>\n",
       "  <tbody>\n",
       "    <tr>\n",
       "      <th>0</th>\n",
       "      <td>J</td>\n",
       "      <td>Anderson, KG; Ramo, DE; Schulte, MT; Cummins, K; Brown, SA</td>\n",
       "      <td>NaN</td>\n",
       "      <td>NaN</td>\n",
       "      <td>NaN</td>\n",
       "      <td>Anderson, Kristen G.; Ramo, Danielle E.; Schulte, Marya T.; Cummins, Kevin; Brown, Sandra A.</td>\n",
       "      <td>NaN</td>\n",
       "      <td>NaN</td>\n",
       "      <td>Substance use treatment outcomes for youth: Integrating personal and environmental predictors</td>\n",
       "      <td>DRUG AND ALCOHOL DEPENDENCE</td>\n",
       "      <td>NaN</td>\n",
       "      <td>NaN</td>\n",
       "      <td>English</td>\n",
       "      <td>Article</td>\n",
       "      <td>NaN</td>\n",
       "      <td>NaN</td>\n",
       "      <td>NaN</td>\n",
       "      <td>NaN</td>\n",
       "      <td>NaN</td>\n",
       "      <td>substance use; treatment; adolescents</td>\n",
       "      <td>DIAGNOSTIC INTERVIEW SCHEDULE; DRUG-ABUSE TREATMENT; ADOLESCENT ALCOHOL; MULTIPLE IMPUTATION; PSYCHIATRIC-DISORDERS; RATING-SCALE; RELIABILITY; EXPECTANCY; DRINKING; DEPENDENCE</td>\n",
       "      <td>This investigation examined personal and environmental predictors of substance treatment outcomes in youth. A 424 adolescents (M=15.9 years, S.D. = 1.3) completed comprehensive assessments, including substance use, environmental factors (e.g., family history, social supports), and person-centered variables (e.g., Axis I diagnosis, motivation, self-esteem), at study intake and throughout the year following inpatient treatment. Youth treatment outcomes were assessed by relapse status (abstaining, minor relapse, major relapse) and DSM-IV dependence symptoms at 1 year. Relapse status was predicted by demographic (age), environmental (social supports), and person-centered factors (diagnosis) while dependence symptoms were best predicted by substance use variables alone. Consideration of the general and specific nature of risk and protection within the adolescent developmental context were explored. (c) 2006 Published by Elsevier Ireland Ltd.</td>\n",
       "      <td>Univ Calif San Diego, Vet Affairs San Diego Healthcare Syst, San Diego, CA 92093 USA; Univ Calif San Diego, Dept Psychiat &amp; Psychol, San Diego, CA 92093 USA; Univ Calif San Diego, SDSU, Joint Doctoral Program Clin Psychol, San Diego, CA 92093 USA; Univ Calif San Diego, Dept Psychol, San Diego, CA 92093 USA</td>\n",
       "      <td>US Department of Veterans Affairs; Veterans Health Administration (VHA); VA San Diego Healthcare System; University of California System; University of California San Diego; University of California System; University of California San Diego; University of California System; University of California San Diego; California State University System; San Diego State University; University of California System; University of California San Diego</td>\n",
       "      <td>Brown, SA (corresponding author), Univ Calif San Diego, Vet Affairs San Diego Healthcare Syst, 9500 Gilman Dr MC 0109, San Diego, CA 92093 USA.</td>\n",
       "      <td>sanbrown@ucsd.edu</td>\n",
       "      <td>Brown, Sandra A/S-8789-2019</td>\n",
       "      <td>Anderson, Kristen/0000-0002-3930-1324</td>\n",
       "      <td>NaN</td>\n",
       "      <td>NaN</td>\n",
       "      <td>NaN</td>\n",
       "      <td>NaN</td>\n",
       "      <td>52</td>\n",
       "      <td>36</td>\n",
       "      <td>47</td>\n",
       "      <td>1</td>\n",
       "      <td>14</td>\n",
       "      <td>ELSEVIER IRELAND LTD</td>\n",
       "      <td>CLARE</td>\n",
       "      <td>ELSEVIER HOUSE, BROOKVALE PLAZA, EAST PARK SHANNON, CO, CLARE, 00000, IRELAND</td>\n",
       "      <td>0376-8716</td>\n",
       "      <td>1879-0046</td>\n",
       "      <td>NaN</td>\n",
       "      <td>DRUG ALCOHOL DEPEN</td>\n",
       "      <td>Drug Alcohol Depend.</td>\n",
       "      <td>APR 17</td>\n",
       "      <td>2007</td>\n",
       "      <td>88.0</td>\n",
       "      <td>1</td>\n",
       "      <td>NaN</td>\n",
       "      <td>NaN</td>\n",
       "      <td>NaN</td>\n",
       "      <td>NaN</td>\n",
       "      <td>42</td>\n",
       "      <td>48</td>\n",
       "      <td>NaN</td>\n",
       "      <td>10.1016/j.drugalcdep.2006.09.014</td>\n",
       "      <td>0.0</td>\n",
       "      <td>NaN</td>\n",
       "      <td>NaN</td>\n",
       "      <td>7</td>\n",
       "      <td>Substance Abuse; Psychiatry</td>\n",
       "      <td>Science Citation Index Expanded (SCI-EXPANDED); Social Science Citation Index (SSCI)</td>\n",
       "      <td>Substance Abuse; Psychiatry</td>\n",
       "      <td>156TM</td>\n",
       "      <td>17092659.0</td>\n",
       "      <td>Green Accepted</td>\n",
       "      <td>NaN</td>\n",
       "      <td>NaN</td>\n",
       "      <td>2024-03-27</td>\n",
       "      <td>WOS:000245672800006</td>\n",
       "      <td>0</td>\n",
       "    </tr>\n",
       "    <tr>\n",
       "      <th>1</th>\n",
       "      <td>J</td>\n",
       "      <td>Yang, CY; Shen, ACT; Hsieh, YP; Huang, CY; Wei, HS; Feng, JY; Hwa, HL</td>\n",
       "      <td>NaN</td>\n",
       "      <td>NaN</td>\n",
       "      <td>NaN</td>\n",
       "      <td>Yang, Chiao-Yu; Shen, April Chiung-Tao; Hsieh, Yi-Ping; Huang, Ching-Yu; Wei, Hsi-Sheng; Feng, Jui-Ying; Hwa, Hsiao-Lin</td>\n",
       "      <td>NaN</td>\n",
       "      <td>NaN</td>\n",
       "      <td>Parent-Youth Relationships and Youth Alcohol Use: The Moderating Role of Parental Alcohol Use</td>\n",
       "      <td>INTERNATIONAL JOURNAL OF MENTAL HEALTH AND ADDICTION</td>\n",
       "      <td>NaN</td>\n",
       "      <td>NaN</td>\n",
       "      <td>English</td>\n",
       "      <td>Article; Early Access</td>\n",
       "      <td>NaN</td>\n",
       "      <td>NaN</td>\n",
       "      <td>NaN</td>\n",
       "      <td>NaN</td>\n",
       "      <td>NaN</td>\n",
       "      <td>Youth alcohol use; Parent-youth relationships; Parental alcohol use; Hierarchical logistic regression; Taiwan</td>\n",
       "      <td>SUBSTANCE USE; DRINKING ONSET; USE DISORDERS; ADOLESCENTS; SOCIALIZATION; ASSOCIATION; PREDICTORS; CONFLICT; BEHAVIOR</td>\n",
       "      <td>Previous studies have shown that strong parent-youth relationships serve as a protective factor inhibiting early alcohol use onset among youth, while parental alcohol use as a risk factor. However, little is known about the moderating effect of parental alcohol use on the relationship between parent-youth relationships and youth alcohol use. Using a nationally representative sample of 2,667 junior high school students entering eighth grade (aged 14 to 15) in Taiwan, this study examined the moderating role of parent use of alcohol on the relationship between parent-youth relationships and youth alcohol use. Results show that parent-youth relationship only remains a protective factor for youths whose parents do not drink alcohol; parent-youth relationship increases the likelihood of youth alcohol use if the parents use alcohol. Results suggest that parents and practitioners aiming to prevent early alcohol use onset among junior high school students should be aware of the potential influence of parental alcohol use behaviors and educate youths to assess their health behaviors regardless of their parents' alcohol use behaviors.</td>\n",
       "      <td>[Yang, Chiao-Yu] Univ Delaware, Dept Sociol &amp; Criminal Justice, Newark, DE USA; [Shen, April Chiung-Tao] Natl Taiwan Univ, Dept Social Work, 1 Sec 4 Roosevelt Rd, Taipei 106, Taiwan; [Hsieh, Yi-Ping] Univ North Dakota, Dept Social Work, Grand Forks, ND 58202 USA; [Huang, Ching-Yu] Keele Univ, Sch Psychol, Staffordshire ST5 5BG, England; [Wei, Hsi-Sheng] Natl Taipei Univ, Dept Social Work, Taipei, Taiwan; [Feng, Jui-Ying] Natl Cheng Kung Univ, Natl Cheng Kung Univ Hosp, Coll Med, Dept Nursing, Tainan, Taiwan; [Hwa, Hsiao-Lin] Natl Taiwan Univ, Dept &amp; Grad Inst Forens Med, Taipei, Taiwan</td>\n",
       "      <td>University of Delaware; National Taiwan University; University of North Dakota Grand Forks; Keele University; National Taipei University; National Cheng Kung University; National Cheng Kung University Hospital; National Taiwan University</td>\n",
       "      <td>Shen, ACT (corresponding author), Natl Taiwan Univ, Dept Social Work, 1 Sec 4 Roosevelt Rd, Taipei 106, Taiwan.</td>\n",
       "      <td>chiaoyu@udel.edu; acshen@ntu.edu.tw; yiping66@gmail.com; soarhuang@gmail.com; hswei@mail.ntpu.edu.tw; juiying@mail.ncku.edu.tw; hwahl013@ntu.edu.tw</td>\n",
       "      <td>SHEN, CHIUNG-TAO/M-1762-2018</td>\n",
       "      <td>SHEN, CHIUNG-TAO/0000-0002-5865-9524; Hwa, Hsiao-Lin/0000-0002-8094-1163</td>\n",
       "      <td>National Taiwan University Children and Family Research Center-CTBC Charity Foundation [112L9A00405, FR012]</td>\n",
       "      <td>National Taiwan University Children and Family Research Center-CTBC Charity Foundation</td>\n",
       "      <td>This study was funded by the National Taiwan University Children and Family Research Center sponsored by the CTBC Charity Foundation (Grant number:112L9A00405, FR012).</td>\n",
       "      <td>NaN</td>\n",
       "      <td>36</td>\n",
       "      <td>0</td>\n",
       "      <td>0</td>\n",
       "      <td>10</td>\n",
       "      <td>10</td>\n",
       "      <td>SPRINGER</td>\n",
       "      <td>NEW YORK</td>\n",
       "      <td>ONE NEW YORK PLAZA, SUITE 4600, NEW YORK, NY, UNITED STATES</td>\n",
       "      <td>1557-1874</td>\n",
       "      <td>1557-1882</td>\n",
       "      <td>NaN</td>\n",
       "      <td>INT J MENT HEALTH AD</td>\n",
       "      <td>Int. J. Mental Health Addict.</td>\n",
       "      <td>2023 OCT 20</td>\n",
       "      <td>2023</td>\n",
       "      <td>NaN</td>\n",
       "      <td>NaN</td>\n",
       "      <td>NaN</td>\n",
       "      <td>NaN</td>\n",
       "      <td>NaN</td>\n",
       "      <td>NaN</td>\n",
       "      <td>NaN</td>\n",
       "      <td>NaN</td>\n",
       "      <td>NaN</td>\n",
       "      <td>10.1007/s11469-023-01177-w</td>\n",
       "      <td>0.0</td>\n",
       "      <td>NaN</td>\n",
       "      <td>OCT 2023</td>\n",
       "      <td>13</td>\n",
       "      <td>Psychology, Clinical; Substance Abuse; Psychiatry</td>\n",
       "      <td>Science Citation Index Expanded (SCI-EXPANDED); Social Science Citation Index (SSCI)</td>\n",
       "      <td>Psychology; Substance Abuse; Psychiatry</td>\n",
       "      <td>U9OK2</td>\n",
       "      <td>NaN</td>\n",
       "      <td>hybrid</td>\n",
       "      <td>NaN</td>\n",
       "      <td>NaN</td>\n",
       "      <td>2024-03-27</td>\n",
       "      <td>WOS:001088025400001</td>\n",
       "      <td>0</td>\n",
       "    </tr>\n",
       "    <tr>\n",
       "      <th>2</th>\n",
       "      <td>J</td>\n",
       "      <td>Elkington, KS; Bauermeister, JA; Zimmerman, MA</td>\n",
       "      <td>NaN</td>\n",
       "      <td>NaN</td>\n",
       "      <td>NaN</td>\n",
       "      <td>Elkington, Katherine S.; Bauermeister, Jose A.; Zimmerman, Marc A.</td>\n",
       "      <td>NaN</td>\n",
       "      <td>NaN</td>\n",
       "      <td>Do parents and peers matter? A prospective socio-ecological examination of substance use and sexual risk among African American youth</td>\n",
       "      <td>JOURNAL OF ADOLESCENCE</td>\n",
       "      <td>NaN</td>\n",
       "      <td>NaN</td>\n",
       "      <td>English</td>\n",
       "      <td>Article</td>\n",
       "      <td>NaN</td>\n",
       "      <td>NaN</td>\n",
       "      <td>NaN</td>\n",
       "      <td>NaN</td>\n",
       "      <td>NaN</td>\n",
       "      <td>African American youth; HIV/STI risk; Parents; Peers; Substance use</td>\n",
       "      <td>ADOLESCENT ALCOHOL; HIV RISK; SOCIAL INFLUENCES; DRUG-USE; BEHAVIORS; FAMILY; INTERVENTIONS; PREDICTORS; SOCIALIZATION; ENVIRONMENTS</td>\n",
       "      <td>We examined the direct contribution of parent and peer risk and promotive factors on youth condom use trajectories, in addition to the indirect influence of these factors via youth's substance use over four years in a sample of urban, African American youth (N = 679; 51% female; M = 14.86 years; SD = 0.65). Growth curve modeling was used to estimate changes in substance use and sexual risk across adolescence and test their association with parent and peer factors. Parent and peer risk factors were strongly associated with increasing substance use as youth aged. Substance use and condom use were interrelated. Parent and peer risk factors were indirectly associated with youth condom use; parent and peer promotive factors were directly associated with condom use, after accounting for substance use. Findings suggest the value of considering multiple influences on youth risk behavior. (C) 2010 The Foundation for Professionals in Services for Adolescents. Published by Elsevier Ltd. All rights reserved.</td>\n",
       "      <td>[Elkington, Katherine S.] Columbia Univ, HIV Ctr Clin &amp; Behav Studies, New York, NY 10032 USA; [Elkington, Katherine S.] New York State Psychiat Inst &amp; Hosp, New York, NY 10032 USA; [Bauermeister, Jose A.; Zimmerman, Marc A.] Univ Michigan, Sch Publ Hlth, Ann Arbor, MI 48109 USA</td>\n",
       "      <td>Columbia University; New York State Psychiatry Institute; University of Michigan System; University of Michigan</td>\n",
       "      <td>Elkington, KS (corresponding author), Columbia Univ, HIV Ctr Clin &amp; Behav Studies, 1051 Riverside Dr 15, New York, NY 10032 USA.</td>\n",
       "      <td>ke2143@columbia.edu</td>\n",
       "      <td>Bauermeister, Jose/X-8960-2018</td>\n",
       "      <td>Bauermeister, Jose/0000-0002-9276-2306</td>\n",
       "      <td>NIAAA NIH HHS [R03AA017240, R03 AA017240-01, R03 AA017240] Funding Source: Medline; NIDA NIH HHS [R01 DA007484, R01 DA007484-10A2, R01DA007484] Funding Source: Medline; NIMH NIH HHS [K01MH087242, L30 MH084308, K01 MH087242-01A1, K01 MH089832, P30 MH043520, K01 MH089832-01A1, P30 MH43520, K01 MH087242, K01MH089832, L30 MH084308-02] Funding Source: Medline</td>\n",
       "      <td>NIAAA NIH HHS(United States Department of Health &amp; Human ServicesNational Institutes of Health (NIH) - USANIH National Institute on Alcohol Abuse &amp; Alcoholism (NIAAA)); NIDA NIH HHS(United States Department of Health &amp; Human ServicesNational Institutes of Health (NIH) - USANIH National Institute on Drug Abuse (NIDA)); NIMH NIH HHS(United States Department of Health &amp; Human ServicesNational Institutes of Health (NIH) - USANIH National Institute of Mental Health (NIMH))</td>\n",
       "      <td>NaN</td>\n",
       "      <td>NaN</td>\n",
       "      <td>78</td>\n",
       "      <td>75</td>\n",
       "      <td>107</td>\n",
       "      <td>3</td>\n",
       "      <td>28</td>\n",
       "      <td>ACADEMIC PRESS LTD- ELSEVIER SCIENCE LTD</td>\n",
       "      <td>LONDON</td>\n",
       "      <td>24-28 OVAL RD, LONDON NW1 7DX, ENGLAND</td>\n",
       "      <td>0140-1971</td>\n",
       "      <td>1095-9254</td>\n",
       "      <td>NaN</td>\n",
       "      <td>J ADOLESCENCE</td>\n",
       "      <td>J. Adolesc.</td>\n",
       "      <td>OCT</td>\n",
       "      <td>2011</td>\n",
       "      <td>34.0</td>\n",
       "      <td>5</td>\n",
       "      <td>NaN</td>\n",
       "      <td>NaN</td>\n",
       "      <td>NaN</td>\n",
       "      <td>NaN</td>\n",
       "      <td>1035</td>\n",
       "      <td>1047</td>\n",
       "      <td>NaN</td>\n",
       "      <td>10.1016/j.adolescence.2010.11.004</td>\n",
       "      <td>0.0</td>\n",
       "      <td>NaN</td>\n",
       "      <td>NaN</td>\n",
       "      <td>13</td>\n",
       "      <td>Psychology, Developmental</td>\n",
       "      <td>Social Science Citation Index (SSCI)</td>\n",
       "      <td>Psychology</td>\n",
       "      <td>834GX</td>\n",
       "      <td>21159374.0</td>\n",
       "      <td>Bronze, Green Submitted, Green Accepted</td>\n",
       "      <td>NaN</td>\n",
       "      <td>NaN</td>\n",
       "      <td>2024-03-27</td>\n",
       "      <td>WOS:000295948900021</td>\n",
       "      <td>0</td>\n",
       "    </tr>\n",
       "    <tr>\n",
       "      <th>3</th>\n",
       "      <td>J</td>\n",
       "      <td>Bobrowski, KJ; Gren, J; Ostaszewski, K; Pisarska, A</td>\n",
       "      <td>NaN</td>\n",
       "      <td>NaN</td>\n",
       "      <td>NaN</td>\n",
       "      <td>Bobrowski, Krzysztof Jan; Gren, Jakub; Ostaszewski, Krzysztof; Pisarska, Agnieszka</td>\n",
       "      <td>NaN</td>\n",
       "      <td>NaN</td>\n",
       "      <td>FACTORS RELATED TO THE ALCOHOL USE AMONG STUDENTS ATTENDING YOUTH CORRECTIONAL CENTRES</td>\n",
       "      <td>ALKOHOLIZM I NARKOMANIA-ALCOHOLISM AND DRUG ADDICTION</td>\n",
       "      <td>NaN</td>\n",
       "      <td>NaN</td>\n",
       "      <td>English</td>\n",
       "      <td>Article</td>\n",
       "      <td>NaN</td>\n",
       "      <td>NaN</td>\n",
       "      <td>NaN</td>\n",
       "      <td>NaN</td>\n",
       "      <td>NaN</td>\n",
       "      <td>Alcohol use; Risk/protective factors; Youth at-risk; Youth correctional centres</td>\n",
       "      <td>ADOLESCENT SUBSTANCE USE; PROTECTIVE FACTORS; RISK-TAKING; COLLEGE DRINKING; PROBLEM-BEHAVIOR; PREDICTORS; HEALTH; ADULTHOOD; PATTERNS</td>\n",
       "      <td>Introduction: We have extensive knowledge of the many factors related to young people's alcohol consumption in the general population. However, less is known about risk and protective factors among at-risk youth attending special education centres, i.e. youth sociotherapy centres (MOS) and youth correctional centres (MOW). The study aim was to identify the psychosocial and behavioural factors determining the frequency of drinking, alcohol abuse, or alcohol-related problems among adolescents at particular risk. Material and methods: Data were collected from a random sample of 12-19-year-old students of special education centres (n = 1730). The analysed factors concerned three areas: 1) individual, sociological and psychological characteristics, 2) social, peer and family influences, 3) free-time activities. Results: The strongest determinant of alcohol consumption, getting drunk and alcohol-related problems were subjective norms conducive to substance use. Among individual factors, sensation seeking, experience of suicide attempt and in some models impulsiveness and low self-control were significant. The social environment also played a role among risk factors, i.e. positive relationships with peers, perceived use of psychoactive substances by close peers and alcohol problems among non-familial adults. On the other hand, parental monitoring of a teenager's free time proved to be a protective factor. Some leisure time activities had a limited role and were significant in the model explaining only the frequency of drinking. Discussion: Particularly noteworthy is the relationship between the experience of suicide attempt and deeper involvement in drinking. It is surprising that there is no significant importance of parental support as a protective factor in excessive drinking. Conclusions: Preventive actions addressed to students of special education centres should be focused on modifiable factors like subjective norms, self-control skills, attractive organised leisure time activities, prevention of suicide attempts and strengthening students' mental health.</td>\n",
       "      <td>[Bobrowski, Krzysztof Jan; Gren, Jakub; Ostaszewski, Krzysztof; Pisarska, Agnieszka] Inst Psychiat &amp; Neurol, Youth Prevent Unit Pro M, Publ Hlth Dept, Ul Sobieskiego 9, PL-02957 Warsaw, Poland</td>\n",
       "      <td>Institute of Psychiatry &amp; Neurology</td>\n",
       "      <td>Bobrowski, KJ (corresponding author), Inst Psychiat &amp; Neurol, Youth Prevent Unit Pro M, Publ Hlth Dept, Ul Sobieskiego 9, PL-02957 Warsaw, Poland.</td>\n",
       "      <td>kbob@ipin.edu.pl</td>\n",
       "      <td>Pisarska, Agnieszka/HSG-2686-2023; Greń, Jakub/AAO-7999-2021</td>\n",
       "      <td>Pisarska, Agnieszka/0000-0001-5539-4615;</td>\n",
       "      <td>National Health Program for 2016-2020</td>\n",
       "      <td>National Health Program for 2016-2020</td>\n",
       "      <td>The article was prepared within the frame of the research project financed by the National Health Program for 2016-2020</td>\n",
       "      <td>NaN</td>\n",
       "      <td>50</td>\n",
       "      <td>5</td>\n",
       "      <td>6</td>\n",
       "      <td>0</td>\n",
       "      <td>6</td>\n",
       "      <td>INST PSYCHIATRY &amp; NEUROLOGY, DEPT STUDIES ALCOHOLISM</td>\n",
       "      <td>WARSAW</td>\n",
       "      <td>AL SOBIESKIEGO 9, WARSAW, 02957, POLAND</td>\n",
       "      <td>0867-4361</td>\n",
       "      <td>1689-3530</td>\n",
       "      <td>NaN</td>\n",
       "      <td>ALKOHOL NARKOM</td>\n",
       "      <td>Alkohol. Narkom.</td>\n",
       "      <td>NaN</td>\n",
       "      <td>2019</td>\n",
       "      <td>32.0</td>\n",
       "      <td>4</td>\n",
       "      <td>NaN</td>\n",
       "      <td>NaN</td>\n",
       "      <td>NaN</td>\n",
       "      <td>NaN</td>\n",
       "      <td>317</td>\n",
       "      <td>335</td>\n",
       "      <td>NaN</td>\n",
       "      <td>10.5114/ain.2019.94025</td>\n",
       "      <td>0.0</td>\n",
       "      <td>NaN</td>\n",
       "      <td>NaN</td>\n",
       "      <td>19</td>\n",
       "      <td>Substance Abuse</td>\n",
       "      <td>Emerging Sources Citation Index (ESCI)</td>\n",
       "      <td>Substance Abuse</td>\n",
       "      <td>LK1NL</td>\n",
       "      <td>NaN</td>\n",
       "      <td>gold</td>\n",
       "      <td>NaN</td>\n",
       "      <td>NaN</td>\n",
       "      <td>2024-03-27</td>\n",
       "      <td>WOS:000530625500005</td>\n",
       "      <td>0</td>\n",
       "    </tr>\n",
       "    <tr>\n",
       "      <th>4</th>\n",
       "      <td>J</td>\n",
       "      <td>Choi, Y; He, M; Herrenkohl, TI; Catalano, RF; Toumbourou, JW</td>\n",
       "      <td>NaN</td>\n",
       "      <td>NaN</td>\n",
       "      <td>NaN</td>\n",
       "      <td>Choi, Yoonsun; He, Michael; Herrenkohl, Todd I.; Catalano, Richard F.; Toumbourou, John W.</td>\n",
       "      <td>NaN</td>\n",
       "      <td>NaN</td>\n",
       "      <td>Multiple Identification and Risks: Examination of Peer Factors Across Multiracial and Single-Race Youth</td>\n",
       "      <td>JOURNAL OF YOUTH AND ADOLESCENCE</td>\n",
       "      <td>NaN</td>\n",
       "      <td>NaN</td>\n",
       "      <td>English</td>\n",
       "      <td>Article</td>\n",
       "      <td>NaN</td>\n",
       "      <td>NaN</td>\n",
       "      <td>NaN</td>\n",
       "      <td>NaN</td>\n",
       "      <td>NaN</td>\n",
       "      <td>Multiracial youth; Youth behaviors Peer factors; Youth risks</td>\n",
       "      <td>SUBSTANCE USE; ADOLESCENTS; BEHAVIOR; ADJUSTMENT; PERCEPTIONS; IMMIGRATION; CHILDREN</td>\n",
       "      <td>Multiracial youth are thought to be more vulnerable to peer-related risk factors than are single-race youth. However, there have been surprisingly few well-designed studies on this topic. This study empirically investigated the extent to which multiracial youth are at higher risk for peer influenced problem behavior. Data are from a representative and longitudinal sample of youth from Washington State (N = 1,760, mean age = 14.13, 50.9% girls). Of those in the sample, 225 youth self-identified as multiracial (12.8%), 1,259 as White (71.5%), 152 as Latino (8.6%), and 124 as Asian American (7.1%). Results show that multiracial youth have higher rates of violence and alcohol use than Whites and more marijuana use than Asian Americans. Higher levels of socioeconomic disadvantage and single-parent family status partly explained the higher rates of problem behaviors among multiracial youth. Peer risk factors of substance-using or antisocial friends were higher for multiracial youth than Whites, even after socioeconomic variables were accounted for, demonstrating a higher rate of peer risks among multiracial youth. The number of substance-using friends was the most consistently significant correlate and predictor of problems and was highest among multiracial youth. However, interaction tests did not provide consistent evidence of a stronger influence of peer risks among multiracial youth. Findings underscore the importance of a differentiated understanding of vulnerability in order to better target prevention and intervention efforts as well as the need for further research that can help identify and explain the unique experiences and vulnerabilities of multiracial youth.</td>\n",
       "      <td>[Choi, Yoonsun; He, Michael] Univ Chicago, Sch Social Serv Adm, Chicago, IL 60637 USA; [Herrenkohl, Todd I.; Catalano, Richard F.] Univ Washington, Sch Social Work, Social Dev Res Grp, Seattle, WA 98195 USA; [Toumbourou, John W.] Deakin Univ, Sch Psychol, Geelong, Vic 3217, Australia; [Toumbourou, John W.] Murdoch Childrens Res Inst, Ctr Adolescent Hlth, Parkville, Vic, Australia</td>\n",
       "      <td>University of Chicago; University of Washington; University of Washington Seattle; Deakin University; Murdoch Children's Research Institute</td>\n",
       "      <td>Choi, Y (corresponding author), Univ Chicago, Sch Social Serv Adm, 969 E 60th St, Chicago, IL 60637 USA.</td>\n",
       "      <td>yoonsun@uchicago.edu</td>\n",
       "      <td>Toumbourou, John W/W-8632-2018</td>\n",
       "      <td>Toumbourou, John W/0000-0002-8431-3762; Choi, Yoonsun/0000-0001-5214-5701</td>\n",
       "      <td>NIAAA NIH HHS [R01AA017188-01, R01 AA017188-01, R01 AA017188] Funding Source: Medline; NICHD NIH HHS [R24 HD042828] Funding Source: Medline; NIDA NIH HHS [R01 DA012140-05, R01 DA012140] Funding Source: Medline</td>\n",
       "      <td>NIAAA NIH HHS(United States Department of Health &amp; Human ServicesNational Institutes of Health (NIH) - USANIH National Institute on Alcohol Abuse &amp; Alcoholism (NIAAA)); NICHD NIH HHS(United States Department of Health &amp; Human ServicesNational Institutes of Health (NIH) - USANIH Eunice Kennedy Shriver National Institute of Child Health &amp; Human Development (NICHD)); NIDA NIH HHS(United States Department of Health &amp; Human ServicesNational Institutes of Health (NIH) - USANIH National Institute on Drug Abuse (NIDA))</td>\n",
       "      <td>NaN</td>\n",
       "      <td>NaN</td>\n",
       "      <td>46</td>\n",
       "      <td>39</td>\n",
       "      <td>49</td>\n",
       "      <td>0</td>\n",
       "      <td>19</td>\n",
       "      <td>SPRINGER/PLENUM PUBLISHERS</td>\n",
       "      <td>NEW YORK</td>\n",
       "      <td>233 SPRING ST, NEW YORK, NY 10013 USA</td>\n",
       "      <td>0047-2891</td>\n",
       "      <td>1573-6601</td>\n",
       "      <td>NaN</td>\n",
       "      <td>J YOUTH ADOLESCENCE</td>\n",
       "      <td>J. Youth Adolesc.</td>\n",
       "      <td>JUL</td>\n",
       "      <td>2012</td>\n",
       "      <td>41.0</td>\n",
       "      <td>7</td>\n",
       "      <td>NaN</td>\n",
       "      <td>NaN</td>\n",
       "      <td>NaN</td>\n",
       "      <td>NaN</td>\n",
       "      <td>847</td>\n",
       "      <td>862</td>\n",
       "      <td>NaN</td>\n",
       "      <td>10.1007/s10964-012-9750-2</td>\n",
       "      <td>0.0</td>\n",
       "      <td>NaN</td>\n",
       "      <td>NaN</td>\n",
       "      <td>16</td>\n",
       "      <td>Psychology, Developmental</td>\n",
       "      <td>Social Science Citation Index (SSCI)</td>\n",
       "      <td>Psychology</td>\n",
       "      <td>958KR</td>\n",
       "      <td>22395776.0</td>\n",
       "      <td>Green Accepted</td>\n",
       "      <td>NaN</td>\n",
       "      <td>NaN</td>\n",
       "      <td>2024-03-27</td>\n",
       "      <td>WOS:000305235900003</td>\n",
       "      <td>0</td>\n",
       "    </tr>\n",
       "  </tbody>\n",
       "</table>\n",
       "</div>"
      ],
      "text/plain": [
       "  Publication Type  \\\n",
       "0  J                 \n",
       "1  J                 \n",
       "2  J                 \n",
       "3  J                 \n",
       "4  J                 \n",
       "\n",
       "                                                                 Authors  \\\n",
       "0  Anderson, KG; Ramo, DE; Schulte, MT; Cummins, K; Brown, SA              \n",
       "1  Yang, CY; Shen, ACT; Hsieh, YP; Huang, CY; Wei, HS; Feng, JY; Hwa, HL   \n",
       "2  Elkington, KS; Bauermeister, JA; Zimmerman, MA                          \n",
       "3  Bobrowski, KJ; Gren, J; Ostaszewski, K; Pisarska, A                     \n",
       "4  Choi, Y; He, M; Herrenkohl, TI; Catalano, RF; Toumbourou, JW            \n",
       "\n",
       "   Book Authors Book Editors  Book Group Authors  \\\n",
       "0 NaN            NaN         NaN                   \n",
       "1 NaN            NaN         NaN                   \n",
       "2 NaN            NaN         NaN                   \n",
       "3 NaN            NaN         NaN                   \n",
       "4 NaN            NaN         NaN                   \n",
       "\n",
       "                                                                                                         Author Full Names  \\\n",
       "0  Anderson, Kristen G.; Ramo, Danielle E.; Schulte, Marya T.; Cummins, Kevin; Brown, Sandra A.                              \n",
       "1  Yang, Chiao-Yu; Shen, April Chiung-Tao; Hsieh, Yi-Ping; Huang, Ching-Yu; Wei, Hsi-Sheng; Feng, Jui-Ying; Hwa, Hsiao-Lin   \n",
       "2  Elkington, Katherine S.; Bauermeister, Jose A.; Zimmerman, Marc A.                                                        \n",
       "3  Bobrowski, Krzysztof Jan; Gren, Jakub; Ostaszewski, Krzysztof; Pisarska, Agnieszka                                        \n",
       "4  Choi, Yoonsun; He, Michael; Herrenkohl, Todd I.; Catalano, Richard F.; Toumbourou, John W.                                \n",
       "\n",
       "   Book Author Full Names Group Authors  \\\n",
       "0 NaN                      NaN            \n",
       "1 NaN                      NaN            \n",
       "2 NaN                      NaN            \n",
       "3 NaN                      NaN            \n",
       "4 NaN                      NaN            \n",
       "\n",
       "                                                                                                                           Article Title  \\\n",
       "0  Substance use treatment outcomes for youth: Integrating personal and environmental predictors                                           \n",
       "1  Parent-Youth Relationships and Youth Alcohol Use: The Moderating Role of Parental Alcohol Use                                           \n",
       "2  Do parents and peers matter? A prospective socio-ecological examination of substance use and sexual risk among African American youth   \n",
       "3  FACTORS RELATED TO THE ALCOHOL USE AMONG STUDENTS ATTENDING YOUTH CORRECTIONAL CENTRES                                                  \n",
       "4  Multiple Identification and Risks: Examination of Peer Factors Across Multiracial and Single-Race Youth                                 \n",
       "\n",
       "                                            Source Title Book Series Title  \\\n",
       "0  DRUG AND ALCOHOL DEPENDENCE                            NaN                \n",
       "1  INTERNATIONAL JOURNAL OF MENTAL HEALTH AND ADDICTION   NaN                \n",
       "2  JOURNAL OF ADOLESCENCE                                 NaN                \n",
       "3  ALKOHOLIZM I NARKOMANIA-ALCOHOLISM AND DRUG ADDICTION  NaN                \n",
       "4  JOURNAL OF YOUTH AND ADOLESCENCE                       NaN                \n",
       "\n",
       "   Book Series Subtitle Language          Document Type Conference Title  \\\n",
       "0 NaN                    English  Article                NaN               \n",
       "1 NaN                    English  Article; Early Access  NaN               \n",
       "2 NaN                    English  Article                NaN               \n",
       "3 NaN                    English  Article                NaN               \n",
       "4 NaN                    English  Article                NaN               \n",
       "\n",
       "  Conference Date Conference Location Conference Sponsor Conference Host  \\\n",
       "0  NaN             NaN                 NaN                NaN              \n",
       "1  NaN             NaN                 NaN                NaN              \n",
       "2  NaN             NaN                 NaN                NaN              \n",
       "3  NaN             NaN                 NaN                NaN              \n",
       "4  NaN             NaN                 NaN                NaN              \n",
       "\n",
       "                                                                                                 Author Keywords  \\\n",
       "0  substance use; treatment; adolescents                                                                           \n",
       "1  Youth alcohol use; Parent-youth relationships; Parental alcohol use; Hierarchical logistic regression; Taiwan   \n",
       "2  African American youth; HIV/STI risk; Parents; Peers; Substance use                                             \n",
       "3  Alcohol use; Risk/protective factors; Youth at-risk; Youth correctional centres                                 \n",
       "4  Multiracial youth; Youth behaviors Peer factors; Youth risks                                                    \n",
       "\n",
       "                                                                                                                                                                      Keywords Plus  \\\n",
       "0  DIAGNOSTIC INTERVIEW SCHEDULE; DRUG-ABUSE TREATMENT; ADOLESCENT ALCOHOL; MULTIPLE IMPUTATION; PSYCHIATRIC-DISORDERS; RATING-SCALE; RELIABILITY; EXPECTANCY; DRINKING; DEPENDENCE   \n",
       "1  SUBSTANCE USE; DRINKING ONSET; USE DISORDERS; ADOLESCENTS; SOCIALIZATION; ASSOCIATION; PREDICTORS; CONFLICT; BEHAVIOR                                                              \n",
       "2  ADOLESCENT ALCOHOL; HIV RISK; SOCIAL INFLUENCES; DRUG-USE; BEHAVIORS; FAMILY; INTERVENTIONS; PREDICTORS; SOCIALIZATION; ENVIRONMENTS                                               \n",
       "3  ADOLESCENT SUBSTANCE USE; PROTECTIVE FACTORS; RISK-TAKING; COLLEGE DRINKING; PROBLEM-BEHAVIOR; PREDICTORS; HEALTH; ADULTHOOD; PATTERNS                                             \n",
       "4  SUBSTANCE USE; ADOLESCENTS; BEHAVIOR; ADJUSTMENT; PERCEPTIONS; IMMIGRATION; CHILDREN                                                                                               \n",
       "\n",
       "                                                                                                                                                                                                                                                                                                                                                                                                                                                                                                                                                                                                                                                                                                                                                                                                                                                                                                                                                                                                                                                                                                                                                                                                                                                                                                                                                                                                                                                                                                                                                                                                                                                                                                                                                                                                                                                                                                                                                                                                                                                                                                                                                                     Abstract  \\\n",
       "0  This investigation examined personal and environmental predictors of substance treatment outcomes in youth. A 424 adolescents (M=15.9 years, S.D. = 1.3) completed comprehensive assessments, including substance use, environmental factors (e.g., family history, social supports), and person-centered variables (e.g., Axis I diagnosis, motivation, self-esteem), at study intake and throughout the year following inpatient treatment. Youth treatment outcomes were assessed by relapse status (abstaining, minor relapse, major relapse) and DSM-IV dependence symptoms at 1 year. Relapse status was predicted by demographic (age), environmental (social supports), and person-centered factors (diagnosis) while dependence symptoms were best predicted by substance use variables alone. Consideration of the general and specific nature of risk and protection within the adolescent developmental context were explored. (c) 2006 Published by Elsevier Ireland Ltd.                                                                                                                                                                                                                                                                                                                                                                                                                                                                                                                                                                                                                                                                                                                                                                                                                                                                                                                                                                                                                                                                                                                                                                                       \n",
       "1  Previous studies have shown that strong parent-youth relationships serve as a protective factor inhibiting early alcohol use onset among youth, while parental alcohol use as a risk factor. However, little is known about the moderating effect of parental alcohol use on the relationship between parent-youth relationships and youth alcohol use. Using a nationally representative sample of 2,667 junior high school students entering eighth grade (aged 14 to 15) in Taiwan, this study examined the moderating role of parent use of alcohol on the relationship between parent-youth relationships and youth alcohol use. Results show that parent-youth relationship only remains a protective factor for youths whose parents do not drink alcohol; parent-youth relationship increases the likelihood of youth alcohol use if the parents use alcohol. Results suggest that parents and practitioners aiming to prevent early alcohol use onset among junior high school students should be aware of the potential influence of parental alcohol use behaviors and educate youths to assess their health behaviors regardless of their parents' alcohol use behaviors.                                                                                                                                                                                                                                                                                                                                                                                                                                                                                                                                                                                                                                                                                                                                                                                                                                                                                                                                                                                        \n",
       "2  We examined the direct contribution of parent and peer risk and promotive factors on youth condom use trajectories, in addition to the indirect influence of these factors via youth's substance use over four years in a sample of urban, African American youth (N = 679; 51% female; M = 14.86 years; SD = 0.65). Growth curve modeling was used to estimate changes in substance use and sexual risk across adolescence and test their association with parent and peer factors. Parent and peer risk factors were strongly associated with increasing substance use as youth aged. Substance use and condom use were interrelated. Parent and peer risk factors were indirectly associated with youth condom use; parent and peer promotive factors were directly associated with condom use, after accounting for substance use. Findings suggest the value of considering multiple influences on youth risk behavior. (C) 2010 The Foundation for Professionals in Services for Adolescents. Published by Elsevier Ltd. All rights reserved.                                                                                                                                                                                                                                                                                                                                                                                                                                                                                                                                                                                                                                                                                                                                                                                                                                                                                                                                                                                                                                                                                                                          \n",
       "3  Introduction: We have extensive knowledge of the many factors related to young people's alcohol consumption in the general population. However, less is known about risk and protective factors among at-risk youth attending special education centres, i.e. youth sociotherapy centres (MOS) and youth correctional centres (MOW). The study aim was to identify the psychosocial and behavioural factors determining the frequency of drinking, alcohol abuse, or alcohol-related problems among adolescents at particular risk. Material and methods: Data were collected from a random sample of 12-19-year-old students of special education centres (n = 1730). The analysed factors concerned three areas: 1) individual, sociological and psychological characteristics, 2) social, peer and family influences, 3) free-time activities. Results: The strongest determinant of alcohol consumption, getting drunk and alcohol-related problems were subjective norms conducive to substance use. Among individual factors, sensation seeking, experience of suicide attempt and in some models impulsiveness and low self-control were significant. The social environment also played a role among risk factors, i.e. positive relationships with peers, perceived use of psychoactive substances by close peers and alcohol problems among non-familial adults. On the other hand, parental monitoring of a teenager's free time proved to be a protective factor. Some leisure time activities had a limited role and were significant in the model explaining only the frequency of drinking. Discussion: Particularly noteworthy is the relationship between the experience of suicide attempt and deeper involvement in drinking. It is surprising that there is no significant importance of parental support as a protective factor in excessive drinking. Conclusions: Preventive actions addressed to students of special education centres should be focused on modifiable factors like subjective norms, self-control skills, attractive organised leisure time activities, prevention of suicide attempts and strengthening students' mental health.   \n",
       "4  Multiracial youth are thought to be more vulnerable to peer-related risk factors than are single-race youth. However, there have been surprisingly few well-designed studies on this topic. This study empirically investigated the extent to which multiracial youth are at higher risk for peer influenced problem behavior. Data are from a representative and longitudinal sample of youth from Washington State (N = 1,760, mean age = 14.13, 50.9% girls). Of those in the sample, 225 youth self-identified as multiracial (12.8%), 1,259 as White (71.5%), 152 as Latino (8.6%), and 124 as Asian American (7.1%). Results show that multiracial youth have higher rates of violence and alcohol use than Whites and more marijuana use than Asian Americans. Higher levels of socioeconomic disadvantage and single-parent family status partly explained the higher rates of problem behaviors among multiracial youth. Peer risk factors of substance-using or antisocial friends were higher for multiracial youth than Whites, even after socioeconomic variables were accounted for, demonstrating a higher rate of peer risks among multiracial youth. The number of substance-using friends was the most consistently significant correlate and predictor of problems and was highest among multiracial youth. However, interaction tests did not provide consistent evidence of a stronger influence of peer risks among multiracial youth. Findings underscore the importance of a differentiated understanding of vulnerability in order to better target prevention and intervention efforts as well as the need for further research that can help identify and explain the unique experiences and vulnerabilities of multiracial youth.                                                                                                                                                                                                                                                                                                                                                                                                                \n",
       "\n",
       "                                                                                                                                                                                                                                                                                                                                                                                                                                                                                                                                                                                                          Addresses  \\\n",
       "0  Univ Calif San Diego, Vet Affairs San Diego Healthcare Syst, San Diego, CA 92093 USA; Univ Calif San Diego, Dept Psychiat & Psychol, San Diego, CA 92093 USA; Univ Calif San Diego, SDSU, Joint Doctoral Program Clin Psychol, San Diego, CA 92093 USA; Univ Calif San Diego, Dept Psychol, San Diego, CA 92093 USA                                                                                                                                                                                                                                                                                                \n",
       "1  [Yang, Chiao-Yu] Univ Delaware, Dept Sociol & Criminal Justice, Newark, DE USA; [Shen, April Chiung-Tao] Natl Taiwan Univ, Dept Social Work, 1 Sec 4 Roosevelt Rd, Taipei 106, Taiwan; [Hsieh, Yi-Ping] Univ North Dakota, Dept Social Work, Grand Forks, ND 58202 USA; [Huang, Ching-Yu] Keele Univ, Sch Psychol, Staffordshire ST5 5BG, England; [Wei, Hsi-Sheng] Natl Taipei Univ, Dept Social Work, Taipei, Taiwan; [Feng, Jui-Ying] Natl Cheng Kung Univ, Natl Cheng Kung Univ Hosp, Coll Med, Dept Nursing, Tainan, Taiwan; [Hwa, Hsiao-Lin] Natl Taiwan Univ, Dept & Grad Inst Forens Med, Taipei, Taiwan   \n",
       "2  [Elkington, Katherine S.] Columbia Univ, HIV Ctr Clin & Behav Studies, New York, NY 10032 USA; [Elkington, Katherine S.] New York State Psychiat Inst & Hosp, New York, NY 10032 USA; [Bauermeister, Jose A.; Zimmerman, Marc A.] Univ Michigan, Sch Publ Hlth, Ann Arbor, MI 48109 USA                                                                                                                                                                                                                                                                                                                            \n",
       "3  [Bobrowski, Krzysztof Jan; Gren, Jakub; Ostaszewski, Krzysztof; Pisarska, Agnieszka] Inst Psychiat & Neurol, Youth Prevent Unit Pro M, Publ Hlth Dept, Ul Sobieskiego 9, PL-02957 Warsaw, Poland                                                                                                                                                                                                                                                                                                                                                                                                                   \n",
       "4  [Choi, Yoonsun; He, Michael] Univ Chicago, Sch Social Serv Adm, Chicago, IL 60637 USA; [Herrenkohl, Todd I.; Catalano, Richard F.] Univ Washington, Sch Social Work, Social Dev Res Grp, Seattle, WA 98195 USA; [Toumbourou, John W.] Deakin Univ, Sch Psychol, Geelong, Vic 3217, Australia; [Toumbourou, John W.] Murdoch Childrens Res Inst, Ctr Adolescent Hlth, Parkville, Vic, Australia                                                                                                                                                                                                                     \n",
       "\n",
       "                                                                                                                                                                                                                                                                                                                                                                                                                                                  Affiliations  \\\n",
       "0  US Department of Veterans Affairs; Veterans Health Administration (VHA); VA San Diego Healthcare System; University of California System; University of California San Diego; University of California System; University of California San Diego; University of California System; University of California San Diego; California State University System; San Diego State University; University of California System; University of California San Diego   \n",
       "1  University of Delaware; National Taiwan University; University of North Dakota Grand Forks; Keele University; National Taipei University; National Cheng Kung University; National Cheng Kung University Hospital; National Taiwan University                                                                                                                                                                                                                 \n",
       "2  Columbia University; New York State Psychiatry Institute; University of Michigan System; University of Michigan                                                                                                                                                                                                                                                                                                                                               \n",
       "3  Institute of Psychiatry & Neurology                                                                                                                                                                                                                                                                                                                                                                                                                           \n",
       "4  University of Chicago; University of Washington; University of Washington Seattle; Deakin University; Murdoch Children's Research Institute                                                                                                                                                                                                                                                                                                                   \n",
       "\n",
       "                                                                                                                                    Reprint Addresses  \\\n",
       "0  Brown, SA (corresponding author), Univ Calif San Diego, Vet Affairs San Diego Healthcare Syst, 9500 Gilman Dr MC 0109, San Diego, CA 92093 USA.      \n",
       "1  Shen, ACT (corresponding author), Natl Taiwan Univ, Dept Social Work, 1 Sec 4 Roosevelt Rd, Taipei 106, Taiwan.                                      \n",
       "2  Elkington, KS (corresponding author), Columbia Univ, HIV Ctr Clin & Behav Studies, 1051 Riverside Dr 15, New York, NY 10032 USA.                     \n",
       "3  Bobrowski, KJ (corresponding author), Inst Psychiat & Neurol, Youth Prevent Unit Pro M, Publ Hlth Dept, Ul Sobieskiego 9, PL-02957 Warsaw, Poland.   \n",
       "4  Choi, Y (corresponding author), Univ Chicago, Sch Social Serv Adm, 969 E 60th St, Chicago, IL 60637 USA.                                             \n",
       "\n",
       "                                                                                                                                       Email Addresses  \\\n",
       "0  sanbrown@ucsd.edu                                                                                                                                     \n",
       "1  chiaoyu@udel.edu; acshen@ntu.edu.tw; yiping66@gmail.com; soarhuang@gmail.com; hswei@mail.ntpu.edu.tw; juiying@mail.ncku.edu.tw; hwahl013@ntu.edu.tw   \n",
       "2  ke2143@columbia.edu                                                                                                                                   \n",
       "3  kbob@ipin.edu.pl                                                                                                                                      \n",
       "4  yoonsun@uchicago.edu                                                                                                                                  \n",
       "\n",
       "                                                 Researcher Ids  \\\n",
       "0  Brown, Sandra A/S-8789-2019                                    \n",
       "1  SHEN, CHIUNG-TAO/M-1762-2018                                   \n",
       "2  Bauermeister, Jose/X-8960-2018                                 \n",
       "3  Pisarska, Agnieszka/HSG-2686-2023; Greń, Jakub/AAO-7999-2021   \n",
       "4  Toumbourou, John W/W-8632-2018                                 \n",
       "\n",
       "                                                                      ORCIDs  \\\n",
       "0  Anderson, Kristen/0000-0002-3930-1324                                       \n",
       "1  SHEN, CHIUNG-TAO/0000-0002-5865-9524; Hwa, Hsiao-Lin/0000-0002-8094-1163    \n",
       "2  Bauermeister, Jose/0000-0002-9276-2306                                      \n",
       "3  Pisarska, Agnieszka/0000-0001-5539-4615;                                    \n",
       "4  Toumbourou, John W/0000-0002-8431-3762; Choi, Yoonsun/0000-0001-5214-5701   \n",
       "\n",
       "                                                                                                                                                                                                                                                                                                                                                           Funding Orgs  \\\n",
       "0  NaN                                                                                                                                                                                                                                                                                                                                                                    \n",
       "1  National Taiwan University Children and Family Research Center-CTBC Charity Foundation [112L9A00405, FR012]                                                                                                                                                                                                                                                            \n",
       "2  NIAAA NIH HHS [R03AA017240, R03 AA017240-01, R03 AA017240] Funding Source: Medline; NIDA NIH HHS [R01 DA007484, R01 DA007484-10A2, R01DA007484] Funding Source: Medline; NIMH NIH HHS [K01MH087242, L30 MH084308, K01 MH087242-01A1, K01 MH089832, P30 MH043520, K01 MH089832-01A1, P30 MH43520, K01 MH087242, K01MH089832, L30 MH084308-02] Funding Source: Medline   \n",
       "3  National Health Program for 2016-2020                                                                                                                                                                                                                                                                                                                                  \n",
       "4  NIAAA NIH HHS [R01AA017188-01, R01 AA017188-01, R01 AA017188] Funding Source: Medline; NICHD NIH HHS [R24 HD042828] Funding Source: Medline; NIDA NIH HHS [R01 DA012140-05, R01 DA012140] Funding Source: Medline                                                                                                                                                      \n",
       "\n",
       "                                                                                                                                                                                                                                                                                                                                                                                                                                                                                                                 Funding Name Preferred  \\\n",
       "0  NaN                                                                                                                                                                                                                                                                                                                                                                                                                                                                                                                                    \n",
       "1  National Taiwan University Children and Family Research Center-CTBC Charity Foundation                                                                                                                                                                                                                                                                                                                                                                                                                                                 \n",
       "2  NIAAA NIH HHS(United States Department of Health & Human ServicesNational Institutes of Health (NIH) - USANIH National Institute on Alcohol Abuse & Alcoholism (NIAAA)); NIDA NIH HHS(United States Department of Health & Human ServicesNational Institutes of Health (NIH) - USANIH National Institute on Drug Abuse (NIDA)); NIMH NIH HHS(United States Department of Health & Human ServicesNational Institutes of Health (NIH) - USANIH National Institute of Mental Health (NIMH))                                               \n",
       "3  National Health Program for 2016-2020                                                                                                                                                                                                                                                                                                                                                                                                                                                                                                  \n",
       "4  NIAAA NIH HHS(United States Department of Health & Human ServicesNational Institutes of Health (NIH) - USANIH National Institute on Alcohol Abuse & Alcoholism (NIAAA)); NICHD NIH HHS(United States Department of Health & Human ServicesNational Institutes of Health (NIH) - USANIH Eunice Kennedy Shriver National Institute of Child Health & Human Development (NICHD)); NIDA NIH HHS(United States Department of Health & Human ServicesNational Institutes of Health (NIH) - USANIH National Institute on Drug Abuse (NIDA))   \n",
       "\n",
       "                                                                                                                                                              Funding Text  \\\n",
       "0  NaN                                                                                                                                                                       \n",
       "1  This study was funded by the National Taiwan University Children and Family Research Center sponsored by the CTBC Charity Foundation (Grant number:112L9A00405, FR012).   \n",
       "2  NaN                                                                                                                                                                       \n",
       "3  The article was prepared within the frame of the research project financed by the National Health Program for 2016-2020                                                   \n",
       "4  NaN                                                                                                                                                                       \n",
       "\n",
       "   Cited References  Cited Reference Count  Times Cited, WoS Core  \\\n",
       "0 NaN                52                     36                      \n",
       "1 NaN                36                     0                       \n",
       "2 NaN                78                     75                      \n",
       "3 NaN                50                     5                       \n",
       "4 NaN                46                     39                      \n",
       "\n",
       "   Times Cited, All Databases  180 Day Usage Count  Since 2013 Usage Count  \\\n",
       "0  47                          1                    14                       \n",
       "1  0                           10                   10                       \n",
       "2  107                         3                    28                       \n",
       "3  6                           0                    6                        \n",
       "4  49                          0                    19                       \n",
       "\n",
       "                                              Publisher Publisher City  \\\n",
       "0  ELSEVIER IRELAND LTD                                  CLARE           \n",
       "1  SPRINGER                                              NEW YORK        \n",
       "2  ACADEMIC PRESS LTD- ELSEVIER SCIENCE LTD              LONDON          \n",
       "3  INST PSYCHIATRY & NEUROLOGY, DEPT STUDIES ALCOHOLISM  WARSAW          \n",
       "4  SPRINGER/PLENUM PUBLISHERS                            NEW YORK        \n",
       "\n",
       "                                                               Publisher Address  \\\n",
       "0  ELSEVIER HOUSE, BROOKVALE PLAZA, EAST PARK SHANNON, CO, CLARE, 00000, IRELAND   \n",
       "1  ONE NEW YORK PLAZA, SUITE 4600, NEW YORK, NY, UNITED STATES                     \n",
       "2  24-28 OVAL RD, LONDON NW1 7DX, ENGLAND                                          \n",
       "3  AL SOBIESKIEGO 9, WARSAW, 02957, POLAND                                         \n",
       "4  233 SPRING ST, NEW YORK, NY 10013 USA                                           \n",
       "\n",
       "        ISSN      eISSN ISBN  Journal Abbreviation  \\\n",
       "0  0376-8716  1879-0046  NaN  DRUG ALCOHOL DEPEN     \n",
       "1  1557-1874  1557-1882  NaN  INT J MENT HEALTH AD   \n",
       "2  0140-1971  1095-9254  NaN  J ADOLESCENCE          \n",
       "3  0867-4361  1689-3530  NaN  ALKOHOL NARKOM         \n",
       "4  0047-2891  1573-6601  NaN  J YOUTH ADOLESCENCE    \n",
       "\n",
       "        Journal ISO Abbreviation Publication Date  Publication Year Volume  \\\n",
       "0  Drug Alcohol Depend.           APR 17           2007              88.0    \n",
       "1  Int. J. Mental Health Addict.  2023 OCT 20      2023              NaN     \n",
       "2  J. Adolesc.                    OCT              2011              34.0    \n",
       "3  Alkohol. Narkom.               NaN              2019              32.0    \n",
       "4  J. Youth Adolesc.              JUL              2012              41.0    \n",
       "\n",
       "  Issue Part Number Supplement Special Issue  Meeting Abstract Start Page  \\\n",
       "0  1     NaN         NaN        NaN          NaN                42          \n",
       "1  NaN   NaN         NaN        NaN          NaN                NaN         \n",
       "2  5     NaN         NaN        NaN          NaN                1035        \n",
       "3  4     NaN         NaN        NaN          NaN                317         \n",
       "4  7     NaN         NaN        NaN          NaN                847         \n",
       "\n",
       "  End Page Article Number                                DOI  DOI Link  \\\n",
       "0  48       NaN            10.1016/j.drugalcdep.2006.09.014   0.0        \n",
       "1  NaN      NaN            10.1007/s11469-023-01177-w         0.0        \n",
       "2  1047     NaN            10.1016/j.adolescence.2010.11.004  0.0        \n",
       "3  335      NaN            10.5114/ain.2019.94025             0.0        \n",
       "4  862      NaN            10.1007/s10964-012-9750-2          0.0        \n",
       "\n",
       "  Book DOI Early Access Date  Number of Pages  \\\n",
       "0  NaN      NaN               7                 \n",
       "1  NaN      OCT 2023          13                \n",
       "2  NaN      NaN               13                \n",
       "3  NaN      NaN               19                \n",
       "4  NaN      NaN               16                \n",
       "\n",
       "                                      WoS Categories  \\\n",
       "0  Substance Abuse; Psychiatry                         \n",
       "1  Psychology, Clinical; Substance Abuse; Psychiatry   \n",
       "2  Psychology, Developmental                           \n",
       "3  Substance Abuse                                     \n",
       "4  Psychology, Developmental                           \n",
       "\n",
       "                                                                   Web of Science Index  \\\n",
       "0  Science Citation Index Expanded (SCI-EXPANDED); Social Science Citation Index (SSCI)   \n",
       "1  Science Citation Index Expanded (SCI-EXPANDED); Social Science Citation Index (SSCI)   \n",
       "2  Social Science Citation Index (SSCI)                                                   \n",
       "3  Emerging Sources Citation Index (ESCI)                                                 \n",
       "4  Social Science Citation Index (SSCI)                                                   \n",
       "\n",
       "                            Research Areas IDS Number   Pubmed Id  \\\n",
       "0  Substance Abuse; Psychiatry              156TM      17092659.0   \n",
       "1  Psychology; Substance Abuse; Psychiatry  U9OK2     NaN           \n",
       "2  Psychology                               834GX      21159374.0   \n",
       "3  Substance Abuse                          LK1NL     NaN           \n",
       "4  Psychology                               958KR      22395776.0   \n",
       "\n",
       "                  Open Access Designations  Highly Cited Status  \\\n",
       "0  Green Accepted                          NaN                    \n",
       "1  hybrid                                  NaN                    \n",
       "2  Bronze, Green Submitted, Green Accepted NaN                    \n",
       "3  gold                                    NaN                    \n",
       "4  Green Accepted                          NaN                    \n",
       "\n",
       "   Hot Paper Status Date of Export   UT (Unique WOS ID)  Web of Science Record  \n",
       "0 NaN                2024-03-27     WOS:000245672800006  0                      \n",
       "1 NaN                2024-03-27     WOS:001088025400001  0                      \n",
       "2 NaN                2024-03-27     WOS:000295948900021  0                      \n",
       "3 NaN                2024-03-27     WOS:000530625500005  0                      \n",
       "4 NaN                2024-03-27     WOS:000305235900003  0                      "
      ]
     },
     "execution_count": 63,
     "metadata": {},
     "output_type": "execute_result"
    }
   ],
   "source": [
    "art = articles\n",
    "art.head()"
   ]
  },
  {
   "cell_type": "code",
   "execution_count": 64,
   "metadata": {},
   "outputs": [
    {
     "data": {
      "text/html": [
       "<div>\n",
       "<style scoped>\n",
       "    .dataframe tbody tr th:only-of-type {\n",
       "        vertical-align: middle;\n",
       "    }\n",
       "\n",
       "    .dataframe tbody tr th {\n",
       "        vertical-align: top;\n",
       "    }\n",
       "\n",
       "    .dataframe thead th {\n",
       "        text-align: right;\n",
       "    }\n",
       "</style>\n",
       "<table border=\"1\" class=\"dataframe\">\n",
       "  <thead>\n",
       "    <tr style=\"text-align: right;\">\n",
       "      <th></th>\n",
       "      <th>Publication Type</th>\n",
       "      <th>Authors</th>\n",
       "      <th>Book Authors</th>\n",
       "      <th>Book Editors</th>\n",
       "      <th>Book Group Authors</th>\n",
       "      <th>Author Full Names</th>\n",
       "      <th>Book Author Full Names</th>\n",
       "      <th>Group Authors</th>\n",
       "      <th>Article Title</th>\n",
       "      <th>Source Title</th>\n",
       "      <th>Book Series Title</th>\n",
       "      <th>Book Series Subtitle</th>\n",
       "      <th>Language</th>\n",
       "      <th>Document Type</th>\n",
       "      <th>Conference Title</th>\n",
       "      <th>Conference Date</th>\n",
       "      <th>Conference Location</th>\n",
       "      <th>Conference Sponsor</th>\n",
       "      <th>Conference Host</th>\n",
       "      <th>Author Keywords</th>\n",
       "      <th>Keywords Plus</th>\n",
       "      <th>Abstract</th>\n",
       "      <th>Addresses</th>\n",
       "      <th>Affiliations</th>\n",
       "      <th>Reprint Addresses</th>\n",
       "      <th>Email Addresses</th>\n",
       "      <th>Researcher Ids</th>\n",
       "      <th>ORCIDs</th>\n",
       "      <th>Funding Orgs</th>\n",
       "      <th>Funding Name Preferred</th>\n",
       "      <th>Funding Text</th>\n",
       "      <th>Cited References</th>\n",
       "      <th>Cited Reference Count</th>\n",
       "      <th>Times Cited, WoS Core</th>\n",
       "      <th>Times Cited, All Databases</th>\n",
       "      <th>180 Day Usage Count</th>\n",
       "      <th>Since 2013 Usage Count</th>\n",
       "      <th>Publisher</th>\n",
       "      <th>Publisher City</th>\n",
       "      <th>Publisher Address</th>\n",
       "      <th>ISSN</th>\n",
       "      <th>eISSN</th>\n",
       "      <th>ISBN</th>\n",
       "      <th>Journal Abbreviation</th>\n",
       "      <th>Journal ISO Abbreviation</th>\n",
       "      <th>Publication Date</th>\n",
       "      <th>Publication Year</th>\n",
       "      <th>Volume</th>\n",
       "      <th>Issue</th>\n",
       "      <th>Part Number</th>\n",
       "      <th>Supplement</th>\n",
       "      <th>Special Issue</th>\n",
       "      <th>Meeting Abstract</th>\n",
       "      <th>Start Page</th>\n",
       "      <th>End Page</th>\n",
       "      <th>Article Number</th>\n",
       "      <th>DOI</th>\n",
       "      <th>DOI Link</th>\n",
       "      <th>Book DOI</th>\n",
       "      <th>Early Access Date</th>\n",
       "      <th>Number of Pages</th>\n",
       "      <th>WoS Categories</th>\n",
       "      <th>Web of Science Index</th>\n",
       "      <th>Research Areas</th>\n",
       "      <th>IDS Number</th>\n",
       "      <th>Pubmed Id</th>\n",
       "      <th>Open Access Designations</th>\n",
       "      <th>Highly Cited Status</th>\n",
       "      <th>Hot Paper Status</th>\n",
       "      <th>Date of Export</th>\n",
       "      <th>UT (Unique WOS ID)</th>\n",
       "      <th>Web of Science Record</th>\n",
       "      <th>text</th>\n",
       "    </tr>\n",
       "  </thead>\n",
       "  <tbody>\n",
       "    <tr>\n",
       "      <th>0</th>\n",
       "      <td>J</td>\n",
       "      <td>Anderson, KG; Ramo, DE; Schulte, MT; Cummins, K; Brown, SA</td>\n",
       "      <td>NaN</td>\n",
       "      <td>NaN</td>\n",
       "      <td>NaN</td>\n",
       "      <td>Anderson, Kristen G.; Ramo, Danielle E.; Schulte, Marya T.; Cummins, Kevin; Brown, Sandra A.</td>\n",
       "      <td>NaN</td>\n",
       "      <td>NaN</td>\n",
       "      <td>Substance use treatment outcomes for youth: Integrating personal and environmental predictors</td>\n",
       "      <td>DRUG AND ALCOHOL DEPENDENCE</td>\n",
       "      <td>NaN</td>\n",
       "      <td>NaN</td>\n",
       "      <td>English</td>\n",
       "      <td>Article</td>\n",
       "      <td>NaN</td>\n",
       "      <td>NaN</td>\n",
       "      <td>NaN</td>\n",
       "      <td>NaN</td>\n",
       "      <td>NaN</td>\n",
       "      <td>substance use; treatment; adolescents</td>\n",
       "      <td>DIAGNOSTIC INTERVIEW SCHEDULE; DRUG-ABUSE TREATMENT; ADOLESCENT ALCOHOL; MULTIPLE IMPUTATION; PSYCHIATRIC-DISORDERS; RATING-SCALE; RELIABILITY; EXPECTANCY; DRINKING; DEPENDENCE</td>\n",
       "      <td>This investigation examined personal and environmental predictors of substance treatment outcomes in youth. A 424 adolescents (M=15.9 years, S.D. = 1.3) completed comprehensive assessments, including substance use, environmental factors (e.g., family history, social supports), and person-centered variables (e.g., Axis I diagnosis, motivation, self-esteem), at study intake and throughout the year following inpatient treatment. Youth treatment outcomes were assessed by relapse status (abstaining, minor relapse, major relapse) and DSM-IV dependence symptoms at 1 year. Relapse status was predicted by demographic (age), environmental (social supports), and person-centered factors (diagnosis) while dependence symptoms were best predicted by substance use variables alone. Consideration of the general and specific nature of risk and protection within the adolescent developmental context were explored. (c) 2006 Published by Elsevier Ireland Ltd.</td>\n",
       "      <td>Univ Calif San Diego, Vet Affairs San Diego Healthcare Syst, San Diego, CA 92093 USA; Univ Calif San Diego, Dept Psychiat &amp; Psychol, San Diego, CA 92093 USA; Univ Calif San Diego, SDSU, Joint Doctoral Program Clin Psychol, San Diego, CA 92093 USA; Univ Calif San Diego, Dept Psychol, San Diego, CA 92093 USA</td>\n",
       "      <td>US Department of Veterans Affairs; Veterans Health Administration (VHA); VA San Diego Healthcare System; University of California System; University of California San Diego; University of California System; University of California San Diego; University of California System; University of California San Diego; California State University System; San Diego State University; University of California System; University of California San Diego</td>\n",
       "      <td>Brown, SA (corresponding author), Univ Calif San Diego, Vet Affairs San Diego Healthcare Syst, 9500 Gilman Dr MC 0109, San Diego, CA 92093 USA.</td>\n",
       "      <td>sanbrown@ucsd.edu</td>\n",
       "      <td>Brown, Sandra A/S-8789-2019</td>\n",
       "      <td>Anderson, Kristen/0000-0002-3930-1324</td>\n",
       "      <td>NaN</td>\n",
       "      <td>NaN</td>\n",
       "      <td>NaN</td>\n",
       "      <td>NaN</td>\n",
       "      <td>52</td>\n",
       "      <td>36</td>\n",
       "      <td>47</td>\n",
       "      <td>1</td>\n",
       "      <td>14</td>\n",
       "      <td>ELSEVIER IRELAND LTD</td>\n",
       "      <td>CLARE</td>\n",
       "      <td>ELSEVIER HOUSE, BROOKVALE PLAZA, EAST PARK SHANNON, CO, CLARE, 00000, IRELAND</td>\n",
       "      <td>0376-8716</td>\n",
       "      <td>1879-0046</td>\n",
       "      <td>NaN</td>\n",
       "      <td>DRUG ALCOHOL DEPEN</td>\n",
       "      <td>Drug Alcohol Depend.</td>\n",
       "      <td>APR 17</td>\n",
       "      <td>2007</td>\n",
       "      <td>88.0</td>\n",
       "      <td>1</td>\n",
       "      <td>NaN</td>\n",
       "      <td>NaN</td>\n",
       "      <td>NaN</td>\n",
       "      <td>NaN</td>\n",
       "      <td>42</td>\n",
       "      <td>48</td>\n",
       "      <td>NaN</td>\n",
       "      <td>10.1016/j.drugalcdep.2006.09.014</td>\n",
       "      <td>0.0</td>\n",
       "      <td>NaN</td>\n",
       "      <td>NaN</td>\n",
       "      <td>7</td>\n",
       "      <td>Substance Abuse; Psychiatry</td>\n",
       "      <td>Science Citation Index Expanded (SCI-EXPANDED); Social Science Citation Index (SSCI)</td>\n",
       "      <td>Substance Abuse; Psychiatry</td>\n",
       "      <td>156TM</td>\n",
       "      <td>17092659.0</td>\n",
       "      <td>Green Accepted</td>\n",
       "      <td>NaN</td>\n",
       "      <td>NaN</td>\n",
       "      <td>2024-03-27</td>\n",
       "      <td>WOS:000245672800006</td>\n",
       "      <td>0</td>\n",
       "      <td>Substance use treatment outcomes for youth: Integrating personal and environmental predictors This investigation examined personal and environmental predictors of substance treatment outcomes in youth. A 424 adolescents (M=15.9 years, S.D. = 1.3) completed comprehensive assessments, including substance use, environmental factors (e.g., family history, social supports), and person-centered variables (e.g., Axis I diagnosis, motivation, self-esteem), at study intake and throughout the year following inpatient treatment. Youth treatment outcomes were assessed by relapse status (abstaining, minor relapse, major relapse) and DSM-IV dependence symptoms at 1 year. Relapse status was predicted by demographic (age), environmental (social supports), and person-centered factors (diagnosis) while dependence symptoms were best predicted by substance use variables alone. Consideration of the general and specific nature of risk and protection within the adolescent developmental context were explored. (c) 2006 Published by Elsevier Ireland Ltd.</td>\n",
       "    </tr>\n",
       "    <tr>\n",
       "      <th>1</th>\n",
       "      <td>J</td>\n",
       "      <td>Yang, CY; Shen, ACT; Hsieh, YP; Huang, CY; Wei, HS; Feng, JY; Hwa, HL</td>\n",
       "      <td>NaN</td>\n",
       "      <td>NaN</td>\n",
       "      <td>NaN</td>\n",
       "      <td>Yang, Chiao-Yu; Shen, April Chiung-Tao; Hsieh, Yi-Ping; Huang, Ching-Yu; Wei, Hsi-Sheng; Feng, Jui-Ying; Hwa, Hsiao-Lin</td>\n",
       "      <td>NaN</td>\n",
       "      <td>NaN</td>\n",
       "      <td>Parent-Youth Relationships and Youth Alcohol Use: The Moderating Role of Parental Alcohol Use</td>\n",
       "      <td>INTERNATIONAL JOURNAL OF MENTAL HEALTH AND ADDICTION</td>\n",
       "      <td>NaN</td>\n",
       "      <td>NaN</td>\n",
       "      <td>English</td>\n",
       "      <td>Article; Early Access</td>\n",
       "      <td>NaN</td>\n",
       "      <td>NaN</td>\n",
       "      <td>NaN</td>\n",
       "      <td>NaN</td>\n",
       "      <td>NaN</td>\n",
       "      <td>Youth alcohol use; Parent-youth relationships; Parental alcohol use; Hierarchical logistic regression; Taiwan</td>\n",
       "      <td>SUBSTANCE USE; DRINKING ONSET; USE DISORDERS; ADOLESCENTS; SOCIALIZATION; ASSOCIATION; PREDICTORS; CONFLICT; BEHAVIOR</td>\n",
       "      <td>Previous studies have shown that strong parent-youth relationships serve as a protective factor inhibiting early alcohol use onset among youth, while parental alcohol use as a risk factor. However, little is known about the moderating effect of parental alcohol use on the relationship between parent-youth relationships and youth alcohol use. Using a nationally representative sample of 2,667 junior high school students entering eighth grade (aged 14 to 15) in Taiwan, this study examined the moderating role of parent use of alcohol on the relationship between parent-youth relationships and youth alcohol use. Results show that parent-youth relationship only remains a protective factor for youths whose parents do not drink alcohol; parent-youth relationship increases the likelihood of youth alcohol use if the parents use alcohol. Results suggest that parents and practitioners aiming to prevent early alcohol use onset among junior high school students should be aware of the potential influence of parental alcohol use behaviors and educate youths to assess their health behaviors regardless of their parents' alcohol use behaviors.</td>\n",
       "      <td>[Yang, Chiao-Yu] Univ Delaware, Dept Sociol &amp; Criminal Justice, Newark, DE USA; [Shen, April Chiung-Tao] Natl Taiwan Univ, Dept Social Work, 1 Sec 4 Roosevelt Rd, Taipei 106, Taiwan; [Hsieh, Yi-Ping] Univ North Dakota, Dept Social Work, Grand Forks, ND 58202 USA; [Huang, Ching-Yu] Keele Univ, Sch Psychol, Staffordshire ST5 5BG, England; [Wei, Hsi-Sheng] Natl Taipei Univ, Dept Social Work, Taipei, Taiwan; [Feng, Jui-Ying] Natl Cheng Kung Univ, Natl Cheng Kung Univ Hosp, Coll Med, Dept Nursing, Tainan, Taiwan; [Hwa, Hsiao-Lin] Natl Taiwan Univ, Dept &amp; Grad Inst Forens Med, Taipei, Taiwan</td>\n",
       "      <td>University of Delaware; National Taiwan University; University of North Dakota Grand Forks; Keele University; National Taipei University; National Cheng Kung University; National Cheng Kung University Hospital; National Taiwan University</td>\n",
       "      <td>Shen, ACT (corresponding author), Natl Taiwan Univ, Dept Social Work, 1 Sec 4 Roosevelt Rd, Taipei 106, Taiwan.</td>\n",
       "      <td>chiaoyu@udel.edu; acshen@ntu.edu.tw; yiping66@gmail.com; soarhuang@gmail.com; hswei@mail.ntpu.edu.tw; juiying@mail.ncku.edu.tw; hwahl013@ntu.edu.tw</td>\n",
       "      <td>SHEN, CHIUNG-TAO/M-1762-2018</td>\n",
       "      <td>SHEN, CHIUNG-TAO/0000-0002-5865-9524; Hwa, Hsiao-Lin/0000-0002-8094-1163</td>\n",
       "      <td>National Taiwan University Children and Family Research Center-CTBC Charity Foundation [112L9A00405, FR012]</td>\n",
       "      <td>National Taiwan University Children and Family Research Center-CTBC Charity Foundation</td>\n",
       "      <td>This study was funded by the National Taiwan University Children and Family Research Center sponsored by the CTBC Charity Foundation (Grant number:112L9A00405, FR012).</td>\n",
       "      <td>NaN</td>\n",
       "      <td>36</td>\n",
       "      <td>0</td>\n",
       "      <td>0</td>\n",
       "      <td>10</td>\n",
       "      <td>10</td>\n",
       "      <td>SPRINGER</td>\n",
       "      <td>NEW YORK</td>\n",
       "      <td>ONE NEW YORK PLAZA, SUITE 4600, NEW YORK, NY, UNITED STATES</td>\n",
       "      <td>1557-1874</td>\n",
       "      <td>1557-1882</td>\n",
       "      <td>NaN</td>\n",
       "      <td>INT J MENT HEALTH AD</td>\n",
       "      <td>Int. J. Mental Health Addict.</td>\n",
       "      <td>2023 OCT 20</td>\n",
       "      <td>2023</td>\n",
       "      <td>NaN</td>\n",
       "      <td>NaN</td>\n",
       "      <td>NaN</td>\n",
       "      <td>NaN</td>\n",
       "      <td>NaN</td>\n",
       "      <td>NaN</td>\n",
       "      <td>NaN</td>\n",
       "      <td>NaN</td>\n",
       "      <td>NaN</td>\n",
       "      <td>10.1007/s11469-023-01177-w</td>\n",
       "      <td>0.0</td>\n",
       "      <td>NaN</td>\n",
       "      <td>OCT 2023</td>\n",
       "      <td>13</td>\n",
       "      <td>Psychology, Clinical; Substance Abuse; Psychiatry</td>\n",
       "      <td>Science Citation Index Expanded (SCI-EXPANDED); Social Science Citation Index (SSCI)</td>\n",
       "      <td>Psychology; Substance Abuse; Psychiatry</td>\n",
       "      <td>U9OK2</td>\n",
       "      <td>NaN</td>\n",
       "      <td>hybrid</td>\n",
       "      <td>NaN</td>\n",
       "      <td>NaN</td>\n",
       "      <td>2024-03-27</td>\n",
       "      <td>WOS:001088025400001</td>\n",
       "      <td>0</td>\n",
       "      <td>Parent-Youth Relationships and Youth Alcohol Use: The Moderating Role of Parental Alcohol Use Previous studies have shown that strong parent-youth relationships serve as a protective factor inhibiting early alcohol use onset among youth, while parental alcohol use as a risk factor. However, little is known about the moderating effect of parental alcohol use on the relationship between parent-youth relationships and youth alcohol use. Using a nationally representative sample of 2,667 junior high school students entering eighth grade (aged 14 to 15) in Taiwan, this study examined the moderating role of parent use of alcohol on the relationship between parent-youth relationships and youth alcohol use. Results show that parent-youth relationship only remains a protective factor for youths whose parents do not drink alcohol; parent-youth relationship increases the likelihood of youth alcohol use if the parents use alcohol. Results suggest that parents and practitioners aiming to prevent early alcohol use onset among junior high school students should be aware of the potential influence of parental alcohol use behaviors and educate youths to assess their health behaviors regardless of their parents' alcohol use behaviors.</td>\n",
       "    </tr>\n",
       "  </tbody>\n",
       "</table>\n",
       "</div>"
      ],
      "text/plain": [
       "  Publication Type  \\\n",
       "0  J                 \n",
       "1  J                 \n",
       "\n",
       "                                                                 Authors  \\\n",
       "0  Anderson, KG; Ramo, DE; Schulte, MT; Cummins, K; Brown, SA              \n",
       "1  Yang, CY; Shen, ACT; Hsieh, YP; Huang, CY; Wei, HS; Feng, JY; Hwa, HL   \n",
       "\n",
       "   Book Authors Book Editors  Book Group Authors  \\\n",
       "0 NaN            NaN         NaN                   \n",
       "1 NaN            NaN         NaN                   \n",
       "\n",
       "                                                                                                         Author Full Names  \\\n",
       "0  Anderson, Kristen G.; Ramo, Danielle E.; Schulte, Marya T.; Cummins, Kevin; Brown, Sandra A.                              \n",
       "1  Yang, Chiao-Yu; Shen, April Chiung-Tao; Hsieh, Yi-Ping; Huang, Ching-Yu; Wei, Hsi-Sheng; Feng, Jui-Ying; Hwa, Hsiao-Lin   \n",
       "\n",
       "   Book Author Full Names Group Authors  \\\n",
       "0 NaN                      NaN            \n",
       "1 NaN                      NaN            \n",
       "\n",
       "                                                                                   Article Title  \\\n",
       "0  Substance use treatment outcomes for youth: Integrating personal and environmental predictors   \n",
       "1  Parent-Youth Relationships and Youth Alcohol Use: The Moderating Role of Parental Alcohol Use   \n",
       "\n",
       "                                           Source Title Book Series Title  \\\n",
       "0  DRUG AND ALCOHOL DEPENDENCE                           NaN                \n",
       "1  INTERNATIONAL JOURNAL OF MENTAL HEALTH AND ADDICTION  NaN                \n",
       "\n",
       "   Book Series Subtitle Language          Document Type Conference Title  \\\n",
       "0 NaN                    English  Article                NaN               \n",
       "1 NaN                    English  Article; Early Access  NaN               \n",
       "\n",
       "  Conference Date Conference Location Conference Sponsor Conference Host  \\\n",
       "0  NaN             NaN                 NaN                NaN              \n",
       "1  NaN             NaN                 NaN                NaN              \n",
       "\n",
       "                                                                                                 Author Keywords  \\\n",
       "0  substance use; treatment; adolescents                                                                           \n",
       "1  Youth alcohol use; Parent-youth relationships; Parental alcohol use; Hierarchical logistic regression; Taiwan   \n",
       "\n",
       "                                                                                                                                                                      Keywords Plus  \\\n",
       "0  DIAGNOSTIC INTERVIEW SCHEDULE; DRUG-ABUSE TREATMENT; ADOLESCENT ALCOHOL; MULTIPLE IMPUTATION; PSYCHIATRIC-DISORDERS; RATING-SCALE; RELIABILITY; EXPECTANCY; DRINKING; DEPENDENCE   \n",
       "1  SUBSTANCE USE; DRINKING ONSET; USE DISORDERS; ADOLESCENTS; SOCIALIZATION; ASSOCIATION; PREDICTORS; CONFLICT; BEHAVIOR                                                              \n",
       "\n",
       "                                                                                                                                                                                                                                                                                                                                                                                                                                                                                                                                                                                                                                                                                                                                                                                                                                                                                                                                                                                                                                                                                                                                                                                Abstract  \\\n",
       "0  This investigation examined personal and environmental predictors of substance treatment outcomes in youth. A 424 adolescents (M=15.9 years, S.D. = 1.3) completed comprehensive assessments, including substance use, environmental factors (e.g., family history, social supports), and person-centered variables (e.g., Axis I diagnosis, motivation, self-esteem), at study intake and throughout the year following inpatient treatment. Youth treatment outcomes were assessed by relapse status (abstaining, minor relapse, major relapse) and DSM-IV dependence symptoms at 1 year. Relapse status was predicted by demographic (age), environmental (social supports), and person-centered factors (diagnosis) while dependence symptoms were best predicted by substance use variables alone. Consideration of the general and specific nature of risk and protection within the adolescent developmental context were explored. (c) 2006 Published by Elsevier Ireland Ltd.                                                                                                                                                                                                  \n",
       "1  Previous studies have shown that strong parent-youth relationships serve as a protective factor inhibiting early alcohol use onset among youth, while parental alcohol use as a risk factor. However, little is known about the moderating effect of parental alcohol use on the relationship between parent-youth relationships and youth alcohol use. Using a nationally representative sample of 2,667 junior high school students entering eighth grade (aged 14 to 15) in Taiwan, this study examined the moderating role of parent use of alcohol on the relationship between parent-youth relationships and youth alcohol use. Results show that parent-youth relationship only remains a protective factor for youths whose parents do not drink alcohol; parent-youth relationship increases the likelihood of youth alcohol use if the parents use alcohol. Results suggest that parents and practitioners aiming to prevent early alcohol use onset among junior high school students should be aware of the potential influence of parental alcohol use behaviors and educate youths to assess their health behaviors regardless of their parents' alcohol use behaviors.   \n",
       "\n",
       "                                                                                                                                                                                                                                                                                                                                                                                                                                                                                                                                                                                                          Addresses  \\\n",
       "0  Univ Calif San Diego, Vet Affairs San Diego Healthcare Syst, San Diego, CA 92093 USA; Univ Calif San Diego, Dept Psychiat & Psychol, San Diego, CA 92093 USA; Univ Calif San Diego, SDSU, Joint Doctoral Program Clin Psychol, San Diego, CA 92093 USA; Univ Calif San Diego, Dept Psychol, San Diego, CA 92093 USA                                                                                                                                                                                                                                                                                                \n",
       "1  [Yang, Chiao-Yu] Univ Delaware, Dept Sociol & Criminal Justice, Newark, DE USA; [Shen, April Chiung-Tao] Natl Taiwan Univ, Dept Social Work, 1 Sec 4 Roosevelt Rd, Taipei 106, Taiwan; [Hsieh, Yi-Ping] Univ North Dakota, Dept Social Work, Grand Forks, ND 58202 USA; [Huang, Ching-Yu] Keele Univ, Sch Psychol, Staffordshire ST5 5BG, England; [Wei, Hsi-Sheng] Natl Taipei Univ, Dept Social Work, Taipei, Taiwan; [Feng, Jui-Ying] Natl Cheng Kung Univ, Natl Cheng Kung Univ Hosp, Coll Med, Dept Nursing, Tainan, Taiwan; [Hwa, Hsiao-Lin] Natl Taiwan Univ, Dept & Grad Inst Forens Med, Taipei, Taiwan   \n",
       "\n",
       "                                                                                                                                                                                                                                                                                                                                                                                                                                                  Affiliations  \\\n",
       "0  US Department of Veterans Affairs; Veterans Health Administration (VHA); VA San Diego Healthcare System; University of California System; University of California San Diego; University of California System; University of California San Diego; University of California System; University of California San Diego; California State University System; San Diego State University; University of California System; University of California San Diego   \n",
       "1  University of Delaware; National Taiwan University; University of North Dakota Grand Forks; Keele University; National Taipei University; National Cheng Kung University; National Cheng Kung University Hospital; National Taiwan University                                                                                                                                                                                                                 \n",
       "\n",
       "                                                                                                                                 Reprint Addresses  \\\n",
       "0  Brown, SA (corresponding author), Univ Calif San Diego, Vet Affairs San Diego Healthcare Syst, 9500 Gilman Dr MC 0109, San Diego, CA 92093 USA.   \n",
       "1  Shen, ACT (corresponding author), Natl Taiwan Univ, Dept Social Work, 1 Sec 4 Roosevelt Rd, Taipei 106, Taiwan.                                   \n",
       "\n",
       "                                                                                                                                       Email Addresses  \\\n",
       "0  sanbrown@ucsd.edu                                                                                                                                     \n",
       "1  chiaoyu@udel.edu; acshen@ntu.edu.tw; yiping66@gmail.com; soarhuang@gmail.com; hswei@mail.ntpu.edu.tw; juiying@mail.ncku.edu.tw; hwahl013@ntu.edu.tw   \n",
       "\n",
       "                 Researcher Ids  \\\n",
       "0  Brown, Sandra A/S-8789-2019    \n",
       "1  SHEN, CHIUNG-TAO/M-1762-2018   \n",
       "\n",
       "                                                                     ORCIDs  \\\n",
       "0  Anderson, Kristen/0000-0002-3930-1324                                      \n",
       "1  SHEN, CHIUNG-TAO/0000-0002-5865-9524; Hwa, Hsiao-Lin/0000-0002-8094-1163   \n",
       "\n",
       "                                                                                                  Funding Orgs  \\\n",
       "0  NaN                                                                                                           \n",
       "1  National Taiwan University Children and Family Research Center-CTBC Charity Foundation [112L9A00405, FR012]   \n",
       "\n",
       "                                                                   Funding Name Preferred  \\\n",
       "0  NaN                                                                                      \n",
       "1  National Taiwan University Children and Family Research Center-CTBC Charity Foundation   \n",
       "\n",
       "                                                                                                                                                              Funding Text  \\\n",
       "0  NaN                                                                                                                                                                       \n",
       "1  This study was funded by the National Taiwan University Children and Family Research Center sponsored by the CTBC Charity Foundation (Grant number:112L9A00405, FR012).   \n",
       "\n",
       "   Cited References  Cited Reference Count  Times Cited, WoS Core  \\\n",
       "0 NaN                52                     36                      \n",
       "1 NaN                36                     0                       \n",
       "\n",
       "   Times Cited, All Databases  180 Day Usage Count  Since 2013 Usage Count  \\\n",
       "0  47                          1                    14                       \n",
       "1  0                           10                   10                       \n",
       "\n",
       "              Publisher Publisher City  \\\n",
       "0  ELSEVIER IRELAND LTD  CLARE           \n",
       "1  SPRINGER              NEW YORK        \n",
       "\n",
       "                                                               Publisher Address  \\\n",
       "0  ELSEVIER HOUSE, BROOKVALE PLAZA, EAST PARK SHANNON, CO, CLARE, 00000, IRELAND   \n",
       "1  ONE NEW YORK PLAZA, SUITE 4600, NEW YORK, NY, UNITED STATES                     \n",
       "\n",
       "        ISSN      eISSN ISBN  Journal Abbreviation  \\\n",
       "0  0376-8716  1879-0046  NaN  DRUG ALCOHOL DEPEN     \n",
       "1  1557-1874  1557-1882  NaN  INT J MENT HEALTH AD   \n",
       "\n",
       "        Journal ISO Abbreviation Publication Date  Publication Year Volume  \\\n",
       "0  Drug Alcohol Depend.           APR 17           2007              88.0    \n",
       "1  Int. J. Mental Health Addict.  2023 OCT 20      2023              NaN     \n",
       "\n",
       "  Issue Part Number Supplement Special Issue  Meeting Abstract Start Page  \\\n",
       "0  1     NaN         NaN        NaN          NaN                42          \n",
       "1  NaN   NaN         NaN        NaN          NaN                NaN         \n",
       "\n",
       "  End Page Article Number                               DOI  DOI Link  \\\n",
       "0  48       NaN            10.1016/j.drugalcdep.2006.09.014  0.0        \n",
       "1  NaN      NaN            10.1007/s11469-023-01177-w        0.0        \n",
       "\n",
       "  Book DOI Early Access Date  Number of Pages  \\\n",
       "0  NaN      NaN               7                 \n",
       "1  NaN      OCT 2023          13                \n",
       "\n",
       "                                      WoS Categories  \\\n",
       "0  Substance Abuse; Psychiatry                         \n",
       "1  Psychology, Clinical; Substance Abuse; Psychiatry   \n",
       "\n",
       "                                                                   Web of Science Index  \\\n",
       "0  Science Citation Index Expanded (SCI-EXPANDED); Social Science Citation Index (SSCI)   \n",
       "1  Science Citation Index Expanded (SCI-EXPANDED); Social Science Citation Index (SSCI)   \n",
       "\n",
       "                            Research Areas IDS Number   Pubmed Id  \\\n",
       "0  Substance Abuse; Psychiatry              156TM      17092659.0   \n",
       "1  Psychology; Substance Abuse; Psychiatry  U9OK2     NaN           \n",
       "\n",
       "  Open Access Designations  Highly Cited Status  Hot Paper Status  \\\n",
       "0  Green Accepted          NaN                  NaN                 \n",
       "1  hybrid                  NaN                  NaN                 \n",
       "\n",
       "  Date of Export   UT (Unique WOS ID)  Web of Science Record  \\\n",
       "0  2024-03-27     WOS:000245672800006  0                       \n",
       "1  2024-03-27     WOS:001088025400001  0                       \n",
       "\n",
       "                                                                                                                                                                                                                                                                                                                                                                                                                                                                                                                                                                                                                                                                                                                                                                                                                                                                                                                                                                                                                                                                                                                                                                                                                                                                                  text  \n",
       "0  Substance use treatment outcomes for youth: Integrating personal and environmental predictors This investigation examined personal and environmental predictors of substance treatment outcomes in youth. A 424 adolescents (M=15.9 years, S.D. = 1.3) completed comprehensive assessments, including substance use, environmental factors (e.g., family history, social supports), and person-centered variables (e.g., Axis I diagnosis, motivation, self-esteem), at study intake and throughout the year following inpatient treatment. Youth treatment outcomes were assessed by relapse status (abstaining, minor relapse, major relapse) and DSM-IV dependence symptoms at 1 year. Relapse status was predicted by demographic (age), environmental (social supports), and person-centered factors (diagnosis) while dependence symptoms were best predicted by substance use variables alone. Consideration of the general and specific nature of risk and protection within the adolescent developmental context were explored. (c) 2006 Published by Elsevier Ireland Ltd.                                                                                                                                                                                                 \n",
       "1  Parent-Youth Relationships and Youth Alcohol Use: The Moderating Role of Parental Alcohol Use Previous studies have shown that strong parent-youth relationships serve as a protective factor inhibiting early alcohol use onset among youth, while parental alcohol use as a risk factor. However, little is known about the moderating effect of parental alcohol use on the relationship between parent-youth relationships and youth alcohol use. Using a nationally representative sample of 2,667 junior high school students entering eighth grade (aged 14 to 15) in Taiwan, this study examined the moderating role of parent use of alcohol on the relationship between parent-youth relationships and youth alcohol use. Results show that parent-youth relationship only remains a protective factor for youths whose parents do not drink alcohol; parent-youth relationship increases the likelihood of youth alcohol use if the parents use alcohol. Results suggest that parents and practitioners aiming to prevent early alcohol use onset among junior high school students should be aware of the potential influence of parental alcohol use behaviors and educate youths to assess their health behaviors regardless of their parents' alcohol use behaviors.  "
      ]
     },
     "execution_count": 64,
     "metadata": {},
     "output_type": "execute_result"
    }
   ],
   "source": [
    "art['text'] = art['Article Title'].fillna('') + ' ' + art['Abstract'].fillna('')\n",
    "art.head(2)\n"
   ]
  },
  {
   "cell_type": "code",
   "execution_count": 65,
   "metadata": {},
   "outputs": [
    {
     "name": "stderr",
     "output_type": "stream",
     "text": [
      "[nltk_data] Downloading package stopwords to\n",
      "[nltk_data]     C:\\Users\\jcor864\\AppData\\Roaming\\nltk_data...\n",
      "[nltk_data]   Package stopwords is already up-to-date!\n",
      "[nltk_data] Downloading collection 'all'\n",
      "[nltk_data]    | \n",
      "[nltk_data]    | Downloading package abc to\n",
      "[nltk_data]    |     C:\\Users\\jcor864\\AppData\\Roaming\\nltk_data...\n",
      "[nltk_data]    |   Package abc is already up-to-date!\n",
      "[nltk_data]    | Downloading package alpino to\n",
      "[nltk_data]    |     C:\\Users\\jcor864\\AppData\\Roaming\\nltk_data...\n",
      "[nltk_data]    |   Package alpino is already up-to-date!\n",
      "[nltk_data]    | Downloading package averaged_perceptron_tagger to\n",
      "[nltk_data]    |     C:\\Users\\jcor864\\AppData\\Roaming\\nltk_data...\n",
      "[nltk_data]    |   Package averaged_perceptron_tagger is already up-\n",
      "[nltk_data]    |       to-date!\n",
      "[nltk_data]    | Downloading package averaged_perceptron_tagger_ru to\n",
      "[nltk_data]    |     C:\\Users\\jcor864\\AppData\\Roaming\\nltk_data...\n",
      "[nltk_data]    |   Package averaged_perceptron_tagger_ru is already\n",
      "[nltk_data]    |       up-to-date!\n",
      "[nltk_data]    | Downloading package basque_grammars to\n",
      "[nltk_data]    |     C:\\Users\\jcor864\\AppData\\Roaming\\nltk_data...\n",
      "[nltk_data]    |   Package basque_grammars is already up-to-date!\n",
      "[nltk_data]    | Downloading package bcp47 to\n",
      "[nltk_data]    |     C:\\Users\\jcor864\\AppData\\Roaming\\nltk_data...\n",
      "[nltk_data]    |   Package bcp47 is already up-to-date!\n",
      "[nltk_data]    | Downloading package biocreative_ppi to\n",
      "[nltk_data]    |     C:\\Users\\jcor864\\AppData\\Roaming\\nltk_data...\n",
      "[nltk_data]    |   Package biocreative_ppi is already up-to-date!\n",
      "[nltk_data]    | Downloading package bllip_wsj_no_aux to\n",
      "[nltk_data]    |     C:\\Users\\jcor864\\AppData\\Roaming\\nltk_data...\n",
      "[nltk_data]    |   Package bllip_wsj_no_aux is already up-to-date!\n",
      "[nltk_data]    | Downloading package book_grammars to\n",
      "[nltk_data]    |     C:\\Users\\jcor864\\AppData\\Roaming\\nltk_data...\n",
      "[nltk_data]    |   Package book_grammars is already up-to-date!\n",
      "[nltk_data]    | Downloading package brown to\n",
      "[nltk_data]    |     C:\\Users\\jcor864\\AppData\\Roaming\\nltk_data...\n",
      "[nltk_data]    |   Package brown is already up-to-date!\n",
      "[nltk_data]    | Downloading package brown_tei to\n",
      "[nltk_data]    |     C:\\Users\\jcor864\\AppData\\Roaming\\nltk_data...\n",
      "[nltk_data]    |   Package brown_tei is already up-to-date!\n",
      "[nltk_data]    | Downloading package cess_cat to\n",
      "[nltk_data]    |     C:\\Users\\jcor864\\AppData\\Roaming\\nltk_data...\n",
      "[nltk_data]    |   Package cess_cat is already up-to-date!\n",
      "[nltk_data]    | Downloading package cess_esp to\n",
      "[nltk_data]    |     C:\\Users\\jcor864\\AppData\\Roaming\\nltk_data...\n",
      "[nltk_data]    |   Package cess_esp is already up-to-date!\n",
      "[nltk_data]    | Downloading package chat80 to\n",
      "[nltk_data]    |     C:\\Users\\jcor864\\AppData\\Roaming\\nltk_data...\n",
      "[nltk_data]    |   Package chat80 is already up-to-date!\n",
      "[nltk_data]    | Downloading package city_database to\n",
      "[nltk_data]    |     C:\\Users\\jcor864\\AppData\\Roaming\\nltk_data...\n",
      "[nltk_data]    |   Package city_database is already up-to-date!\n",
      "[nltk_data]    | Downloading package cmudict to\n",
      "[nltk_data]    |     C:\\Users\\jcor864\\AppData\\Roaming\\nltk_data...\n",
      "[nltk_data]    |   Package cmudict is already up-to-date!\n",
      "[nltk_data]    | Downloading package comparative_sentences to\n",
      "[nltk_data]    |     C:\\Users\\jcor864\\AppData\\Roaming\\nltk_data...\n",
      "[nltk_data]    |   Package comparative_sentences is already up-to-\n",
      "[nltk_data]    |       date!\n",
      "[nltk_data]    | Downloading package comtrans to\n",
      "[nltk_data]    |     C:\\Users\\jcor864\\AppData\\Roaming\\nltk_data...\n",
      "[nltk_data]    |   Package comtrans is already up-to-date!\n",
      "[nltk_data]    | Downloading package conll2000 to\n",
      "[nltk_data]    |     C:\\Users\\jcor864\\AppData\\Roaming\\nltk_data...\n",
      "[nltk_data]    |   Package conll2000 is already up-to-date!\n",
      "[nltk_data]    | Downloading package conll2002 to\n",
      "[nltk_data]    |     C:\\Users\\jcor864\\AppData\\Roaming\\nltk_data...\n",
      "[nltk_data]    |   Package conll2002 is already up-to-date!\n",
      "[nltk_data]    | Downloading package conll2007 to\n",
      "[nltk_data]    |     C:\\Users\\jcor864\\AppData\\Roaming\\nltk_data...\n",
      "[nltk_data]    |   Package conll2007 is already up-to-date!\n",
      "[nltk_data]    | Downloading package crubadan to\n",
      "[nltk_data]    |     C:\\Users\\jcor864\\AppData\\Roaming\\nltk_data...\n",
      "[nltk_data]    |   Package crubadan is already up-to-date!\n",
      "[nltk_data]    | Downloading package dependency_treebank to\n",
      "[nltk_data]    |     C:\\Users\\jcor864\\AppData\\Roaming\\nltk_data...\n",
      "[nltk_data]    |   Package dependency_treebank is already up-to-date!\n",
      "[nltk_data]    | Downloading package dolch to\n",
      "[nltk_data]    |     C:\\Users\\jcor864\\AppData\\Roaming\\nltk_data...\n",
      "[nltk_data]    |   Package dolch is already up-to-date!\n",
      "[nltk_data]    | Downloading package europarl_raw to\n",
      "[nltk_data]    |     C:\\Users\\jcor864\\AppData\\Roaming\\nltk_data...\n",
      "[nltk_data]    |   Package europarl_raw is already up-to-date!\n",
      "[nltk_data]    | Downloading package extended_omw to\n",
      "[nltk_data]    |     C:\\Users\\jcor864\\AppData\\Roaming\\nltk_data...\n",
      "[nltk_data]    |   Package extended_omw is already up-to-date!\n",
      "[nltk_data]    | Downloading package floresta to\n",
      "[nltk_data]    |     C:\\Users\\jcor864\\AppData\\Roaming\\nltk_data...\n",
      "[nltk_data]    |   Package floresta is already up-to-date!\n",
      "[nltk_data]    | Downloading package framenet_v15 to\n",
      "[nltk_data]    |     C:\\Users\\jcor864\\AppData\\Roaming\\nltk_data...\n",
      "[nltk_data]    |   Package framenet_v15 is already up-to-date!\n",
      "[nltk_data]    | Downloading package framenet_v17 to\n",
      "[nltk_data]    |     C:\\Users\\jcor864\\AppData\\Roaming\\nltk_data...\n",
      "[nltk_data]    |   Package framenet_v17 is already up-to-date!\n",
      "[nltk_data]    | Downloading package gazetteers to\n",
      "[nltk_data]    |     C:\\Users\\jcor864\\AppData\\Roaming\\nltk_data...\n",
      "[nltk_data]    |   Package gazetteers is already up-to-date!\n",
      "[nltk_data]    | Downloading package genesis to\n",
      "[nltk_data]    |     C:\\Users\\jcor864\\AppData\\Roaming\\nltk_data...\n",
      "[nltk_data]    |   Package genesis is already up-to-date!\n",
      "[nltk_data]    | Downloading package gutenberg to\n",
      "[nltk_data]    |     C:\\Users\\jcor864\\AppData\\Roaming\\nltk_data...\n",
      "[nltk_data]    |   Package gutenberg is already up-to-date!\n",
      "[nltk_data]    | Downloading package ieer to\n",
      "[nltk_data]    |     C:\\Users\\jcor864\\AppData\\Roaming\\nltk_data...\n",
      "[nltk_data]    |   Package ieer is already up-to-date!\n",
      "[nltk_data]    | Downloading package inaugural to\n",
      "[nltk_data]    |     C:\\Users\\jcor864\\AppData\\Roaming\\nltk_data...\n",
      "[nltk_data]    |   Package inaugural is already up-to-date!\n",
      "[nltk_data]    | Downloading package indian to\n",
      "[nltk_data]    |     C:\\Users\\jcor864\\AppData\\Roaming\\nltk_data...\n",
      "[nltk_data]    |   Package indian is already up-to-date!\n",
      "[nltk_data]    | Downloading package jeita to\n",
      "[nltk_data]    |     C:\\Users\\jcor864\\AppData\\Roaming\\nltk_data...\n",
      "[nltk_data]    |   Package jeita is already up-to-date!\n",
      "[nltk_data]    | Downloading package kimmo to\n",
      "[nltk_data]    |     C:\\Users\\jcor864\\AppData\\Roaming\\nltk_data...\n",
      "[nltk_data]    |   Package kimmo is already up-to-date!\n",
      "[nltk_data]    | Downloading package knbc to\n",
      "[nltk_data]    |     C:\\Users\\jcor864\\AppData\\Roaming\\nltk_data...\n",
      "[nltk_data]    |   Package knbc is already up-to-date!\n",
      "[nltk_data]    | Downloading package large_grammars to\n",
      "[nltk_data]    |     C:\\Users\\jcor864\\AppData\\Roaming\\nltk_data...\n",
      "[nltk_data]    |   Package large_grammars is already up-to-date!\n",
      "[nltk_data]    | Downloading package lin_thesaurus to\n",
      "[nltk_data]    |     C:\\Users\\jcor864\\AppData\\Roaming\\nltk_data...\n",
      "[nltk_data]    |   Package lin_thesaurus is already up-to-date!\n",
      "[nltk_data]    | Downloading package mac_morpho to\n",
      "[nltk_data]    |     C:\\Users\\jcor864\\AppData\\Roaming\\nltk_data...\n",
      "[nltk_data]    |   Package mac_morpho is already up-to-date!\n",
      "[nltk_data]    | Downloading package machado to\n",
      "[nltk_data]    |     C:\\Users\\jcor864\\AppData\\Roaming\\nltk_data...\n",
      "[nltk_data]    |   Package machado is already up-to-date!\n",
      "[nltk_data]    | Downloading package masc_tagged to\n",
      "[nltk_data]    |     C:\\Users\\jcor864\\AppData\\Roaming\\nltk_data...\n",
      "[nltk_data]    |   Package masc_tagged is already up-to-date!\n",
      "[nltk_data]    | Downloading package maxent_ne_chunker to\n",
      "[nltk_data]    |     C:\\Users\\jcor864\\AppData\\Roaming\\nltk_data...\n",
      "[nltk_data]    |   Package maxent_ne_chunker is already up-to-date!\n",
      "[nltk_data]    | Downloading package maxent_treebank_pos_tagger to\n",
      "[nltk_data]    |     C:\\Users\\jcor864\\AppData\\Roaming\\nltk_data...\n",
      "[nltk_data]    |   Package maxent_treebank_pos_tagger is already up-\n",
      "[nltk_data]    |       to-date!\n",
      "[nltk_data]    | Downloading package moses_sample to\n",
      "[nltk_data]    |     C:\\Users\\jcor864\\AppData\\Roaming\\nltk_data...\n",
      "[nltk_data]    |   Package moses_sample is already up-to-date!\n",
      "[nltk_data]    | Downloading package movie_reviews to\n",
      "[nltk_data]    |     C:\\Users\\jcor864\\AppData\\Roaming\\nltk_data...\n",
      "[nltk_data]    |   Package movie_reviews is already up-to-date!\n",
      "[nltk_data]    | Downloading package mte_teip5 to\n",
      "[nltk_data]    |     C:\\Users\\jcor864\\AppData\\Roaming\\nltk_data...\n",
      "[nltk_data]    |   Package mte_teip5 is already up-to-date!\n",
      "[nltk_data]    | Downloading package mwa_ppdb to\n",
      "[nltk_data]    |     C:\\Users\\jcor864\\AppData\\Roaming\\nltk_data...\n",
      "[nltk_data]    |   Package mwa_ppdb is already up-to-date!\n",
      "[nltk_data]    | Downloading package names to\n",
      "[nltk_data]    |     C:\\Users\\jcor864\\AppData\\Roaming\\nltk_data...\n",
      "[nltk_data]    |   Package names is already up-to-date!\n",
      "[nltk_data]    | Downloading package nombank.1.0 to\n",
      "[nltk_data]    |     C:\\Users\\jcor864\\AppData\\Roaming\\nltk_data...\n",
      "[nltk_data]    |   Package nombank.1.0 is already up-to-date!\n",
      "[nltk_data]    | Downloading package nonbreaking_prefixes to\n",
      "[nltk_data]    |     C:\\Users\\jcor864\\AppData\\Roaming\\nltk_data...\n",
      "[nltk_data]    |   Package nonbreaking_prefixes is already up-to-date!\n",
      "[nltk_data]    | Downloading package nps_chat to\n",
      "[nltk_data]    |     C:\\Users\\jcor864\\AppData\\Roaming\\nltk_data...\n",
      "[nltk_data]    |   Package nps_chat is already up-to-date!\n",
      "[nltk_data]    | Downloading package omw to\n",
      "[nltk_data]    |     C:\\Users\\jcor864\\AppData\\Roaming\\nltk_data...\n",
      "[nltk_data]    |   Package omw is already up-to-date!\n",
      "[nltk_data]    | Downloading package omw-1.4 to\n",
      "[nltk_data]    |     C:\\Users\\jcor864\\AppData\\Roaming\\nltk_data...\n",
      "[nltk_data]    |   Package omw-1.4 is already up-to-date!\n",
      "[nltk_data]    | Downloading package opinion_lexicon to\n",
      "[nltk_data]    |     C:\\Users\\jcor864\\AppData\\Roaming\\nltk_data...\n",
      "[nltk_data]    |   Package opinion_lexicon is already up-to-date!\n",
      "[nltk_data]    | Downloading package panlex_swadesh to\n",
      "[nltk_data]    |     C:\\Users\\jcor864\\AppData\\Roaming\\nltk_data...\n",
      "[nltk_data]    |   Package panlex_swadesh is already up-to-date!\n",
      "[nltk_data]    | Downloading package paradigms to\n",
      "[nltk_data]    |     C:\\Users\\jcor864\\AppData\\Roaming\\nltk_data...\n",
      "[nltk_data]    |   Package paradigms is already up-to-date!\n",
      "[nltk_data]    | Downloading package pe08 to\n",
      "[nltk_data]    |     C:\\Users\\jcor864\\AppData\\Roaming\\nltk_data...\n",
      "[nltk_data]    |   Package pe08 is already up-to-date!\n",
      "[nltk_data]    | Downloading package perluniprops to\n",
      "[nltk_data]    |     C:\\Users\\jcor864\\AppData\\Roaming\\nltk_data...\n",
      "[nltk_data]    |   Package perluniprops is already up-to-date!\n",
      "[nltk_data]    | Downloading package pil to\n",
      "[nltk_data]    |     C:\\Users\\jcor864\\AppData\\Roaming\\nltk_data...\n",
      "[nltk_data]    |   Package pil is already up-to-date!\n",
      "[nltk_data]    | Downloading package pl196x to\n",
      "[nltk_data]    |     C:\\Users\\jcor864\\AppData\\Roaming\\nltk_data...\n",
      "[nltk_data]    |   Package pl196x is already up-to-date!\n",
      "[nltk_data]    | Downloading package porter_test to\n",
      "[nltk_data]    |     C:\\Users\\jcor864\\AppData\\Roaming\\nltk_data...\n",
      "[nltk_data]    |   Package porter_test is already up-to-date!\n",
      "[nltk_data]    | Downloading package ppattach to\n",
      "[nltk_data]    |     C:\\Users\\jcor864\\AppData\\Roaming\\nltk_data...\n",
      "[nltk_data]    |   Package ppattach is already up-to-date!\n",
      "[nltk_data]    | Downloading package problem_reports to\n",
      "[nltk_data]    |     C:\\Users\\jcor864\\AppData\\Roaming\\nltk_data...\n",
      "[nltk_data]    |   Package problem_reports is already up-to-date!\n",
      "[nltk_data]    | Downloading package product_reviews_1 to\n",
      "[nltk_data]    |     C:\\Users\\jcor864\\AppData\\Roaming\\nltk_data...\n",
      "[nltk_data]    |   Package product_reviews_1 is already up-to-date!\n",
      "[nltk_data]    | Downloading package product_reviews_2 to\n",
      "[nltk_data]    |     C:\\Users\\jcor864\\AppData\\Roaming\\nltk_data...\n",
      "[nltk_data]    |   Package product_reviews_2 is already up-to-date!\n",
      "[nltk_data]    | Downloading package propbank to\n",
      "[nltk_data]    |     C:\\Users\\jcor864\\AppData\\Roaming\\nltk_data...\n",
      "[nltk_data]    |   Package propbank is already up-to-date!\n",
      "[nltk_data]    | Downloading package pros_cons to\n",
      "[nltk_data]    |     C:\\Users\\jcor864\\AppData\\Roaming\\nltk_data...\n",
      "[nltk_data]    |   Package pros_cons is already up-to-date!\n",
      "[nltk_data]    | Downloading package ptb to\n",
      "[nltk_data]    |     C:\\Users\\jcor864\\AppData\\Roaming\\nltk_data...\n",
      "[nltk_data]    |   Package ptb is already up-to-date!\n",
      "[nltk_data]    | Downloading package punkt to\n",
      "[nltk_data]    |     C:\\Users\\jcor864\\AppData\\Roaming\\nltk_data...\n",
      "[nltk_data]    |   Package punkt is already up-to-date!\n",
      "[nltk_data]    | Downloading package qc to\n",
      "[nltk_data]    |     C:\\Users\\jcor864\\AppData\\Roaming\\nltk_data...\n",
      "[nltk_data]    |   Package qc is already up-to-date!\n",
      "[nltk_data]    | Downloading package reuters to\n",
      "[nltk_data]    |     C:\\Users\\jcor864\\AppData\\Roaming\\nltk_data...\n",
      "[nltk_data]    |   Package reuters is already up-to-date!\n",
      "[nltk_data]    | Downloading package rslp to\n",
      "[nltk_data]    |     C:\\Users\\jcor864\\AppData\\Roaming\\nltk_data...\n",
      "[nltk_data]    |   Package rslp is already up-to-date!\n",
      "[nltk_data]    | Downloading package rte to\n",
      "[nltk_data]    |     C:\\Users\\jcor864\\AppData\\Roaming\\nltk_data...\n",
      "[nltk_data]    |   Package rte is already up-to-date!\n",
      "[nltk_data]    | Downloading package sample_grammars to\n",
      "[nltk_data]    |     C:\\Users\\jcor864\\AppData\\Roaming\\nltk_data...\n",
      "[nltk_data]    |   Package sample_grammars is already up-to-date!\n",
      "[nltk_data]    | Downloading package semcor to\n",
      "[nltk_data]    |     C:\\Users\\jcor864\\AppData\\Roaming\\nltk_data...\n",
      "[nltk_data]    |   Package semcor is already up-to-date!\n",
      "[nltk_data]    | Downloading package senseval to\n",
      "[nltk_data]    |     C:\\Users\\jcor864\\AppData\\Roaming\\nltk_data...\n",
      "[nltk_data]    |   Package senseval is already up-to-date!\n",
      "[nltk_data]    | Downloading package sentence_polarity to\n",
      "[nltk_data]    |     C:\\Users\\jcor864\\AppData\\Roaming\\nltk_data...\n",
      "[nltk_data]    |   Package sentence_polarity is already up-to-date!\n",
      "[nltk_data]    | Downloading package sentiwordnet to\n",
      "[nltk_data]    |     C:\\Users\\jcor864\\AppData\\Roaming\\nltk_data...\n",
      "[nltk_data]    |   Package sentiwordnet is already up-to-date!\n",
      "[nltk_data]    | Downloading package shakespeare to\n",
      "[nltk_data]    |     C:\\Users\\jcor864\\AppData\\Roaming\\nltk_data...\n",
      "[nltk_data]    |   Package shakespeare is already up-to-date!\n",
      "[nltk_data]    | Downloading package sinica_treebank to\n",
      "[nltk_data]    |     C:\\Users\\jcor864\\AppData\\Roaming\\nltk_data...\n",
      "[nltk_data]    |   Package sinica_treebank is already up-to-date!\n",
      "[nltk_data]    | Downloading package smultron to\n",
      "[nltk_data]    |     C:\\Users\\jcor864\\AppData\\Roaming\\nltk_data...\n",
      "[nltk_data]    |   Package smultron is already up-to-date!\n",
      "[nltk_data]    | Downloading package snowball_data to\n",
      "[nltk_data]    |     C:\\Users\\jcor864\\AppData\\Roaming\\nltk_data...\n",
      "[nltk_data]    |   Package snowball_data is already up-to-date!\n",
      "[nltk_data]    | Downloading package spanish_grammars to\n",
      "[nltk_data]    |     C:\\Users\\jcor864\\AppData\\Roaming\\nltk_data...\n",
      "[nltk_data]    |   Package spanish_grammars is already up-to-date!\n",
      "[nltk_data]    | Downloading package state_union to\n",
      "[nltk_data]    |     C:\\Users\\jcor864\\AppData\\Roaming\\nltk_data...\n",
      "[nltk_data]    |   Package state_union is already up-to-date!\n",
      "[nltk_data]    | Downloading package stopwords to\n",
      "[nltk_data]    |     C:\\Users\\jcor864\\AppData\\Roaming\\nltk_data...\n",
      "[nltk_data]    |   Package stopwords is already up-to-date!\n",
      "[nltk_data]    | Downloading package subjectivity to\n",
      "[nltk_data]    |     C:\\Users\\jcor864\\AppData\\Roaming\\nltk_data...\n",
      "[nltk_data]    |   Package subjectivity is already up-to-date!\n",
      "[nltk_data]    | Downloading package swadesh to\n",
      "[nltk_data]    |     C:\\Users\\jcor864\\AppData\\Roaming\\nltk_data...\n",
      "[nltk_data]    |   Package swadesh is already up-to-date!\n",
      "[nltk_data]    | Downloading package switchboard to\n",
      "[nltk_data]    |     C:\\Users\\jcor864\\AppData\\Roaming\\nltk_data...\n",
      "[nltk_data]    |   Package switchboard is already up-to-date!\n",
      "[nltk_data]    | Downloading package tagsets to\n",
      "[nltk_data]    |     C:\\Users\\jcor864\\AppData\\Roaming\\nltk_data...\n",
      "[nltk_data]    |   Package tagsets is already up-to-date!\n",
      "[nltk_data]    | Downloading package timit to\n",
      "[nltk_data]    |     C:\\Users\\jcor864\\AppData\\Roaming\\nltk_data...\n",
      "[nltk_data]    |   Package timit is already up-to-date!\n",
      "[nltk_data]    | Downloading package toolbox to\n",
      "[nltk_data]    |     C:\\Users\\jcor864\\AppData\\Roaming\\nltk_data...\n",
      "[nltk_data]    |   Package toolbox is already up-to-date!\n",
      "[nltk_data]    | Downloading package treebank to\n",
      "[nltk_data]    |     C:\\Users\\jcor864\\AppData\\Roaming\\nltk_data...\n",
      "[nltk_data]    |   Package treebank is already up-to-date!\n",
      "[nltk_data]    | Downloading package twitter_samples to\n",
      "[nltk_data]    |     C:\\Users\\jcor864\\AppData\\Roaming\\nltk_data...\n",
      "[nltk_data]    |   Package twitter_samples is already up-to-date!\n",
      "[nltk_data]    | Downloading package udhr to\n",
      "[nltk_data]    |     C:\\Users\\jcor864\\AppData\\Roaming\\nltk_data...\n",
      "[nltk_data]    |   Package udhr is already up-to-date!\n",
      "[nltk_data]    | Downloading package udhr2 to\n",
      "[nltk_data]    |     C:\\Users\\jcor864\\AppData\\Roaming\\nltk_data...\n",
      "[nltk_data]    |   Package udhr2 is already up-to-date!\n",
      "[nltk_data]    | Downloading package unicode_samples to\n",
      "[nltk_data]    |     C:\\Users\\jcor864\\AppData\\Roaming\\nltk_data...\n",
      "[nltk_data]    |   Package unicode_samples is already up-to-date!\n",
      "[nltk_data]    | Downloading package universal_tagset to\n",
      "[nltk_data]    |     C:\\Users\\jcor864\\AppData\\Roaming\\nltk_data...\n",
      "[nltk_data]    |   Package universal_tagset is already up-to-date!\n",
      "[nltk_data]    | Downloading package universal_treebanks_v20 to\n",
      "[nltk_data]    |     C:\\Users\\jcor864\\AppData\\Roaming\\nltk_data...\n",
      "[nltk_data]    |   Package universal_treebanks_v20 is already up-to-\n",
      "[nltk_data]    |       date!\n",
      "[nltk_data]    | Downloading package vader_lexicon to\n",
      "[nltk_data]    |     C:\\Users\\jcor864\\AppData\\Roaming\\nltk_data...\n",
      "[nltk_data]    |   Package vader_lexicon is already up-to-date!\n",
      "[nltk_data]    | Downloading package verbnet to\n",
      "[nltk_data]    |     C:\\Users\\jcor864\\AppData\\Roaming\\nltk_data...\n",
      "[nltk_data]    |   Package verbnet is already up-to-date!\n",
      "[nltk_data]    | Downloading package verbnet3 to\n",
      "[nltk_data]    |     C:\\Users\\jcor864\\AppData\\Roaming\\nltk_data...\n",
      "[nltk_data]    |   Package verbnet3 is already up-to-date!\n",
      "[nltk_data]    | Downloading package webtext to\n",
      "[nltk_data]    |     C:\\Users\\jcor864\\AppData\\Roaming\\nltk_data...\n",
      "[nltk_data]    |   Package webtext is already up-to-date!\n",
      "[nltk_data]    | Downloading package wmt15_eval to\n",
      "[nltk_data]    |     C:\\Users\\jcor864\\AppData\\Roaming\\nltk_data...\n",
      "[nltk_data]    |   Package wmt15_eval is already up-to-date!\n",
      "[nltk_data]    | Downloading package word2vec_sample to\n",
      "[nltk_data]    |     C:\\Users\\jcor864\\AppData\\Roaming\\nltk_data...\n",
      "[nltk_data]    |   Package word2vec_sample is already up-to-date!\n",
      "[nltk_data]    | Downloading package wordnet to\n",
      "[nltk_data]    |     C:\\Users\\jcor864\\AppData\\Roaming\\nltk_data...\n",
      "[nltk_data]    |   Package wordnet is already up-to-date!\n",
      "[nltk_data]    | Downloading package wordnet2021 to\n",
      "[nltk_data]    |     C:\\Users\\jcor864\\AppData\\Roaming\\nltk_data...\n",
      "[nltk_data]    |   Package wordnet2021 is already up-to-date!\n",
      "[nltk_data]    | Downloading package wordnet2022 to\n",
      "[nltk_data]    |     C:\\Users\\jcor864\\AppData\\Roaming\\nltk_data...\n",
      "[nltk_data]    |   Package wordnet2022 is already up-to-date!\n",
      "[nltk_data]    | Downloading package wordnet31 to\n",
      "[nltk_data]    |     C:\\Users\\jcor864\\AppData\\Roaming\\nltk_data...\n",
      "[nltk_data]    |   Package wordnet31 is already up-to-date!\n",
      "[nltk_data]    | Downloading package wordnet_ic to\n",
      "[nltk_data]    |     C:\\Users\\jcor864\\AppData\\Roaming\\nltk_data...\n",
      "[nltk_data]    |   Package wordnet_ic is already up-to-date!\n",
      "[nltk_data]    | Downloading package words to\n",
      "[nltk_data]    |     C:\\Users\\jcor864\\AppData\\Roaming\\nltk_data...\n",
      "[nltk_data]    |   Package words is already up-to-date!\n",
      "[nltk_data]    | Downloading package ycoe to\n",
      "[nltk_data]    |     C:\\Users\\jcor864\\AppData\\Roaming\\nltk_data...\n",
      "[nltk_data]    |   Package ycoe is already up-to-date!\n",
      "[nltk_data]    | \n",
      "[nltk_data]  Done downloading collection all\n"
     ]
    }
   ],
   "source": [
    "# Lemmatization\n",
    "import nltk\n",
    "import string\n",
    "nltk.download('stopwords')\n",
    "from nltk.tokenize import word_tokenize \n",
    "nltk.download('all')   # download wordlist\n",
    "from nltk.stem import WordNetLemmatizer\n",
    "english_stopwords = set(nltk.corpus.stopwords.words('english'))\n",
    "punctuation = set(string.punctuation)\n",
    "\n",
    "art['text'] = art['text'].str.replace(r'\\b\\w{1,3}\\b', '') # remove words with less than 3 characters\n",
    "art['text'] = art['text'].str.replace(r'\\d+', '') # remove numbers\n",
    "\n",
    "\n",
    "lemmatizer = WordNetLemmatizer() \n",
    "# tgw = ['alcohol','substance','youth','adolescent','factor','factors','among']  # topic general words to be excluded\n",
    "tgw = ['alcohol','among']  # topic general words to be excluded\n",
    "\n",
    "def lemmatizing_en(text):\n",
    "    word_tokens = word_tokenize(text.lower()) \n",
    "    word_tokens = [word for word in word_tokens if word not in punctuation]\n",
    "    word_tokens = [word for word in word_tokens if word.isalpha()]\n",
    "    word_tokens = [word for word in word_tokens if word not in english_stopwords]\n",
    "    word_tokens = [word for word in word_tokens if word not in tgw]\n",
    "    result = [lemmatizer.lemmatize(x) for x in word_tokens]\n",
    "    seperator = ' '\n",
    "    return seperator.join(result)  # return list and string\n",
    "\n",
    "art['text'] = [lemmatizing_en(s) for s in art['text']]\n",
    "\n",
    "for word in tgw:\n",
    "    art['text'] = art['text'].str.replace(word, '') # remove tgw words\n",
    "\n",
    "art['text'] = art['text'].str.replace(r'\\b\\w{1,3}\\b', '') # remove lemmas with less than 3 characters\n"
   ]
  },
  {
   "cell_type": "code",
   "execution_count": 66,
   "metadata": {},
   "outputs": [
    {
     "data": {
      "text/plain": [
       "'substance treatment outcome youth integrating personal environmental predictor investigation examined personal environmental predictor substance treatment outcome youth adolescent year completed comprehensive assessment including substance environmental factor family history social support variable axis diagnosis motivation study intake throughout year following inpatient treatment youth treatment outcome assessed relapse status abstaining minor relapse major relapse dependence symptom year relapse status predicted demographic environmental social support factor diagnosis dependence symptom best predicted substance variable alone consideration general specific nature risk protection within adolescent developmental context explored published elsevier ireland'"
      ]
     },
     "execution_count": 66,
     "metadata": {},
     "output_type": "execute_result"
    }
   ],
   "source": [
    "art['text'].iloc[0]"
   ]
  },
  {
   "cell_type": "markdown",
   "metadata": {},
   "source": [
    "## Bertopic"
   ]
  },
  {
   "cell_type": "code",
   "execution_count": 67,
   "metadata": {},
   "outputs": [
    {
     "name": "stdout",
     "output_type": "stream",
     "text": [
      "<class 'pandas.core.frame.DataFrame'>\n",
      "Int64Index: 10435 entries, 0 to 10441\n",
      "Data columns (total 73 columns):\n",
      " #   Column                      Non-Null Count  Dtype  \n",
      "---  ------                      --------------  -----  \n",
      " 0   Publication Type            10435 non-null  object \n",
      " 1   Authors                     10435 non-null  object \n",
      " 2   Book Authors                0 non-null      float64\n",
      " 3   Book Editors                11 non-null     object \n",
      " 4   Book Group Authors          0 non-null      float64\n",
      " 5   Author Full Names           10435 non-null  object \n",
      " 6   Book Author Full Names      0 non-null      float64\n",
      " 7   Group Authors               161 non-null    object \n",
      " 8   Article Title               10435 non-null  object \n",
      " 9   Source Title                10435 non-null  object \n",
      " 10  Book Series Title           11 non-null     object \n",
      " 11  Book Series Subtitle        0 non-null      float64\n",
      " 12  Language                    10435 non-null  object \n",
      " 13  Document Type               10435 non-null  object \n",
      " 14  Conference Title            108 non-null    object \n",
      " 15  Conference Date             108 non-null    object \n",
      " 16  Conference Location         108 non-null    object \n",
      " 17  Conference Sponsor          87 non-null     object \n",
      " 18  Conference Host             5 non-null      object \n",
      " 19  Author Keywords             8221 non-null   object \n",
      " 20  Keywords Plus               10249 non-null  object \n",
      " 21  Abstract                    10432 non-null  object \n",
      " 22  Addresses                   10399 non-null  object \n",
      " 23  Affiliations                10221 non-null  object \n",
      " 24  Reprint Addresses           10396 non-null  object \n",
      " 25  Email Addresses             10035 non-null  object \n",
      " 26  Researcher Ids              6786 non-null   object \n",
      " 27  ORCIDs                      8165 non-null   object \n",
      " 28  Funding Orgs                7630 non-null   object \n",
      " 29  Funding Name Preferred      7604 non-null   object \n",
      " 30  Funding Text                6676 non-null   object \n",
      " 31  Cited References            0 non-null      float64\n",
      " 32  Cited Reference Count       10435 non-null  int64  \n",
      " 33  Times Cited, WoS Core       10435 non-null  int64  \n",
      " 34  Times Cited, All Databases  10435 non-null  int64  \n",
      " 35  180 Day Usage Count         10435 non-null  int64  \n",
      " 36  Since 2013 Usage Count      10435 non-null  int64  \n",
      " 37  Publisher                   10435 non-null  object \n",
      " 38  Publisher City              10435 non-null  object \n",
      " 39  Publisher Address           10435 non-null  object \n",
      " 40  ISSN                        9261 non-null   object \n",
      " 41  eISSN                       8190 non-null   object \n",
      " 42  ISBN                        9 non-null      object \n",
      " 43  Journal Abbreviation        10435 non-null  object \n",
      " 44  Journal ISO Abbreviation    10431 non-null  object \n",
      " 45  Publication Date            9607 non-null   object \n",
      " 46  Publication Year            10435 non-null  int64  \n",
      " 47  Volume                      10321 non-null  object \n",
      " 48  Issue                       8203 non-null   object \n",
      " 49  Part Number                 30 non-null     object \n",
      " 50  Supplement                  129 non-null    object \n",
      " 51  Special Issue               304 non-null    object \n",
      " 52  Meeting Abstract            0 non-null      float64\n",
      " 53  Start Page                  7432 non-null   object \n",
      " 54  End Page                    7432 non-null   object \n",
      " 55  Article Number              3022 non-null   object \n",
      " 56  DOI                         10374 non-null  object \n",
      " 57  DOI Link                    10374 non-null  float64\n",
      " 58  Book DOI                    1 non-null      object \n",
      " 59  Early Access Date           1239 non-null   object \n",
      " 60  Number of Pages             10435 non-null  int64  \n",
      " 61  WoS Categories              10434 non-null  object \n",
      " 62  Web of Science Index        10435 non-null  object \n",
      " 63  Research Areas              10434 non-null  object \n",
      " 64  IDS Number                  10435 non-null  object \n",
      " 65  Pubmed Id                   9696 non-null   float64\n",
      " 66  Open Access Designations    10435 non-null  object \n",
      " 67  Highly Cited Status         0 non-null      float64\n",
      " 68  Hot Paper Status            0 non-null      float64\n",
      " 69  Date of Export              10435 non-null  object \n",
      " 70  UT (Unique WOS ID)          10435 non-null  object \n",
      " 71  Web of Science Record       10435 non-null  int64  \n",
      " 72  text                        10435 non-null  object \n",
      "dtypes: float64(10), int64(8), object(55)\n",
      "memory usage: 5.9+ MB\n"
     ]
    }
   ],
   "source": [
    "art.info()"
   ]
  },
  {
   "cell_type": "code",
   "execution_count": 69,
   "metadata": {},
   "outputs": [
    {
     "name": "stderr",
     "output_type": "stream",
     "text": [
      "2024-04-26 09:08:09,223 - BERTopic - Embedding - Transforming documents to embeddings.\n"
     ]
    },
    {
     "data": {
      "application/vnd.jupyter.widget-view+json": {
       "model_id": "6e20cafe052242edbae4ff561cc5d95d",
       "version_major": 2,
       "version_minor": 0
      },
      "text/plain": [
       "Batches:   0%|          | 0/327 [00:00<?, ?it/s]"
      ]
     },
     "metadata": {},
     "output_type": "display_data"
    },
    {
     "name": "stderr",
     "output_type": "stream",
     "text": [
      "2024-04-26 09:13:34,518 - BERTopic - Embedding - Completed ✓\n",
      "2024-04-26 09:13:34,519 - BERTopic - Dimensionality - Fitting the dimensionality reduction algorithm\n",
      "2024-04-26 09:13:39,868 - BERTopic - Dimensionality - Completed ✓\n",
      "2024-04-26 09:13:39,870 - BERTopic - Cluster - Start clustering the reduced embeddings\n",
      "2024-04-26 09:13:40,280 - BERTopic - Cluster - Completed ✓\n",
      "2024-04-26 09:13:40,282 - BERTopic - Representation - Extracting topics from clusters using representation models.\n",
      "2024-04-26 09:13:41,854 - BERTopic - Representation - Completed ✓\n",
      "2024-04-26 09:13:41,857 - BERTopic - Topic reduction - Reducing number of topics\n",
      "2024-04-26 09:13:43,451 - BERTopic - Topic reduction - Reduced number of topics from 55 to 11\n"
     ]
    }
   ],
   "source": [
    "\n",
    "from bertopic import BERTopic\n",
    "\n",
    "# Fine-tune your topic representations\n",
    "# from bertopic.representation import KeyBERTInspired\n",
    "# representation_model = KeyBERTInspired()\n",
    "# topic_model = BERTopic(representation_model=representation_model)\n",
    "\n",
    "# Prepare embeddings\n",
    "# sentence_model = SentenceTransformer(\"all-MiniLM-L6-v2\")\n",
    "# embeddings = sentence_model.encode(art['text'], show_progress_bar=False)\n",
    "\n",
    "topic_model = BERTopic(nr_topics=nr_topics, min_topic_size=min_topic_size,verbose=True)\n",
    "topics, probs = topic_model.fit_transform(art['text'])\n",
    "\n",
    "# from sklearn.feature_extraction.text import CountVectorizer\n",
    "# vectorizer_model = CountVectorizer(ngram_range=(1, 3), stop_words=\"english\")\n",
    "# topic_model.update_topics(docs, vectorizer_model=vectorizer_model)\n",
    "\n",
    "# Reduce dimensionality of embeddings, this step is optional\n",
    "# reduced_embeddings = UMAP(n_neighbors=10, n_components=2, min_dist=0.0, metric='cosine').fit_transform(embeddings)\n",
    "\n",
    "# Or, if you have reduced the original embeddings already:\n",
    "# topic_model.visualize_documents(docs, reduced_embeddings=reduced_embeddings)"
   ]
  },
  {
   "cell_type": "code",
   "execution_count": 68,
   "metadata": {},
   "outputs": [
    {
     "data": {
      "text/plain": [
       "11"
      ]
     },
     "execution_count": 68,
     "metadata": {},
     "output_type": "execute_result"
    }
   ],
   "source": [
    "opt_nr_of_topics = len(set(topics))\n",
    "opt_nr_of_topics"
   ]
  },
  {
   "cell_type": "code",
   "execution_count": 71,
   "metadata": {},
   "outputs": [],
   "source": [
    "# optional\n",
    "if ngram > 1:\n",
    "    from sklearn.feature_extraction.text import CountVectorizer\n",
    "    vectorizer_model = CountVectorizer(ngram_range=(1, ngram), stop_words=\"english\", min_df=8)  # min_df is  an integer representing how frequent a word must be before being added to the representation.\n",
    "    topic_model.update_topics(art['text'], vectorizer_model=vectorizer_model)\n",
    "\n"
   ]
  },
  {
   "cell_type": "code",
   "execution_count": 73,
   "metadata": {},
   "outputs": [
    {
     "name": "stdout",
     "output_type": "stream",
     "text": [
      "Topic 0\n",
      "drinking             \t 0.0374\n",
      "adolescent           \t 0.033\n",
      "study                \t 0.0285\n",
      "sexual               \t 0.026\n",
      "factor               \t 0.0251\n",
      "risk                 \t 0.025\n",
      "associated           \t 0.0219\n",
      "behavior             \t 0.0214\n",
      "substance            \t 0.0198\n",
      "student              \t 0.0197\n",
      "\n",
      "Topic 1\n",
      "smoking              \t 0.0456\n",
      "ethanol              \t 0.0367\n",
      "cannabis             \t 0.0347\n",
      "adolescent           \t 0.0344\n",
      "tobacco              \t 0.0256\n",
      "effect               \t 0.0254\n",
      "study                \t 0.0248\n",
      "adult                \t 0.0235\n",
      "cigarette            \t 0.0219\n",
      "marijuana            \t 0.0214\n",
      "\n",
      "Topic 2\n",
      "health               \t 0.0448\n",
      "risk                 \t 0.0378\n",
      "physical             \t 0.0351\n",
      "factor               \t 0.0332\n",
      "study                \t 0.0319\n",
      "physical activity    \t 0.0316\n",
      "adolescent           \t 0.031\n",
      "activity             \t 0.0291\n",
      "lifestyle            \t 0.0271\n",
      "cancer               \t 0.0268\n",
      "\n",
      "Topic 3\n",
      "disease              \t 0.072\n",
      "patient              \t 0.0544\n",
      "child                \t 0.044\n",
      "obesity              \t 0.0365\n",
      "risk                 \t 0.0309\n",
      "associated           \t 0.0309\n",
      "study                \t 0.0307\n",
      "level                \t 0.0302\n",
      "group                \t 0.025\n",
      "serum                \t 0.025\n",
      "\n",
      "Topic 4\n",
      "internet             \t 0.0868\n",
      "adolescent           \t 0.0339\n",
      "problem              \t 0.0331\n",
      "study                \t 0.0327\n",
      "exposure             \t 0.0298\n",
      "student              \t 0.0279\n",
      "associated           \t 0.0271\n",
      "online               \t 0.0261\n",
      "factor               \t 0.0258\n",
      "game                 \t 0.0246\n",
      "\n",
      "Topic 5\n",
      "driving              \t 0.1037\n",
      "injury               \t 0.0813\n",
      "sport                \t 0.0716\n",
      "participation        \t 0.0297\n",
      "risk                 \t 0.0284\n",
      "adolescent           \t 0.0274\n",
      "study                \t 0.0262\n",
      "vehicle              \t 0.0237\n",
      "factor               \t 0.0236\n",
      "year                 \t 0.0233\n",
      "\n",
      "Topic 6\n",
      "minor                \t 0.0749\n",
      "compound             \t 0.0679\n",
      "composition          \t 0.0489\n",
      "production           \t 0.0469\n",
      "concentration        \t 0.0412\n",
      "different            \t 0.0391\n",
      "chemical             \t 0.0382\n",
      "component            \t 0.0368\n",
      "product              \t 0.0356\n",
      "content              \t 0.0353\n",
      "\n",
      "Topic 7\n",
      "exposure             \t 0.0893\n",
      "child                \t 0.0571\n",
      "brain                \t 0.0421\n",
      "volume               \t 0.0411\n",
      "pregnancy            \t 0.0354\n",
      "control              \t 0.0314\n",
      "maternal             \t 0.0312\n",
      "study                \t 0.0304\n",
      "cocaine              \t 0.0295\n",
      "effect               \t 0.0276\n",
      "\n",
      "Topic 8\n",
      "sleep                \t 0.2736\n",
      "duration             \t 0.0544\n",
      "quality              \t 0.0469\n",
      "problem              \t 0.0431\n",
      "study                \t 0.0278\n",
      "health               \t 0.0266\n",
      "adolescent           \t 0.0264\n",
      "associated           \t 0.0231\n",
      "student              \t 0.0229\n",
      "factor               \t 0.0229\n",
      "\n",
      "Topic 9\n",
      "patient              \t 0.178\n",
      "injury               \t 0.1471\n",
      "trauma               \t 0.0798\n",
      "head                 \t 0.0467\n",
      "minor                \t 0.0408\n",
      "hospital             \t 0.0367\n",
      "acute                \t 0.036\n",
      "fall                 \t 0.0347\n",
      "case                 \t 0.0343\n",
      "emergency            \t 0.0334\n",
      "\n"
     ]
    }
   ],
   "source": [
    "# topic information\n",
    "for i in range(0, nr_topics-1):\n",
    "    print(f\"Topic {i}\")\n",
    "    for j in range(0,10):\n",
    "        word = topic_model.get_topic(i)[j][0]\n",
    "        print(f'{word.ljust(20, \" \")} \\t {round(topic_model.get_topic(i)[j][1],4)}')\n",
    "    print('')\n"
   ]
  },
  {
   "cell_type": "code",
   "execution_count": 74,
   "metadata": {},
   "outputs": [
    {
     "data": {
      "application/vnd.plotly.v1+json": {
       "config": {
        "plotlyServerURL": "https://plot.ly"
       },
       "data": [
        {
         "marker": {
          "color": "#D55E00"
         },
         "orientation": "h",
         "type": "bar",
         "x": [
          0.019699048720206433,
          0.01979490626250784,
          0.02144564718027951,
          0.02189108091651672,
          0.024987295386787824,
          0.025067744906570637,
          0.025955398699316977,
          0.028467562255615336,
          0.033021898753841185,
          0.0374397600075016
         ],
         "xaxis": "x",
         "y": [
          "student  ",
          "substance  ",
          "behavior  ",
          "associated  ",
          "risk  ",
          "factor  ",
          "sexual  ",
          "study  ",
          "adolescent  ",
          "drinking  "
         ],
         "yaxis": "y"
        },
        {
         "marker": {
          "color": "#0072B2"
         },
         "orientation": "h",
         "type": "bar",
         "x": [
          0.021440314731704876,
          0.021870060603283312,
          0.023539317170248087,
          0.02478012321815613,
          0.025371288244796317,
          0.02556560796170725,
          0.034358822167514735,
          0.03467654166443409,
          0.03674331954387612,
          0.04560930048475691
         ],
         "xaxis": "x2",
         "y": [
          "marijuana  ",
          "cigarette  ",
          "adult  ",
          "study  ",
          "effect  ",
          "tobacco  ",
          "adolescent  ",
          "cannabis  ",
          "ethanol  ",
          "smoking  "
         ],
         "yaxis": "y2"
        },
        {
         "marker": {
          "color": "#CC79A7"
         },
         "orientation": "h",
         "type": "bar",
         "x": [
          0.02680458900795697,
          0.027078892398170077,
          0.02910258635836115,
          0.03097147109151534,
          0.0316158056319935,
          0.0319200254810225,
          0.03317560808283238,
          0.035053293141593736,
          0.0378113318124463,
          0.044764897646858884
         ],
         "xaxis": "x3",
         "y": [
          "cancer  ",
          "lifestyle  ",
          "activity  ",
          "adolescent  ",
          "physical activity  ",
          "study  ",
          "factor  ",
          "physical  ",
          "risk  ",
          "health  "
         ],
         "yaxis": "y3"
        },
        {
         "marker": {
          "color": "#E69F00"
         },
         "orientation": "h",
         "type": "bar",
         "x": [
          0.024954113587266753,
          0.025012141898525457,
          0.030215436566789693,
          0.030716169743368337,
          0.030934633603574006,
          0.03093843684017123,
          0.036492436241881955,
          0.04400386900548685,
          0.05437195728662873,
          0.07202749548237193
         ],
         "xaxis": "x4",
         "y": [
          "serum  ",
          "group  ",
          "level  ",
          "study  ",
          "associated  ",
          "risk  ",
          "obesity  ",
          "child  ",
          "patient  ",
          "disease  "
         ],
         "yaxis": "y4"
        },
        {
         "marker": {
          "color": "#56B4E9"
         },
         "orientation": "h",
         "type": "bar",
         "x": [
          0.024620853659515544,
          0.025819097721378338,
          0.026086672005660193,
          0.027106508495264584,
          0.027939633061665418,
          0.029799834827803465,
          0.032662450257134844,
          0.03309623172817668,
          0.033852662013454535,
          0.08682630496533802
         ],
         "xaxis": "x5",
         "y": [
          "game  ",
          "factor  ",
          "online  ",
          "associated  ",
          "student  ",
          "exposure  ",
          "study  ",
          "problem  ",
          "adolescent  ",
          "internet  "
         ],
         "yaxis": "y5"
        },
        {
         "marker": {
          "color": "#009E73"
         },
         "orientation": "h",
         "type": "bar",
         "x": [
          0.023324295455205077,
          0.02364277530808208,
          0.02370615755326904,
          0.02619992444623576,
          0.02740980208034335,
          0.02838296233123046,
          0.029744586490404627,
          0.07158624140709731,
          0.08131521293199795,
          0.10370397543505375
         ],
         "xaxis": "x6",
         "y": [
          "year  ",
          "factor  ",
          "vehicle  ",
          "study  ",
          "adolescent  ",
          "risk  ",
          "participation  ",
          "sport  ",
          "injury  ",
          "driving  "
         ],
         "yaxis": "y6"
        },
        {
         "marker": {
          "color": "#F0E442"
         },
         "orientation": "h",
         "type": "bar",
         "x": [
          0.0353123931743861,
          0.035622281193137796,
          0.036758173654662725,
          0.0381502177963097,
          0.03910408578684534,
          0.041167602208447236,
          0.0469242861171528,
          0.0489086034590727,
          0.06787083406368022,
          0.07485172357601598
         ],
         "xaxis": "x7",
         "y": [
          "content  ",
          "product  ",
          "component  ",
          "chemical  ",
          "different  ",
          "concentration  ",
          "production  ",
          "composition  ",
          "compound  ",
          "minor  "
         ],
         "yaxis": "y7"
        },
        {
         "marker": {
          "color": "#D55E00"
         },
         "orientation": "h",
         "type": "bar",
         "x": [
          0.02763690089989885,
          0.029502707436459292,
          0.030422502096737553,
          0.031229374632950703,
          0.03142840431390644,
          0.035374331033665635,
          0.04110845807614616,
          0.042060324570317664,
          0.05711143238886592,
          0.08934142649764326
         ],
         "xaxis": "x8",
         "y": [
          "effect  ",
          "cocaine  ",
          "study  ",
          "maternal  ",
          "control  ",
          "pregnancy  ",
          "volume  ",
          "brain  ",
          "child  ",
          "exposure  "
         ],
         "yaxis": "y8"
        },
        {
         "marker": {
          "color": "#0072B2"
         },
         "orientation": "h",
         "type": "bar",
         "x": [
          0.022856245233400047,
          0.02286964147917892,
          0.023063617939934878,
          0.026409920323249143,
          0.02657948753667246,
          0.027823162058994426,
          0.04313314202939836,
          0.04690432935198832,
          0.054358315852331855,
          0.27361060749407934
         ],
         "xaxis": "x9",
         "y": [
          "factor  ",
          "student  ",
          "associated  ",
          "adolescent  ",
          "health  ",
          "study  ",
          "problem  ",
          "quality  ",
          "duration  ",
          "sleep  "
         ],
         "yaxis": "y9"
        },
        {
         "marker": {
          "color": "#CC79A7"
         },
         "orientation": "h",
         "type": "bar",
         "x": [
          0.03344423171971034,
          0.03433712082063195,
          0.03473624921731582,
          0.03598843477845142,
          0.03674899138987319,
          0.04083494116438005,
          0.046715202026944236,
          0.07981811036361598,
          0.14714571577476473,
          0.17800038703784785
         ],
         "xaxis": "x10",
         "y": [
          "emergency  ",
          "case  ",
          "fall  ",
          "acute  ",
          "hospital  ",
          "minor  ",
          "head  ",
          "trauma  ",
          "injury  ",
          "patient  "
         ],
         "yaxis": "y10"
        }
       ],
       "layout": {
        "annotations": [
         {
          "font": {
           "size": 16
          },
          "showarrow": false,
          "text": "Topic 0",
          "x": 0.0875,
          "xanchor": "center",
          "xref": "paper",
          "y": 1,
          "yanchor": "bottom",
          "yref": "paper"
         },
         {
          "font": {
           "size": 16
          },
          "showarrow": false,
          "text": "Topic 1",
          "x": 0.36250000000000004,
          "xanchor": "center",
          "xref": "paper",
          "y": 1,
          "yanchor": "bottom",
          "yref": "paper"
         },
         {
          "font": {
           "size": 16
          },
          "showarrow": false,
          "text": "Topic 2",
          "x": 0.6375000000000001,
          "xanchor": "center",
          "xref": "paper",
          "y": 1,
          "yanchor": "bottom",
          "yref": "paper"
         },
         {
          "font": {
           "size": 16
          },
          "showarrow": false,
          "text": "Topic 3",
          "x": 0.9125,
          "xanchor": "center",
          "xref": "paper",
          "y": 1,
          "yanchor": "bottom",
          "yref": "paper"
         },
         {
          "font": {
           "size": 16
          },
          "showarrow": false,
          "text": "Topic 4",
          "x": 0.0875,
          "xanchor": "center",
          "xref": "paper",
          "y": 0.6222222222222222,
          "yanchor": "bottom",
          "yref": "paper"
         },
         {
          "font": {
           "size": 16
          },
          "showarrow": false,
          "text": "Topic 5",
          "x": 0.36250000000000004,
          "xanchor": "center",
          "xref": "paper",
          "y": 0.6222222222222222,
          "yanchor": "bottom",
          "yref": "paper"
         },
         {
          "font": {
           "size": 16
          },
          "showarrow": false,
          "text": "Topic 6",
          "x": 0.6375000000000001,
          "xanchor": "center",
          "xref": "paper",
          "y": 0.6222222222222222,
          "yanchor": "bottom",
          "yref": "paper"
         },
         {
          "font": {
           "size": 16
          },
          "showarrow": false,
          "text": "Topic 7",
          "x": 0.9125,
          "xanchor": "center",
          "xref": "paper",
          "y": 0.6222222222222222,
          "yanchor": "bottom",
          "yref": "paper"
         },
         {
          "font": {
           "size": 16
          },
          "showarrow": false,
          "text": "Topic 8",
          "x": 0.0875,
          "xanchor": "center",
          "xref": "paper",
          "y": 0.24444444444444446,
          "yanchor": "bottom",
          "yref": "paper"
         },
         {
          "font": {
           "size": 16
          },
          "showarrow": false,
          "text": "Topic 9",
          "x": 0.36250000000000004,
          "xanchor": "center",
          "xref": "paper",
          "y": 0.24444444444444446,
          "yanchor": "bottom",
          "yref": "paper"
         }
        ],
        "height": 1500,
        "hoverlabel": {
         "bgcolor": "white",
         "font": {
          "family": "Rockwell",
          "size": 16
         }
        },
        "showlegend": false,
        "template": {
         "data": {
          "bar": [
           {
            "error_x": {
             "color": "#2a3f5f"
            },
            "error_y": {
             "color": "#2a3f5f"
            },
            "marker": {
             "line": {
              "color": "white",
              "width": 0.5
             },
             "pattern": {
              "fillmode": "overlay",
              "size": 10,
              "solidity": 0.2
             }
            },
            "type": "bar"
           }
          ],
          "barpolar": [
           {
            "marker": {
             "line": {
              "color": "white",
              "width": 0.5
             },
             "pattern": {
              "fillmode": "overlay",
              "size": 10,
              "solidity": 0.2
             }
            },
            "type": "barpolar"
           }
          ],
          "carpet": [
           {
            "aaxis": {
             "endlinecolor": "#2a3f5f",
             "gridcolor": "#C8D4E3",
             "linecolor": "#C8D4E3",
             "minorgridcolor": "#C8D4E3",
             "startlinecolor": "#2a3f5f"
            },
            "baxis": {
             "endlinecolor": "#2a3f5f",
             "gridcolor": "#C8D4E3",
             "linecolor": "#C8D4E3",
             "minorgridcolor": "#C8D4E3",
             "startlinecolor": "#2a3f5f"
            },
            "type": "carpet"
           }
          ],
          "choropleth": [
           {
            "colorbar": {
             "outlinewidth": 0,
             "ticks": ""
            },
            "type": "choropleth"
           }
          ],
          "contour": [
           {
            "colorbar": {
             "outlinewidth": 0,
             "ticks": ""
            },
            "colorscale": [
             [
              0,
              "#0d0887"
             ],
             [
              0.1111111111111111,
              "#46039f"
             ],
             [
              0.2222222222222222,
              "#7201a8"
             ],
             [
              0.3333333333333333,
              "#9c179e"
             ],
             [
              0.4444444444444444,
              "#bd3786"
             ],
             [
              0.5555555555555556,
              "#d8576b"
             ],
             [
              0.6666666666666666,
              "#ed7953"
             ],
             [
              0.7777777777777778,
              "#fb9f3a"
             ],
             [
              0.8888888888888888,
              "#fdca26"
             ],
             [
              1,
              "#f0f921"
             ]
            ],
            "type": "contour"
           }
          ],
          "contourcarpet": [
           {
            "colorbar": {
             "outlinewidth": 0,
             "ticks": ""
            },
            "type": "contourcarpet"
           }
          ],
          "heatmap": [
           {
            "colorbar": {
             "outlinewidth": 0,
             "ticks": ""
            },
            "colorscale": [
             [
              0,
              "#0d0887"
             ],
             [
              0.1111111111111111,
              "#46039f"
             ],
             [
              0.2222222222222222,
              "#7201a8"
             ],
             [
              0.3333333333333333,
              "#9c179e"
             ],
             [
              0.4444444444444444,
              "#bd3786"
             ],
             [
              0.5555555555555556,
              "#d8576b"
             ],
             [
              0.6666666666666666,
              "#ed7953"
             ],
             [
              0.7777777777777778,
              "#fb9f3a"
             ],
             [
              0.8888888888888888,
              "#fdca26"
             ],
             [
              1,
              "#f0f921"
             ]
            ],
            "type": "heatmap"
           }
          ],
          "heatmapgl": [
           {
            "colorbar": {
             "outlinewidth": 0,
             "ticks": ""
            },
            "colorscale": [
             [
              0,
              "#0d0887"
             ],
             [
              0.1111111111111111,
              "#46039f"
             ],
             [
              0.2222222222222222,
              "#7201a8"
             ],
             [
              0.3333333333333333,
              "#9c179e"
             ],
             [
              0.4444444444444444,
              "#bd3786"
             ],
             [
              0.5555555555555556,
              "#d8576b"
             ],
             [
              0.6666666666666666,
              "#ed7953"
             ],
             [
              0.7777777777777778,
              "#fb9f3a"
             ],
             [
              0.8888888888888888,
              "#fdca26"
             ],
             [
              1,
              "#f0f921"
             ]
            ],
            "type": "heatmapgl"
           }
          ],
          "histogram": [
           {
            "marker": {
             "pattern": {
              "fillmode": "overlay",
              "size": 10,
              "solidity": 0.2
             }
            },
            "type": "histogram"
           }
          ],
          "histogram2d": [
           {
            "colorbar": {
             "outlinewidth": 0,
             "ticks": ""
            },
            "colorscale": [
             [
              0,
              "#0d0887"
             ],
             [
              0.1111111111111111,
              "#46039f"
             ],
             [
              0.2222222222222222,
              "#7201a8"
             ],
             [
              0.3333333333333333,
              "#9c179e"
             ],
             [
              0.4444444444444444,
              "#bd3786"
             ],
             [
              0.5555555555555556,
              "#d8576b"
             ],
             [
              0.6666666666666666,
              "#ed7953"
             ],
             [
              0.7777777777777778,
              "#fb9f3a"
             ],
             [
              0.8888888888888888,
              "#fdca26"
             ],
             [
              1,
              "#f0f921"
             ]
            ],
            "type": "histogram2d"
           }
          ],
          "histogram2dcontour": [
           {
            "colorbar": {
             "outlinewidth": 0,
             "ticks": ""
            },
            "colorscale": [
             [
              0,
              "#0d0887"
             ],
             [
              0.1111111111111111,
              "#46039f"
             ],
             [
              0.2222222222222222,
              "#7201a8"
             ],
             [
              0.3333333333333333,
              "#9c179e"
             ],
             [
              0.4444444444444444,
              "#bd3786"
             ],
             [
              0.5555555555555556,
              "#d8576b"
             ],
             [
              0.6666666666666666,
              "#ed7953"
             ],
             [
              0.7777777777777778,
              "#fb9f3a"
             ],
             [
              0.8888888888888888,
              "#fdca26"
             ],
             [
              1,
              "#f0f921"
             ]
            ],
            "type": "histogram2dcontour"
           }
          ],
          "mesh3d": [
           {
            "colorbar": {
             "outlinewidth": 0,
             "ticks": ""
            },
            "type": "mesh3d"
           }
          ],
          "parcoords": [
           {
            "line": {
             "colorbar": {
              "outlinewidth": 0,
              "ticks": ""
             }
            },
            "type": "parcoords"
           }
          ],
          "pie": [
           {
            "automargin": true,
            "type": "pie"
           }
          ],
          "scatter": [
           {
            "fillpattern": {
             "fillmode": "overlay",
             "size": 10,
             "solidity": 0.2
            },
            "type": "scatter"
           }
          ],
          "scatter3d": [
           {
            "line": {
             "colorbar": {
              "outlinewidth": 0,
              "ticks": ""
             }
            },
            "marker": {
             "colorbar": {
              "outlinewidth": 0,
              "ticks": ""
             }
            },
            "type": "scatter3d"
           }
          ],
          "scattercarpet": [
           {
            "marker": {
             "colorbar": {
              "outlinewidth": 0,
              "ticks": ""
             }
            },
            "type": "scattercarpet"
           }
          ],
          "scattergeo": [
           {
            "marker": {
             "colorbar": {
              "outlinewidth": 0,
              "ticks": ""
             }
            },
            "type": "scattergeo"
           }
          ],
          "scattergl": [
           {
            "marker": {
             "colorbar": {
              "outlinewidth": 0,
              "ticks": ""
             }
            },
            "type": "scattergl"
           }
          ],
          "scattermapbox": [
           {
            "marker": {
             "colorbar": {
              "outlinewidth": 0,
              "ticks": ""
             }
            },
            "type": "scattermapbox"
           }
          ],
          "scatterpolar": [
           {
            "marker": {
             "colorbar": {
              "outlinewidth": 0,
              "ticks": ""
             }
            },
            "type": "scatterpolar"
           }
          ],
          "scatterpolargl": [
           {
            "marker": {
             "colorbar": {
              "outlinewidth": 0,
              "ticks": ""
             }
            },
            "type": "scatterpolargl"
           }
          ],
          "scatterternary": [
           {
            "marker": {
             "colorbar": {
              "outlinewidth": 0,
              "ticks": ""
             }
            },
            "type": "scatterternary"
           }
          ],
          "surface": [
           {
            "colorbar": {
             "outlinewidth": 0,
             "ticks": ""
            },
            "colorscale": [
             [
              0,
              "#0d0887"
             ],
             [
              0.1111111111111111,
              "#46039f"
             ],
             [
              0.2222222222222222,
              "#7201a8"
             ],
             [
              0.3333333333333333,
              "#9c179e"
             ],
             [
              0.4444444444444444,
              "#bd3786"
             ],
             [
              0.5555555555555556,
              "#d8576b"
             ],
             [
              0.6666666666666666,
              "#ed7953"
             ],
             [
              0.7777777777777778,
              "#fb9f3a"
             ],
             [
              0.8888888888888888,
              "#fdca26"
             ],
             [
              1,
              "#f0f921"
             ]
            ],
            "type": "surface"
           }
          ],
          "table": [
           {
            "cells": {
             "fill": {
              "color": "#EBF0F8"
             },
             "line": {
              "color": "white"
             }
            },
            "header": {
             "fill": {
              "color": "#C8D4E3"
             },
             "line": {
              "color": "white"
             }
            },
            "type": "table"
           }
          ]
         },
         "layout": {
          "annotationdefaults": {
           "arrowcolor": "#2a3f5f",
           "arrowhead": 0,
           "arrowwidth": 1
          },
          "autotypenumbers": "strict",
          "coloraxis": {
           "colorbar": {
            "outlinewidth": 0,
            "ticks": ""
           }
          },
          "colorscale": {
           "diverging": [
            [
             0,
             "#8e0152"
            ],
            [
             0.1,
             "#c51b7d"
            ],
            [
             0.2,
             "#de77ae"
            ],
            [
             0.3,
             "#f1b6da"
            ],
            [
             0.4,
             "#fde0ef"
            ],
            [
             0.5,
             "#f7f7f7"
            ],
            [
             0.6,
             "#e6f5d0"
            ],
            [
             0.7,
             "#b8e186"
            ],
            [
             0.8,
             "#7fbc41"
            ],
            [
             0.9,
             "#4d9221"
            ],
            [
             1,
             "#276419"
            ]
           ],
           "sequential": [
            [
             0,
             "#0d0887"
            ],
            [
             0.1111111111111111,
             "#46039f"
            ],
            [
             0.2222222222222222,
             "#7201a8"
            ],
            [
             0.3333333333333333,
             "#9c179e"
            ],
            [
             0.4444444444444444,
             "#bd3786"
            ],
            [
             0.5555555555555556,
             "#d8576b"
            ],
            [
             0.6666666666666666,
             "#ed7953"
            ],
            [
             0.7777777777777778,
             "#fb9f3a"
            ],
            [
             0.8888888888888888,
             "#fdca26"
            ],
            [
             1,
             "#f0f921"
            ]
           ],
           "sequentialminus": [
            [
             0,
             "#0d0887"
            ],
            [
             0.1111111111111111,
             "#46039f"
            ],
            [
             0.2222222222222222,
             "#7201a8"
            ],
            [
             0.3333333333333333,
             "#9c179e"
            ],
            [
             0.4444444444444444,
             "#bd3786"
            ],
            [
             0.5555555555555556,
             "#d8576b"
            ],
            [
             0.6666666666666666,
             "#ed7953"
            ],
            [
             0.7777777777777778,
             "#fb9f3a"
            ],
            [
             0.8888888888888888,
             "#fdca26"
            ],
            [
             1,
             "#f0f921"
            ]
           ]
          },
          "colorway": [
           "#636efa",
           "#EF553B",
           "#00cc96",
           "#ab63fa",
           "#FFA15A",
           "#19d3f3",
           "#FF6692",
           "#B6E880",
           "#FF97FF",
           "#FECB52"
          ],
          "font": {
           "color": "#2a3f5f"
          },
          "geo": {
           "bgcolor": "white",
           "lakecolor": "white",
           "landcolor": "white",
           "showlakes": true,
           "showland": true,
           "subunitcolor": "#C8D4E3"
          },
          "hoverlabel": {
           "align": "left"
          },
          "hovermode": "closest",
          "mapbox": {
           "style": "light"
          },
          "paper_bgcolor": "white",
          "plot_bgcolor": "white",
          "polar": {
           "angularaxis": {
            "gridcolor": "#EBF0F8",
            "linecolor": "#EBF0F8",
            "ticks": ""
           },
           "bgcolor": "white",
           "radialaxis": {
            "gridcolor": "#EBF0F8",
            "linecolor": "#EBF0F8",
            "ticks": ""
           }
          },
          "scene": {
           "xaxis": {
            "backgroundcolor": "white",
            "gridcolor": "#DFE8F3",
            "gridwidth": 2,
            "linecolor": "#EBF0F8",
            "showbackground": true,
            "ticks": "",
            "zerolinecolor": "#EBF0F8"
           },
           "yaxis": {
            "backgroundcolor": "white",
            "gridcolor": "#DFE8F3",
            "gridwidth": 2,
            "linecolor": "#EBF0F8",
            "showbackground": true,
            "ticks": "",
            "zerolinecolor": "#EBF0F8"
           },
           "zaxis": {
            "backgroundcolor": "white",
            "gridcolor": "#DFE8F3",
            "gridwidth": 2,
            "linecolor": "#EBF0F8",
            "showbackground": true,
            "ticks": "",
            "zerolinecolor": "#EBF0F8"
           }
          },
          "shapedefaults": {
           "line": {
            "color": "#2a3f5f"
           }
          },
          "ternary": {
           "aaxis": {
            "gridcolor": "#DFE8F3",
            "linecolor": "#A2B1C6",
            "ticks": ""
           },
           "baxis": {
            "gridcolor": "#DFE8F3",
            "linecolor": "#A2B1C6",
            "ticks": ""
           },
           "bgcolor": "white",
           "caxis": {
            "gridcolor": "#DFE8F3",
            "linecolor": "#A2B1C6",
            "ticks": ""
           }
          },
          "title": {
           "x": 0.05
          },
          "xaxis": {
           "automargin": true,
           "gridcolor": "#EBF0F8",
           "linecolor": "#EBF0F8",
           "ticks": "",
           "title": {
            "standoff": 15
           },
           "zerolinecolor": "#EBF0F8",
           "zerolinewidth": 2
          },
          "yaxis": {
           "automargin": true,
           "gridcolor": "#EBF0F8",
           "linecolor": "#EBF0F8",
           "ticks": "",
           "title": {
            "standoff": 15
           },
           "zerolinecolor": "#EBF0F8",
           "zerolinewidth": 2
          }
         }
        },
        "title": {
         "font": {
          "color": "Black",
          "size": 22
         },
         "text": "Topic Word Scores",
         "x": 0.5,
         "xanchor": "center",
         "yanchor": "top"
        },
        "width": 2000,
        "xaxis": {
         "anchor": "y",
         "domain": [
          0,
          0.175
         ],
         "showgrid": true
        },
        "xaxis10": {
         "anchor": "y10",
         "domain": [
          0.275,
          0.45
         ],
         "showgrid": true
        },
        "xaxis11": {
         "anchor": "y11",
         "domain": [
          0.55,
          0.7250000000000001
         ],
         "showgrid": true
        },
        "xaxis12": {
         "anchor": "y12",
         "domain": [
          0.825,
          1
         ],
         "showgrid": true
        },
        "xaxis2": {
         "anchor": "y2",
         "domain": [
          0.275,
          0.45
         ],
         "showgrid": true
        },
        "xaxis3": {
         "anchor": "y3",
         "domain": [
          0.55,
          0.7250000000000001
         ],
         "showgrid": true
        },
        "xaxis4": {
         "anchor": "y4",
         "domain": [
          0.825,
          1
         ],
         "showgrid": true
        },
        "xaxis5": {
         "anchor": "y5",
         "domain": [
          0,
          0.175
         ],
         "showgrid": true
        },
        "xaxis6": {
         "anchor": "y6",
         "domain": [
          0.275,
          0.45
         ],
         "showgrid": true
        },
        "xaxis7": {
         "anchor": "y7",
         "domain": [
          0.55,
          0.7250000000000001
         ],
         "showgrid": true
        },
        "xaxis8": {
         "anchor": "y8",
         "domain": [
          0.825,
          1
         ],
         "showgrid": true
        },
        "xaxis9": {
         "anchor": "y9",
         "domain": [
          0,
          0.175
         ],
         "showgrid": true
        },
        "yaxis": {
         "anchor": "x",
         "domain": [
          0.7555555555555555,
          1
         ],
         "showgrid": true
        },
        "yaxis10": {
         "anchor": "x10",
         "domain": [
          0,
          0.24444444444444446
         ],
         "showgrid": true
        },
        "yaxis11": {
         "anchor": "x11",
         "domain": [
          0,
          0.24444444444444446
         ],
         "showgrid": true
        },
        "yaxis12": {
         "anchor": "x12",
         "domain": [
          0,
          0.24444444444444446
         ],
         "showgrid": true
        },
        "yaxis2": {
         "anchor": "x2",
         "domain": [
          0.7555555555555555,
          1
         ],
         "showgrid": true
        },
        "yaxis3": {
         "anchor": "x3",
         "domain": [
          0.7555555555555555,
          1
         ],
         "showgrid": true
        },
        "yaxis4": {
         "anchor": "x4",
         "domain": [
          0.7555555555555555,
          1
         ],
         "showgrid": true
        },
        "yaxis5": {
         "anchor": "x5",
         "domain": [
          0.37777777777777777,
          0.6222222222222222
         ],
         "showgrid": true
        },
        "yaxis6": {
         "anchor": "x6",
         "domain": [
          0.37777777777777777,
          0.6222222222222222
         ],
         "showgrid": true
        },
        "yaxis7": {
         "anchor": "x7",
         "domain": [
          0.37777777777777777,
          0.6222222222222222
         ],
         "showgrid": true
        },
        "yaxis8": {
         "anchor": "x8",
         "domain": [
          0.37777777777777777,
          0.6222222222222222
         ],
         "showgrid": true
        },
        "yaxis9": {
         "anchor": "x9",
         "domain": [
          0,
          0.24444444444444446
         ],
         "showgrid": true
        }
       }
      }
     },
     "metadata": {},
     "output_type": "display_data"
    }
   ],
   "source": [
    "topic_model.visualize_barchart(top_n_topics=10, n_words=10,width=500, height=500)"
   ]
  },
  {
   "cell_type": "code",
   "execution_count": 75,
   "metadata": {},
   "outputs": [
    {
     "data": {
      "application/vnd.plotly.v1+json": {
       "config": {
        "plotlyServerURL": "https://plot.ly"
       },
       "data": [
        {
         "customdata": [
          [
           0,
           "drinking | adolescent | study | sexual | factor",
           3424
          ],
          [
           1,
           "smoking | ethanol | cannabis | adolescent | tobacco",
           1661
          ],
          [
           2,
           "health | risk | physical | factor | study",
           598
          ],
          [
           3,
           "disease | patient | child | obesity | risk",
           342
          ],
          [
           4,
           "internet | adolescent | problem | study | exposure",
           263
          ],
          [
           5,
           "driving | injury | sport | participation | risk",
           180
          ],
          [
           6,
           "minor | compound | composition | production | concentration",
           153
          ],
          [
           7,
           "exposure | child | brain | volume | pregnancy",
           122
          ],
          [
           8,
           "sleep | duration | quality | problem | study",
           89
          ],
          [
           9,
           "patient | injury | trauma | head | minor",
           54
          ]
         ],
         "hovertemplate": "<b>Topic %{customdata[0]}</b><br>%{customdata[1]}<br>Size: %{customdata[2]}",
         "legendgroup": "",
         "marker": {
          "color": "#B0BEC5",
          "line": {
           "color": "DarkSlateGrey",
           "width": 2
          },
          "size": [
           3424,
           1661,
           598,
           342,
           263,
           180,
           153,
           122,
           89,
           54
          ],
          "sizemode": "area",
          "sizeref": 2.14,
          "symbol": "circle"
         },
         "mode": "markers",
         "name": "",
         "orientation": "v",
         "showlegend": false,
         "type": "scatter",
         "x": [
          -0.9230412244796753,
          1.5893489122390747,
          3.042207956314087,
          0.15363596379756927,
          -0.4347519278526306,
          -0.3767174184322357,
          0.6943590641021729,
          4.145318984985352,
          2.0896246433258057,
          0.5103352665901184
         ],
         "xaxis": "x",
         "y": [
          0.8672075867652893,
          -0.0383664034307003,
          0.33027929067611694,
          -0.9466642737388611,
          0.24955841898918152,
          1.049758791923523,
          0.7620688676834106,
          1.2983206510543823,
          1.7909455299377441,
          -1.381192922592163
         ],
         "yaxis": "y"
        }
       ],
       "layout": {
        "annotations": [
         {
          "showarrow": false,
          "text": "D1",
          "x": -1.0614974081516266,
          "y": 0.23560774922370908,
          "yshift": 10
         },
         {
          "showarrow": false,
          "text": "D2",
          "x": 1.8528097122907639,
          "xshift": 10,
          "y": 2.0595873594284058
         }
        ],
        "height": 650,
        "hoverlabel": {
         "bgcolor": "white",
         "font": {
          "family": "Rockwell",
          "size": 16
         }
        },
        "legend": {
         "itemsizing": "constant",
         "tracegroupgap": 0
        },
        "margin": {
         "t": 60
        },
        "shapes": [
         {
          "line": {
           "color": "#CFD8DC",
           "width": 2
          },
          "type": "line",
          "x0": 1.8528097122907639,
          "x1": 1.8528097122907639,
          "y0": -1.5883718609809876,
          "y1": 2.0595873594284058
         },
         {
          "line": {
           "color": "#9E9E9E",
           "width": 2
          },
          "type": "line",
          "x0": -1.0614974081516266,
          "x1": 4.767116832733154,
          "y0": 0.23560774922370908,
          "y1": 0.23560774922370908
         }
        ],
        "sliders": [
         {
          "active": 0,
          "pad": {
           "t": 50
          },
          "steps": [
           {
            "args": [
             {
              "marker.color": [
               [
                "red",
                "#B0BEC5",
                "#B0BEC5",
                "#B0BEC5",
                "#B0BEC5",
                "#B0BEC5",
                "#B0BEC5",
                "#B0BEC5",
                "#B0BEC5",
                "#B0BEC5"
               ]
              ]
             }
            ],
            "label": "Topic 0",
            "method": "update"
           },
           {
            "args": [
             {
              "marker.color": [
               [
                "#B0BEC5",
                "red",
                "#B0BEC5",
                "#B0BEC5",
                "#B0BEC5",
                "#B0BEC5",
                "#B0BEC5",
                "#B0BEC5",
                "#B0BEC5",
                "#B0BEC5"
               ]
              ]
             }
            ],
            "label": "Topic 1",
            "method": "update"
           },
           {
            "args": [
             {
              "marker.color": [
               [
                "#B0BEC5",
                "#B0BEC5",
                "red",
                "#B0BEC5",
                "#B0BEC5",
                "#B0BEC5",
                "#B0BEC5",
                "#B0BEC5",
                "#B0BEC5",
                "#B0BEC5"
               ]
              ]
             }
            ],
            "label": "Topic 2",
            "method": "update"
           },
           {
            "args": [
             {
              "marker.color": [
               [
                "#B0BEC5",
                "#B0BEC5",
                "#B0BEC5",
                "red",
                "#B0BEC5",
                "#B0BEC5",
                "#B0BEC5",
                "#B0BEC5",
                "#B0BEC5",
                "#B0BEC5"
               ]
              ]
             }
            ],
            "label": "Topic 3",
            "method": "update"
           },
           {
            "args": [
             {
              "marker.color": [
               [
                "#B0BEC5",
                "#B0BEC5",
                "#B0BEC5",
                "#B0BEC5",
                "red",
                "#B0BEC5",
                "#B0BEC5",
                "#B0BEC5",
                "#B0BEC5",
                "#B0BEC5"
               ]
              ]
             }
            ],
            "label": "Topic 4",
            "method": "update"
           },
           {
            "args": [
             {
              "marker.color": [
               [
                "#B0BEC5",
                "#B0BEC5",
                "#B0BEC5",
                "#B0BEC5",
                "#B0BEC5",
                "red",
                "#B0BEC5",
                "#B0BEC5",
                "#B0BEC5",
                "#B0BEC5"
               ]
              ]
             }
            ],
            "label": "Topic 5",
            "method": "update"
           },
           {
            "args": [
             {
              "marker.color": [
               [
                "#B0BEC5",
                "#B0BEC5",
                "#B0BEC5",
                "#B0BEC5",
                "#B0BEC5",
                "#B0BEC5",
                "red",
                "#B0BEC5",
                "#B0BEC5",
                "#B0BEC5"
               ]
              ]
             }
            ],
            "label": "Topic 6",
            "method": "update"
           },
           {
            "args": [
             {
              "marker.color": [
               [
                "#B0BEC5",
                "#B0BEC5",
                "#B0BEC5",
                "#B0BEC5",
                "#B0BEC5",
                "#B0BEC5",
                "#B0BEC5",
                "red",
                "#B0BEC5",
                "#B0BEC5"
               ]
              ]
             }
            ],
            "label": "Topic 7",
            "method": "update"
           },
           {
            "args": [
             {
              "marker.color": [
               [
                "#B0BEC5",
                "#B0BEC5",
                "#B0BEC5",
                "#B0BEC5",
                "#B0BEC5",
                "#B0BEC5",
                "#B0BEC5",
                "#B0BEC5",
                "red",
                "#B0BEC5"
               ]
              ]
             }
            ],
            "label": "Topic 8",
            "method": "update"
           },
           {
            "args": [
             {
              "marker.color": [
               [
                "#B0BEC5",
                "#B0BEC5",
                "#B0BEC5",
                "#B0BEC5",
                "#B0BEC5",
                "#B0BEC5",
                "#B0BEC5",
                "#B0BEC5",
                "#B0BEC5",
                "red"
               ]
              ]
             }
            ],
            "label": "Topic 9",
            "method": "update"
           }
          ]
         }
        ],
        "template": {
         "data": {
          "bar": [
           {
            "error_x": {
             "color": "rgb(36,36,36)"
            },
            "error_y": {
             "color": "rgb(36,36,36)"
            },
            "marker": {
             "line": {
              "color": "white",
              "width": 0.5
             },
             "pattern": {
              "fillmode": "overlay",
              "size": 10,
              "solidity": 0.2
             }
            },
            "type": "bar"
           }
          ],
          "barpolar": [
           {
            "marker": {
             "line": {
              "color": "white",
              "width": 0.5
             },
             "pattern": {
              "fillmode": "overlay",
              "size": 10,
              "solidity": 0.2
             }
            },
            "type": "barpolar"
           }
          ],
          "carpet": [
           {
            "aaxis": {
             "endlinecolor": "rgb(36,36,36)",
             "gridcolor": "white",
             "linecolor": "white",
             "minorgridcolor": "white",
             "startlinecolor": "rgb(36,36,36)"
            },
            "baxis": {
             "endlinecolor": "rgb(36,36,36)",
             "gridcolor": "white",
             "linecolor": "white",
             "minorgridcolor": "white",
             "startlinecolor": "rgb(36,36,36)"
            },
            "type": "carpet"
           }
          ],
          "choropleth": [
           {
            "colorbar": {
             "outlinewidth": 1,
             "tickcolor": "rgb(36,36,36)",
             "ticks": "outside"
            },
            "type": "choropleth"
           }
          ],
          "contour": [
           {
            "colorbar": {
             "outlinewidth": 1,
             "tickcolor": "rgb(36,36,36)",
             "ticks": "outside"
            },
            "colorscale": [
             [
              0,
              "#440154"
             ],
             [
              0.1111111111111111,
              "#482878"
             ],
             [
              0.2222222222222222,
              "#3e4989"
             ],
             [
              0.3333333333333333,
              "#31688e"
             ],
             [
              0.4444444444444444,
              "#26828e"
             ],
             [
              0.5555555555555556,
              "#1f9e89"
             ],
             [
              0.6666666666666666,
              "#35b779"
             ],
             [
              0.7777777777777778,
              "#6ece58"
             ],
             [
              0.8888888888888888,
              "#b5de2b"
             ],
             [
              1,
              "#fde725"
             ]
            ],
            "type": "contour"
           }
          ],
          "contourcarpet": [
           {
            "colorbar": {
             "outlinewidth": 1,
             "tickcolor": "rgb(36,36,36)",
             "ticks": "outside"
            },
            "type": "contourcarpet"
           }
          ],
          "heatmap": [
           {
            "colorbar": {
             "outlinewidth": 1,
             "tickcolor": "rgb(36,36,36)",
             "ticks": "outside"
            },
            "colorscale": [
             [
              0,
              "#440154"
             ],
             [
              0.1111111111111111,
              "#482878"
             ],
             [
              0.2222222222222222,
              "#3e4989"
             ],
             [
              0.3333333333333333,
              "#31688e"
             ],
             [
              0.4444444444444444,
              "#26828e"
             ],
             [
              0.5555555555555556,
              "#1f9e89"
             ],
             [
              0.6666666666666666,
              "#35b779"
             ],
             [
              0.7777777777777778,
              "#6ece58"
             ],
             [
              0.8888888888888888,
              "#b5de2b"
             ],
             [
              1,
              "#fde725"
             ]
            ],
            "type": "heatmap"
           }
          ],
          "heatmapgl": [
           {
            "colorbar": {
             "outlinewidth": 1,
             "tickcolor": "rgb(36,36,36)",
             "ticks": "outside"
            },
            "colorscale": [
             [
              0,
              "#440154"
             ],
             [
              0.1111111111111111,
              "#482878"
             ],
             [
              0.2222222222222222,
              "#3e4989"
             ],
             [
              0.3333333333333333,
              "#31688e"
             ],
             [
              0.4444444444444444,
              "#26828e"
             ],
             [
              0.5555555555555556,
              "#1f9e89"
             ],
             [
              0.6666666666666666,
              "#35b779"
             ],
             [
              0.7777777777777778,
              "#6ece58"
             ],
             [
              0.8888888888888888,
              "#b5de2b"
             ],
             [
              1,
              "#fde725"
             ]
            ],
            "type": "heatmapgl"
           }
          ],
          "histogram": [
           {
            "marker": {
             "line": {
              "color": "white",
              "width": 0.6
             }
            },
            "type": "histogram"
           }
          ],
          "histogram2d": [
           {
            "colorbar": {
             "outlinewidth": 1,
             "tickcolor": "rgb(36,36,36)",
             "ticks": "outside"
            },
            "colorscale": [
             [
              0,
              "#440154"
             ],
             [
              0.1111111111111111,
              "#482878"
             ],
             [
              0.2222222222222222,
              "#3e4989"
             ],
             [
              0.3333333333333333,
              "#31688e"
             ],
             [
              0.4444444444444444,
              "#26828e"
             ],
             [
              0.5555555555555556,
              "#1f9e89"
             ],
             [
              0.6666666666666666,
              "#35b779"
             ],
             [
              0.7777777777777778,
              "#6ece58"
             ],
             [
              0.8888888888888888,
              "#b5de2b"
             ],
             [
              1,
              "#fde725"
             ]
            ],
            "type": "histogram2d"
           }
          ],
          "histogram2dcontour": [
           {
            "colorbar": {
             "outlinewidth": 1,
             "tickcolor": "rgb(36,36,36)",
             "ticks": "outside"
            },
            "colorscale": [
             [
              0,
              "#440154"
             ],
             [
              0.1111111111111111,
              "#482878"
             ],
             [
              0.2222222222222222,
              "#3e4989"
             ],
             [
              0.3333333333333333,
              "#31688e"
             ],
             [
              0.4444444444444444,
              "#26828e"
             ],
             [
              0.5555555555555556,
              "#1f9e89"
             ],
             [
              0.6666666666666666,
              "#35b779"
             ],
             [
              0.7777777777777778,
              "#6ece58"
             ],
             [
              0.8888888888888888,
              "#b5de2b"
             ],
             [
              1,
              "#fde725"
             ]
            ],
            "type": "histogram2dcontour"
           }
          ],
          "mesh3d": [
           {
            "colorbar": {
             "outlinewidth": 1,
             "tickcolor": "rgb(36,36,36)",
             "ticks": "outside"
            },
            "type": "mesh3d"
           }
          ],
          "parcoords": [
           {
            "line": {
             "colorbar": {
              "outlinewidth": 1,
              "tickcolor": "rgb(36,36,36)",
              "ticks": "outside"
             }
            },
            "type": "parcoords"
           }
          ],
          "pie": [
           {
            "automargin": true,
            "type": "pie"
           }
          ],
          "scatter": [
           {
            "fillpattern": {
             "fillmode": "overlay",
             "size": 10,
             "solidity": 0.2
            },
            "type": "scatter"
           }
          ],
          "scatter3d": [
           {
            "line": {
             "colorbar": {
              "outlinewidth": 1,
              "tickcolor": "rgb(36,36,36)",
              "ticks": "outside"
             }
            },
            "marker": {
             "colorbar": {
              "outlinewidth": 1,
              "tickcolor": "rgb(36,36,36)",
              "ticks": "outside"
             }
            },
            "type": "scatter3d"
           }
          ],
          "scattercarpet": [
           {
            "marker": {
             "colorbar": {
              "outlinewidth": 1,
              "tickcolor": "rgb(36,36,36)",
              "ticks": "outside"
             }
            },
            "type": "scattercarpet"
           }
          ],
          "scattergeo": [
           {
            "marker": {
             "colorbar": {
              "outlinewidth": 1,
              "tickcolor": "rgb(36,36,36)",
              "ticks": "outside"
             }
            },
            "type": "scattergeo"
           }
          ],
          "scattergl": [
           {
            "marker": {
             "colorbar": {
              "outlinewidth": 1,
              "tickcolor": "rgb(36,36,36)",
              "ticks": "outside"
             }
            },
            "type": "scattergl"
           }
          ],
          "scattermapbox": [
           {
            "marker": {
             "colorbar": {
              "outlinewidth": 1,
              "tickcolor": "rgb(36,36,36)",
              "ticks": "outside"
             }
            },
            "type": "scattermapbox"
           }
          ],
          "scatterpolar": [
           {
            "marker": {
             "colorbar": {
              "outlinewidth": 1,
              "tickcolor": "rgb(36,36,36)",
              "ticks": "outside"
             }
            },
            "type": "scatterpolar"
           }
          ],
          "scatterpolargl": [
           {
            "marker": {
             "colorbar": {
              "outlinewidth": 1,
              "tickcolor": "rgb(36,36,36)",
              "ticks": "outside"
             }
            },
            "type": "scatterpolargl"
           }
          ],
          "scatterternary": [
           {
            "marker": {
             "colorbar": {
              "outlinewidth": 1,
              "tickcolor": "rgb(36,36,36)",
              "ticks": "outside"
             }
            },
            "type": "scatterternary"
           }
          ],
          "surface": [
           {
            "colorbar": {
             "outlinewidth": 1,
             "tickcolor": "rgb(36,36,36)",
             "ticks": "outside"
            },
            "colorscale": [
             [
              0,
              "#440154"
             ],
             [
              0.1111111111111111,
              "#482878"
             ],
             [
              0.2222222222222222,
              "#3e4989"
             ],
             [
              0.3333333333333333,
              "#31688e"
             ],
             [
              0.4444444444444444,
              "#26828e"
             ],
             [
              0.5555555555555556,
              "#1f9e89"
             ],
             [
              0.6666666666666666,
              "#35b779"
             ],
             [
              0.7777777777777778,
              "#6ece58"
             ],
             [
              0.8888888888888888,
              "#b5de2b"
             ],
             [
              1,
              "#fde725"
             ]
            ],
            "type": "surface"
           }
          ],
          "table": [
           {
            "cells": {
             "fill": {
              "color": "rgb(237,237,237)"
             },
             "line": {
              "color": "white"
             }
            },
            "header": {
             "fill": {
              "color": "rgb(217,217,217)"
             },
             "line": {
              "color": "white"
             }
            },
            "type": "table"
           }
          ]
         },
         "layout": {
          "annotationdefaults": {
           "arrowhead": 0,
           "arrowwidth": 1
          },
          "autotypenumbers": "strict",
          "coloraxis": {
           "colorbar": {
            "outlinewidth": 1,
            "tickcolor": "rgb(36,36,36)",
            "ticks": "outside"
           }
          },
          "colorscale": {
           "diverging": [
            [
             0,
             "rgb(103,0,31)"
            ],
            [
             0.1,
             "rgb(178,24,43)"
            ],
            [
             0.2,
             "rgb(214,96,77)"
            ],
            [
             0.3,
             "rgb(244,165,130)"
            ],
            [
             0.4,
             "rgb(253,219,199)"
            ],
            [
             0.5,
             "rgb(247,247,247)"
            ],
            [
             0.6,
             "rgb(209,229,240)"
            ],
            [
             0.7,
             "rgb(146,197,222)"
            ],
            [
             0.8,
             "rgb(67,147,195)"
            ],
            [
             0.9,
             "rgb(33,102,172)"
            ],
            [
             1,
             "rgb(5,48,97)"
            ]
           ],
           "sequential": [
            [
             0,
             "#440154"
            ],
            [
             0.1111111111111111,
             "#482878"
            ],
            [
             0.2222222222222222,
             "#3e4989"
            ],
            [
             0.3333333333333333,
             "#31688e"
            ],
            [
             0.4444444444444444,
             "#26828e"
            ],
            [
             0.5555555555555556,
             "#1f9e89"
            ],
            [
             0.6666666666666666,
             "#35b779"
            ],
            [
             0.7777777777777778,
             "#6ece58"
            ],
            [
             0.8888888888888888,
             "#b5de2b"
            ],
            [
             1,
             "#fde725"
            ]
           ],
           "sequentialminus": [
            [
             0,
             "#440154"
            ],
            [
             0.1111111111111111,
             "#482878"
            ],
            [
             0.2222222222222222,
             "#3e4989"
            ],
            [
             0.3333333333333333,
             "#31688e"
            ],
            [
             0.4444444444444444,
             "#26828e"
            ],
            [
             0.5555555555555556,
             "#1f9e89"
            ],
            [
             0.6666666666666666,
             "#35b779"
            ],
            [
             0.7777777777777778,
             "#6ece58"
            ],
            [
             0.8888888888888888,
             "#b5de2b"
            ],
            [
             1,
             "#fde725"
            ]
           ]
          },
          "colorway": [
           "#1F77B4",
           "#FF7F0E",
           "#2CA02C",
           "#D62728",
           "#9467BD",
           "#8C564B",
           "#E377C2",
           "#7F7F7F",
           "#BCBD22",
           "#17BECF"
          ],
          "font": {
           "color": "rgb(36,36,36)"
          },
          "geo": {
           "bgcolor": "white",
           "lakecolor": "white",
           "landcolor": "white",
           "showlakes": true,
           "showland": true,
           "subunitcolor": "white"
          },
          "hoverlabel": {
           "align": "left"
          },
          "hovermode": "closest",
          "mapbox": {
           "style": "light"
          },
          "paper_bgcolor": "white",
          "plot_bgcolor": "white",
          "polar": {
           "angularaxis": {
            "gridcolor": "rgb(232,232,232)",
            "linecolor": "rgb(36,36,36)",
            "showgrid": false,
            "showline": true,
            "ticks": "outside"
           },
           "bgcolor": "white",
           "radialaxis": {
            "gridcolor": "rgb(232,232,232)",
            "linecolor": "rgb(36,36,36)",
            "showgrid": false,
            "showline": true,
            "ticks": "outside"
           }
          },
          "scene": {
           "xaxis": {
            "backgroundcolor": "white",
            "gridcolor": "rgb(232,232,232)",
            "gridwidth": 2,
            "linecolor": "rgb(36,36,36)",
            "showbackground": true,
            "showgrid": false,
            "showline": true,
            "ticks": "outside",
            "zeroline": false,
            "zerolinecolor": "rgb(36,36,36)"
           },
           "yaxis": {
            "backgroundcolor": "white",
            "gridcolor": "rgb(232,232,232)",
            "gridwidth": 2,
            "linecolor": "rgb(36,36,36)",
            "showbackground": true,
            "showgrid": false,
            "showline": true,
            "ticks": "outside",
            "zeroline": false,
            "zerolinecolor": "rgb(36,36,36)"
           },
           "zaxis": {
            "backgroundcolor": "white",
            "gridcolor": "rgb(232,232,232)",
            "gridwidth": 2,
            "linecolor": "rgb(36,36,36)",
            "showbackground": true,
            "showgrid": false,
            "showline": true,
            "ticks": "outside",
            "zeroline": false,
            "zerolinecolor": "rgb(36,36,36)"
           }
          },
          "shapedefaults": {
           "fillcolor": "black",
           "line": {
            "width": 0
           },
           "opacity": 0.3
          },
          "ternary": {
           "aaxis": {
            "gridcolor": "rgb(232,232,232)",
            "linecolor": "rgb(36,36,36)",
            "showgrid": false,
            "showline": true,
            "ticks": "outside"
           },
           "baxis": {
            "gridcolor": "rgb(232,232,232)",
            "linecolor": "rgb(36,36,36)",
            "showgrid": false,
            "showline": true,
            "ticks": "outside"
           },
           "bgcolor": "white",
           "caxis": {
            "gridcolor": "rgb(232,232,232)",
            "linecolor": "rgb(36,36,36)",
            "showgrid": false,
            "showline": true,
            "ticks": "outside"
           }
          },
          "title": {
           "x": 0.05
          },
          "xaxis": {
           "automargin": true,
           "gridcolor": "rgb(232,232,232)",
           "linecolor": "rgb(36,36,36)",
           "showgrid": false,
           "showline": true,
           "ticks": "outside",
           "title": {
            "standoff": 15
           },
           "zeroline": false,
           "zerolinecolor": "rgb(36,36,36)"
          },
          "yaxis": {
           "automargin": true,
           "gridcolor": "rgb(232,232,232)",
           "linecolor": "rgb(36,36,36)",
           "showgrid": false,
           "showline": true,
           "ticks": "outside",
           "title": {
            "standoff": 15
           },
           "zeroline": false,
           "zerolinecolor": "rgb(36,36,36)"
          }
         }
        },
        "title": {
         "font": {
          "color": "Black",
          "size": 22
         },
         "text": "<b>Intertopic Distance Map</b>",
         "x": 0.5,
         "xanchor": "center",
         "y": 0.95,
         "yanchor": "top"
        },
        "width": 650,
        "xaxis": {
         "anchor": "y",
         "domain": [
          0,
          1
         ],
         "range": [
          -1.0614974081516266,
          4.767116832733154
         ],
         "title": {
          "text": ""
         },
         "visible": false
        },
        "yaxis": {
         "anchor": "x",
         "domain": [
          0,
          1
         ],
         "range": [
          -1.5883718609809876,
          2.0595873594284058
         ],
         "title": {
          "text": ""
         },
         "visible": false
        }
       }
      }
     },
     "metadata": {},
     "output_type": "display_data"
    }
   ],
   "source": [
    "topic_model.visualize_topics()"
   ]
  },
  {
   "cell_type": "code",
   "execution_count": 76,
   "metadata": {},
   "outputs": [
    {
     "data": {
      "text/html": [
       "<div>\n",
       "<style scoped>\n",
       "    .dataframe tbody tr th:only-of-type {\n",
       "        vertical-align: middle;\n",
       "    }\n",
       "\n",
       "    .dataframe tbody tr th {\n",
       "        vertical-align: top;\n",
       "    }\n",
       "\n",
       "    .dataframe thead th {\n",
       "        text-align: right;\n",
       "    }\n",
       "</style>\n",
       "<table border=\"1\" class=\"dataframe\">\n",
       "  <thead>\n",
       "    <tr style=\"text-align: right;\">\n",
       "      <th></th>\n",
       "      <th>Topic</th>\n",
       "      <th>Count</th>\n",
       "      <th>Name</th>\n",
       "      <th>Representation</th>\n",
       "    </tr>\n",
       "  </thead>\n",
       "  <tbody>\n",
       "    <tr>\n",
       "      <th>0</th>\n",
       "      <td>-1</td>\n",
       "      <td>3549</td>\n",
       "      <td>-1_substance_adolescent_study_risk</td>\n",
       "      <td>[substance, adolescent, study, risk, factor, health, drug, youth, associated, behavior]</td>\n",
       "    </tr>\n",
       "    <tr>\n",
       "      <th>1</th>\n",
       "      <td>0</td>\n",
       "      <td>3424</td>\n",
       "      <td>0_drinking_adolescent_study_sexual</td>\n",
       "      <td>[drinking, adolescent, study, sexual, factor, risk, associated, behavior, substance, student]</td>\n",
       "    </tr>\n",
       "    <tr>\n",
       "      <th>2</th>\n",
       "      <td>1</td>\n",
       "      <td>1661</td>\n",
       "      <td>1_smoking_ethanol_cannabis_adolescent</td>\n",
       "      <td>[smoking, ethanol, cannabis, adolescent, tobacco, effect, study, adult, cigarette, marijuana]</td>\n",
       "    </tr>\n",
       "    <tr>\n",
       "      <th>3</th>\n",
       "      <td>2</td>\n",
       "      <td>598</td>\n",
       "      <td>2_health_risk_physical_factor</td>\n",
       "      <td>[health, risk, physical, factor, study, physical activity, adolescent, activity, lifestyle, cancer]</td>\n",
       "    </tr>\n",
       "    <tr>\n",
       "      <th>4</th>\n",
       "      <td>3</td>\n",
       "      <td>342</td>\n",
       "      <td>3_disease_patient_child_obesity</td>\n",
       "      <td>[disease, patient, child, obesity, risk, associated, study, level, group, serum]</td>\n",
       "    </tr>\n",
       "    <tr>\n",
       "      <th>5</th>\n",
       "      <td>4</td>\n",
       "      <td>263</td>\n",
       "      <td>4_internet_adolescent_problem_study</td>\n",
       "      <td>[internet, adolescent, problem, study, exposure, student, associated, online, factor, game]</td>\n",
       "    </tr>\n",
       "    <tr>\n",
       "      <th>6</th>\n",
       "      <td>5</td>\n",
       "      <td>180</td>\n",
       "      <td>5_driving_injury_sport_participation</td>\n",
       "      <td>[driving, injury, sport, participation, risk, adolescent, study, vehicle, factor, year]</td>\n",
       "    </tr>\n",
       "    <tr>\n",
       "      <th>7</th>\n",
       "      <td>6</td>\n",
       "      <td>153</td>\n",
       "      <td>6_minor_compound_composition_production</td>\n",
       "      <td>[minor, compound, composition, production, concentration, different, chemical, component, product, content]</td>\n",
       "    </tr>\n",
       "    <tr>\n",
       "      <th>8</th>\n",
       "      <td>7</td>\n",
       "      <td>122</td>\n",
       "      <td>7_exposure_child_brain_volume</td>\n",
       "      <td>[exposure, child, brain, volume, pregnancy, control, maternal, study, cocaine, effect]</td>\n",
       "    </tr>\n",
       "    <tr>\n",
       "      <th>9</th>\n",
       "      <td>8</td>\n",
       "      <td>89</td>\n",
       "      <td>8_sleep_duration_quality_problem</td>\n",
       "      <td>[sleep, duration, quality, problem, study, health, adolescent, associated, student, factor]</td>\n",
       "    </tr>\n",
       "    <tr>\n",
       "      <th>10</th>\n",
       "      <td>9</td>\n",
       "      <td>54</td>\n",
       "      <td>9_patient_injury_trauma_head</td>\n",
       "      <td>[patient, injury, trauma, head, minor, hospital, acute, fall, case, emergency]</td>\n",
       "    </tr>\n",
       "  </tbody>\n",
       "</table>\n",
       "</div>"
      ],
      "text/plain": [
       "    Topic  Count                                     Name  \\\n",
       "0  -1      3549   -1_substance_adolescent_study_risk        \n",
       "1   0      3424   0_drinking_adolescent_study_sexual        \n",
       "2   1      1661   1_smoking_ethanol_cannabis_adolescent     \n",
       "3   2      598    2_health_risk_physical_factor             \n",
       "4   3      342    3_disease_patient_child_obesity           \n",
       "5   4      263    4_internet_adolescent_problem_study       \n",
       "6   5      180    5_driving_injury_sport_participation      \n",
       "7   6      153    6_minor_compound_composition_production   \n",
       "8   7      122    7_exposure_child_brain_volume             \n",
       "9   8      89     8_sleep_duration_quality_problem          \n",
       "10  9      54     9_patient_injury_trauma_head              \n",
       "\n",
       "                                                                                                 Representation  \n",
       "0   [substance, adolescent, study, risk, factor, health, drug, youth, associated, behavior]                      \n",
       "1   [drinking, adolescent, study, sexual, factor, risk, associated, behavior, substance, student]                \n",
       "2   [smoking, ethanol, cannabis, adolescent, tobacco, effect, study, adult, cigarette, marijuana]                \n",
       "3   [health, risk, physical, factor, study, physical activity, adolescent, activity, lifestyle, cancer]          \n",
       "4   [disease, patient, child, obesity, risk, associated, study, level, group, serum]                             \n",
       "5   [internet, adolescent, problem, study, exposure, student, associated, online, factor, game]                  \n",
       "6   [driving, injury, sport, participation, risk, adolescent, study, vehicle, factor, year]                      \n",
       "7   [minor, compound, composition, production, concentration, different, chemical, component, product, content]  \n",
       "8   [exposure, child, brain, volume, pregnancy, control, maternal, study, cocaine, effect]                       \n",
       "9   [sleep, duration, quality, problem, study, health, adolescent, associated, student, factor]                  \n",
       "10  [patient, injury, trauma, head, minor, hospital, acute, fall, case, emergency]                               "
      ]
     },
     "execution_count": 76,
     "metadata": {},
     "output_type": "execute_result"
    }
   ],
   "source": [
    "tm = topic_model.get_topic_info()[['Topic', 'Count', 'Name','Representation']]\n",
    "tm"
   ]
  },
  {
   "cell_type": "code",
   "execution_count": 39,
   "metadata": {},
   "outputs": [],
   "source": [
    "tm.to_excel('../topics.xlsx', index=False)"
   ]
  },
  {
   "cell_type": "code",
   "execution_count": 40,
   "metadata": {},
   "outputs": [],
   "source": [
    "# Run the visualization with the original embeddings\n",
    "# topic_model.visualize_documents(art['text'], embeddings=embeddings)"
   ]
  },
  {
   "cell_type": "code",
   "execution_count": 41,
   "metadata": {},
   "outputs": [
    {
     "data": {
      "application/vnd.plotly.v1+json": {
       "config": {
        "plotlyServerURL": "https://plot.ly"
       },
       "data": [
        {
         "coloraxis": "coloraxis",
         "hovertemplate": "x: %{x}<br>y: %{y}<br>Similarity Score: %{z}<extra></extra>",
         "name": "0",
         "type": "heatmap",
         "x": [
          "0_drinking_adolescent_study",
          "1_tobacco_health_adolescent",
          "2_disease_patient_child",
          "3_minor_different_component",
          "4_patient_year_case",
          "5_study_health_adolescent",
          "6_substance_protective_adol...",
          "7_brain_child_control",
          "8_woman_year_disease",
          "9_intake_woman_body"
         ],
         "xaxis": "x",
         "y": [
          "0_drinking_adolescent_study",
          "1_tobacco_health_adolescent",
          "2_disease_patient_child",
          "3_minor_different_component",
          "4_patient_year_case",
          "5_study_health_adolescent",
          "6_substance_protective_adol...",
          "7_brain_child_control",
          "8_woman_year_disease",
          "9_intake_woman_body"
         ],
         "yaxis": "y",
         "z": [
          [
           1.0000000000000002,
           0.9276786149266467,
           0.8328160862727808,
           0.8196072937518911,
           0.8089537887265188,
           0.9180887654390377,
           0.9365107819575712,
           0.804144426287216,
           0.8122119003042464,
           0.7819162492179114
          ],
          [
           0.9276786149266467,
           1.0000000000000004,
           0.8528649915739311,
           0.7558989654494511,
           0.8060104037743435,
           0.9307467593266152,
           0.897831128376589,
           0.7931615480060712,
           0.8318251063369977,
           0.7777581751207504
          ],
          [
           0.8328160862727808,
           0.8528649915739311,
           1.0000000000000004,
           0.7487969547568227,
           0.890798430315826,
           0.8732828918752502,
           0.8375329599482253,
           0.8135011547920262,
           0.8465164952166965,
           0.7545219651251109
          ],
          [
           0.8196072937518911,
           0.7558989654494511,
           0.7487969547568227,
           1.0000000000000004,
           0.7588640171166188,
           0.7556156818430461,
           0.7778327202092178,
           0.7663532046453142,
           0.7219126607847749,
           0.7573881425263413
          ],
          [
           0.8089537887265188,
           0.8060104037743435,
           0.890798430315826,
           0.7588640171166188,
           0.9999999999999986,
           0.8069868155792594,
           0.7952882441179905,
           0.7479130061817185,
           0.8006602040409869,
           0.7294185352645178
          ],
          [
           0.9180887654390377,
           0.9307467593266152,
           0.8732828918752502,
           0.7556156818430461,
           0.8069868155792594,
           1.0000000000000009,
           0.9054117838068176,
           0.7760891045617432,
           0.8454963030853433,
           0.7939799703323128
          ],
          [
           0.9365107819575712,
           0.897831128376589,
           0.8375329599482253,
           0.7778327202092178,
           0.7952882441179905,
           0.9054117838068176,
           1.0000000000000002,
           0.8157162632815973,
           0.8064005626391314,
           0.7674135321852662
          ],
          [
           0.804144426287216,
           0.7931615480060712,
           0.8135011547920262,
           0.7663532046453142,
           0.7479130061817185,
           0.7760891045617432,
           0.8157162632815973,
           0.9999999999999999,
           0.7650050073431504,
           0.7660291063927839
          ],
          [
           0.8122119003042464,
           0.8318251063369977,
           0.8465164952166965,
           0.7219126607847749,
           0.8006602040409869,
           0.8454963030853433,
           0.8064005626391314,
           0.7650050073431504,
           0.9999999999999989,
           0.8168076957035872
          ],
          [
           0.7819162492179114,
           0.7777581751207504,
           0.7545219651251109,
           0.7573881425263413,
           0.7294185352645178,
           0.7939799703323128,
           0.7674135321852662,
           0.7660291063927839,
           0.8168076957035872,
           1
          ]
         ]
        }
       ],
       "layout": {
        "coloraxis": {
         "colorbar": {
          "title": {
           "text": "Similarity Score"
          }
         },
         "colorscale": [
          [
           0,
           "rgb(247,252,240)"
          ],
          [
           0.125,
           "rgb(224,243,219)"
          ],
          [
           0.25,
           "rgb(204,235,197)"
          ],
          [
           0.375,
           "rgb(168,221,181)"
          ],
          [
           0.5,
           "rgb(123,204,196)"
          ],
          [
           0.625,
           "rgb(78,179,211)"
          ],
          [
           0.75,
           "rgb(43,140,190)"
          ],
          [
           0.875,
           "rgb(8,104,172)"
          ],
          [
           1,
           "rgb(8,64,129)"
          ]
         ]
        },
        "height": 800,
        "hoverlabel": {
         "bgcolor": "white",
         "font": {
          "family": "Rockwell",
          "size": 16
         }
        },
        "legend": {
         "title": {
          "text": "Trend"
         }
        },
        "margin": {
         "t": 60
        },
        "showlegend": true,
        "template": {
         "data": {
          "bar": [
           {
            "error_x": {
             "color": "#2a3f5f"
            },
            "error_y": {
             "color": "#2a3f5f"
            },
            "marker": {
             "line": {
              "color": "#E5ECF6",
              "width": 0.5
             },
             "pattern": {
              "fillmode": "overlay",
              "size": 10,
              "solidity": 0.2
             }
            },
            "type": "bar"
           }
          ],
          "barpolar": [
           {
            "marker": {
             "line": {
              "color": "#E5ECF6",
              "width": 0.5
             },
             "pattern": {
              "fillmode": "overlay",
              "size": 10,
              "solidity": 0.2
             }
            },
            "type": "barpolar"
           }
          ],
          "carpet": [
           {
            "aaxis": {
             "endlinecolor": "#2a3f5f",
             "gridcolor": "white",
             "linecolor": "white",
             "minorgridcolor": "white",
             "startlinecolor": "#2a3f5f"
            },
            "baxis": {
             "endlinecolor": "#2a3f5f",
             "gridcolor": "white",
             "linecolor": "white",
             "minorgridcolor": "white",
             "startlinecolor": "#2a3f5f"
            },
            "type": "carpet"
           }
          ],
          "choropleth": [
           {
            "colorbar": {
             "outlinewidth": 0,
             "ticks": ""
            },
            "type": "choropleth"
           }
          ],
          "contour": [
           {
            "colorbar": {
             "outlinewidth": 0,
             "ticks": ""
            },
            "colorscale": [
             [
              0,
              "#0d0887"
             ],
             [
              0.1111111111111111,
              "#46039f"
             ],
             [
              0.2222222222222222,
              "#7201a8"
             ],
             [
              0.3333333333333333,
              "#9c179e"
             ],
             [
              0.4444444444444444,
              "#bd3786"
             ],
             [
              0.5555555555555556,
              "#d8576b"
             ],
             [
              0.6666666666666666,
              "#ed7953"
             ],
             [
              0.7777777777777778,
              "#fb9f3a"
             ],
             [
              0.8888888888888888,
              "#fdca26"
             ],
             [
              1,
              "#f0f921"
             ]
            ],
            "type": "contour"
           }
          ],
          "contourcarpet": [
           {
            "colorbar": {
             "outlinewidth": 0,
             "ticks": ""
            },
            "type": "contourcarpet"
           }
          ],
          "heatmap": [
           {
            "colorbar": {
             "outlinewidth": 0,
             "ticks": ""
            },
            "colorscale": [
             [
              0,
              "#0d0887"
             ],
             [
              0.1111111111111111,
              "#46039f"
             ],
             [
              0.2222222222222222,
              "#7201a8"
             ],
             [
              0.3333333333333333,
              "#9c179e"
             ],
             [
              0.4444444444444444,
              "#bd3786"
             ],
             [
              0.5555555555555556,
              "#d8576b"
             ],
             [
              0.6666666666666666,
              "#ed7953"
             ],
             [
              0.7777777777777778,
              "#fb9f3a"
             ],
             [
              0.8888888888888888,
              "#fdca26"
             ],
             [
              1,
              "#f0f921"
             ]
            ],
            "type": "heatmap"
           }
          ],
          "heatmapgl": [
           {
            "colorbar": {
             "outlinewidth": 0,
             "ticks": ""
            },
            "colorscale": [
             [
              0,
              "#0d0887"
             ],
             [
              0.1111111111111111,
              "#46039f"
             ],
             [
              0.2222222222222222,
              "#7201a8"
             ],
             [
              0.3333333333333333,
              "#9c179e"
             ],
             [
              0.4444444444444444,
              "#bd3786"
             ],
             [
              0.5555555555555556,
              "#d8576b"
             ],
             [
              0.6666666666666666,
              "#ed7953"
             ],
             [
              0.7777777777777778,
              "#fb9f3a"
             ],
             [
              0.8888888888888888,
              "#fdca26"
             ],
             [
              1,
              "#f0f921"
             ]
            ],
            "type": "heatmapgl"
           }
          ],
          "histogram": [
           {
            "marker": {
             "pattern": {
              "fillmode": "overlay",
              "size": 10,
              "solidity": 0.2
             }
            },
            "type": "histogram"
           }
          ],
          "histogram2d": [
           {
            "colorbar": {
             "outlinewidth": 0,
             "ticks": ""
            },
            "colorscale": [
             [
              0,
              "#0d0887"
             ],
             [
              0.1111111111111111,
              "#46039f"
             ],
             [
              0.2222222222222222,
              "#7201a8"
             ],
             [
              0.3333333333333333,
              "#9c179e"
             ],
             [
              0.4444444444444444,
              "#bd3786"
             ],
             [
              0.5555555555555556,
              "#d8576b"
             ],
             [
              0.6666666666666666,
              "#ed7953"
             ],
             [
              0.7777777777777778,
              "#fb9f3a"
             ],
             [
              0.8888888888888888,
              "#fdca26"
             ],
             [
              1,
              "#f0f921"
             ]
            ],
            "type": "histogram2d"
           }
          ],
          "histogram2dcontour": [
           {
            "colorbar": {
             "outlinewidth": 0,
             "ticks": ""
            },
            "colorscale": [
             [
              0,
              "#0d0887"
             ],
             [
              0.1111111111111111,
              "#46039f"
             ],
             [
              0.2222222222222222,
              "#7201a8"
             ],
             [
              0.3333333333333333,
              "#9c179e"
             ],
             [
              0.4444444444444444,
              "#bd3786"
             ],
             [
              0.5555555555555556,
              "#d8576b"
             ],
             [
              0.6666666666666666,
              "#ed7953"
             ],
             [
              0.7777777777777778,
              "#fb9f3a"
             ],
             [
              0.8888888888888888,
              "#fdca26"
             ],
             [
              1,
              "#f0f921"
             ]
            ],
            "type": "histogram2dcontour"
           }
          ],
          "mesh3d": [
           {
            "colorbar": {
             "outlinewidth": 0,
             "ticks": ""
            },
            "type": "mesh3d"
           }
          ],
          "parcoords": [
           {
            "line": {
             "colorbar": {
              "outlinewidth": 0,
              "ticks": ""
             }
            },
            "type": "parcoords"
           }
          ],
          "pie": [
           {
            "automargin": true,
            "type": "pie"
           }
          ],
          "scatter": [
           {
            "fillpattern": {
             "fillmode": "overlay",
             "size": 10,
             "solidity": 0.2
            },
            "type": "scatter"
           }
          ],
          "scatter3d": [
           {
            "line": {
             "colorbar": {
              "outlinewidth": 0,
              "ticks": ""
             }
            },
            "marker": {
             "colorbar": {
              "outlinewidth": 0,
              "ticks": ""
             }
            },
            "type": "scatter3d"
           }
          ],
          "scattercarpet": [
           {
            "marker": {
             "colorbar": {
              "outlinewidth": 0,
              "ticks": ""
             }
            },
            "type": "scattercarpet"
           }
          ],
          "scattergeo": [
           {
            "marker": {
             "colorbar": {
              "outlinewidth": 0,
              "ticks": ""
             }
            },
            "type": "scattergeo"
           }
          ],
          "scattergl": [
           {
            "marker": {
             "colorbar": {
              "outlinewidth": 0,
              "ticks": ""
             }
            },
            "type": "scattergl"
           }
          ],
          "scattermapbox": [
           {
            "marker": {
             "colorbar": {
              "outlinewidth": 0,
              "ticks": ""
             }
            },
            "type": "scattermapbox"
           }
          ],
          "scatterpolar": [
           {
            "marker": {
             "colorbar": {
              "outlinewidth": 0,
              "ticks": ""
             }
            },
            "type": "scatterpolar"
           }
          ],
          "scatterpolargl": [
           {
            "marker": {
             "colorbar": {
              "outlinewidth": 0,
              "ticks": ""
             }
            },
            "type": "scatterpolargl"
           }
          ],
          "scatterternary": [
           {
            "marker": {
             "colorbar": {
              "outlinewidth": 0,
              "ticks": ""
             }
            },
            "type": "scatterternary"
           }
          ],
          "surface": [
           {
            "colorbar": {
             "outlinewidth": 0,
             "ticks": ""
            },
            "colorscale": [
             [
              0,
              "#0d0887"
             ],
             [
              0.1111111111111111,
              "#46039f"
             ],
             [
              0.2222222222222222,
              "#7201a8"
             ],
             [
              0.3333333333333333,
              "#9c179e"
             ],
             [
              0.4444444444444444,
              "#bd3786"
             ],
             [
              0.5555555555555556,
              "#d8576b"
             ],
             [
              0.6666666666666666,
              "#ed7953"
             ],
             [
              0.7777777777777778,
              "#fb9f3a"
             ],
             [
              0.8888888888888888,
              "#fdca26"
             ],
             [
              1,
              "#f0f921"
             ]
            ],
            "type": "surface"
           }
          ],
          "table": [
           {
            "cells": {
             "fill": {
              "color": "#EBF0F8"
             },
             "line": {
              "color": "white"
             }
            },
            "header": {
             "fill": {
              "color": "#C8D4E3"
             },
             "line": {
              "color": "white"
             }
            },
            "type": "table"
           }
          ]
         },
         "layout": {
          "annotationdefaults": {
           "arrowcolor": "#2a3f5f",
           "arrowhead": 0,
           "arrowwidth": 1
          },
          "autotypenumbers": "strict",
          "coloraxis": {
           "colorbar": {
            "outlinewidth": 0,
            "ticks": ""
           }
          },
          "colorscale": {
           "diverging": [
            [
             0,
             "#8e0152"
            ],
            [
             0.1,
             "#c51b7d"
            ],
            [
             0.2,
             "#de77ae"
            ],
            [
             0.3,
             "#f1b6da"
            ],
            [
             0.4,
             "#fde0ef"
            ],
            [
             0.5,
             "#f7f7f7"
            ],
            [
             0.6,
             "#e6f5d0"
            ],
            [
             0.7,
             "#b8e186"
            ],
            [
             0.8,
             "#7fbc41"
            ],
            [
             0.9,
             "#4d9221"
            ],
            [
             1,
             "#276419"
            ]
           ],
           "sequential": [
            [
             0,
             "#0d0887"
            ],
            [
             0.1111111111111111,
             "#46039f"
            ],
            [
             0.2222222222222222,
             "#7201a8"
            ],
            [
             0.3333333333333333,
             "#9c179e"
            ],
            [
             0.4444444444444444,
             "#bd3786"
            ],
            [
             0.5555555555555556,
             "#d8576b"
            ],
            [
             0.6666666666666666,
             "#ed7953"
            ],
            [
             0.7777777777777778,
             "#fb9f3a"
            ],
            [
             0.8888888888888888,
             "#fdca26"
            ],
            [
             1,
             "#f0f921"
            ]
           ],
           "sequentialminus": [
            [
             0,
             "#0d0887"
            ],
            [
             0.1111111111111111,
             "#46039f"
            ],
            [
             0.2222222222222222,
             "#7201a8"
            ],
            [
             0.3333333333333333,
             "#9c179e"
            ],
            [
             0.4444444444444444,
             "#bd3786"
            ],
            [
             0.5555555555555556,
             "#d8576b"
            ],
            [
             0.6666666666666666,
             "#ed7953"
            ],
            [
             0.7777777777777778,
             "#fb9f3a"
            ],
            [
             0.8888888888888888,
             "#fdca26"
            ],
            [
             1,
             "#f0f921"
            ]
           ]
          },
          "colorway": [
           "#636efa",
           "#EF553B",
           "#00cc96",
           "#ab63fa",
           "#FFA15A",
           "#19d3f3",
           "#FF6692",
           "#B6E880",
           "#FF97FF",
           "#FECB52"
          ],
          "font": {
           "color": "#2a3f5f"
          },
          "geo": {
           "bgcolor": "white",
           "lakecolor": "white",
           "landcolor": "#E5ECF6",
           "showlakes": true,
           "showland": true,
           "subunitcolor": "white"
          },
          "hoverlabel": {
           "align": "left"
          },
          "hovermode": "closest",
          "mapbox": {
           "style": "light"
          },
          "paper_bgcolor": "white",
          "plot_bgcolor": "#E5ECF6",
          "polar": {
           "angularaxis": {
            "gridcolor": "white",
            "linecolor": "white",
            "ticks": ""
           },
           "bgcolor": "#E5ECF6",
           "radialaxis": {
            "gridcolor": "white",
            "linecolor": "white",
            "ticks": ""
           }
          },
          "scene": {
           "xaxis": {
            "backgroundcolor": "#E5ECF6",
            "gridcolor": "white",
            "gridwidth": 2,
            "linecolor": "white",
            "showbackground": true,
            "ticks": "",
            "zerolinecolor": "white"
           },
           "yaxis": {
            "backgroundcolor": "#E5ECF6",
            "gridcolor": "white",
            "gridwidth": 2,
            "linecolor": "white",
            "showbackground": true,
            "ticks": "",
            "zerolinecolor": "white"
           },
           "zaxis": {
            "backgroundcolor": "#E5ECF6",
            "gridcolor": "white",
            "gridwidth": 2,
            "linecolor": "white",
            "showbackground": true,
            "ticks": "",
            "zerolinecolor": "white"
           }
          },
          "shapedefaults": {
           "line": {
            "color": "#2a3f5f"
           }
          },
          "ternary": {
           "aaxis": {
            "gridcolor": "white",
            "linecolor": "white",
            "ticks": ""
           },
           "baxis": {
            "gridcolor": "white",
            "linecolor": "white",
            "ticks": ""
           },
           "bgcolor": "#E5ECF6",
           "caxis": {
            "gridcolor": "white",
            "linecolor": "white",
            "ticks": ""
           }
          },
          "title": {
           "x": 0.05
          },
          "xaxis": {
           "automargin": true,
           "gridcolor": "white",
           "linecolor": "white",
           "ticks": "",
           "title": {
            "standoff": 15
           },
           "zerolinecolor": "white",
           "zerolinewidth": 2
          },
          "yaxis": {
           "automargin": true,
           "gridcolor": "white",
           "linecolor": "white",
           "ticks": "",
           "title": {
            "standoff": 15
           },
           "zerolinecolor": "white",
           "zerolinewidth": 2
          }
         }
        },
        "title": {
         "font": {
          "color": "Black",
          "size": 22
         },
         "text": "<b>Similarity Matrix</b>",
         "x": 0.55,
         "xanchor": "center",
         "y": 0.95,
         "yanchor": "top"
        },
        "width": 800,
        "xaxis": {
         "anchor": "y",
         "constrain": "domain",
         "domain": [
          0,
          1
         ],
         "scaleanchor": "y"
        },
        "yaxis": {
         "anchor": "x",
         "autorange": "reversed",
         "constrain": "domain",
         "domain": [
          0,
          1
         ]
        }
       }
      }
     },
     "metadata": {},
     "output_type": "display_data"
    }
   ],
   "source": [
    "topic_model.visualize_heatmap()"
   ]
  },
  {
   "cell_type": "code",
   "execution_count": null,
   "metadata": {},
   "outputs": [],
   "source": []
  },
  {
   "cell_type": "markdown",
   "metadata": {},
   "source": [
    "## Attaching Discovered Topic Labels to Original Articles"
   ]
  },
  {
   "cell_type": "code",
   "execution_count": 42,
   "metadata": {},
   "outputs": [],
   "source": [
    "art['Topic'] = topics\n",
    "art['Prob'] = probs\n",
    "# art = art[(art['Topic'] >= 0)]   # -1 refers to all outliers and should typically be ignored. \n",
    "articles = art.drop(columns=['text'])"
   ]
  },
  {
   "cell_type": "code",
   "execution_count": 43,
   "metadata": {},
   "outputs": [
    {
     "data": {
      "text/html": [
       "<div>\n",
       "<style scoped>\n",
       "    .dataframe tbody tr th:only-of-type {\n",
       "        vertical-align: middle;\n",
       "    }\n",
       "\n",
       "    .dataframe tbody tr th {\n",
       "        vertical-align: top;\n",
       "    }\n",
       "\n",
       "    .dataframe thead th {\n",
       "        text-align: right;\n",
       "    }\n",
       "</style>\n",
       "<table border=\"1\" class=\"dataframe\">\n",
       "  <thead>\n",
       "    <tr style=\"text-align: right;\">\n",
       "      <th></th>\n",
       "      <th>Article Title</th>\n",
       "      <th>Abstract</th>\n",
       "    </tr>\n",
       "  </thead>\n",
       "  <tbody>\n",
       "    <tr>\n",
       "      <th>6</th>\n",
       "      <td>Genetic, psychosocial, and demographic factors associated with social disinhibition in Mexican-origin youth</td>\n",
       "      <td>Introduction: The genetic heritability for sensation-seeking tendencies ranges from 40 to 60%. Sensation-seeking behaviors typically manifest during adolescence and are associated with alcohol and cigarette experimentation in adolescents. Social disinhibition is an aspect of sensation-seeking that is closely tied to cigarette and alcohol experimentation. Methods: We examined the contribution of candidate genes to social disinhibition among 1132 Mexican origin youth in Houston, Texas, adjusting for established demographic and psychosocial risk factors. Saliva samples were obtained at baseline in 2005-06, and social disinhibition and other psychosocial data were obtained in 2008-09. Participants were genotyped for 672 functional and tagging SNPs potentially related to sensation-seeking, risk-taking, smoking, and alcohol use. Results: Six SNPs were significantly associated with social disinhibition scores, after controlling for false discovery and adjusting for population stratification and relevant demographic/psychosocial characteristics. Minor alleles for three of the SNPs (rs1998220 on OPRM1; rs9534511 on HTR2A; and rs4938056 on HTR3B) were associated with increased risk of social disinhibition, while minor alleles for the other three SNPs (rs1003921 on KCNC1; rs16116 downstream of NPY; and rs16870286 on LINC00518) exhibited a protective effect. Age, linguistic acculturation, thrill and adventure-seeking, and drug and alcohol-seeking were all significantly positively associated with increased risk of social disinhibition in a multivariable model (P &lt; 0.001). Conclusions: These results add to our knowledge of genetic risk factors for social disinhibition. Additional research is needed to verify whether these SNPs are associated with social disinhibition among youth of different ethnicities and nationalities, and to elucidate whether and how these SNPs functionally contribute to social disinhibition.</td>\n",
       "    </tr>\n",
       "    <tr>\n",
       "      <th>12</th>\n",
       "      <td>Individual and social determinants of multiple chronic disease behavioral risk factors among youth</td>\n",
       "      <td>Background: Behavioral risk factors are known to co-occur among youth, and to increase risks of chronic diseases morbidity and mortality later in life. However, little is known about determinants of multiple chronic disease behavioral risk factors, particularly among youth. Previous studies have been cross-sectional and carried out without a sound theoretical framework. Methods: Using longitudinal data (n = 1135) from Cycle 4 (2000-2001), Cycle 5 (2002-2003) and Cycle 6 (2004-2005) of the National Longitudinal Survey of Children and Youth, a nationally representative sample of Canadian children who are followed biennially, the present study examines the influence of a set of conceptually-related individual/social distal variables (variables situated at an intermediate distance from behaviors), and individual/social ultimate variables (variables situated at an utmost distance from behaviors) on the rate of occurrence of multiple behavioral risk factors (physical inactivity, sedentary behavior, tobacco smoking, alcohol drinking, and high body mass index) in a sample of children aged 10-11 years at baseline. Multiple behavioral risk factors were assessed using a multiple risk factor score. All statistical analyses were performed using SAS, version 9.1, and SUDAAN, version 9.01. Results: Multivariate longitudinal Poisson models showed that social distal variables including parental/peer smoking and peer drinking (Log-likelihood ratio (LLR) = 187.86, degrees of freedom (DF) = 8, p &lt; .001), as well as individual distal variables including low self-esteem (LLR = 76.94, DF = 4, p &lt; .001) increased the rate of occurrence of multiple behavioral risk factors. Individual ultimate variables including age, sex, and anxiety (LLR = 9.34, DF = 3, p &lt; .05), as well as social ultimate variables including family socioeconomic status, and family structure (LLR = 10.93, DF = 5, p = .05) contributed minimally to the rate of co-occurrence of behavioral risk factors. Conclusions: The results suggest targeting individual/social distal variables in prevention programs of multiple chronic disease behavioral risk factors among youth.</td>\n",
       "    </tr>\n",
       "    <tr>\n",
       "      <th>21</th>\n",
       "      <td>Contextual and community factors associated with youth access to cigarettes through commercial sources</td>\n",
       "      <td>Objectives This study examines contextual and community-level characteristics associated with youth access to tobacco through commercial sources in 50 non-contiguous mid-sized California communities. Methods The study is based on data from access surveys conducted by four confederate buyers (two men and two women) in 997 tobacco outlets. City demographics, adult smoking prevalence, and measures of tobacco outlet density, local tobacco retailer licencing and cigarette tax were included. Results Multilevel regression analyses indicated that buyer's actual age, a male clerk and asking young buyers about their age were related to successful cigarette purchases. Buyer's actual age and minimum age signs increased the likelihood that clerks will request an identification (ID). At the community level, a higher percentage of minors, higher education, and a greater percentage of African-Americans were associated with an increased likelihood of a successful purchase. Lower percentage of minors, lower education, lower percentage of African-Americans, and having a local tobacco retailer licencing were associated with the retailer asking for an ID. Additionally, supermarkets charged significantly more for a pack of cigarettes than small markets, whereas, smoke/tobacco shops and drug stores/pharmacies charged less. Higher prices were associated with higher median household income and greater percentage of Hispanics. Findings about community characteristics, however, differed by cigarette brand. Conclusions This study enhances our understanding of the associations between contextual and community characteristics and youth access to tobacco through commercial sources which can help policymakers to identify and target at-risk communities and outlets to decrease youth access to tobacco.</td>\n",
       "    </tr>\n",
       "    <tr>\n",
       "      <th>23</th>\n",
       "      <td>Tobacco sales to underage buyers in France: findings from a mystery shopping study</td>\n",
       "      <td>Objectives: In 2017, one in four French 17-year-olds was a daily smoker, even though France prohibited the sale of tobacco to under-18 minors in 2009. This research aims to evaluate the retail violation rate for sale to minors (RVRms) and the associated factors. Study design: The study design used is observational mystery shopping study. Methods: We conducted a mystery shopping study enlisting 12-year-old and 17-year-old youths in a representative sample of 527 tobacco outlets during three weeks in spring 2019. Multinomial Logit and Probit regressions were estimated on the data collected. Results: The law is not respected. Two of three sellers (65.2%) were willing to make an illegal sale to a 17 year-old minor, and almost one in 12 (8.1%) were willing to sell to a 12-year-old child attempting to buy tobacco. Illegal sales were more likely to be made by male sellers, retailing in big cities, when there were no in-shop queues, and to 17-year-old females. The absence of the mandatory enforcement poster flagging up the ban on the sale of tobacco to minors appears to be a strong factor associated with RVRm. Conclusions: These findings show that progress needs to be made to better enforce tobacco control legislation to help decrease underage smoking in France. Rate of compliance with the law could be improved by stronger enforcement measures and tougher sanctions, but also by training and the provision of age-verification tools for sellers, as demonstrated by experiments in other countries. (C) 2020 The Royal Society for Public Health. Published by Elsevier Ltd. All rights reserved.</td>\n",
       "    </tr>\n",
       "    <tr>\n",
       "      <th>29</th>\n",
       "      <td>Factors influencing physical activity levels among Canadian youth</td>\n",
       "      <td>Objectives: To describe the predisposing, enabling and reinforcing factors influencing the levels of physical activity among Canadian youth (ages 12-24). Methods: Analyses of the 1996-97 National Population Health Survey (NPHS) were conducted using data collected from female (n=6195) and male (n=5925) Canadians aged 12-24 years. The data were analyzed using correlational, ANOVA and regression procedures with post hoc analyses (Bonferroni) employed where applicable. Results: Compared to males, Canadian female youth were found to be less physically active, more concerned about being overweight, more depressed, and to consult mental health professionals more frequently. On the other hand, females were more likely to report greater social support than males and to be more socially involved. Those adolescents who smoke tend to be less physically active and, along with those who consume alcohol, have poorer health. Discussion: The significant predisposing, enabling and reinforcing factors influencing youths' physical activity levels more profoundly affect females. The results are discussed in terms of strategies for enabling physical activity available in the literature. In addition to individual determinants influencing physical activity, a move toward understanding policy and environmental factors is recommended for further research.</td>\n",
       "    </tr>\n",
       "    <tr>\n",
       "      <th>41</th>\n",
       "      <td>Tobacco retailer density surrounding schools and youth smoking behaviour: a multi-level analysis</td>\n",
       "      <td>Background: Youth smoking prevention should be a public health priority. It is not only vital to prevent youth from smoking but also to prevent non-smoking youth from becoming susceptible to smoking. Past research has examined factors associated with youth's susceptibility to become a future smoker, but research has yet to examine tobacco retailer density and susceptibility to smoking among never smokers. The objectives of this study are to examine how tobacco retailer density surrounding schools and social smoking influences are associated with smoking susceptibility among youth of never smokers, and occasional and daily smoking among youth of current smokers. Methods: Data were collected in 2005-2006 from grade 9 to 12 students attending 76 secondary schools in Ontario, Canada, as part of the SHAPES-On study. A series of multi-level logistic regression analyses were performed to understand how student-and school-level factors are associated with three smoking behaviour outcomes: smoking susceptibility among never smokers, occasional smoking, and daily smoking. Results: The number of tobacco retailers surrounding a school was found to be associated with the likelihood of a never smoker being susceptible to future smoking (OR 1.03, 95CI% 1.01, 1.05). We also identified that being surrounded by smoking social influences, specifically family and close friends, can substantially increase the likelihood that never smokers are at risk for future smoking or that youth are already occasional or daily smokers. Conclusions: We identified that the number of tobacco retailers surrounding a school was associated with an increased odds of being susceptible to future smoking among male never smokers. Smoking social models surrounding youth also appears to have an important impact on their smoking behaviour regardless of their smoking status. It is important for youth smoking prevention programs to begin early, interrupt youths' susceptibility to future smoking, and focus on subgroups that are at higher risk of smoking. The government should consider the impact of tobacco retailer density on youth smoking behaviour, and be cautious when granting licenses for establishments to sell tobacco products.</td>\n",
       "    </tr>\n",
       "    <tr>\n",
       "      <th>42</th>\n",
       "      <td>Analyzing big tobacco's global youth marketing strategies and factors influencing smoking initiation by Nigeria youths using the theory of triadic influence</td>\n",
       "      <td>BackgroundMajor transnational tobacco companies (TTCs) have identified Nigeria, the seventh most populous country in the world, as a market with a significant revenue potential, given its high youth population and growing gross domestic product (GDP). This research analyses tobacco industry-related strategies and activities targeting youth (aged 15 to 24years) in Nigeria involving existing, but most importantly, future tobacco users. Nigeria is the focus of this study because the tobacco industry has viewed it as a major emerging market since the 1990s. Successful marketing in Nigeria could provide the industry with a template for similar initiatives in other emerging markets in low- and middle-income countries.MethodsThe research began with a systematic review of secondary literature to determine how the tobacco industry has targeted youth globally and factors contributing to youth smoking initiation. It then used the theory of triadic influence as a heuristic framework to categorize the various factors influencing youth smoking initiation and industry strategies related to increasing tobacco use among youths. Quotations from internal tobacco industry documents were organized into the three streams of the theory of triadic influence: biology/personality, social and cultural/environmental streams. A total of 12 interviews were conducted with 6 policymakers and governmental officials, 2 civil society organization representatives, a high school principal, a journalist and 2 researchers to investigate how the tobacco industry had targeted youth in Nigeria.ResultsThe findings indicate that TTCs have actively targeted youth in Nigeria since the 1990s, focusing on changing behaviour through the biology/personality, social and environmental/ cultural streams.ConclusionThe study suggests that Nigeria implement and vigorously enforce its 2015 National Tobacco Control Bill as well as a package of other measures to prevent tobacco companies targeting youth.</td>\n",
       "    </tr>\n",
       "    <tr>\n",
       "      <th>46</th>\n",
       "      <td>Youth Assets, Neighborhood Factors, Parental Income, and Tobacco Use: A Longitudinal Study of Health Disparities</td>\n",
       "      <td>This study aimed to assess how the relationship between youth assets and future no-tobacco use among youth might differ according to race/ethnicity, neighborhood factors and socio-economic status. Five waves of annual data were collected from 1111 youth/parent pairs living in Oklahoma, USA who were randomly selected to participate in the Youth Asset Study (YAS). A marginal logistic regression model using all five waves of no-tobacco use, demographics, and their interaction was used to compare the change in tobacco use over time. Among 1111 youth, (Mean age = 14.3; 53% female; 39% White, 28% Hispanic, 24% Black, and 9% other), the percentage of youth tobacco use increased significantly from baseline to wave 5 (4 years after baseline) for all racial/ethnic groups and all parental income groups. Assets were prospectively associated with no tobacco use in the past 30 days for Black, White and Hispanic youth and for youth in all income categories (adjusted odds ratio range = 1.9-2.7). There was one statistically significant association between the neighborhood environment and future no tobacco use. To conclude, the protective effects of youth assets in terms of prevention of tobacco use among youth do not differ by youth race/ethnicity or parental income in the presence of neighborhood environmental factors.</td>\n",
       "    </tr>\n",
       "    <tr>\n",
       "      <th>54</th>\n",
       "      <td>Trends in the ease of cigarette purchase among Korean adolescents: evidence from the Korea youth risk behavior web-based survey 2005-2016</td>\n",
       "      <td>Background According to the Juvenile Protection Act in Korea, no one is allowed to sell, rent, or distribute tobacco products to adolescents. Furthermore, the Framework Convention on Tobacco Control Article 16 prohibits the sale of tobacco products to minors. In this study, we investigated the trends in and associated factors of the ease of cigarette purchase among Korean adolescents from 2005 to 2016. Methods The analyses were based on the data of the Korea Youth Risk Behavior Web-based Survey. We estimated the trends in the ease of cigarette purchase from 2005 to 2016 and evaluated associated factors. Ease of cigarette purchase was defined as the proportion of adolescents who were able to purchase cigarettes from among those who had tried to purchase cigarettes in the past 30days. Results The ease of cigarette purchase began decreasing since 2008 (81.3%) compared to 2005 (83.9%). It decreased to 76.5% in 2013 and further decreased to 71.4% in 2016. The ease of cigarette purchase increased for adolescents who were in higher grades, smoked larger amounts of cigarettes per day, lived in metropolitan cities, had problematic drinking in the past year, and had close friends who smoked. It decreased in adolescents who had current smokers among their family members. Conclusions Although the proportion of adolescents who were able to purchase cigarettes significantly decreased starting in 2008, more than 70% of Korean adolescents can still purchase cigarettes. Enforcement of the Juvenile Protection Act must be strengthened in order to prevent cigarette use among adolescents.</td>\n",
       "    </tr>\n",
       "    <tr>\n",
       "      <th>56</th>\n",
       "      <td>Racial/Ethnic Differences in Perceived Smoking Prevalence: Evidence from a National Survey of Teens</td>\n",
       "      <td>Prior studies show that perceived smoking prevalence is a significant predictor of smoking initiation. In this study, we examine racial/ethnic differences in perceived smoking prevalence and racial/ethnic differences in exposure to contextual factors associated with perceived smoking prevalence. We used cross-sectional time series data from the Legacy Media Tracking Surveys (LMTS), a national sample of 35,000 12- to 17-year-olds in the United States. Perceived smoking prevalence was the primary outcome variable, measured using an LMTS question:. Out of every 10 people your age, how many do you think smoke? Multivariable models were estimated to assess the association between perceived smoking prevalence; race/ethnicity; and exposure to social contextual factors. Findings indicate that African American, Hispanic, and American Indian youth exhibit the highest rates of perceived smoking prevalence, while white and Asian youth exhibit the lowest. Minority youth are also disproportionately exposed to social contextual factors that are correlated with high perceived smoking prevalence. These findings suggest that disproportionate exposure to social contextual factors may partially explain why minority youth exhibit such high levels of perceived smoking prevalence.</td>\n",
       "    </tr>\n",
       "  </tbody>\n",
       "</table>\n",
       "</div>"
      ],
      "text/plain": [
       "                                                                                                                                                   Article Title  \\\n",
       "6   Genetic, psychosocial, and demographic factors associated with social disinhibition in Mexican-origin youth                                                    \n",
       "12  Individual and social determinants of multiple chronic disease behavioral risk factors among youth                                                             \n",
       "21  Contextual and community factors associated with youth access to cigarettes through commercial sources                                                         \n",
       "23  Tobacco sales to underage buyers in France: findings from a mystery shopping study                                                                             \n",
       "29  Factors influencing physical activity levels among Canadian youth                                                                                              \n",
       "41  Tobacco retailer density surrounding schools and youth smoking behaviour: a multi-level analysis                                                               \n",
       "42  Analyzing big tobacco's global youth marketing strategies and factors influencing smoking initiation by Nigeria youths using the theory of triadic influence   \n",
       "46  Youth Assets, Neighborhood Factors, Parental Income, and Tobacco Use: A Longitudinal Study of Health Disparities                                               \n",
       "54  Trends in the ease of cigarette purchase among Korean adolescents: evidence from the Korea youth risk behavior web-based survey 2005-2016                      \n",
       "56  Racial/Ethnic Differences in Perceived Smoking Prevalence: Evidence from a National Survey of Teens                                                            \n",
       "\n",
       "                                                                                                                                                                                                                                                                                                                                                                                                                                                                                                                                                                                                                                                                                                                                                                                                                                                                                                                                                                                                                                                                                                                                                                                                                                                                                                                                                                                                                                                                                                                                                                                                                                                                                                                                                                                                                                                                                                                                                                                                                                                                                                                                                                                                                                                                                                          Abstract  \n",
       "6   Introduction: The genetic heritability for sensation-seeking tendencies ranges from 40 to 60%. Sensation-seeking behaviors typically manifest during adolescence and are associated with alcohol and cigarette experimentation in adolescents. Social disinhibition is an aspect of sensation-seeking that is closely tied to cigarette and alcohol experimentation. Methods: We examined the contribution of candidate genes to social disinhibition among 1132 Mexican origin youth in Houston, Texas, adjusting for established demographic and psychosocial risk factors. Saliva samples were obtained at baseline in 2005-06, and social disinhibition and other psychosocial data were obtained in 2008-09. Participants were genotyped for 672 functional and tagging SNPs potentially related to sensation-seeking, risk-taking, smoking, and alcohol use. Results: Six SNPs were significantly associated with social disinhibition scores, after controlling for false discovery and adjusting for population stratification and relevant demographic/psychosocial characteristics. Minor alleles for three of the SNPs (rs1998220 on OPRM1; rs9534511 on HTR2A; and rs4938056 on HTR3B) were associated with increased risk of social disinhibition, while minor alleles for the other three SNPs (rs1003921 on KCNC1; rs16116 downstream of NPY; and rs16870286 on LINC00518) exhibited a protective effect. Age, linguistic acculturation, thrill and adventure-seeking, and drug and alcohol-seeking were all significantly positively associated with increased risk of social disinhibition in a multivariable model (P < 0.001). Conclusions: These results add to our knowledge of genetic risk factors for social disinhibition. Additional research is needed to verify whether these SNPs are associated with social disinhibition among youth of different ethnicities and nationalities, and to elucidate whether and how these SNPs functionally contribute to social disinhibition.                                                                                                                                                                                                                                                                                                    \n",
       "12  Background: Behavioral risk factors are known to co-occur among youth, and to increase risks of chronic diseases morbidity and mortality later in life. However, little is known about determinants of multiple chronic disease behavioral risk factors, particularly among youth. Previous studies have been cross-sectional and carried out without a sound theoretical framework. Methods: Using longitudinal data (n = 1135) from Cycle 4 (2000-2001), Cycle 5 (2002-2003) and Cycle 6 (2004-2005) of the National Longitudinal Survey of Children and Youth, a nationally representative sample of Canadian children who are followed biennially, the present study examines the influence of a set of conceptually-related individual/social distal variables (variables situated at an intermediate distance from behaviors), and individual/social ultimate variables (variables situated at an utmost distance from behaviors) on the rate of occurrence of multiple behavioral risk factors (physical inactivity, sedentary behavior, tobacco smoking, alcohol drinking, and high body mass index) in a sample of children aged 10-11 years at baseline. Multiple behavioral risk factors were assessed using a multiple risk factor score. All statistical analyses were performed using SAS, version 9.1, and SUDAAN, version 9.01. Results: Multivariate longitudinal Poisson models showed that social distal variables including parental/peer smoking and peer drinking (Log-likelihood ratio (LLR) = 187.86, degrees of freedom (DF) = 8, p < .001), as well as individual distal variables including low self-esteem (LLR = 76.94, DF = 4, p < .001) increased the rate of occurrence of multiple behavioral risk factors. Individual ultimate variables including age, sex, and anxiety (LLR = 9.34, DF = 3, p < .05), as well as social ultimate variables including family socioeconomic status, and family structure (LLR = 10.93, DF = 5, p = .05) contributed minimally to the rate of co-occurrence of behavioral risk factors. Conclusions: The results suggest targeting individual/social distal variables in prevention programs of multiple chronic disease behavioral risk factors among youth.                                                                                  \n",
       "21  Objectives This study examines contextual and community-level characteristics associated with youth access to tobacco through commercial sources in 50 non-contiguous mid-sized California communities. Methods The study is based on data from access surveys conducted by four confederate buyers (two men and two women) in 997 tobacco outlets. City demographics, adult smoking prevalence, and measures of tobacco outlet density, local tobacco retailer licencing and cigarette tax were included. Results Multilevel regression analyses indicated that buyer's actual age, a male clerk and asking young buyers about their age were related to successful cigarette purchases. Buyer's actual age and minimum age signs increased the likelihood that clerks will request an identification (ID). At the community level, a higher percentage of minors, higher education, and a greater percentage of African-Americans were associated with an increased likelihood of a successful purchase. Lower percentage of minors, lower education, lower percentage of African-Americans, and having a local tobacco retailer licencing were associated with the retailer asking for an ID. Additionally, supermarkets charged significantly more for a pack of cigarettes than small markets, whereas, smoke/tobacco shops and drug stores/pharmacies charged less. Higher prices were associated with higher median household income and greater percentage of Hispanics. Findings about community characteristics, however, differed by cigarette brand. Conclusions This study enhances our understanding of the associations between contextual and community characteristics and youth access to tobacco through commercial sources which can help policymakers to identify and target at-risk communities and outlets to decrease youth access to tobacco.                                                                                                                                                                                                                                                                                                                                                                                                                                          \n",
       "23  Objectives: In 2017, one in four French 17-year-olds was a daily smoker, even though France prohibited the sale of tobacco to under-18 minors in 2009. This research aims to evaluate the retail violation rate for sale to minors (RVRms) and the associated factors. Study design: The study design used is observational mystery shopping study. Methods: We conducted a mystery shopping study enlisting 12-year-old and 17-year-old youths in a representative sample of 527 tobacco outlets during three weeks in spring 2019. Multinomial Logit and Probit regressions were estimated on the data collected. Results: The law is not respected. Two of three sellers (65.2%) were willing to make an illegal sale to a 17 year-old minor, and almost one in 12 (8.1%) were willing to sell to a 12-year-old child attempting to buy tobacco. Illegal sales were more likely to be made by male sellers, retailing in big cities, when there were no in-shop queues, and to 17-year-old females. The absence of the mandatory enforcement poster flagging up the ban on the sale of tobacco to minors appears to be a strong factor associated with RVRm. Conclusions: These findings show that progress needs to be made to better enforce tobacco control legislation to help decrease underage smoking in France. Rate of compliance with the law could be improved by stronger enforcement measures and tougher sanctions, but also by training and the provision of age-verification tools for sellers, as demonstrated by experiments in other countries. (C) 2020 The Royal Society for Public Health. Published by Elsevier Ltd. All rights reserved.                                                                                                                                                                                                                                                                                                                                                                                                                                                                                                                                                                                                                                             \n",
       "29  Objectives: To describe the predisposing, enabling and reinforcing factors influencing the levels of physical activity among Canadian youth (ages 12-24). Methods: Analyses of the 1996-97 National Population Health Survey (NPHS) were conducted using data collected from female (n=6195) and male (n=5925) Canadians aged 12-24 years. The data were analyzed using correlational, ANOVA and regression procedures with post hoc analyses (Bonferroni) employed where applicable. Results: Compared to males, Canadian female youth were found to be less physically active, more concerned about being overweight, more depressed, and to consult mental health professionals more frequently. On the other hand, females were more likely to report greater social support than males and to be more socially involved. Those adolescents who smoke tend to be less physically active and, along with those who consume alcohol, have poorer health. Discussion: The significant predisposing, enabling and reinforcing factors influencing youths' physical activity levels more profoundly affect females. The results are discussed in terms of strategies for enabling physical activity available in the literature. In addition to individual determinants influencing physical activity, a move toward understanding policy and environmental factors is recommended for further research.                                                                                                                                                                                                                                                                                                                                                                                                                                                                                                                                                                                                                                                                                                                                                                                                                                                                                                         \n",
       "41  Background: Youth smoking prevention should be a public health priority. It is not only vital to prevent youth from smoking but also to prevent non-smoking youth from becoming susceptible to smoking. Past research has examined factors associated with youth's susceptibility to become a future smoker, but research has yet to examine tobacco retailer density and susceptibility to smoking among never smokers. The objectives of this study are to examine how tobacco retailer density surrounding schools and social smoking influences are associated with smoking susceptibility among youth of never smokers, and occasional and daily smoking among youth of current smokers. Methods: Data were collected in 2005-2006 from grade 9 to 12 students attending 76 secondary schools in Ontario, Canada, as part of the SHAPES-On study. A series of multi-level logistic regression analyses were performed to understand how student-and school-level factors are associated with three smoking behaviour outcomes: smoking susceptibility among never smokers, occasional smoking, and daily smoking. Results: The number of tobacco retailers surrounding a school was found to be associated with the likelihood of a never smoker being susceptible to future smoking (OR 1.03, 95CI% 1.01, 1.05). We also identified that being surrounded by smoking social influences, specifically family and close friends, can substantially increase the likelihood that never smokers are at risk for future smoking or that youth are already occasional or daily smokers. Conclusions: We identified that the number of tobacco retailers surrounding a school was associated with an increased odds of being susceptible to future smoking among male never smokers. Smoking social models surrounding youth also appears to have an important impact on their smoking behaviour regardless of their smoking status. It is important for youth smoking prevention programs to begin early, interrupt youths' susceptibility to future smoking, and focus on subgroups that are at higher risk of smoking. The government should consider the impact of tobacco retailer density on youth smoking behaviour, and be cautious when granting licenses for establishments to sell tobacco products.  \n",
       "42  BackgroundMajor transnational tobacco companies (TTCs) have identified Nigeria, the seventh most populous country in the world, as a market with a significant revenue potential, given its high youth population and growing gross domestic product (GDP). This research analyses tobacco industry-related strategies and activities targeting youth (aged 15 to 24years) in Nigeria involving existing, but most importantly, future tobacco users. Nigeria is the focus of this study because the tobacco industry has viewed it as a major emerging market since the 1990s. Successful marketing in Nigeria could provide the industry with a template for similar initiatives in other emerging markets in low- and middle-income countries.MethodsThe research began with a systematic review of secondary literature to determine how the tobacco industry has targeted youth globally and factors contributing to youth smoking initiation. It then used the theory of triadic influence as a heuristic framework to categorize the various factors influencing youth smoking initiation and industry strategies related to increasing tobacco use among youths. Quotations from internal tobacco industry documents were organized into the three streams of the theory of triadic influence: biology/personality, social and cultural/environmental streams. A total of 12 interviews were conducted with 6 policymakers and governmental officials, 2 civil society organization representatives, a high school principal, a journalist and 2 researchers to investigate how the tobacco industry had targeted youth in Nigeria.ResultsThe findings indicate that TTCs have actively targeted youth in Nigeria since the 1990s, focusing on changing behaviour through the biology/personality, social and environmental/ cultural streams.ConclusionThe study suggests that Nigeria implement and vigorously enforce its 2015 National Tobacco Control Bill as well as a package of other measures to prevent tobacco companies targeting youth.                                                                                                                                                                                                                                                    \n",
       "46  This study aimed to assess how the relationship between youth assets and future no-tobacco use among youth might differ according to race/ethnicity, neighborhood factors and socio-economic status. Five waves of annual data were collected from 1111 youth/parent pairs living in Oklahoma, USA who were randomly selected to participate in the Youth Asset Study (YAS). A marginal logistic regression model using all five waves of no-tobacco use, demographics, and their interaction was used to compare the change in tobacco use over time. Among 1111 youth, (Mean age = 14.3; 53% female; 39% White, 28% Hispanic, 24% Black, and 9% other), the percentage of youth tobacco use increased significantly from baseline to wave 5 (4 years after baseline) for all racial/ethnic groups and all parental income groups. Assets were prospectively associated with no tobacco use in the past 30 days for Black, White and Hispanic youth and for youth in all income categories (adjusted odds ratio range = 1.9-2.7). There was one statistically significant association between the neighborhood environment and future no tobacco use. To conclude, the protective effects of youth assets in terms of prevention of tobacco use among youth do not differ by youth race/ethnicity or parental income in the presence of neighborhood environmental factors.                                                                                                                                                                                                                                                                                                                                                                                                                                                                                                                                                                                                                                                                                                                                                                                                                                                                                                                                    \n",
       "54  Background According to the Juvenile Protection Act in Korea, no one is allowed to sell, rent, or distribute tobacco products to adolescents. Furthermore, the Framework Convention on Tobacco Control Article 16 prohibits the sale of tobacco products to minors. In this study, we investigated the trends in and associated factors of the ease of cigarette purchase among Korean adolescents from 2005 to 2016. Methods The analyses were based on the data of the Korea Youth Risk Behavior Web-based Survey. We estimated the trends in the ease of cigarette purchase from 2005 to 2016 and evaluated associated factors. Ease of cigarette purchase was defined as the proportion of adolescents who were able to purchase cigarettes from among those who had tried to purchase cigarettes in the past 30days. Results The ease of cigarette purchase began decreasing since 2008 (81.3%) compared to 2005 (83.9%). It decreased to 76.5% in 2013 and further decreased to 71.4% in 2016. The ease of cigarette purchase increased for adolescents who were in higher grades, smoked larger amounts of cigarettes per day, lived in metropolitan cities, had problematic drinking in the past year, and had close friends who smoked. It decreased in adolescents who had current smokers among their family members. Conclusions Although the proportion of adolescents who were able to purchase cigarettes significantly decreased starting in 2008, more than 70% of Korean adolescents can still purchase cigarettes. Enforcement of the Juvenile Protection Act must be strengthened in order to prevent cigarette use among adolescents.                                                                                                                                                                                                                                                                                                                                                                                                                                                                                                                                                                                                                                                      \n",
       "56  Prior studies show that perceived smoking prevalence is a significant predictor of smoking initiation. In this study, we examine racial/ethnic differences in perceived smoking prevalence and racial/ethnic differences in exposure to contextual factors associated with perceived smoking prevalence. We used cross-sectional time series data from the Legacy Media Tracking Surveys (LMTS), a national sample of 35,000 12- to 17-year-olds in the United States. Perceived smoking prevalence was the primary outcome variable, measured using an LMTS question:. Out of every 10 people your age, how many do you think smoke? Multivariable models were estimated to assess the association between perceived smoking prevalence; race/ethnicity; and exposure to social contextual factors. Findings indicate that African American, Hispanic, and American Indian youth exhibit the highest rates of perceived smoking prevalence, while white and Asian youth exhibit the lowest. Minority youth are also disproportionately exposed to social contextual factors that are correlated with high perceived smoking prevalence. These findings suggest that disproportionate exposure to social contextual factors may partially explain why minority youth exhibit such high levels of perceived smoking prevalence.                                                                                                                                                                                                                                                                                                                                                                                                                                                                                                                                                                                                                                                                                                                                                                                                                                                                                                                                                                                  "
      ]
     },
     "execution_count": 43,
     "metadata": {},
     "output_type": "execute_result"
    }
   ],
   "source": [
    "articles[articles['Topic'] == 1][['Article Title','Abstract']][:10]"
   ]
  },
  {
   "cell_type": "markdown",
   "metadata": {},
   "source": [
    "## Number of articles per topic and per year"
   ]
  },
  {
   "cell_type": "code",
   "execution_count": 44,
   "metadata": {},
   "outputs": [
    {
     "data": {
      "text/html": [
       "<div>\n",
       "<style scoped>\n",
       "    .dataframe tbody tr th:only-of-type {\n",
       "        vertical-align: middle;\n",
       "    }\n",
       "\n",
       "    .dataframe tbody tr th {\n",
       "        vertical-align: top;\n",
       "    }\n",
       "\n",
       "    .dataframe thead th {\n",
       "        text-align: right;\n",
       "    }\n",
       "</style>\n",
       "<table border=\"1\" class=\"dataframe\">\n",
       "  <thead>\n",
       "    <tr style=\"text-align: right;\">\n",
       "      <th>Topic</th>\n",
       "      <th>-1</th>\n",
       "      <th>0</th>\n",
       "      <th>1</th>\n",
       "      <th>2</th>\n",
       "      <th>3</th>\n",
       "      <th>4</th>\n",
       "      <th>5</th>\n",
       "      <th>6</th>\n",
       "      <th>7</th>\n",
       "      <th>8</th>\n",
       "      <th>9</th>\n",
       "      <th>All</th>\n",
       "    </tr>\n",
       "    <tr>\n",
       "      <th>Publication Year</th>\n",
       "      <th></th>\n",
       "      <th></th>\n",
       "      <th></th>\n",
       "      <th></th>\n",
       "      <th></th>\n",
       "      <th></th>\n",
       "      <th></th>\n",
       "      <th></th>\n",
       "      <th></th>\n",
       "      <th></th>\n",
       "      <th></th>\n",
       "      <th></th>\n",
       "    </tr>\n",
       "  </thead>\n",
       "  <tbody>\n",
       "    <tr>\n",
       "      <th>1991</th>\n",
       "      <td>2</td>\n",
       "      <td>1</td>\n",
       "      <td>1</td>\n",
       "      <td>0</td>\n",
       "      <td>2</td>\n",
       "      <td>0</td>\n",
       "      <td>0</td>\n",
       "      <td>0</td>\n",
       "      <td>0</td>\n",
       "      <td>0</td>\n",
       "      <td>0</td>\n",
       "      <td>6</td>\n",
       "    </tr>\n",
       "    <tr>\n",
       "      <th>1992</th>\n",
       "      <td>2</td>\n",
       "      <td>3</td>\n",
       "      <td>1</td>\n",
       "      <td>2</td>\n",
       "      <td>1</td>\n",
       "      <td>0</td>\n",
       "      <td>0</td>\n",
       "      <td>0</td>\n",
       "      <td>0</td>\n",
       "      <td>0</td>\n",
       "      <td>1</td>\n",
       "      <td>10</td>\n",
       "    </tr>\n",
       "    <tr>\n",
       "      <th>1993</th>\n",
       "      <td>5</td>\n",
       "      <td>4</td>\n",
       "      <td>1</td>\n",
       "      <td>2</td>\n",
       "      <td>0</td>\n",
       "      <td>0</td>\n",
       "      <td>0</td>\n",
       "      <td>0</td>\n",
       "      <td>0</td>\n",
       "      <td>0</td>\n",
       "      <td>0</td>\n",
       "      <td>12</td>\n",
       "    </tr>\n",
       "    <tr>\n",
       "      <th>1994</th>\n",
       "      <td>4</td>\n",
       "      <td>4</td>\n",
       "      <td>1</td>\n",
       "      <td>1</td>\n",
       "      <td>1</td>\n",
       "      <td>0</td>\n",
       "      <td>0</td>\n",
       "      <td>0</td>\n",
       "      <td>0</td>\n",
       "      <td>1</td>\n",
       "      <td>0</td>\n",
       "      <td>12</td>\n",
       "    </tr>\n",
       "    <tr>\n",
       "      <th>1995</th>\n",
       "      <td>9</td>\n",
       "      <td>3</td>\n",
       "      <td>2</td>\n",
       "      <td>0</td>\n",
       "      <td>0</td>\n",
       "      <td>0</td>\n",
       "      <td>0</td>\n",
       "      <td>0</td>\n",
       "      <td>0</td>\n",
       "      <td>0</td>\n",
       "      <td>0</td>\n",
       "      <td>14</td>\n",
       "    </tr>\n",
       "    <tr>\n",
       "      <th>1996</th>\n",
       "      <td>6</td>\n",
       "      <td>4</td>\n",
       "      <td>3</td>\n",
       "      <td>0</td>\n",
       "      <td>1</td>\n",
       "      <td>1</td>\n",
       "      <td>0</td>\n",
       "      <td>0</td>\n",
       "      <td>0</td>\n",
       "      <td>0</td>\n",
       "      <td>0</td>\n",
       "      <td>15</td>\n",
       "    </tr>\n",
       "    <tr>\n",
       "      <th>1997</th>\n",
       "      <td>8</td>\n",
       "      <td>13</td>\n",
       "      <td>7</td>\n",
       "      <td>1</td>\n",
       "      <td>1</td>\n",
       "      <td>0</td>\n",
       "      <td>0</td>\n",
       "      <td>0</td>\n",
       "      <td>0</td>\n",
       "      <td>0</td>\n",
       "      <td>1</td>\n",
       "      <td>31</td>\n",
       "    </tr>\n",
       "    <tr>\n",
       "      <th>1998</th>\n",
       "      <td>9</td>\n",
       "      <td>11</td>\n",
       "      <td>8</td>\n",
       "      <td>3</td>\n",
       "      <td>2</td>\n",
       "      <td>0</td>\n",
       "      <td>0</td>\n",
       "      <td>1</td>\n",
       "      <td>0</td>\n",
       "      <td>0</td>\n",
       "      <td>0</td>\n",
       "      <td>34</td>\n",
       "    </tr>\n",
       "    <tr>\n",
       "      <th>1999</th>\n",
       "      <td>10</td>\n",
       "      <td>8</td>\n",
       "      <td>7</td>\n",
       "      <td>2</td>\n",
       "      <td>0</td>\n",
       "      <td>2</td>\n",
       "      <td>1</td>\n",
       "      <td>2</td>\n",
       "      <td>0</td>\n",
       "      <td>0</td>\n",
       "      <td>0</td>\n",
       "      <td>32</td>\n",
       "    </tr>\n",
       "    <tr>\n",
       "      <th>2000</th>\n",
       "      <td>14</td>\n",
       "      <td>14</td>\n",
       "      <td>5</td>\n",
       "      <td>1</td>\n",
       "      <td>0</td>\n",
       "      <td>1</td>\n",
       "      <td>0</td>\n",
       "      <td>0</td>\n",
       "      <td>0</td>\n",
       "      <td>0</td>\n",
       "      <td>3</td>\n",
       "      <td>38</td>\n",
       "    </tr>\n",
       "    <tr>\n",
       "      <th>2001</th>\n",
       "      <td>12</td>\n",
       "      <td>27</td>\n",
       "      <td>5</td>\n",
       "      <td>1</td>\n",
       "      <td>3</td>\n",
       "      <td>3</td>\n",
       "      <td>0</td>\n",
       "      <td>0</td>\n",
       "      <td>0</td>\n",
       "      <td>1</td>\n",
       "      <td>0</td>\n",
       "      <td>52</td>\n",
       "    </tr>\n",
       "    <tr>\n",
       "      <th>2002</th>\n",
       "      <td>18</td>\n",
       "      <td>19</td>\n",
       "      <td>7</td>\n",
       "      <td>3</td>\n",
       "      <td>3</td>\n",
       "      <td>3</td>\n",
       "      <td>0</td>\n",
       "      <td>1</td>\n",
       "      <td>0</td>\n",
       "      <td>0</td>\n",
       "      <td>2</td>\n",
       "      <td>56</td>\n",
       "    </tr>\n",
       "    <tr>\n",
       "      <th>2003</th>\n",
       "      <td>14</td>\n",
       "      <td>20</td>\n",
       "      <td>7</td>\n",
       "      <td>4</td>\n",
       "      <td>1</td>\n",
       "      <td>0</td>\n",
       "      <td>0</td>\n",
       "      <td>0</td>\n",
       "      <td>1</td>\n",
       "      <td>1</td>\n",
       "      <td>0</td>\n",
       "      <td>48</td>\n",
       "    </tr>\n",
       "    <tr>\n",
       "      <th>2004</th>\n",
       "      <td>18</td>\n",
       "      <td>26</td>\n",
       "      <td>16</td>\n",
       "      <td>0</td>\n",
       "      <td>1</td>\n",
       "      <td>0</td>\n",
       "      <td>2</td>\n",
       "      <td>0</td>\n",
       "      <td>0</td>\n",
       "      <td>0</td>\n",
       "      <td>1</td>\n",
       "      <td>64</td>\n",
       "    </tr>\n",
       "    <tr>\n",
       "      <th>2005</th>\n",
       "      <td>26</td>\n",
       "      <td>36</td>\n",
       "      <td>18</td>\n",
       "      <td>3</td>\n",
       "      <td>3</td>\n",
       "      <td>4</td>\n",
       "      <td>0</td>\n",
       "      <td>0</td>\n",
       "      <td>0</td>\n",
       "      <td>0</td>\n",
       "      <td>0</td>\n",
       "      <td>90</td>\n",
       "    </tr>\n",
       "    <tr>\n",
       "      <th>2006</th>\n",
       "      <td>42</td>\n",
       "      <td>61</td>\n",
       "      <td>18</td>\n",
       "      <td>3</td>\n",
       "      <td>1</td>\n",
       "      <td>2</td>\n",
       "      <td>0</td>\n",
       "      <td>0</td>\n",
       "      <td>1</td>\n",
       "      <td>1</td>\n",
       "      <td>0</td>\n",
       "      <td>129</td>\n",
       "    </tr>\n",
       "    <tr>\n",
       "      <th>2007</th>\n",
       "      <td>63</td>\n",
       "      <td>83</td>\n",
       "      <td>16</td>\n",
       "      <td>6</td>\n",
       "      <td>1</td>\n",
       "      <td>0</td>\n",
       "      <td>0</td>\n",
       "      <td>1</td>\n",
       "      <td>1</td>\n",
       "      <td>0</td>\n",
       "      <td>1</td>\n",
       "      <td>172</td>\n",
       "    </tr>\n",
       "    <tr>\n",
       "      <th>2008</th>\n",
       "      <td>86</td>\n",
       "      <td>134</td>\n",
       "      <td>33</td>\n",
       "      <td>4</td>\n",
       "      <td>2</td>\n",
       "      <td>3</td>\n",
       "      <td>1</td>\n",
       "      <td>0</td>\n",
       "      <td>1</td>\n",
       "      <td>1</td>\n",
       "      <td>0</td>\n",
       "      <td>265</td>\n",
       "    </tr>\n",
       "    <tr>\n",
       "      <th>2009</th>\n",
       "      <td>92</td>\n",
       "      <td>147</td>\n",
       "      <td>31</td>\n",
       "      <td>8</td>\n",
       "      <td>2</td>\n",
       "      <td>1</td>\n",
       "      <td>2</td>\n",
       "      <td>2</td>\n",
       "      <td>0</td>\n",
       "      <td>0</td>\n",
       "      <td>1</td>\n",
       "      <td>286</td>\n",
       "    </tr>\n",
       "    <tr>\n",
       "      <th>2010</th>\n",
       "      <td>103</td>\n",
       "      <td>185</td>\n",
       "      <td>32</td>\n",
       "      <td>13</td>\n",
       "      <td>0</td>\n",
       "      <td>2</td>\n",
       "      <td>2</td>\n",
       "      <td>3</td>\n",
       "      <td>0</td>\n",
       "      <td>1</td>\n",
       "      <td>0</td>\n",
       "      <td>341</td>\n",
       "    </tr>\n",
       "    <tr>\n",
       "      <th>2011</th>\n",
       "      <td>131</td>\n",
       "      <td>238</td>\n",
       "      <td>44</td>\n",
       "      <td>5</td>\n",
       "      <td>6</td>\n",
       "      <td>7</td>\n",
       "      <td>1</td>\n",
       "      <td>3</td>\n",
       "      <td>1</td>\n",
       "      <td>2</td>\n",
       "      <td>1</td>\n",
       "      <td>439</td>\n",
       "    </tr>\n",
       "    <tr>\n",
       "      <th>2012</th>\n",
       "      <td>157</td>\n",
       "      <td>221</td>\n",
       "      <td>59</td>\n",
       "      <td>8</td>\n",
       "      <td>7</td>\n",
       "      <td>4</td>\n",
       "      <td>2</td>\n",
       "      <td>4</td>\n",
       "      <td>1</td>\n",
       "      <td>0</td>\n",
       "      <td>1</td>\n",
       "      <td>464</td>\n",
       "    </tr>\n",
       "    <tr>\n",
       "      <th>2013</th>\n",
       "      <td>150</td>\n",
       "      <td>287</td>\n",
       "      <td>54</td>\n",
       "      <td>15</td>\n",
       "      <td>4</td>\n",
       "      <td>3</td>\n",
       "      <td>2</td>\n",
       "      <td>4</td>\n",
       "      <td>1</td>\n",
       "      <td>3</td>\n",
       "      <td>3</td>\n",
       "      <td>526</td>\n",
       "    </tr>\n",
       "    <tr>\n",
       "      <th>2014</th>\n",
       "      <td>190</td>\n",
       "      <td>309</td>\n",
       "      <td>79</td>\n",
       "      <td>12</td>\n",
       "      <td>11</td>\n",
       "      <td>2</td>\n",
       "      <td>6</td>\n",
       "      <td>3</td>\n",
       "      <td>1</td>\n",
       "      <td>0</td>\n",
       "      <td>1</td>\n",
       "      <td>614</td>\n",
       "    </tr>\n",
       "    <tr>\n",
       "      <th>2015</th>\n",
       "      <td>185</td>\n",
       "      <td>326</td>\n",
       "      <td>64</td>\n",
       "      <td>16</td>\n",
       "      <td>8</td>\n",
       "      <td>2</td>\n",
       "      <td>6</td>\n",
       "      <td>3</td>\n",
       "      <td>3</td>\n",
       "      <td>3</td>\n",
       "      <td>2</td>\n",
       "      <td>618</td>\n",
       "    </tr>\n",
       "    <tr>\n",
       "      <th>2016</th>\n",
       "      <td>215</td>\n",
       "      <td>315</td>\n",
       "      <td>66</td>\n",
       "      <td>14</td>\n",
       "      <td>10</td>\n",
       "      <td>3</td>\n",
       "      <td>4</td>\n",
       "      <td>0</td>\n",
       "      <td>2</td>\n",
       "      <td>2</td>\n",
       "      <td>0</td>\n",
       "      <td>631</td>\n",
       "    </tr>\n",
       "    <tr>\n",
       "      <th>2017</th>\n",
       "      <td>203</td>\n",
       "      <td>339</td>\n",
       "      <td>66</td>\n",
       "      <td>20</td>\n",
       "      <td>9</td>\n",
       "      <td>5</td>\n",
       "      <td>4</td>\n",
       "      <td>6</td>\n",
       "      <td>2</td>\n",
       "      <td>1</td>\n",
       "      <td>0</td>\n",
       "      <td>655</td>\n",
       "    </tr>\n",
       "    <tr>\n",
       "      <th>2018</th>\n",
       "      <td>183</td>\n",
       "      <td>355</td>\n",
       "      <td>83</td>\n",
       "      <td>26</td>\n",
       "      <td>11</td>\n",
       "      <td>2</td>\n",
       "      <td>7</td>\n",
       "      <td>3</td>\n",
       "      <td>1</td>\n",
       "      <td>1</td>\n",
       "      <td>5</td>\n",
       "      <td>677</td>\n",
       "    </tr>\n",
       "    <tr>\n",
       "      <th>2019</th>\n",
       "      <td>241</td>\n",
       "      <td>387</td>\n",
       "      <td>112</td>\n",
       "      <td>29</td>\n",
       "      <td>8</td>\n",
       "      <td>8</td>\n",
       "      <td>10</td>\n",
       "      <td>4</td>\n",
       "      <td>1</td>\n",
       "      <td>4</td>\n",
       "      <td>0</td>\n",
       "      <td>804</td>\n",
       "    </tr>\n",
       "    <tr>\n",
       "      <th>2020</th>\n",
       "      <td>249</td>\n",
       "      <td>396</td>\n",
       "      <td>109</td>\n",
       "      <td>35</td>\n",
       "      <td>9</td>\n",
       "      <td>11</td>\n",
       "      <td>10</td>\n",
       "      <td>6</td>\n",
       "      <td>6</td>\n",
       "      <td>4</td>\n",
       "      <td>1</td>\n",
       "      <td>836</td>\n",
       "    </tr>\n",
       "    <tr>\n",
       "      <th>2021</th>\n",
       "      <td>279</td>\n",
       "      <td>364</td>\n",
       "      <td>104</td>\n",
       "      <td>32</td>\n",
       "      <td>12</td>\n",
       "      <td>6</td>\n",
       "      <td>4</td>\n",
       "      <td>2</td>\n",
       "      <td>2</td>\n",
       "      <td>1</td>\n",
       "      <td>1</td>\n",
       "      <td>807</td>\n",
       "    </tr>\n",
       "    <tr>\n",
       "      <th>2022</th>\n",
       "      <td>256</td>\n",
       "      <td>402</td>\n",
       "      <td>100</td>\n",
       "      <td>52</td>\n",
       "      <td>16</td>\n",
       "      <td>12</td>\n",
       "      <td>16</td>\n",
       "      <td>2</td>\n",
       "      <td>2</td>\n",
       "      <td>0</td>\n",
       "      <td>2</td>\n",
       "      <td>860</td>\n",
       "    </tr>\n",
       "    <tr>\n",
       "      <th>2023</th>\n",
       "      <td>213</td>\n",
       "      <td>302</td>\n",
       "      <td>102</td>\n",
       "      <td>30</td>\n",
       "      <td>12</td>\n",
       "      <td>2</td>\n",
       "      <td>8</td>\n",
       "      <td>5</td>\n",
       "      <td>5</td>\n",
       "      <td>1</td>\n",
       "      <td>0</td>\n",
       "      <td>680</td>\n",
       "    </tr>\n",
       "    <tr>\n",
       "      <th>2024</th>\n",
       "      <td>34</td>\n",
       "      <td>44</td>\n",
       "      <td>22</td>\n",
       "      <td>7</td>\n",
       "      <td>4</td>\n",
       "      <td>1</td>\n",
       "      <td>1</td>\n",
       "      <td>0</td>\n",
       "      <td>0</td>\n",
       "      <td>0</td>\n",
       "      <td>1</td>\n",
       "      <td>114</td>\n",
       "    </tr>\n",
       "    <tr>\n",
       "      <th>All</th>\n",
       "      <td>3229</td>\n",
       "      <td>5088</td>\n",
       "      <td>1283</td>\n",
       "      <td>358</td>\n",
       "      <td>152</td>\n",
       "      <td>90</td>\n",
       "      <td>89</td>\n",
       "      <td>55</td>\n",
       "      <td>32</td>\n",
       "      <td>28</td>\n",
       "      <td>28</td>\n",
       "      <td>10432</td>\n",
       "    </tr>\n",
       "  </tbody>\n",
       "</table>\n",
       "</div>"
      ],
      "text/plain": [
       "Topic               -1     0     1    2    3   4   5   6   7   8   9    All\n",
       "Publication Year                                                           \n",
       "1991              2     1     1     0    2    0   0   0   0   0   0   6    \n",
       "1992              2     3     1     2    1    0   0   0   0   0   1   10   \n",
       "1993              5     4     1     2    0    0   0   0   0   0   0   12   \n",
       "1994              4     4     1     1    1    0   0   0   0   1   0   12   \n",
       "1995              9     3     2     0    0    0   0   0   0   0   0   14   \n",
       "1996              6     4     3     0    1    1   0   0   0   0   0   15   \n",
       "1997              8     13    7     1    1    0   0   0   0   0   1   31   \n",
       "1998              9     11    8     3    2    0   0   1   0   0   0   34   \n",
       "1999              10    8     7     2    0    2   1   2   0   0   0   32   \n",
       "2000              14    14    5     1    0    1   0   0   0   0   3   38   \n",
       "2001              12    27    5     1    3    3   0   0   0   1   0   52   \n",
       "2002              18    19    7     3    3    3   0   1   0   0   2   56   \n",
       "2003              14    20    7     4    1    0   0   0   1   1   0   48   \n",
       "2004              18    26    16    0    1    0   2   0   0   0   1   64   \n",
       "2005              26    36    18    3    3    4   0   0   0   0   0   90   \n",
       "2006              42    61    18    3    1    2   0   0   1   1   0   129  \n",
       "2007              63    83    16    6    1    0   0   1   1   0   1   172  \n",
       "2008              86    134   33    4    2    3   1   0   1   1   0   265  \n",
       "2009              92    147   31    8    2    1   2   2   0   0   1   286  \n",
       "2010              103   185   32    13   0    2   2   3   0   1   0   341  \n",
       "2011              131   238   44    5    6    7   1   3   1   2   1   439  \n",
       "2012              157   221   59    8    7    4   2   4   1   0   1   464  \n",
       "2013              150   287   54    15   4    3   2   4   1   3   3   526  \n",
       "2014              190   309   79    12   11   2   6   3   1   0   1   614  \n",
       "2015              185   326   64    16   8    2   6   3   3   3   2   618  \n",
       "2016              215   315   66    14   10   3   4   0   2   2   0   631  \n",
       "2017              203   339   66    20   9    5   4   6   2   1   0   655  \n",
       "2018              183   355   83    26   11   2   7   3   1   1   5   677  \n",
       "2019              241   387   112   29   8    8   10  4   1   4   0   804  \n",
       "2020              249   396   109   35   9    11  10  6   6   4   1   836  \n",
       "2021              279   364   104   32   12   6   4   2   2   1   1   807  \n",
       "2022              256   402   100   52   16   12  16  2   2   0   2   860  \n",
       "2023              213   302   102   30   12   2   8   5   5   1   0   680  \n",
       "2024              34    44    22    7    4    1   1   0   0   0   1   114  \n",
       "All               3229  5088  1283  358  152  90  89  55  32  28  28  10432"
      ]
     },
     "execution_count": 44,
     "metadata": {},
     "output_type": "execute_result"
    }
   ],
   "source": [
    "# pivot table year x topic --> count\n",
    "\n",
    "pvt = pd.pivot_table(articles, columns=\"Topic\", index=\"Publication Year\", values='Abstract',aggfunc='count', margins=True).fillna(0).astype(int)\n",
    "pvt"
   ]
  },
  {
   "cell_type": "code",
   "execution_count": 45,
   "metadata": {},
   "outputs": [],
   "source": [
    "pvt.to_excel('../pvt.xlsx')"
   ]
  },
  {
   "cell_type": "markdown",
   "metadata": {},
   "source": [
    "### Time trends"
   ]
  },
  {
   "cell_type": "code",
   "execution_count": 46,
   "metadata": {},
   "outputs": [
    {
     "data": {
      "text/html": [
       "<div>\n",
       "<style scoped>\n",
       "    .dataframe tbody tr th:only-of-type {\n",
       "        vertical-align: middle;\n",
       "    }\n",
       "\n",
       "    .dataframe tbody tr th {\n",
       "        vertical-align: top;\n",
       "    }\n",
       "\n",
       "    .dataframe thead th {\n",
       "        text-align: right;\n",
       "    }\n",
       "</style>\n",
       "<table border=\"1\" class=\"dataframe\">\n",
       "  <thead>\n",
       "    <tr style=\"text-align: right;\">\n",
       "      <th>Topic</th>\n",
       "      <th>Publication Year</th>\n",
       "      <th>-1</th>\n",
       "      <th>0</th>\n",
       "      <th>1</th>\n",
       "      <th>2</th>\n",
       "      <th>3</th>\n",
       "      <th>4</th>\n",
       "      <th>5</th>\n",
       "      <th>6</th>\n",
       "      <th>7</th>\n",
       "      <th>8</th>\n",
       "      <th>9</th>\n",
       "    </tr>\n",
       "  </thead>\n",
       "  <tbody>\n",
       "    <tr>\n",
       "      <th>0</th>\n",
       "      <td>1991</td>\n",
       "      <td>2</td>\n",
       "      <td>1</td>\n",
       "      <td>1</td>\n",
       "      <td>0</td>\n",
       "      <td>2</td>\n",
       "      <td>0</td>\n",
       "      <td>0</td>\n",
       "      <td>0</td>\n",
       "      <td>0</td>\n",
       "      <td>0</td>\n",
       "      <td>0</td>\n",
       "    </tr>\n",
       "    <tr>\n",
       "      <th>1</th>\n",
       "      <td>1992</td>\n",
       "      <td>2</td>\n",
       "      <td>3</td>\n",
       "      <td>1</td>\n",
       "      <td>2</td>\n",
       "      <td>1</td>\n",
       "      <td>0</td>\n",
       "      <td>0</td>\n",
       "      <td>0</td>\n",
       "      <td>0</td>\n",
       "      <td>0</td>\n",
       "      <td>1</td>\n",
       "    </tr>\n",
       "    <tr>\n",
       "      <th>2</th>\n",
       "      <td>1993</td>\n",
       "      <td>5</td>\n",
       "      <td>4</td>\n",
       "      <td>1</td>\n",
       "      <td>2</td>\n",
       "      <td>0</td>\n",
       "      <td>0</td>\n",
       "      <td>0</td>\n",
       "      <td>0</td>\n",
       "      <td>0</td>\n",
       "      <td>0</td>\n",
       "      <td>0</td>\n",
       "    </tr>\n",
       "    <tr>\n",
       "      <th>3</th>\n",
       "      <td>1994</td>\n",
       "      <td>4</td>\n",
       "      <td>4</td>\n",
       "      <td>1</td>\n",
       "      <td>1</td>\n",
       "      <td>1</td>\n",
       "      <td>0</td>\n",
       "      <td>0</td>\n",
       "      <td>0</td>\n",
       "      <td>0</td>\n",
       "      <td>1</td>\n",
       "      <td>0</td>\n",
       "    </tr>\n",
       "    <tr>\n",
       "      <th>4</th>\n",
       "      <td>1995</td>\n",
       "      <td>9</td>\n",
       "      <td>3</td>\n",
       "      <td>2</td>\n",
       "      <td>0</td>\n",
       "      <td>0</td>\n",
       "      <td>0</td>\n",
       "      <td>0</td>\n",
       "      <td>0</td>\n",
       "      <td>0</td>\n",
       "      <td>0</td>\n",
       "      <td>0</td>\n",
       "    </tr>\n",
       "    <tr>\n",
       "      <th>5</th>\n",
       "      <td>1996</td>\n",
       "      <td>6</td>\n",
       "      <td>4</td>\n",
       "      <td>3</td>\n",
       "      <td>0</td>\n",
       "      <td>1</td>\n",
       "      <td>1</td>\n",
       "      <td>0</td>\n",
       "      <td>0</td>\n",
       "      <td>0</td>\n",
       "      <td>0</td>\n",
       "      <td>0</td>\n",
       "    </tr>\n",
       "    <tr>\n",
       "      <th>6</th>\n",
       "      <td>1997</td>\n",
       "      <td>8</td>\n",
       "      <td>13</td>\n",
       "      <td>7</td>\n",
       "      <td>1</td>\n",
       "      <td>1</td>\n",
       "      <td>0</td>\n",
       "      <td>0</td>\n",
       "      <td>0</td>\n",
       "      <td>0</td>\n",
       "      <td>0</td>\n",
       "      <td>1</td>\n",
       "    </tr>\n",
       "    <tr>\n",
       "      <th>7</th>\n",
       "      <td>1998</td>\n",
       "      <td>9</td>\n",
       "      <td>11</td>\n",
       "      <td>8</td>\n",
       "      <td>3</td>\n",
       "      <td>2</td>\n",
       "      <td>0</td>\n",
       "      <td>0</td>\n",
       "      <td>1</td>\n",
       "      <td>0</td>\n",
       "      <td>0</td>\n",
       "      <td>0</td>\n",
       "    </tr>\n",
       "    <tr>\n",
       "      <th>8</th>\n",
       "      <td>1999</td>\n",
       "      <td>10</td>\n",
       "      <td>8</td>\n",
       "      <td>7</td>\n",
       "      <td>2</td>\n",
       "      <td>0</td>\n",
       "      <td>2</td>\n",
       "      <td>1</td>\n",
       "      <td>2</td>\n",
       "      <td>0</td>\n",
       "      <td>0</td>\n",
       "      <td>0</td>\n",
       "    </tr>\n",
       "    <tr>\n",
       "      <th>9</th>\n",
       "      <td>2000</td>\n",
       "      <td>14</td>\n",
       "      <td>14</td>\n",
       "      <td>5</td>\n",
       "      <td>1</td>\n",
       "      <td>0</td>\n",
       "      <td>1</td>\n",
       "      <td>0</td>\n",
       "      <td>0</td>\n",
       "      <td>0</td>\n",
       "      <td>0</td>\n",
       "      <td>3</td>\n",
       "    </tr>\n",
       "    <tr>\n",
       "      <th>10</th>\n",
       "      <td>2001</td>\n",
       "      <td>12</td>\n",
       "      <td>27</td>\n",
       "      <td>5</td>\n",
       "      <td>1</td>\n",
       "      <td>3</td>\n",
       "      <td>3</td>\n",
       "      <td>0</td>\n",
       "      <td>0</td>\n",
       "      <td>0</td>\n",
       "      <td>1</td>\n",
       "      <td>0</td>\n",
       "    </tr>\n",
       "    <tr>\n",
       "      <th>11</th>\n",
       "      <td>2002</td>\n",
       "      <td>18</td>\n",
       "      <td>19</td>\n",
       "      <td>7</td>\n",
       "      <td>3</td>\n",
       "      <td>3</td>\n",
       "      <td>3</td>\n",
       "      <td>0</td>\n",
       "      <td>1</td>\n",
       "      <td>0</td>\n",
       "      <td>0</td>\n",
       "      <td>2</td>\n",
       "    </tr>\n",
       "    <tr>\n",
       "      <th>12</th>\n",
       "      <td>2003</td>\n",
       "      <td>14</td>\n",
       "      <td>20</td>\n",
       "      <td>7</td>\n",
       "      <td>4</td>\n",
       "      <td>1</td>\n",
       "      <td>0</td>\n",
       "      <td>0</td>\n",
       "      <td>0</td>\n",
       "      <td>1</td>\n",
       "      <td>1</td>\n",
       "      <td>0</td>\n",
       "    </tr>\n",
       "    <tr>\n",
       "      <th>13</th>\n",
       "      <td>2004</td>\n",
       "      <td>18</td>\n",
       "      <td>26</td>\n",
       "      <td>16</td>\n",
       "      <td>0</td>\n",
       "      <td>1</td>\n",
       "      <td>0</td>\n",
       "      <td>2</td>\n",
       "      <td>0</td>\n",
       "      <td>0</td>\n",
       "      <td>0</td>\n",
       "      <td>1</td>\n",
       "    </tr>\n",
       "    <tr>\n",
       "      <th>14</th>\n",
       "      <td>2005</td>\n",
       "      <td>26</td>\n",
       "      <td>36</td>\n",
       "      <td>18</td>\n",
       "      <td>3</td>\n",
       "      <td>3</td>\n",
       "      <td>4</td>\n",
       "      <td>0</td>\n",
       "      <td>0</td>\n",
       "      <td>0</td>\n",
       "      <td>0</td>\n",
       "      <td>0</td>\n",
       "    </tr>\n",
       "    <tr>\n",
       "      <th>15</th>\n",
       "      <td>2006</td>\n",
       "      <td>42</td>\n",
       "      <td>61</td>\n",
       "      <td>18</td>\n",
       "      <td>3</td>\n",
       "      <td>1</td>\n",
       "      <td>2</td>\n",
       "      <td>0</td>\n",
       "      <td>0</td>\n",
       "      <td>1</td>\n",
       "      <td>1</td>\n",
       "      <td>0</td>\n",
       "    </tr>\n",
       "    <tr>\n",
       "      <th>16</th>\n",
       "      <td>2007</td>\n",
       "      <td>63</td>\n",
       "      <td>83</td>\n",
       "      <td>16</td>\n",
       "      <td>6</td>\n",
       "      <td>1</td>\n",
       "      <td>0</td>\n",
       "      <td>0</td>\n",
       "      <td>1</td>\n",
       "      <td>1</td>\n",
       "      <td>0</td>\n",
       "      <td>1</td>\n",
       "    </tr>\n",
       "    <tr>\n",
       "      <th>17</th>\n",
       "      <td>2008</td>\n",
       "      <td>86</td>\n",
       "      <td>134</td>\n",
       "      <td>33</td>\n",
       "      <td>4</td>\n",
       "      <td>2</td>\n",
       "      <td>3</td>\n",
       "      <td>1</td>\n",
       "      <td>0</td>\n",
       "      <td>1</td>\n",
       "      <td>1</td>\n",
       "      <td>0</td>\n",
       "    </tr>\n",
       "    <tr>\n",
       "      <th>18</th>\n",
       "      <td>2009</td>\n",
       "      <td>92</td>\n",
       "      <td>147</td>\n",
       "      <td>31</td>\n",
       "      <td>8</td>\n",
       "      <td>2</td>\n",
       "      <td>1</td>\n",
       "      <td>2</td>\n",
       "      <td>2</td>\n",
       "      <td>0</td>\n",
       "      <td>0</td>\n",
       "      <td>1</td>\n",
       "    </tr>\n",
       "    <tr>\n",
       "      <th>19</th>\n",
       "      <td>2010</td>\n",
       "      <td>103</td>\n",
       "      <td>185</td>\n",
       "      <td>32</td>\n",
       "      <td>13</td>\n",
       "      <td>0</td>\n",
       "      <td>2</td>\n",
       "      <td>2</td>\n",
       "      <td>3</td>\n",
       "      <td>0</td>\n",
       "      <td>1</td>\n",
       "      <td>0</td>\n",
       "    </tr>\n",
       "    <tr>\n",
       "      <th>20</th>\n",
       "      <td>2011</td>\n",
       "      <td>131</td>\n",
       "      <td>238</td>\n",
       "      <td>44</td>\n",
       "      <td>5</td>\n",
       "      <td>6</td>\n",
       "      <td>7</td>\n",
       "      <td>1</td>\n",
       "      <td>3</td>\n",
       "      <td>1</td>\n",
       "      <td>2</td>\n",
       "      <td>1</td>\n",
       "    </tr>\n",
       "    <tr>\n",
       "      <th>21</th>\n",
       "      <td>2012</td>\n",
       "      <td>157</td>\n",
       "      <td>221</td>\n",
       "      <td>59</td>\n",
       "      <td>8</td>\n",
       "      <td>7</td>\n",
       "      <td>4</td>\n",
       "      <td>2</td>\n",
       "      <td>4</td>\n",
       "      <td>1</td>\n",
       "      <td>0</td>\n",
       "      <td>1</td>\n",
       "    </tr>\n",
       "    <tr>\n",
       "      <th>22</th>\n",
       "      <td>2013</td>\n",
       "      <td>150</td>\n",
       "      <td>287</td>\n",
       "      <td>54</td>\n",
       "      <td>15</td>\n",
       "      <td>4</td>\n",
       "      <td>3</td>\n",
       "      <td>2</td>\n",
       "      <td>4</td>\n",
       "      <td>1</td>\n",
       "      <td>3</td>\n",
       "      <td>3</td>\n",
       "    </tr>\n",
       "    <tr>\n",
       "      <th>23</th>\n",
       "      <td>2014</td>\n",
       "      <td>190</td>\n",
       "      <td>309</td>\n",
       "      <td>79</td>\n",
       "      <td>12</td>\n",
       "      <td>11</td>\n",
       "      <td>2</td>\n",
       "      <td>6</td>\n",
       "      <td>3</td>\n",
       "      <td>1</td>\n",
       "      <td>0</td>\n",
       "      <td>1</td>\n",
       "    </tr>\n",
       "    <tr>\n",
       "      <th>24</th>\n",
       "      <td>2015</td>\n",
       "      <td>185</td>\n",
       "      <td>326</td>\n",
       "      <td>64</td>\n",
       "      <td>16</td>\n",
       "      <td>8</td>\n",
       "      <td>2</td>\n",
       "      <td>6</td>\n",
       "      <td>3</td>\n",
       "      <td>3</td>\n",
       "      <td>3</td>\n",
       "      <td>2</td>\n",
       "    </tr>\n",
       "    <tr>\n",
       "      <th>25</th>\n",
       "      <td>2016</td>\n",
       "      <td>215</td>\n",
       "      <td>315</td>\n",
       "      <td>66</td>\n",
       "      <td>14</td>\n",
       "      <td>10</td>\n",
       "      <td>3</td>\n",
       "      <td>4</td>\n",
       "      <td>0</td>\n",
       "      <td>2</td>\n",
       "      <td>2</td>\n",
       "      <td>0</td>\n",
       "    </tr>\n",
       "    <tr>\n",
       "      <th>26</th>\n",
       "      <td>2017</td>\n",
       "      <td>203</td>\n",
       "      <td>339</td>\n",
       "      <td>66</td>\n",
       "      <td>20</td>\n",
       "      <td>9</td>\n",
       "      <td>5</td>\n",
       "      <td>4</td>\n",
       "      <td>6</td>\n",
       "      <td>2</td>\n",
       "      <td>1</td>\n",
       "      <td>0</td>\n",
       "    </tr>\n",
       "    <tr>\n",
       "      <th>27</th>\n",
       "      <td>2018</td>\n",
       "      <td>183</td>\n",
       "      <td>355</td>\n",
       "      <td>83</td>\n",
       "      <td>26</td>\n",
       "      <td>11</td>\n",
       "      <td>2</td>\n",
       "      <td>7</td>\n",
       "      <td>3</td>\n",
       "      <td>1</td>\n",
       "      <td>1</td>\n",
       "      <td>5</td>\n",
       "    </tr>\n",
       "    <tr>\n",
       "      <th>28</th>\n",
       "      <td>2019</td>\n",
       "      <td>241</td>\n",
       "      <td>387</td>\n",
       "      <td>112</td>\n",
       "      <td>29</td>\n",
       "      <td>8</td>\n",
       "      <td>8</td>\n",
       "      <td>10</td>\n",
       "      <td>4</td>\n",
       "      <td>1</td>\n",
       "      <td>4</td>\n",
       "      <td>0</td>\n",
       "    </tr>\n",
       "    <tr>\n",
       "      <th>29</th>\n",
       "      <td>2020</td>\n",
       "      <td>249</td>\n",
       "      <td>396</td>\n",
       "      <td>109</td>\n",
       "      <td>35</td>\n",
       "      <td>9</td>\n",
       "      <td>11</td>\n",
       "      <td>10</td>\n",
       "      <td>6</td>\n",
       "      <td>6</td>\n",
       "      <td>4</td>\n",
       "      <td>1</td>\n",
       "    </tr>\n",
       "    <tr>\n",
       "      <th>30</th>\n",
       "      <td>2021</td>\n",
       "      <td>279</td>\n",
       "      <td>364</td>\n",
       "      <td>104</td>\n",
       "      <td>32</td>\n",
       "      <td>12</td>\n",
       "      <td>6</td>\n",
       "      <td>4</td>\n",
       "      <td>2</td>\n",
       "      <td>2</td>\n",
       "      <td>1</td>\n",
       "      <td>1</td>\n",
       "    </tr>\n",
       "    <tr>\n",
       "      <th>31</th>\n",
       "      <td>2022</td>\n",
       "      <td>256</td>\n",
       "      <td>402</td>\n",
       "      <td>100</td>\n",
       "      <td>52</td>\n",
       "      <td>16</td>\n",
       "      <td>12</td>\n",
       "      <td>16</td>\n",
       "      <td>2</td>\n",
       "      <td>2</td>\n",
       "      <td>0</td>\n",
       "      <td>2</td>\n",
       "    </tr>\n",
       "    <tr>\n",
       "      <th>32</th>\n",
       "      <td>2023</td>\n",
       "      <td>213</td>\n",
       "      <td>302</td>\n",
       "      <td>102</td>\n",
       "      <td>30</td>\n",
       "      <td>12</td>\n",
       "      <td>2</td>\n",
       "      <td>8</td>\n",
       "      <td>5</td>\n",
       "      <td>5</td>\n",
       "      <td>1</td>\n",
       "      <td>0</td>\n",
       "    </tr>\n",
       "    <tr>\n",
       "      <th>33</th>\n",
       "      <td>2024</td>\n",
       "      <td>34</td>\n",
       "      <td>44</td>\n",
       "      <td>22</td>\n",
       "      <td>7</td>\n",
       "      <td>4</td>\n",
       "      <td>1</td>\n",
       "      <td>1</td>\n",
       "      <td>0</td>\n",
       "      <td>0</td>\n",
       "      <td>0</td>\n",
       "      <td>1</td>\n",
       "    </tr>\n",
       "  </tbody>\n",
       "</table>\n",
       "</div>"
      ],
      "text/plain": [
       "Topic Publication Year   -1    0    1   2   3   4   5  6  7  8  9\n",
       "0      1991             2    1    1    0   2   0   0   0  0  0  0\n",
       "1      1992             2    3    1    2   1   0   0   0  0  0  1\n",
       "2      1993             5    4    1    2   0   0   0   0  0  0  0\n",
       "3      1994             4    4    1    1   1   0   0   0  0  1  0\n",
       "4      1995             9    3    2    0   0   0   0   0  0  0  0\n",
       "5      1996             6    4    3    0   1   1   0   0  0  0  0\n",
       "6      1997             8    13   7    1   1   0   0   0  0  0  1\n",
       "7      1998             9    11   8    3   2   0   0   1  0  0  0\n",
       "8      1999             10   8    7    2   0   2   1   2  0  0  0\n",
       "9      2000             14   14   5    1   0   1   0   0  0  0  3\n",
       "10     2001             12   27   5    1   3   3   0   0  0  1  0\n",
       "11     2002             18   19   7    3   3   3   0   1  0  0  2\n",
       "12     2003             14   20   7    4   1   0   0   0  1  1  0\n",
       "13     2004             18   26   16   0   1   0   2   0  0  0  1\n",
       "14     2005             26   36   18   3   3   4   0   0  0  0  0\n",
       "15     2006             42   61   18   3   1   2   0   0  1  1  0\n",
       "16     2007             63   83   16   6   1   0   0   1  1  0  1\n",
       "17     2008             86   134  33   4   2   3   1   0  1  1  0\n",
       "18     2009             92   147  31   8   2   1   2   2  0  0  1\n",
       "19     2010             103  185  32   13  0   2   2   3  0  1  0\n",
       "20     2011             131  238  44   5   6   7   1   3  1  2  1\n",
       "21     2012             157  221  59   8   7   4   2   4  1  0  1\n",
       "22     2013             150  287  54   15  4   3   2   4  1  3  3\n",
       "23     2014             190  309  79   12  11  2   6   3  1  0  1\n",
       "24     2015             185  326  64   16  8   2   6   3  3  3  2\n",
       "25     2016             215  315  66   14  10  3   4   0  2  2  0\n",
       "26     2017             203  339  66   20  9   5   4   6  2  1  0\n",
       "27     2018             183  355  83   26  11  2   7   3  1  1  5\n",
       "28     2019             241  387  112  29  8   8   10  4  1  4  0\n",
       "29     2020             249  396  109  35  9   11  10  6  6  4  1\n",
       "30     2021             279  364  104  32  12  6   4   2  2  1  1\n",
       "31     2022             256  402  100  52  16  12  16  2  2  0  2\n",
       "32     2023             213  302  102  30  12  2   8   5  5  1  0\n",
       "33     2024             34   44   22   7   4   1   1   0  0  0  1"
      ]
     },
     "execution_count": 46,
     "metadata": {},
     "output_type": "execute_result"
    }
   ],
   "source": [
    "pvt1 = pvt.reset_index()\n",
    "pvt2 = pvt1.copy()\n",
    "\n",
    "pvt1 = pvt1.drop('All',axis=1)\n",
    "# pvt1 = pvt1[(pvt1['Publication Year'] != 2024)]\n",
    "pvt1 = pvt1[:-1]\n",
    "pvt1"
   ]
  },
  {
   "cell_type": "code",
   "execution_count": 47,
   "metadata": {},
   "outputs": [
    {
     "data": {
      "image/png": "[encoded data removed]",
      "text/plain": [
       "<Figure size 2000x800 with 1 Axes>"
      ]
     },
     "metadata": {},
     "output_type": "display_data"
    }
   ],
   "source": [
    "from matplotlib import pyplot as plt\n",
    "# set figure size as 8 x 20 inches\n",
    "plt.figure(figsize=(20,8))\n",
    "bottom = np.zeros(34)\n",
    "for i in range(0, nr_topics-1):\n",
    "    plt.bar(pvt1['Publication Year'], pvt1[i], bottom = bottom, label=f'Topic {i}')\n",
    "    bottom += pvt1[i]\n",
    "\n",
    "plt.xlabel('Year')\n",
    "plt.ylabel('Number of Articles')\n",
    "plt.title('Number of Articles per Topic per Year')\n",
    "# set ticks on x as years\n",
    "plt.xticks(np.arange(pvt1['Publication Year'].min(), pvt1['Publication Year'].max()+1, 2))\n",
    "plt.legend()\n",
    "plt.grid()\n",
    "plt.show()"
   ]
  },
  {
   "cell_type": "code",
   "execution_count": 48,
   "metadata": {},
   "outputs": [
    {
     "data": {
      "text/html": [
       "<div>\n",
       "<style scoped>\n",
       "    .dataframe tbody tr th:only-of-type {\n",
       "        vertical-align: middle;\n",
       "    }\n",
       "\n",
       "    .dataframe tbody tr th {\n",
       "        vertical-align: top;\n",
       "    }\n",
       "\n",
       "    .dataframe thead th {\n",
       "        text-align: right;\n",
       "    }\n",
       "</style>\n",
       "<table border=\"1\" class=\"dataframe\">\n",
       "  <thead>\n",
       "    <tr style=\"text-align: right;\">\n",
       "      <th>Topic</th>\n",
       "      <th>Publication Year</th>\n",
       "      <th>-1</th>\n",
       "      <th>0</th>\n",
       "      <th>1</th>\n",
       "      <th>2</th>\n",
       "      <th>3</th>\n",
       "      <th>4</th>\n",
       "      <th>5</th>\n",
       "      <th>6</th>\n",
       "      <th>7</th>\n",
       "      <th>8</th>\n",
       "      <th>9</th>\n",
       "    </tr>\n",
       "  </thead>\n",
       "  <tbody>\n",
       "    <tr>\n",
       "      <th>0</th>\n",
       "      <td>1991</td>\n",
       "      <td>2</td>\n",
       "      <td>0.250000</td>\n",
       "      <td>0.250000</td>\n",
       "      <td>0.000000</td>\n",
       "      <td>0.500000</td>\n",
       "      <td>0.000000</td>\n",
       "      <td>0.000000</td>\n",
       "      <td>0.000000</td>\n",
       "      <td>0.000000</td>\n",
       "      <td>0.000000</td>\n",
       "      <td>0.000000</td>\n",
       "    </tr>\n",
       "    <tr>\n",
       "      <th>1</th>\n",
       "      <td>1992</td>\n",
       "      <td>2</td>\n",
       "      <td>0.375000</td>\n",
       "      <td>0.125000</td>\n",
       "      <td>0.250000</td>\n",
       "      <td>0.125000</td>\n",
       "      <td>0.000000</td>\n",
       "      <td>0.000000</td>\n",
       "      <td>0.000000</td>\n",
       "      <td>0.000000</td>\n",
       "      <td>0.000000</td>\n",
       "      <td>0.125000</td>\n",
       "    </tr>\n",
       "    <tr>\n",
       "      <th>2</th>\n",
       "      <td>1993</td>\n",
       "      <td>5</td>\n",
       "      <td>0.571429</td>\n",
       "      <td>0.142857</td>\n",
       "      <td>0.285714</td>\n",
       "      <td>0.000000</td>\n",
       "      <td>0.000000</td>\n",
       "      <td>0.000000</td>\n",
       "      <td>0.000000</td>\n",
       "      <td>0.000000</td>\n",
       "      <td>0.000000</td>\n",
       "      <td>0.000000</td>\n",
       "    </tr>\n",
       "    <tr>\n",
       "      <th>3</th>\n",
       "      <td>1994</td>\n",
       "      <td>4</td>\n",
       "      <td>0.500000</td>\n",
       "      <td>0.125000</td>\n",
       "      <td>0.125000</td>\n",
       "      <td>0.125000</td>\n",
       "      <td>0.000000</td>\n",
       "      <td>0.000000</td>\n",
       "      <td>0.000000</td>\n",
       "      <td>0.000000</td>\n",
       "      <td>0.125000</td>\n",
       "      <td>0.000000</td>\n",
       "    </tr>\n",
       "    <tr>\n",
       "      <th>4</th>\n",
       "      <td>1995</td>\n",
       "      <td>9</td>\n",
       "      <td>0.600000</td>\n",
       "      <td>0.400000</td>\n",
       "      <td>0.000000</td>\n",
       "      <td>0.000000</td>\n",
       "      <td>0.000000</td>\n",
       "      <td>0.000000</td>\n",
       "      <td>0.000000</td>\n",
       "      <td>0.000000</td>\n",
       "      <td>0.000000</td>\n",
       "      <td>0.000000</td>\n",
       "    </tr>\n",
       "    <tr>\n",
       "      <th>5</th>\n",
       "      <td>1996</td>\n",
       "      <td>6</td>\n",
       "      <td>0.444444</td>\n",
       "      <td>0.333333</td>\n",
       "      <td>0.000000</td>\n",
       "      <td>0.111111</td>\n",
       "      <td>0.111111</td>\n",
       "      <td>0.000000</td>\n",
       "      <td>0.000000</td>\n",
       "      <td>0.000000</td>\n",
       "      <td>0.000000</td>\n",
       "      <td>0.000000</td>\n",
       "    </tr>\n",
       "    <tr>\n",
       "      <th>6</th>\n",
       "      <td>1997</td>\n",
       "      <td>8</td>\n",
       "      <td>0.565217</td>\n",
       "      <td>0.304348</td>\n",
       "      <td>0.043478</td>\n",
       "      <td>0.043478</td>\n",
       "      <td>0.000000</td>\n",
       "      <td>0.000000</td>\n",
       "      <td>0.000000</td>\n",
       "      <td>0.000000</td>\n",
       "      <td>0.000000</td>\n",
       "      <td>0.043478</td>\n",
       "    </tr>\n",
       "    <tr>\n",
       "      <th>7</th>\n",
       "      <td>1998</td>\n",
       "      <td>9</td>\n",
       "      <td>0.440000</td>\n",
       "      <td>0.320000</td>\n",
       "      <td>0.120000</td>\n",
       "      <td>0.080000</td>\n",
       "      <td>0.000000</td>\n",
       "      <td>0.000000</td>\n",
       "      <td>0.040000</td>\n",
       "      <td>0.000000</td>\n",
       "      <td>0.000000</td>\n",
       "      <td>0.000000</td>\n",
       "    </tr>\n",
       "    <tr>\n",
       "      <th>8</th>\n",
       "      <td>1999</td>\n",
       "      <td>10</td>\n",
       "      <td>0.363636</td>\n",
       "      <td>0.318182</td>\n",
       "      <td>0.090909</td>\n",
       "      <td>0.000000</td>\n",
       "      <td>0.090909</td>\n",
       "      <td>0.045455</td>\n",
       "      <td>0.090909</td>\n",
       "      <td>0.000000</td>\n",
       "      <td>0.000000</td>\n",
       "      <td>0.000000</td>\n",
       "    </tr>\n",
       "    <tr>\n",
       "      <th>9</th>\n",
       "      <td>2000</td>\n",
       "      <td>14</td>\n",
       "      <td>0.583333</td>\n",
       "      <td>0.208333</td>\n",
       "      <td>0.041667</td>\n",
       "      <td>0.000000</td>\n",
       "      <td>0.041667</td>\n",
       "      <td>0.000000</td>\n",
       "      <td>0.000000</td>\n",
       "      <td>0.000000</td>\n",
       "      <td>0.000000</td>\n",
       "      <td>0.125000</td>\n",
       "    </tr>\n",
       "    <tr>\n",
       "      <th>10</th>\n",
       "      <td>2001</td>\n",
       "      <td>12</td>\n",
       "      <td>0.675000</td>\n",
       "      <td>0.125000</td>\n",
       "      <td>0.025000</td>\n",
       "      <td>0.075000</td>\n",
       "      <td>0.075000</td>\n",
       "      <td>0.000000</td>\n",
       "      <td>0.000000</td>\n",
       "      <td>0.000000</td>\n",
       "      <td>0.025000</td>\n",
       "      <td>0.000000</td>\n",
       "    </tr>\n",
       "    <tr>\n",
       "      <th>11</th>\n",
       "      <td>2002</td>\n",
       "      <td>18</td>\n",
       "      <td>0.500000</td>\n",
       "      <td>0.184211</td>\n",
       "      <td>0.078947</td>\n",
       "      <td>0.078947</td>\n",
       "      <td>0.078947</td>\n",
       "      <td>0.000000</td>\n",
       "      <td>0.026316</td>\n",
       "      <td>0.000000</td>\n",
       "      <td>0.000000</td>\n",
       "      <td>0.052632</td>\n",
       "    </tr>\n",
       "    <tr>\n",
       "      <th>12</th>\n",
       "      <td>2003</td>\n",
       "      <td>14</td>\n",
       "      <td>0.588235</td>\n",
       "      <td>0.205882</td>\n",
       "      <td>0.117647</td>\n",
       "      <td>0.029412</td>\n",
       "      <td>0.000000</td>\n",
       "      <td>0.000000</td>\n",
       "      <td>0.000000</td>\n",
       "      <td>0.029412</td>\n",
       "      <td>0.029412</td>\n",
       "      <td>0.000000</td>\n",
       "    </tr>\n",
       "    <tr>\n",
       "      <th>13</th>\n",
       "      <td>2004</td>\n",
       "      <td>18</td>\n",
       "      <td>0.565217</td>\n",
       "      <td>0.347826</td>\n",
       "      <td>0.000000</td>\n",
       "      <td>0.021739</td>\n",
       "      <td>0.000000</td>\n",
       "      <td>0.043478</td>\n",
       "      <td>0.000000</td>\n",
       "      <td>0.000000</td>\n",
       "      <td>0.000000</td>\n",
       "      <td>0.021739</td>\n",
       "    </tr>\n",
       "    <tr>\n",
       "      <th>14</th>\n",
       "      <td>2005</td>\n",
       "      <td>26</td>\n",
       "      <td>0.562500</td>\n",
       "      <td>0.281250</td>\n",
       "      <td>0.046875</td>\n",
       "      <td>0.046875</td>\n",
       "      <td>0.062500</td>\n",
       "      <td>0.000000</td>\n",
       "      <td>0.000000</td>\n",
       "      <td>0.000000</td>\n",
       "      <td>0.000000</td>\n",
       "      <td>0.000000</td>\n",
       "    </tr>\n",
       "    <tr>\n",
       "      <th>15</th>\n",
       "      <td>2006</td>\n",
       "      <td>42</td>\n",
       "      <td>0.701149</td>\n",
       "      <td>0.206897</td>\n",
       "      <td>0.034483</td>\n",
       "      <td>0.011494</td>\n",
       "      <td>0.022989</td>\n",
       "      <td>0.000000</td>\n",
       "      <td>0.000000</td>\n",
       "      <td>0.011494</td>\n",
       "      <td>0.011494</td>\n",
       "      <td>0.000000</td>\n",
       "    </tr>\n",
       "    <tr>\n",
       "      <th>16</th>\n",
       "      <td>2007</td>\n",
       "      <td>63</td>\n",
       "      <td>0.761468</td>\n",
       "      <td>0.146789</td>\n",
       "      <td>0.055046</td>\n",
       "      <td>0.009174</td>\n",
       "      <td>0.000000</td>\n",
       "      <td>0.000000</td>\n",
       "      <td>0.009174</td>\n",
       "      <td>0.009174</td>\n",
       "      <td>0.000000</td>\n",
       "      <td>0.009174</td>\n",
       "    </tr>\n",
       "    <tr>\n",
       "      <th>17</th>\n",
       "      <td>2008</td>\n",
       "      <td>86</td>\n",
       "      <td>0.748603</td>\n",
       "      <td>0.184358</td>\n",
       "      <td>0.022346</td>\n",
       "      <td>0.011173</td>\n",
       "      <td>0.016760</td>\n",
       "      <td>0.005587</td>\n",
       "      <td>0.000000</td>\n",
       "      <td>0.005587</td>\n",
       "      <td>0.005587</td>\n",
       "      <td>0.000000</td>\n",
       "    </tr>\n",
       "    <tr>\n",
       "      <th>18</th>\n",
       "      <td>2009</td>\n",
       "      <td>92</td>\n",
       "      <td>0.757732</td>\n",
       "      <td>0.159794</td>\n",
       "      <td>0.041237</td>\n",
       "      <td>0.010309</td>\n",
       "      <td>0.005155</td>\n",
       "      <td>0.010309</td>\n",
       "      <td>0.010309</td>\n",
       "      <td>0.000000</td>\n",
       "      <td>0.000000</td>\n",
       "      <td>0.005155</td>\n",
       "    </tr>\n",
       "    <tr>\n",
       "      <th>19</th>\n",
       "      <td>2010</td>\n",
       "      <td>103</td>\n",
       "      <td>0.777311</td>\n",
       "      <td>0.134454</td>\n",
       "      <td>0.054622</td>\n",
       "      <td>0.000000</td>\n",
       "      <td>0.008403</td>\n",
       "      <td>0.008403</td>\n",
       "      <td>0.012605</td>\n",
       "      <td>0.000000</td>\n",
       "      <td>0.004202</td>\n",
       "      <td>0.000000</td>\n",
       "    </tr>\n",
       "    <tr>\n",
       "      <th>20</th>\n",
       "      <td>2011</td>\n",
       "      <td>131</td>\n",
       "      <td>0.772727</td>\n",
       "      <td>0.142857</td>\n",
       "      <td>0.016234</td>\n",
       "      <td>0.019481</td>\n",
       "      <td>0.022727</td>\n",
       "      <td>0.003247</td>\n",
       "      <td>0.009740</td>\n",
       "      <td>0.003247</td>\n",
       "      <td>0.006494</td>\n",
       "      <td>0.003247</td>\n",
       "    </tr>\n",
       "    <tr>\n",
       "      <th>21</th>\n",
       "      <td>2012</td>\n",
       "      <td>157</td>\n",
       "      <td>0.719870</td>\n",
       "      <td>0.192182</td>\n",
       "      <td>0.026059</td>\n",
       "      <td>0.022801</td>\n",
       "      <td>0.013029</td>\n",
       "      <td>0.006515</td>\n",
       "      <td>0.013029</td>\n",
       "      <td>0.003257</td>\n",
       "      <td>0.000000</td>\n",
       "      <td>0.003257</td>\n",
       "    </tr>\n",
       "    <tr>\n",
       "      <th>22</th>\n",
       "      <td>2013</td>\n",
       "      <td>150</td>\n",
       "      <td>0.763298</td>\n",
       "      <td>0.143617</td>\n",
       "      <td>0.039894</td>\n",
       "      <td>0.010638</td>\n",
       "      <td>0.007979</td>\n",
       "      <td>0.005319</td>\n",
       "      <td>0.010638</td>\n",
       "      <td>0.002660</td>\n",
       "      <td>0.007979</td>\n",
       "      <td>0.007979</td>\n",
       "    </tr>\n",
       "    <tr>\n",
       "      <th>23</th>\n",
       "      <td>2014</td>\n",
       "      <td>190</td>\n",
       "      <td>0.728774</td>\n",
       "      <td>0.186321</td>\n",
       "      <td>0.028302</td>\n",
       "      <td>0.025943</td>\n",
       "      <td>0.004717</td>\n",
       "      <td>0.014151</td>\n",
       "      <td>0.007075</td>\n",
       "      <td>0.002358</td>\n",
       "      <td>0.000000</td>\n",
       "      <td>0.002358</td>\n",
       "    </tr>\n",
       "    <tr>\n",
       "      <th>24</th>\n",
       "      <td>2015</td>\n",
       "      <td>185</td>\n",
       "      <td>0.752887</td>\n",
       "      <td>0.147806</td>\n",
       "      <td>0.036952</td>\n",
       "      <td>0.018476</td>\n",
       "      <td>0.004619</td>\n",
       "      <td>0.013857</td>\n",
       "      <td>0.006928</td>\n",
       "      <td>0.006928</td>\n",
       "      <td>0.006928</td>\n",
       "      <td>0.004619</td>\n",
       "    </tr>\n",
       "    <tr>\n",
       "      <th>25</th>\n",
       "      <td>2016</td>\n",
       "      <td>215</td>\n",
       "      <td>0.757212</td>\n",
       "      <td>0.158654</td>\n",
       "      <td>0.033654</td>\n",
       "      <td>0.024038</td>\n",
       "      <td>0.007212</td>\n",
       "      <td>0.009615</td>\n",
       "      <td>0.000000</td>\n",
       "      <td>0.004808</td>\n",
       "      <td>0.004808</td>\n",
       "      <td>0.000000</td>\n",
       "    </tr>\n",
       "    <tr>\n",
       "      <th>26</th>\n",
       "      <td>2017</td>\n",
       "      <td>203</td>\n",
       "      <td>0.750000</td>\n",
       "      <td>0.146018</td>\n",
       "      <td>0.044248</td>\n",
       "      <td>0.019912</td>\n",
       "      <td>0.011062</td>\n",
       "      <td>0.008850</td>\n",
       "      <td>0.013274</td>\n",
       "      <td>0.004425</td>\n",
       "      <td>0.002212</td>\n",
       "      <td>0.000000</td>\n",
       "    </tr>\n",
       "    <tr>\n",
       "      <th>27</th>\n",
       "      <td>2018</td>\n",
       "      <td>183</td>\n",
       "      <td>0.718623</td>\n",
       "      <td>0.168016</td>\n",
       "      <td>0.052632</td>\n",
       "      <td>0.022267</td>\n",
       "      <td>0.004049</td>\n",
       "      <td>0.014170</td>\n",
       "      <td>0.006073</td>\n",
       "      <td>0.002024</td>\n",
       "      <td>0.002024</td>\n",
       "      <td>0.010121</td>\n",
       "    </tr>\n",
       "    <tr>\n",
       "      <th>28</th>\n",
       "      <td>2019</td>\n",
       "      <td>241</td>\n",
       "      <td>0.687389</td>\n",
       "      <td>0.198934</td>\n",
       "      <td>0.051510</td>\n",
       "      <td>0.014210</td>\n",
       "      <td>0.014210</td>\n",
       "      <td>0.017762</td>\n",
       "      <td>0.007105</td>\n",
       "      <td>0.001776</td>\n",
       "      <td>0.007105</td>\n",
       "      <td>0.000000</td>\n",
       "    </tr>\n",
       "    <tr>\n",
       "      <th>29</th>\n",
       "      <td>2020</td>\n",
       "      <td>249</td>\n",
       "      <td>0.674617</td>\n",
       "      <td>0.185690</td>\n",
       "      <td>0.059625</td>\n",
       "      <td>0.015332</td>\n",
       "      <td>0.018739</td>\n",
       "      <td>0.017036</td>\n",
       "      <td>0.010221</td>\n",
       "      <td>0.010221</td>\n",
       "      <td>0.006814</td>\n",
       "      <td>0.001704</td>\n",
       "    </tr>\n",
       "    <tr>\n",
       "      <th>30</th>\n",
       "      <td>2021</td>\n",
       "      <td>279</td>\n",
       "      <td>0.689394</td>\n",
       "      <td>0.196970</td>\n",
       "      <td>0.060606</td>\n",
       "      <td>0.022727</td>\n",
       "      <td>0.011364</td>\n",
       "      <td>0.007576</td>\n",
       "      <td>0.003788</td>\n",
       "      <td>0.003788</td>\n",
       "      <td>0.001894</td>\n",
       "      <td>0.001894</td>\n",
       "    </tr>\n",
       "    <tr>\n",
       "      <th>31</th>\n",
       "      <td>2022</td>\n",
       "      <td>256</td>\n",
       "      <td>0.665563</td>\n",
       "      <td>0.165563</td>\n",
       "      <td>0.086093</td>\n",
       "      <td>0.026490</td>\n",
       "      <td>0.019868</td>\n",
       "      <td>0.026490</td>\n",
       "      <td>0.003311</td>\n",
       "      <td>0.003311</td>\n",
       "      <td>0.000000</td>\n",
       "      <td>0.003311</td>\n",
       "    </tr>\n",
       "    <tr>\n",
       "      <th>32</th>\n",
       "      <td>2023</td>\n",
       "      <td>213</td>\n",
       "      <td>0.646681</td>\n",
       "      <td>0.218415</td>\n",
       "      <td>0.064240</td>\n",
       "      <td>0.025696</td>\n",
       "      <td>0.004283</td>\n",
       "      <td>0.017131</td>\n",
       "      <td>0.010707</td>\n",
       "      <td>0.010707</td>\n",
       "      <td>0.002141</td>\n",
       "      <td>0.000000</td>\n",
       "    </tr>\n",
       "    <tr>\n",
       "      <th>33</th>\n",
       "      <td>2024</td>\n",
       "      <td>34</td>\n",
       "      <td>0.550000</td>\n",
       "      <td>0.275000</td>\n",
       "      <td>0.087500</td>\n",
       "      <td>0.050000</td>\n",
       "      <td>0.012500</td>\n",
       "      <td>0.012500</td>\n",
       "      <td>0.000000</td>\n",
       "      <td>0.000000</td>\n",
       "      <td>0.000000</td>\n",
       "      <td>0.012500</td>\n",
       "    </tr>\n",
       "  </tbody>\n",
       "</table>\n",
       "</div>"
      ],
      "text/plain": [
       "Topic Publication Year   -1         0         1         2         3         4  \\\n",
       "0      1991             2    0.250000  0.250000  0.000000  0.500000  0.000000   \n",
       "1      1992             2    0.375000  0.125000  0.250000  0.125000  0.000000   \n",
       "2      1993             5    0.571429  0.142857  0.285714  0.000000  0.000000   \n",
       "3      1994             4    0.500000  0.125000  0.125000  0.125000  0.000000   \n",
       "4      1995             9    0.600000  0.400000  0.000000  0.000000  0.000000   \n",
       "5      1996             6    0.444444  0.333333  0.000000  0.111111  0.111111   \n",
       "6      1997             8    0.565217  0.304348  0.043478  0.043478  0.000000   \n",
       "7      1998             9    0.440000  0.320000  0.120000  0.080000  0.000000   \n",
       "8      1999             10   0.363636  0.318182  0.090909  0.000000  0.090909   \n",
       "9      2000             14   0.583333  0.208333  0.041667  0.000000  0.041667   \n",
       "10     2001             12   0.675000  0.125000  0.025000  0.075000  0.075000   \n",
       "11     2002             18   0.500000  0.184211  0.078947  0.078947  0.078947   \n",
       "12     2003             14   0.588235  0.205882  0.117647  0.029412  0.000000   \n",
       "13     2004             18   0.565217  0.347826  0.000000  0.021739  0.000000   \n",
       "14     2005             26   0.562500  0.281250  0.046875  0.046875  0.062500   \n",
       "15     2006             42   0.701149  0.206897  0.034483  0.011494  0.022989   \n",
       "16     2007             63   0.761468  0.146789  0.055046  0.009174  0.000000   \n",
       "17     2008             86   0.748603  0.184358  0.022346  0.011173  0.016760   \n",
       "18     2009             92   0.757732  0.159794  0.041237  0.010309  0.005155   \n",
       "19     2010             103  0.777311  0.134454  0.054622  0.000000  0.008403   \n",
       "20     2011             131  0.772727  0.142857  0.016234  0.019481  0.022727   \n",
       "21     2012             157  0.719870  0.192182  0.026059  0.022801  0.013029   \n",
       "22     2013             150  0.763298  0.143617  0.039894  0.010638  0.007979   \n",
       "23     2014             190  0.728774  0.186321  0.028302  0.025943  0.004717   \n",
       "24     2015             185  0.752887  0.147806  0.036952  0.018476  0.004619   \n",
       "25     2016             215  0.757212  0.158654  0.033654  0.024038  0.007212   \n",
       "26     2017             203  0.750000  0.146018  0.044248  0.019912  0.011062   \n",
       "27     2018             183  0.718623  0.168016  0.052632  0.022267  0.004049   \n",
       "28     2019             241  0.687389  0.198934  0.051510  0.014210  0.014210   \n",
       "29     2020             249  0.674617  0.185690  0.059625  0.015332  0.018739   \n",
       "30     2021             279  0.689394  0.196970  0.060606  0.022727  0.011364   \n",
       "31     2022             256  0.665563  0.165563  0.086093  0.026490  0.019868   \n",
       "32     2023             213  0.646681  0.218415  0.064240  0.025696  0.004283   \n",
       "33     2024             34   0.550000  0.275000  0.087500  0.050000  0.012500   \n",
       "\n",
       "Topic         5         6         7         8         9  \n",
       "0      0.000000  0.000000  0.000000  0.000000  0.000000  \n",
       "1      0.000000  0.000000  0.000000  0.000000  0.125000  \n",
       "2      0.000000  0.000000  0.000000  0.000000  0.000000  \n",
       "3      0.000000  0.000000  0.000000  0.125000  0.000000  \n",
       "4      0.000000  0.000000  0.000000  0.000000  0.000000  \n",
       "5      0.000000  0.000000  0.000000  0.000000  0.000000  \n",
       "6      0.000000  0.000000  0.000000  0.000000  0.043478  \n",
       "7      0.000000  0.040000  0.000000  0.000000  0.000000  \n",
       "8      0.045455  0.090909  0.000000  0.000000  0.000000  \n",
       "9      0.000000  0.000000  0.000000  0.000000  0.125000  \n",
       "10     0.000000  0.000000  0.000000  0.025000  0.000000  \n",
       "11     0.000000  0.026316  0.000000  0.000000  0.052632  \n",
       "12     0.000000  0.000000  0.029412  0.029412  0.000000  \n",
       "13     0.043478  0.000000  0.000000  0.000000  0.021739  \n",
       "14     0.000000  0.000000  0.000000  0.000000  0.000000  \n",
       "15     0.000000  0.000000  0.011494  0.011494  0.000000  \n",
       "16     0.000000  0.009174  0.009174  0.000000  0.009174  \n",
       "17     0.005587  0.000000  0.005587  0.005587  0.000000  \n",
       "18     0.010309  0.010309  0.000000  0.000000  0.005155  \n",
       "19     0.008403  0.012605  0.000000  0.004202  0.000000  \n",
       "20     0.003247  0.009740  0.003247  0.006494  0.003247  \n",
       "21     0.006515  0.013029  0.003257  0.000000  0.003257  \n",
       "22     0.005319  0.010638  0.002660  0.007979  0.007979  \n",
       "23     0.014151  0.007075  0.002358  0.000000  0.002358  \n",
       "24     0.013857  0.006928  0.006928  0.006928  0.004619  \n",
       "25     0.009615  0.000000  0.004808  0.004808  0.000000  \n",
       "26     0.008850  0.013274  0.004425  0.002212  0.000000  \n",
       "27     0.014170  0.006073  0.002024  0.002024  0.010121  \n",
       "28     0.017762  0.007105  0.001776  0.007105  0.000000  \n",
       "29     0.017036  0.010221  0.010221  0.006814  0.001704  \n",
       "30     0.007576  0.003788  0.003788  0.001894  0.001894  \n",
       "31     0.026490  0.003311  0.003311  0.000000  0.003311  \n",
       "32     0.017131  0.010707  0.010707  0.002141  0.000000  \n",
       "33     0.012500  0.000000  0.000000  0.000000  0.012500  "
      ]
     },
     "execution_count": 48,
     "metadata": {},
     "output_type": "execute_result"
    }
   ],
   "source": [
    "pvt2['All'] = pvt2['All'] - pvt2[-1]\n",
    "\n",
    "for i in range(0, nr_topics-1):\n",
    "    pvt2[i] = pvt2[i] / pvt2['All']\n",
    "\n",
    "pvt2 = pvt2.drop('All',axis=1)\n",
    "# pvt2 = pvt2[(pvt2['Publication Year'] != 2024)]\n",
    "pvt2 = pvt2[:-1]\n",
    "pvt2\n",
    "\n"
   ]
  },
  {
   "cell_type": "code",
   "execution_count": 49,
   "metadata": {},
   "outputs": [
    {
     "data": {
      "image/png": "[encoded data removed]",
      "text/plain": [
       "<Figure size 2000x800 with 1 Axes>"
      ]
     },
     "metadata": {},
     "output_type": "display_data"
    }
   ],
   "source": [
    "from matplotlib import pyplot as plt\n",
    "# set figure size as 8 x 20 inches\n",
    "plt.figure(figsize=(20,8))\n",
    "\n",
    "bottom = np.zeros(34)\n",
    "for i in range(0, opt_nr_of_topics-1):\n",
    "    plt.bar(pvt2['Publication Year'], pvt2[i], bottom=bottom, label=f'Topic {i}')\n",
    "    bottom += pvt2[i]\n",
    "\n",
    "plt.xlabel('Year')\n",
    "plt.ylabel('Relative number of Articles')\n",
    "plt.title('Relative number of Articles per Topic per Year')\n",
    "# set ticks on x as years\n",
    "plt.xticks(np.arange(pvt2['Publication Year'].min(), pvt2['Publication Year'].max()+1, 2))\n",
    "plt.legend(bbox_to_anchor=(1.0, 1.0), loc='upper left')\n",
    "plt.grid()\n",
    "plt.show()"
   ]
  },
  {
   "cell_type": "code",
   "execution_count": 50,
   "metadata": {},
   "outputs": [],
   "source": [
    "art.to_excel('art_year_topic.xlsx',index=False)"
   ]
  },
  {
   "cell_type": "markdown",
   "metadata": {},
   "source": [
    "DONE\n",
    "- check if full text can be downloaded via API -> nuttig?  NEEN\n",
    "- \"> 1000 artikelen? JA\n",
    "- beginjaar  : 1991\n",
    "- uitsluiten van \"topic general words\": JA\n",
    "- Bertopic\n",
    "- score per woord (cf. barchart)\n",
    "- probability scores toekennen aan elk artikel\n",
    "- relatieve grafiek\n",
    "- behoud van alle data uit WoS\n",
    "\n",
    "TODO\n",
    "- bepaling kwaliteit clusters\n",
    "  - artikel\n",
    "  - https://github.com/MaartenGr/BERTopic/issues/437\n",
    "- fine-tunen, o.a. optimale aantal topics\n",
    "\n",
    "\n",
    "\n",
    "\n",
    "#### References\n",
    "\n",
    "- LDA gensim vs scikit-learn: https://blog.devgenius.io/working-with-sklearn-latent-dirichlet-allocation-lda-topic-modeling-on-airline-sentiment-twitter-56dfacfd58bf  - \n",
    "- Perplexity score: https://medium.com/@iqra.bismi/topic-modelling-using-lda-fe81a2a806e0#:~:text=Perplexity%20is%20a%20commonly%20used,score%20indicates%20better%20model%20performance\n",
    "- A Topic Modeling Comparison Between LDA, NMF, Top2Vec, and BERTopic to Demystify Twitter Posts: https://www.frontiersin.org/articles/10.3389/fsoc.2022.886498/full\n",
    "- https://towardsdatascience.com/visualizing-topic-models-with-scatterpies-and-t-sne-f21f228f7b02\n",
    "- https://maartengr.github.io/BERTopic/index.html "
   ]
  },
  {
   "cell_type": "markdown",
   "metadata": {},
   "source": []
  }
 ],
 "metadata": {
  "kernelspec": {
   "display_name": "Python 3",
   "language": "python",
   "name": "python3"
  },
  "language_info": {
   "codemirror_mode": {
    "name": "ipython",
    "version": 3
   },
   "file_extension": ".py",
   "mimetype": "text/x-python",
   "name": "python",
   "nbconvert_exporter": "python",
   "pygments_lexer": "ipython3",
   "version": "3.11.8"
  }
 },
 "nbformat": 4,
 "nbformat_minor": 2
}

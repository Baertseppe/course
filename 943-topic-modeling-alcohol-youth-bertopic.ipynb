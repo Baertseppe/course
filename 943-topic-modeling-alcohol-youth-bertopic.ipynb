{
 "cells": [
  {
   "cell_type": "markdown",
   "metadata": {},
   "source": [
    "# Topic Modeling for youth alcohol consumption - Bertopic"
   ]
  },
  {
   "cell_type": "code",
   "execution_count": 1,
   "metadata": {},
   "outputs": [],
   "source": [
    "# parameters\n",
    "nr_of_articles = 10500\n",
    "startyear = 2000 \n",
    "nr_topics = 11\n",
    "min_topic_size = 25\n",
    "\n",
    "# hyperparameter tuning of Bertopic: https://maartengr.github.io/BERTopic/getting_started/parameter%20tuning/parametertuning.html"
   ]
  },
  {
   "cell_type": "code",
   "execution_count": 2,
   "metadata": {},
   "outputs": [],
   "source": [
    "import matplotlib.pyplot as plt\n",
    "\n",
    "plt.rc('font', size=14)\n",
    "plt.rc('axes', labelsize=14, titlesize=14)\n",
    "plt.rc('legend', fontsize=14)\n",
    "plt.rc('xtick', labelsize=10)\n",
    "plt.rc('ytick', labelsize=10)\n",
    "\n",
    "import numpy as np\n",
    "import pandas as pd\n",
    "\n",
    "pd.set_option('display.max_colwidth', 0)\n",
    "pd.set_option('display.max_rows', 1000)\n",
    "pd.set_option('display.max_columns', 1000)\n"
   ]
  },
  {
   "cell_type": "markdown",
   "metadata": {},
   "source": [
    "## Data"
   ]
  },
  {
   "cell_type": "markdown",
   "metadata": {},
   "source": [
    "Searchstring 1 Web of Science: alcohol* AND (adolescen* OR youth OR minor OR underage*) AND (factors OR determinant* OR Cause* OR influence* OR Predictor*)\n",
    " \n",
    "zoeken op Topic  (--> Searches title, abstract and author keywords.)\n",
    "\n",
    "Dit geeft: n = 23.260 (artikels)\n",
    "\n",
    "inclusie/exclusiecriteria\n",
    "Refine: open acces (n=11.605)\n",
    "Refine: english (n=11.260)\n",
    "Refine: article + early acces (n = 10,436) --> alle andere bronnen geëxcludeerd op deze wijze\n",
    "\n",
    "Sort by relevance. \n",
    "\n",
    "Searchstring 2 Web of Science: (alcohol*) AND (adolescen* OR youth OR minor OR underage*) AND (factor* OR determinant* OR Cause* OR influence* OR Predictor*)\n",
    " \n",
    "zoeken op Title\n",
    "\n",
    "languages: english,\n",
    "open acces, \n",
    "Document typers: article\n",
    "\n",
    "\n",
    "\n"
   ]
  },
  {
   "cell_type": "code",
   "execution_count": 3,
   "metadata": {},
   "outputs": [],
   "source": [
    "art1 = pd.read_excel('datasets/savedrecs-0001-1000.xls')\n",
    "art2 = pd.read_excel('datasets/savedrecs-1001-2000.xls')\n",
    "art3 = pd.read_excel('datasets/savedrecs-2001-3000.xls')\n",
    "art4 = pd.read_excel('datasets/savedrecs-3001-4000.xls')\n",
    "art5 = pd.read_excel('datasets/savedrecs-4001-5000.xls')\n",
    "art6 = pd.read_excel('datasets/savedrecs-5001-5596.xls')    \n",
    "articles = pd.concat([art1, art2, art3, art4, art5, art6], ignore_index=True, axis=0)"
   ]
  },
  {
   "cell_type": "code",
   "execution_count": 4,
   "metadata": {},
   "outputs": [],
   "source": [
    "articles = articles.iloc[:nr_of_articles, :]"
   ]
  },
  {
   "cell_type": "code",
   "execution_count": 5,
   "metadata": {},
   "outputs": [],
   "source": [
    "articles = articles[articles['Publication Year'] >= startyear]"
   ]
  },
  {
   "cell_type": "code",
   "execution_count": 6,
   "metadata": {},
   "outputs": [
    {
     "data": {
      "text/plain": [
       "5597"
      ]
     },
     "execution_count": 6,
     "metadata": {},
     "output_type": "execute_result"
    }
   ],
   "source": [
    "len(articles)"
   ]
  },
  {
   "cell_type": "code",
   "execution_count": 7,
   "metadata": {},
   "outputs": [
    {
     "name": "stdout",
     "output_type": "stream",
     "text": [
      "<class 'pandas.core.frame.DataFrame'>\n",
      "Int64Index: 5597 entries, 0 to 5596\n",
      "Data columns (total 72 columns):\n",
      " #   Column                      Non-Null Count  Dtype  \n",
      "---  ------                      --------------  -----  \n",
      " 0   Publication Type            5597 non-null   object \n",
      " 1   Authors                     5597 non-null   object \n",
      " 2   Book Authors                0 non-null      float64\n",
      " 3   Book Editors                5 non-null      object \n",
      " 4   Book Group Authors          0 non-null      float64\n",
      " 5   Author Full Names           5597 non-null   object \n",
      " 6   Book Author Full Names      0 non-null      float64\n",
      " 7   Group Authors               104 non-null    object \n",
      " 8   Article Title               5597 non-null   object \n",
      " 9   Source Title                5597 non-null   object \n",
      " 10  Book Series Title           5 non-null      object \n",
      " 11  Book Series Subtitle        0 non-null      float64\n",
      " 12  Language                    5597 non-null   object \n",
      " 13  Document Type               5597 non-null   object \n",
      " 14  Conference Title            53 non-null     object \n",
      " 15  Conference Date             53 non-null     object \n",
      " 16  Conference Location         53 non-null     object \n",
      " 17  Conference Sponsor          39 non-null     object \n",
      " 18  Conference Host             4 non-null      object \n",
      " 19  Author Keywords             4426 non-null   object \n",
      " 20  Keywords Plus               5430 non-null   object \n",
      " 21  Abstract                    5597 non-null   object \n",
      " 22  Addresses                   5594 non-null   object \n",
      " 23  Affiliations                5478 non-null   object \n",
      " 24  Reprint Addresses           5588 non-null   object \n",
      " 25  Email Addresses             5470 non-null   object \n",
      " 26  Researcher Ids              3694 non-null   object \n",
      " 27  ORCIDs                      4443 non-null   object \n",
      " 28  Funding Orgs                4177 non-null   object \n",
      " 29  Funding Name Preferred      4166 non-null   object \n",
      " 30  Funding Text                3719 non-null   object \n",
      " 31  Cited References            0 non-null      float64\n",
      " 32  Cited Reference Count       5597 non-null   int64  \n",
      " 33  Times Cited, WoS Core       5597 non-null   int64  \n",
      " 34  Times Cited, All Databases  5597 non-null   int64  \n",
      " 35  180 Day Usage Count         5597 non-null   int64  \n",
      " 36  Since 2013 Usage Count      5597 non-null   int64  \n",
      " 37  Publisher                   5597 non-null   object \n",
      " 38  Publisher City              5597 non-null   object \n",
      " 39  Publisher Address           5597 non-null   object \n",
      " 40  ISSN                        4883 non-null   object \n",
      " 41  eISSN                       4404 non-null   object \n",
      " 42  ISBN                        3 non-null      object \n",
      " 43  Journal Abbreviation        5597 non-null   object \n",
      " 44  Journal ISO Abbreviation    5596 non-null   object \n",
      " 45  Publication Date            5189 non-null   object \n",
      " 46  Publication Year            5597 non-null   int64  \n",
      " 47  Volume                      5541 non-null   object \n",
      " 48  Issue                       4354 non-null   object \n",
      " 49  Part Number                 17 non-null     object \n",
      " 50  Supplement                  76 non-null     object \n",
      " 51  Special Issue               151 non-null    object \n",
      " 52  Meeting Abstract            0 non-null      float64\n",
      " 53  Start Page                  3833 non-null   object \n",
      " 54  End Page                    3833 non-null   object \n",
      " 55  Article Number              1764 non-null   object \n",
      " 56  DOI                         5567 non-null   object \n",
      " 57  DOI Link                    5567 non-null   float64\n",
      " 58  Book DOI                    0 non-null      float64\n",
      " 59  Early Access Date           706 non-null    object \n",
      " 60  Number of Pages             5597 non-null   int64  \n",
      " 61  WoS Categories              5596 non-null   object \n",
      " 62  Web of Science Index        5597 non-null   object \n",
      " 63  Research Areas              5596 non-null   object \n",
      " 64  IDS Number                  5597 non-null   object \n",
      " 65  Pubmed Id                   5202 non-null   float64\n",
      " 66  Open Access Designations    5597 non-null   object \n",
      " 67  Highly Cited Status         0 non-null      float64\n",
      " 68  Hot Paper Status            0 non-null      float64\n",
      " 69  Date of Export              5597 non-null   object \n",
      " 70  UT (Unique WOS ID)          5597 non-null   object \n",
      " 71  Web of Science Record       5597 non-null   int64  \n",
      "dtypes: float64(11), int64(8), object(53)\n",
      "memory usage: 3.1+ MB\n"
     ]
    }
   ],
   "source": [
    "articles.info()"
   ]
  },
  {
   "cell_type": "markdown",
   "metadata": {},
   "source": [
    "## Preprocessing"
   ]
  },
  {
   "cell_type": "code",
   "execution_count": 8,
   "metadata": {},
   "outputs": [
    {
     "name": "stdout",
     "output_type": "stream",
     "text": [
      "5597\n",
      "5596\n"
     ]
    }
   ],
   "source": [
    "print(len(articles))\n",
    "articles.drop_duplicates(subset=['Article Title', 'Abstract'], inplace=True)\n",
    "print(len(articles))"
   ]
  },
  {
   "cell_type": "code",
   "execution_count": 9,
   "metadata": {},
   "outputs": [
    {
     "data": {
      "text/html": [
       "<div>\n",
       "<style scoped>\n",
       "    .dataframe tbody tr th:only-of-type {\n",
       "        vertical-align: middle;\n",
       "    }\n",
       "\n",
       "    .dataframe tbody tr th {\n",
       "        vertical-align: top;\n",
       "    }\n",
       "\n",
       "    .dataframe thead th {\n",
       "        text-align: right;\n",
       "    }\n",
       "</style>\n",
       "<table border=\"1\" class=\"dataframe\">\n",
       "  <thead>\n",
       "    <tr style=\"text-align: right;\">\n",
       "      <th></th>\n",
       "      <th>Publication Type</th>\n",
       "      <th>Authors</th>\n",
       "      <th>Book Authors</th>\n",
       "      <th>Book Editors</th>\n",
       "      <th>Book Group Authors</th>\n",
       "      <th>Author Full Names</th>\n",
       "      <th>Book Author Full Names</th>\n",
       "      <th>Group Authors</th>\n",
       "      <th>Article Title</th>\n",
       "      <th>Source Title</th>\n",
       "      <th>Book Series Title</th>\n",
       "      <th>Book Series Subtitle</th>\n",
       "      <th>Language</th>\n",
       "      <th>Document Type</th>\n",
       "      <th>Conference Title</th>\n",
       "      <th>Conference Date</th>\n",
       "      <th>Conference Location</th>\n",
       "      <th>Conference Sponsor</th>\n",
       "      <th>Conference Host</th>\n",
       "      <th>Author Keywords</th>\n",
       "      <th>Keywords Plus</th>\n",
       "      <th>Abstract</th>\n",
       "      <th>Addresses</th>\n",
       "      <th>Affiliations</th>\n",
       "      <th>Reprint Addresses</th>\n",
       "      <th>Email Addresses</th>\n",
       "      <th>Researcher Ids</th>\n",
       "      <th>ORCIDs</th>\n",
       "      <th>Funding Orgs</th>\n",
       "      <th>Funding Name Preferred</th>\n",
       "      <th>Funding Text</th>\n",
       "      <th>Cited References</th>\n",
       "      <th>Cited Reference Count</th>\n",
       "      <th>Times Cited, WoS Core</th>\n",
       "      <th>Times Cited, All Databases</th>\n",
       "      <th>180 Day Usage Count</th>\n",
       "      <th>Since 2013 Usage Count</th>\n",
       "      <th>Publisher</th>\n",
       "      <th>Publisher City</th>\n",
       "      <th>Publisher Address</th>\n",
       "      <th>ISSN</th>\n",
       "      <th>eISSN</th>\n",
       "      <th>ISBN</th>\n",
       "      <th>Journal Abbreviation</th>\n",
       "      <th>Journal ISO Abbreviation</th>\n",
       "      <th>Publication Date</th>\n",
       "      <th>Publication Year</th>\n",
       "      <th>Volume</th>\n",
       "      <th>Issue</th>\n",
       "      <th>Part Number</th>\n",
       "      <th>Supplement</th>\n",
       "      <th>Special Issue</th>\n",
       "      <th>Meeting Abstract</th>\n",
       "      <th>Start Page</th>\n",
       "      <th>End Page</th>\n",
       "      <th>Article Number</th>\n",
       "      <th>DOI</th>\n",
       "      <th>DOI Link</th>\n",
       "      <th>Book DOI</th>\n",
       "      <th>Early Access Date</th>\n",
       "      <th>Number of Pages</th>\n",
       "      <th>WoS Categories</th>\n",
       "      <th>Web of Science Index</th>\n",
       "      <th>Research Areas</th>\n",
       "      <th>IDS Number</th>\n",
       "      <th>Pubmed Id</th>\n",
       "      <th>Open Access Designations</th>\n",
       "      <th>Highly Cited Status</th>\n",
       "      <th>Hot Paper Status</th>\n",
       "      <th>Date of Export</th>\n",
       "      <th>UT (Unique WOS ID)</th>\n",
       "      <th>Web of Science Record</th>\n",
       "    </tr>\n",
       "  </thead>\n",
       "  <tbody>\n",
       "    <tr>\n",
       "      <th>0</th>\n",
       "      <td>J</td>\n",
       "      <td>Shin, YJ; Lee, JK; Lu, Y; Hecht, ML</td>\n",
       "      <td>NaN</td>\n",
       "      <td>NaN</td>\n",
       "      <td>NaN</td>\n",
       "      <td>Shin, YoungJu; Lee, Jeong-Kyu; Lu, Yu; Hecht, Michael L.</td>\n",
       "      <td>NaN</td>\n",
       "      <td>NaN</td>\n",
       "      <td>Exploring Parental Influence on the Progression of Alcohol Use in Mexican-Heritage Youth: a Latent Transition Analysis</td>\n",
       "      <td>PREVENTION SCIENCE</td>\n",
       "      <td>NaN</td>\n",
       "      <td>NaN</td>\n",
       "      <td>English</td>\n",
       "      <td>Article</td>\n",
       "      <td>NaN</td>\n",
       "      <td>NaN</td>\n",
       "      <td>NaN</td>\n",
       "      <td>NaN</td>\n",
       "      <td>NaN</td>\n",
       "      <td>Youth substance use; Latent class analysis; Latent transition analysis; Targeted parent-child communication; Parental monitoring</td>\n",
       "      <td>SUBSTANCE USE; DRUG-USE; CHILD COMMUNICATION; FAMILY-STRUCTURE; SAS PROCEDURE; LATINO YOUTH; SELF-ESTEEM; ADOLESCENTS; RISK; MARIJUANA</td>\n",
       "      <td>Mexican-heritage youth are members of the fastest growing minority group and are at particular risk for substance use including alcohol consumption. Youth face numerous risk factors including positive descriptions of substance use on media and peer offers that are potentially ameliorated by parental anti-substance use socialization efforts. Guided by primary socialization theory and the theory of planned behavior, the present study posited eight research questions to identify discrete subgroups/patterns of Mexican-heritage youth alcohol use behavior and parental influence on youth outcomes. Longitudinal survey data (n = 1147) from youth in 29 public schools located in Phoenix, Arizona, were collected over 3 years. Latent class and transition analyses identified four discrete subgroups characterized by response patterns of alcohol use behaviors and perceptions in Mexican-heritage youth: (1) non-drinker, (2) potential drinker, (3) experimenter, and (4) regular drinker. Targeted parent-child communication about alcohol and parental monitoring were found to be significant predictors for youth alcohol use. Research implications and future directions are suggested.</td>\n",
       "      <td>[Shin, YoungJu] Indiana Univ Purdue Univ, Dept Commun Studies, 425 Univ Blvd,Cavanaugh Hall 309, Indianapolis, IN 46202 USA; [Lee, Jeong-Kyu] Univ Wollongong, Ctr Hlth Initiat, Wollongong, NSW, Australia; [Lu, Yu; Hecht, Michael L.] Penn State Univ, Dept Commun Arts &amp; Sci, University Pk, PA 16802 USA</td>\n",
       "      <td>Indiana University System; Indiana University-Purdue University Indianapolis; University of Wollongong; Pennsylvania Commonwealth System of Higher Education (PCSHE); Pennsylvania State University; Pennsylvania State University - University Park</td>\n",
       "      <td>Shin, YJ (corresponding author), Indiana Univ Purdue Univ, Dept Commun Studies, 425 Univ Blvd,Cavanaugh Hall 309, Indianapolis, IN 46202 USA.</td>\n",
       "      <td>younshin@iupui.edu; jklee@uow.edu.au; yxl235@psu.edu; mlh10@psu.edu</td>\n",
       "      <td>Lu, Yu/AGB-5690-2022; Shin, YoungJu/ABA-1000-2020; Lu, Yu/AAA-3190-2020</td>\n",
       "      <td>Lu, Yu/0000-0002-5128-6868; Shin, YoungJu/0000-0001-6751-8064</td>\n",
       "      <td>National Institute on Drug Abuse [R01DA005629]</td>\n",
       "      <td>National Institute on Drug Abuse(United States Department of Health &amp; Human ServicesNational Institutes of Health (NIH) - USANIH National Institute on Drug Abuse (NIDA))</td>\n",
       "      <td>This manuscript was supported by Grant Numbers R01DA005629 from the National Institute on Drug Abuse to The Pennsylvania State University (Grant Recipient), Michael Hecht, Principal Investigator. Its contents are solely the responsibility of the authors and do not necessarily represent the official views of the National Institutes of Health.</td>\n",
       "      <td>NaN</td>\n",
       "      <td>54</td>\n",
       "      <td>29</td>\n",
       "      <td>30</td>\n",
       "      <td>0</td>\n",
       "      <td>19</td>\n",
       "      <td>SPRINGER/PLENUM PUBLISHERS</td>\n",
       "      <td>NEW YORK</td>\n",
       "      <td>233 SPRING ST, NEW YORK, NY 10013 USA</td>\n",
       "      <td>1389-4986</td>\n",
       "      <td>1573-6695</td>\n",
       "      <td>NaN</td>\n",
       "      <td>PREV SCI</td>\n",
       "      <td>Prev. Sci.</td>\n",
       "      <td>FEB</td>\n",
       "      <td>2016</td>\n",
       "      <td>17.0</td>\n",
       "      <td>2</td>\n",
       "      <td>NaN</td>\n",
       "      <td>NaN</td>\n",
       "      <td>NaN</td>\n",
       "      <td>NaN</td>\n",
       "      <td>188</td>\n",
       "      <td>198</td>\n",
       "      <td>NaN</td>\n",
       "      <td>10.1007/s11121-015-0596-1</td>\n",
       "      <td>0.0</td>\n",
       "      <td>NaN</td>\n",
       "      <td>NaN</td>\n",
       "      <td>11</td>\n",
       "      <td>Public, Environmental &amp; Occupational Health</td>\n",
       "      <td>Social Science Citation Index (SSCI)</td>\n",
       "      <td>Public, Environmental &amp; Occupational Health</td>\n",
       "      <td>DB7KA</td>\n",
       "      <td>26300049.0</td>\n",
       "      <td>Green Accepted, Green Submitted</td>\n",
       "      <td>NaN</td>\n",
       "      <td>NaN</td>\n",
       "      <td>2024-05-02</td>\n",
       "      <td>WOS:000368692700005</td>\n",
       "      <td>0</td>\n",
       "    </tr>\n",
       "    <tr>\n",
       "      <th>1</th>\n",
       "      <td>J</td>\n",
       "      <td>Schwinn, TM; Schinke, SP</td>\n",
       "      <td>NaN</td>\n",
       "      <td>NaN</td>\n",
       "      <td>NaN</td>\n",
       "      <td>Schwinn, Traci M.; Schinke, Steven P.</td>\n",
       "      <td>NaN</td>\n",
       "      <td>NaN</td>\n",
       "      <td>Alcohol Use and Related Behaviors Among Late-Adolescent Urban Youths: Peer and Parent Influences</td>\n",
       "      <td>JOURNAL OF CHILD &amp; ADOLESCENT SUBSTANCE ABUSE</td>\n",
       "      <td>NaN</td>\n",
       "      <td>NaN</td>\n",
       "      <td>English</td>\n",
       "      <td>Article</td>\n",
       "      <td>NaN</td>\n",
       "      <td>NaN</td>\n",
       "      <td>NaN</td>\n",
       "      <td>NaN</td>\n",
       "      <td>NaN</td>\n",
       "      <td>alcohol; influences; parents; peers; youth</td>\n",
       "      <td>SUBSTANCE USE; DRUG-USE; TOBACCO; INVOLVEMENT; FAMILY; ABUSE</td>\n",
       "      <td>Peer and parent influences on alcohol use and related risky behaviors were examined in a sample of late-adolescent (M=17.3 years; SD=1.11 years) urban youths. Participants (N=400) completed an online measure assessing peer influences of alcohol use and alcohol offers and also parental influences of rules against alcohol use and perceived levels of emotional family support, relative to youths' alcohol use, binge drinking, alcohol-related consequences, and intentions to drink. Hierarchical regression analyses revealed that increased peer alcohol use and alcohol offers were associated with youths' increased drinking, binge drinking, alcohol-related consequences, and intentions to drink. Controlling for peer influences, parental rules against alcohol use were associated with decreased drinking, binge drinking, and intentions to drink; increased levels of family support were associated with decreased alcohol-related consequences and intentions to drink. These findings suggest that parental influences, albeit small relative to peer influences, are associated with fewer instances of monthly alcohol use and related risky behaviors among late-adolescent urban youths.</td>\n",
       "      <td>[Schwinn, Traci M.; Schinke, Steven P.] Columbia Univ, New York, NY 10027 USA</td>\n",
       "      <td>Columbia University</td>\n",
       "      <td>Schwinn, TM (corresponding author), Columbia Univ, Sch Social Work, 1255 Amsterdam Ave, New York, NY 10027 USA.</td>\n",
       "      <td>tms40@columbia.edu</td>\n",
       "      <td>NaN</td>\n",
       "      <td>NaN</td>\n",
       "      <td>NIAAA NIH HHS [R01 AA011924] Funding Source: Medline</td>\n",
       "      <td>NIAAA NIH HHS(United States Department of Health &amp; Human ServicesNational Institutes of Health (NIH) - USANIH National Institute on Alcohol Abuse &amp; Alcoholism (NIAAA))</td>\n",
       "      <td>NaN</td>\n",
       "      <td>NaN</td>\n",
       "      <td>32</td>\n",
       "      <td>23</td>\n",
       "      <td>38</td>\n",
       "      <td>3</td>\n",
       "      <td>48</td>\n",
       "      <td>ROUTLEDGE JOURNALS, TAYLOR &amp; FRANCIS LTD</td>\n",
       "      <td>ABINGDON</td>\n",
       "      <td>2-4 PARK SQUARE, MILTON PARK, ABINGDON OX14 4RN, OXON, ENGLAND</td>\n",
       "      <td>1067-828X</td>\n",
       "      <td>1547-0652</td>\n",
       "      <td>NaN</td>\n",
       "      <td>J CHILD ADOLES SUBST</td>\n",
       "      <td>J. Child Adolesc. Subst. Abus.</td>\n",
       "      <td>JAN 1</td>\n",
       "      <td>2014</td>\n",
       "      <td>23.0</td>\n",
       "      <td>1</td>\n",
       "      <td>NaN</td>\n",
       "      <td>NaN</td>\n",
       "      <td>NaN</td>\n",
       "      <td>NaN</td>\n",
       "      <td>58</td>\n",
       "      <td>64</td>\n",
       "      <td>NaN</td>\n",
       "      <td>10.1080/1067828X.2012.735561</td>\n",
       "      <td>0.0</td>\n",
       "      <td>NaN</td>\n",
       "      <td>NaN</td>\n",
       "      <td>7</td>\n",
       "      <td>Substance Abuse</td>\n",
       "      <td>Social Science Citation Index (SSCI)</td>\n",
       "      <td>Substance Abuse</td>\n",
       "      <td>242FC</td>\n",
       "      <td>25246757.0</td>\n",
       "      <td>Green Accepted</td>\n",
       "      <td>NaN</td>\n",
       "      <td>NaN</td>\n",
       "      <td>2024-05-02</td>\n",
       "      <td>WOS:000326222300006</td>\n",
       "      <td>0</td>\n",
       "    </tr>\n",
       "  </tbody>\n",
       "</table>\n",
       "</div>"
      ],
      "text/plain": [
       "  Publication Type                              Authors  Book Authors  \\\n",
       "0  J                Shin, YJ; Lee, JK; Lu, Y; Hecht, ML NaN             \n",
       "1  J                Schwinn, TM; Schinke, SP            NaN             \n",
       "\n",
       "  Book Editors  Book Group Authors  \\\n",
       "0  NaN         NaN                   \n",
       "1  NaN         NaN                   \n",
       "\n",
       "                                          Author Full Names  \\\n",
       "0  Shin, YoungJu; Lee, Jeong-Kyu; Lu, Yu; Hecht, Michael L.   \n",
       "1  Schwinn, Traci M.; Schinke, Steven P.                      \n",
       "\n",
       "   Book Author Full Names Group Authors  \\\n",
       "0 NaN                      NaN            \n",
       "1 NaN                      NaN            \n",
       "\n",
       "                                                                                                            Article Title  \\\n",
       "0  Exploring Parental Influence on the Progression of Alcohol Use in Mexican-Heritage Youth: a Latent Transition Analysis   \n",
       "1  Alcohol Use and Related Behaviors Among Late-Adolescent Urban Youths: Peer and Parent Influences                         \n",
       "\n",
       "                                    Source Title Book Series Title  \\\n",
       "0  PREVENTION SCIENCE                             NaN                \n",
       "1  JOURNAL OF CHILD & ADOLESCENT SUBSTANCE ABUSE  NaN                \n",
       "\n",
       "   Book Series Subtitle Language Document Type Conference Title  \\\n",
       "0 NaN                    English  Article       NaN               \n",
       "1 NaN                    English  Article       NaN               \n",
       "\n",
       "  Conference Date Conference Location Conference Sponsor Conference Host  \\\n",
       "0  NaN             NaN                 NaN                NaN              \n",
       "1  NaN             NaN                 NaN                NaN              \n",
       "\n",
       "                                                                                                                    Author Keywords  \\\n",
       "0  Youth substance use; Latent class analysis; Latent transition analysis; Targeted parent-child communication; Parental monitoring   \n",
       "1  alcohol; influences; parents; peers; youth                                                                                         \n",
       "\n",
       "                                                                                                                            Keywords Plus  \\\n",
       "0  SUBSTANCE USE; DRUG-USE; CHILD COMMUNICATION; FAMILY-STRUCTURE; SAS PROCEDURE; LATINO YOUTH; SELF-ESTEEM; ADOLESCENTS; RISK; MARIJUANA   \n",
       "1  SUBSTANCE USE; DRUG-USE; TOBACCO; INVOLVEMENT; FAMILY; ABUSE                                                                             \n",
       "\n",
       "                                                                                                                                                                                                                                                                                                                                                                                                                                                                                                                                                                                                                                                                                                                                                                                                                                                                                                                                                                                                                                                                                                                                                                                                                    Abstract  \\\n",
       "0  Mexican-heritage youth are members of the fastest growing minority group and are at particular risk for substance use including alcohol consumption. Youth face numerous risk factors including positive descriptions of substance use on media and peer offers that are potentially ameliorated by parental anti-substance use socialization efforts. Guided by primary socialization theory and the theory of planned behavior, the present study posited eight research questions to identify discrete subgroups/patterns of Mexican-heritage youth alcohol use behavior and parental influence on youth outcomes. Longitudinal survey data (n = 1147) from youth in 29 public schools located in Phoenix, Arizona, were collected over 3 years. Latent class and transition analyses identified four discrete subgroups characterized by response patterns of alcohol use behaviors and perceptions in Mexican-heritage youth: (1) non-drinker, (2) potential drinker, (3) experimenter, and (4) regular drinker. Targeted parent-child communication about alcohol and parental monitoring were found to be significant predictors for youth alcohol use. Research implications and future directions are suggested.   \n",
       "1  Peer and parent influences on alcohol use and related risky behaviors were examined in a sample of late-adolescent (M=17.3 years; SD=1.11 years) urban youths. Participants (N=400) completed an online measure assessing peer influences of alcohol use and alcohol offers and also parental influences of rules against alcohol use and perceived levels of emotional family support, relative to youths' alcohol use, binge drinking, alcohol-related consequences, and intentions to drink. Hierarchical regression analyses revealed that increased peer alcohol use and alcohol offers were associated with youths' increased drinking, binge drinking, alcohol-related consequences, and intentions to drink. Controlling for peer influences, parental rules against alcohol use were associated with decreased drinking, binge drinking, and intentions to drink; increased levels of family support were associated with decreased alcohol-related consequences and intentions to drink. These findings suggest that parental influences, albeit small relative to peer influences, are associated with fewer instances of monthly alcohol use and related risky behaviors among late-adolescent urban youths.    \n",
       "\n",
       "                                                                                                                                                                                                                                                                                                       Addresses  \\\n",
       "0  [Shin, YoungJu] Indiana Univ Purdue Univ, Dept Commun Studies, 425 Univ Blvd,Cavanaugh Hall 309, Indianapolis, IN 46202 USA; [Lee, Jeong-Kyu] Univ Wollongong, Ctr Hlth Initiat, Wollongong, NSW, Australia; [Lu, Yu; Hecht, Michael L.] Penn State Univ, Dept Commun Arts & Sci, University Pk, PA 16802 USA   \n",
       "1  [Schwinn, Traci M.; Schinke, Steven P.] Columbia Univ, New York, NY 10027 USA                                                                                                                                                                                                                                   \n",
       "\n",
       "                                                                                                                                                                                                                                           Affiliations  \\\n",
       "0  Indiana University System; Indiana University-Purdue University Indianapolis; University of Wollongong; Pennsylvania Commonwealth System of Higher Education (PCSHE); Pennsylvania State University; Pennsylvania State University - University Park   \n",
       "1  Columbia University                                                                                                                                                                                                                                    \n",
       "\n",
       "                                                                                                                               Reprint Addresses  \\\n",
       "0  Shin, YJ (corresponding author), Indiana Univ Purdue Univ, Dept Commun Studies, 425 Univ Blvd,Cavanaugh Hall 309, Indianapolis, IN 46202 USA.   \n",
       "1  Schwinn, TM (corresponding author), Columbia Univ, Sch Social Work, 1255 Amsterdam Ave, New York, NY 10027 USA.                                 \n",
       "\n",
       "                                                       Email Addresses  \\\n",
       "0  younshin@iupui.edu; jklee@uow.edu.au; yxl235@psu.edu; mlh10@psu.edu   \n",
       "1  tms40@columbia.edu                                                    \n",
       "\n",
       "                                                            Researcher Ids  \\\n",
       "0  Lu, Yu/AGB-5690-2022; Shin, YoungJu/ABA-1000-2020; Lu, Yu/AAA-3190-2020   \n",
       "1  NaN                                                                       \n",
       "\n",
       "                                                          ORCIDs  \\\n",
       "0  Lu, Yu/0000-0002-5128-6868; Shin, YoungJu/0000-0001-6751-8064   \n",
       "1  NaN                                                             \n",
       "\n",
       "                                           Funding Orgs  \\\n",
       "0  National Institute on Drug Abuse [R01DA005629]         \n",
       "1  NIAAA NIH HHS [R01 AA011924] Funding Source: Medline   \n",
       "\n",
       "                                                                                                                                                      Funding Name Preferred  \\\n",
       "0  National Institute on Drug Abuse(United States Department of Health & Human ServicesNational Institutes of Health (NIH) - USANIH National Institute on Drug Abuse (NIDA))   \n",
       "1  NIAAA NIH HHS(United States Department of Health & Human ServicesNational Institutes of Health (NIH) - USANIH National Institute on Alcohol Abuse & Alcoholism (NIAAA))     \n",
       "\n",
       "                                                                                                                                                                                                                                                                                                                                              Funding Text  \\\n",
       "0  This manuscript was supported by Grant Numbers R01DA005629 from the National Institute on Drug Abuse to The Pennsylvania State University (Grant Recipient), Michael Hecht, Principal Investigator. Its contents are solely the responsibility of the authors and do not necessarily represent the official views of the National Institutes of Health.   \n",
       "1  NaN                                                                                                                                                                                                                                                                                                                                                       \n",
       "\n",
       "   Cited References  Cited Reference Count  Times Cited, WoS Core  \\\n",
       "0 NaN                54                     29                      \n",
       "1 NaN                32                     23                      \n",
       "\n",
       "   Times Cited, All Databases  180 Day Usage Count  Since 2013 Usage Count  \\\n",
       "0  30                          0                    19                       \n",
       "1  38                          3                    48                       \n",
       "\n",
       "                                  Publisher Publisher City  \\\n",
       "0  SPRINGER/PLENUM PUBLISHERS                NEW YORK        \n",
       "1  ROUTLEDGE JOURNALS, TAYLOR & FRANCIS LTD  ABINGDON        \n",
       "\n",
       "                                                Publisher Address       ISSN  \\\n",
       "0  233 SPRING ST, NEW YORK, NY 10013 USA                           1389-4986   \n",
       "1  2-4 PARK SQUARE, MILTON PARK, ABINGDON OX14 4RN, OXON, ENGLAND  1067-828X   \n",
       "\n",
       "       eISSN ISBN  Journal Abbreviation        Journal ISO Abbreviation  \\\n",
       "0  1573-6695  NaN  PREV SCI              Prev. Sci.                       \n",
       "1  1547-0652  NaN  J CHILD ADOLES SUBST  J. Child Adolesc. Subst. Abus.   \n",
       "\n",
       "  Publication Date  Publication Year Volume Issue Part Number Supplement  \\\n",
       "0  FEB              2016              17.0   2     NaN         NaN         \n",
       "1  JAN 1            2014              23.0   1     NaN         NaN         \n",
       "\n",
       "  Special Issue  Meeting Abstract Start Page End Page Article Number  \\\n",
       "0  NaN          NaN                188        198      NaN             \n",
       "1  NaN          NaN                58         64       NaN             \n",
       "\n",
       "                            DOI  DOI Link  Book DOI Early Access Date  \\\n",
       "0  10.1007/s11121-015-0596-1     0.0      NaN        NaN                \n",
       "1  10.1080/1067828X.2012.735561  0.0      NaN        NaN                \n",
       "\n",
       "   Number of Pages                               WoS Categories  \\\n",
       "0  11               Public, Environmental & Occupational Health   \n",
       "1  7                Substance Abuse                               \n",
       "\n",
       "                   Web of Science Index  \\\n",
       "0  Social Science Citation Index (SSCI)   \n",
       "1  Social Science Citation Index (SSCI)   \n",
       "\n",
       "                                Research Areas IDS Number   Pubmed Id  \\\n",
       "0  Public, Environmental & Occupational Health  DB7KA      26300049.0   \n",
       "1  Substance Abuse                              242FC      25246757.0   \n",
       "\n",
       "          Open Access Designations  Highly Cited Status  Hot Paper Status  \\\n",
       "0  Green Accepted, Green Submitted NaN                  NaN                 \n",
       "1  Green Accepted                  NaN                  NaN                 \n",
       "\n",
       "  Date of Export   UT (Unique WOS ID)  Web of Science Record  \n",
       "0  2024-05-02     WOS:000368692700005  0                      \n",
       "1  2024-05-02     WOS:000326222300006  0                      "
      ]
     },
     "execution_count": 9,
     "metadata": {},
     "output_type": "execute_result"
    }
   ],
   "source": [
    "art = articles\n",
    "art.head(2)"
   ]
  },
  {
   "cell_type": "code",
   "execution_count": 10,
   "metadata": {},
   "outputs": [
    {
     "data": {
      "text/html": [
       "<div>\n",
       "<style scoped>\n",
       "    .dataframe tbody tr th:only-of-type {\n",
       "        vertical-align: middle;\n",
       "    }\n",
       "\n",
       "    .dataframe tbody tr th {\n",
       "        vertical-align: top;\n",
       "    }\n",
       "\n",
       "    .dataframe thead th {\n",
       "        text-align: right;\n",
       "    }\n",
       "</style>\n",
       "<table border=\"1\" class=\"dataframe\">\n",
       "  <thead>\n",
       "    <tr style=\"text-align: right;\">\n",
       "      <th></th>\n",
       "      <th>Publication Type</th>\n",
       "      <th>Authors</th>\n",
       "      <th>Book Authors</th>\n",
       "      <th>Book Editors</th>\n",
       "      <th>Book Group Authors</th>\n",
       "      <th>Author Full Names</th>\n",
       "      <th>Book Author Full Names</th>\n",
       "      <th>Group Authors</th>\n",
       "      <th>Article Title</th>\n",
       "      <th>Source Title</th>\n",
       "      <th>Book Series Title</th>\n",
       "      <th>Book Series Subtitle</th>\n",
       "      <th>Language</th>\n",
       "      <th>Document Type</th>\n",
       "      <th>Conference Title</th>\n",
       "      <th>Conference Date</th>\n",
       "      <th>Conference Location</th>\n",
       "      <th>Conference Sponsor</th>\n",
       "      <th>Conference Host</th>\n",
       "      <th>Author Keywords</th>\n",
       "      <th>Keywords Plus</th>\n",
       "      <th>Abstract</th>\n",
       "      <th>Addresses</th>\n",
       "      <th>Affiliations</th>\n",
       "      <th>Reprint Addresses</th>\n",
       "      <th>Email Addresses</th>\n",
       "      <th>Researcher Ids</th>\n",
       "      <th>ORCIDs</th>\n",
       "      <th>Funding Orgs</th>\n",
       "      <th>Funding Name Preferred</th>\n",
       "      <th>Funding Text</th>\n",
       "      <th>Cited References</th>\n",
       "      <th>Cited Reference Count</th>\n",
       "      <th>Times Cited, WoS Core</th>\n",
       "      <th>Times Cited, All Databases</th>\n",
       "      <th>180 Day Usage Count</th>\n",
       "      <th>Since 2013 Usage Count</th>\n",
       "      <th>Publisher</th>\n",
       "      <th>Publisher City</th>\n",
       "      <th>Publisher Address</th>\n",
       "      <th>ISSN</th>\n",
       "      <th>eISSN</th>\n",
       "      <th>ISBN</th>\n",
       "      <th>Journal Abbreviation</th>\n",
       "      <th>Journal ISO Abbreviation</th>\n",
       "      <th>Publication Date</th>\n",
       "      <th>Publication Year</th>\n",
       "      <th>Volume</th>\n",
       "      <th>Issue</th>\n",
       "      <th>Part Number</th>\n",
       "      <th>Supplement</th>\n",
       "      <th>Special Issue</th>\n",
       "      <th>Meeting Abstract</th>\n",
       "      <th>Start Page</th>\n",
       "      <th>End Page</th>\n",
       "      <th>Article Number</th>\n",
       "      <th>DOI</th>\n",
       "      <th>DOI Link</th>\n",
       "      <th>Book DOI</th>\n",
       "      <th>Early Access Date</th>\n",
       "      <th>Number of Pages</th>\n",
       "      <th>WoS Categories</th>\n",
       "      <th>Web of Science Index</th>\n",
       "      <th>Research Areas</th>\n",
       "      <th>IDS Number</th>\n",
       "      <th>Pubmed Id</th>\n",
       "      <th>Open Access Designations</th>\n",
       "      <th>Highly Cited Status</th>\n",
       "      <th>Hot Paper Status</th>\n",
       "      <th>Date of Export</th>\n",
       "      <th>UT (Unique WOS ID)</th>\n",
       "      <th>Web of Science Record</th>\n",
       "      <th>text</th>\n",
       "    </tr>\n",
       "  </thead>\n",
       "  <tbody>\n",
       "    <tr>\n",
       "      <th>0</th>\n",
       "      <td>J</td>\n",
       "      <td>Shin, YJ; Lee, JK; Lu, Y; Hecht, ML</td>\n",
       "      <td>NaN</td>\n",
       "      <td>NaN</td>\n",
       "      <td>NaN</td>\n",
       "      <td>Shin, YoungJu; Lee, Jeong-Kyu; Lu, Yu; Hecht, Michael L.</td>\n",
       "      <td>NaN</td>\n",
       "      <td>NaN</td>\n",
       "      <td>Exploring Parental Influence on the Progression of Alcohol Use in Mexican-Heritage Youth: a Latent Transition Analysis</td>\n",
       "      <td>PREVENTION SCIENCE</td>\n",
       "      <td>NaN</td>\n",
       "      <td>NaN</td>\n",
       "      <td>English</td>\n",
       "      <td>Article</td>\n",
       "      <td>NaN</td>\n",
       "      <td>NaN</td>\n",
       "      <td>NaN</td>\n",
       "      <td>NaN</td>\n",
       "      <td>NaN</td>\n",
       "      <td>Youth substance use; Latent class analysis; Latent transition analysis; Targeted parent-child communication; Parental monitoring</td>\n",
       "      <td>SUBSTANCE USE; DRUG-USE; CHILD COMMUNICATION; FAMILY-STRUCTURE; SAS PROCEDURE; LATINO YOUTH; SELF-ESTEEM; ADOLESCENTS; RISK; MARIJUANA</td>\n",
       "      <td>Mexican-heritage youth are members of the fastest growing minority group and are at particular risk for substance use including alcohol consumption. Youth face numerous risk factors including positive descriptions of substance use on media and peer offers that are potentially ameliorated by parental anti-substance use socialization efforts. Guided by primary socialization theory and the theory of planned behavior, the present study posited eight research questions to identify discrete subgroups/patterns of Mexican-heritage youth alcohol use behavior and parental influence on youth outcomes. Longitudinal survey data (n = 1147) from youth in 29 public schools located in Phoenix, Arizona, were collected over 3 years. Latent class and transition analyses identified four discrete subgroups characterized by response patterns of alcohol use behaviors and perceptions in Mexican-heritage youth: (1) non-drinker, (2) potential drinker, (3) experimenter, and (4) regular drinker. Targeted parent-child communication about alcohol and parental monitoring were found to be significant predictors for youth alcohol use. Research implications and future directions are suggested.</td>\n",
       "      <td>[Shin, YoungJu] Indiana Univ Purdue Univ, Dept Commun Studies, 425 Univ Blvd,Cavanaugh Hall 309, Indianapolis, IN 46202 USA; [Lee, Jeong-Kyu] Univ Wollongong, Ctr Hlth Initiat, Wollongong, NSW, Australia; [Lu, Yu; Hecht, Michael L.] Penn State Univ, Dept Commun Arts &amp; Sci, University Pk, PA 16802 USA</td>\n",
       "      <td>Indiana University System; Indiana University-Purdue University Indianapolis; University of Wollongong; Pennsylvania Commonwealth System of Higher Education (PCSHE); Pennsylvania State University; Pennsylvania State University - University Park</td>\n",
       "      <td>Shin, YJ (corresponding author), Indiana Univ Purdue Univ, Dept Commun Studies, 425 Univ Blvd,Cavanaugh Hall 309, Indianapolis, IN 46202 USA.</td>\n",
       "      <td>younshin@iupui.edu; jklee@uow.edu.au; yxl235@psu.edu; mlh10@psu.edu</td>\n",
       "      <td>Lu, Yu/AGB-5690-2022; Shin, YoungJu/ABA-1000-2020; Lu, Yu/AAA-3190-2020</td>\n",
       "      <td>Lu, Yu/0000-0002-5128-6868; Shin, YoungJu/0000-0001-6751-8064</td>\n",
       "      <td>National Institute on Drug Abuse [R01DA005629]</td>\n",
       "      <td>National Institute on Drug Abuse(United States Department of Health &amp; Human ServicesNational Institutes of Health (NIH) - USANIH National Institute on Drug Abuse (NIDA))</td>\n",
       "      <td>This manuscript was supported by Grant Numbers R01DA005629 from the National Institute on Drug Abuse to The Pennsylvania State University (Grant Recipient), Michael Hecht, Principal Investigator. Its contents are solely the responsibility of the authors and do not necessarily represent the official views of the National Institutes of Health.</td>\n",
       "      <td>NaN</td>\n",
       "      <td>54</td>\n",
       "      <td>29</td>\n",
       "      <td>30</td>\n",
       "      <td>0</td>\n",
       "      <td>19</td>\n",
       "      <td>SPRINGER/PLENUM PUBLISHERS</td>\n",
       "      <td>NEW YORK</td>\n",
       "      <td>233 SPRING ST, NEW YORK, NY 10013 USA</td>\n",
       "      <td>1389-4986</td>\n",
       "      <td>1573-6695</td>\n",
       "      <td>NaN</td>\n",
       "      <td>PREV SCI</td>\n",
       "      <td>Prev. Sci.</td>\n",
       "      <td>FEB</td>\n",
       "      <td>2016</td>\n",
       "      <td>17.0</td>\n",
       "      <td>2</td>\n",
       "      <td>NaN</td>\n",
       "      <td>NaN</td>\n",
       "      <td>NaN</td>\n",
       "      <td>NaN</td>\n",
       "      <td>188</td>\n",
       "      <td>198</td>\n",
       "      <td>NaN</td>\n",
       "      <td>10.1007/s11121-015-0596-1</td>\n",
       "      <td>0.0</td>\n",
       "      <td>NaN</td>\n",
       "      <td>NaN</td>\n",
       "      <td>11</td>\n",
       "      <td>Public, Environmental &amp; Occupational Health</td>\n",
       "      <td>Social Science Citation Index (SSCI)</td>\n",
       "      <td>Public, Environmental &amp; Occupational Health</td>\n",
       "      <td>DB7KA</td>\n",
       "      <td>26300049.0</td>\n",
       "      <td>Green Accepted, Green Submitted</td>\n",
       "      <td>NaN</td>\n",
       "      <td>NaN</td>\n",
       "      <td>2024-05-02</td>\n",
       "      <td>WOS:000368692700005</td>\n",
       "      <td>0</td>\n",
       "      <td>Exploring Parental Influence on the Progression of Alcohol Use in Mexican-Heritage Youth: a Latent Transition Analysis Mexican-heritage youth are members of the fastest growing minority group and are at particular risk for substance use including alcohol consumption. Youth face numerous risk factors including positive descriptions of substance use on media and peer offers that are potentially ameliorated by parental anti-substance use socialization efforts. Guided by primary socialization theory and the theory of planned behavior, the present study posited eight research questions to identify discrete subgroups/patterns of Mexican-heritage youth alcohol use behavior and parental influence on youth outcomes. Longitudinal survey data (n = 1147) from youth in 29 public schools located in Phoenix, Arizona, were collected over 3 years. Latent class and transition analyses identified four discrete subgroups characterized by response patterns of alcohol use behaviors and perceptions in Mexican-heritage youth: (1) non-drinker, (2) potential drinker, (3) experimenter, and (4) regular drinker. Targeted parent-child communication about alcohol and parental monitoring were found to be significant predictors for youth alcohol use. Research implications and future directions are suggested.</td>\n",
       "    </tr>\n",
       "    <tr>\n",
       "      <th>1</th>\n",
       "      <td>J</td>\n",
       "      <td>Schwinn, TM; Schinke, SP</td>\n",
       "      <td>NaN</td>\n",
       "      <td>NaN</td>\n",
       "      <td>NaN</td>\n",
       "      <td>Schwinn, Traci M.; Schinke, Steven P.</td>\n",
       "      <td>NaN</td>\n",
       "      <td>NaN</td>\n",
       "      <td>Alcohol Use and Related Behaviors Among Late-Adolescent Urban Youths: Peer and Parent Influences</td>\n",
       "      <td>JOURNAL OF CHILD &amp; ADOLESCENT SUBSTANCE ABUSE</td>\n",
       "      <td>NaN</td>\n",
       "      <td>NaN</td>\n",
       "      <td>English</td>\n",
       "      <td>Article</td>\n",
       "      <td>NaN</td>\n",
       "      <td>NaN</td>\n",
       "      <td>NaN</td>\n",
       "      <td>NaN</td>\n",
       "      <td>NaN</td>\n",
       "      <td>alcohol; influences; parents; peers; youth</td>\n",
       "      <td>SUBSTANCE USE; DRUG-USE; TOBACCO; INVOLVEMENT; FAMILY; ABUSE</td>\n",
       "      <td>Peer and parent influences on alcohol use and related risky behaviors were examined in a sample of late-adolescent (M=17.3 years; SD=1.11 years) urban youths. Participants (N=400) completed an online measure assessing peer influences of alcohol use and alcohol offers and also parental influences of rules against alcohol use and perceived levels of emotional family support, relative to youths' alcohol use, binge drinking, alcohol-related consequences, and intentions to drink. Hierarchical regression analyses revealed that increased peer alcohol use and alcohol offers were associated with youths' increased drinking, binge drinking, alcohol-related consequences, and intentions to drink. Controlling for peer influences, parental rules against alcohol use were associated with decreased drinking, binge drinking, and intentions to drink; increased levels of family support were associated with decreased alcohol-related consequences and intentions to drink. These findings suggest that parental influences, albeit small relative to peer influences, are associated with fewer instances of monthly alcohol use and related risky behaviors among late-adolescent urban youths.</td>\n",
       "      <td>[Schwinn, Traci M.; Schinke, Steven P.] Columbia Univ, New York, NY 10027 USA</td>\n",
       "      <td>Columbia University</td>\n",
       "      <td>Schwinn, TM (corresponding author), Columbia Univ, Sch Social Work, 1255 Amsterdam Ave, New York, NY 10027 USA.</td>\n",
       "      <td>tms40@columbia.edu</td>\n",
       "      <td>NaN</td>\n",
       "      <td>NaN</td>\n",
       "      <td>NIAAA NIH HHS [R01 AA011924] Funding Source: Medline</td>\n",
       "      <td>NIAAA NIH HHS(United States Department of Health &amp; Human ServicesNational Institutes of Health (NIH) - USANIH National Institute on Alcohol Abuse &amp; Alcoholism (NIAAA))</td>\n",
       "      <td>NaN</td>\n",
       "      <td>NaN</td>\n",
       "      <td>32</td>\n",
       "      <td>23</td>\n",
       "      <td>38</td>\n",
       "      <td>3</td>\n",
       "      <td>48</td>\n",
       "      <td>ROUTLEDGE JOURNALS, TAYLOR &amp; FRANCIS LTD</td>\n",
       "      <td>ABINGDON</td>\n",
       "      <td>2-4 PARK SQUARE, MILTON PARK, ABINGDON OX14 4RN, OXON, ENGLAND</td>\n",
       "      <td>1067-828X</td>\n",
       "      <td>1547-0652</td>\n",
       "      <td>NaN</td>\n",
       "      <td>J CHILD ADOLES SUBST</td>\n",
       "      <td>J. Child Adolesc. Subst. Abus.</td>\n",
       "      <td>JAN 1</td>\n",
       "      <td>2014</td>\n",
       "      <td>23.0</td>\n",
       "      <td>1</td>\n",
       "      <td>NaN</td>\n",
       "      <td>NaN</td>\n",
       "      <td>NaN</td>\n",
       "      <td>NaN</td>\n",
       "      <td>58</td>\n",
       "      <td>64</td>\n",
       "      <td>NaN</td>\n",
       "      <td>10.1080/1067828X.2012.735561</td>\n",
       "      <td>0.0</td>\n",
       "      <td>NaN</td>\n",
       "      <td>NaN</td>\n",
       "      <td>7</td>\n",
       "      <td>Substance Abuse</td>\n",
       "      <td>Social Science Citation Index (SSCI)</td>\n",
       "      <td>Substance Abuse</td>\n",
       "      <td>242FC</td>\n",
       "      <td>25246757.0</td>\n",
       "      <td>Green Accepted</td>\n",
       "      <td>NaN</td>\n",
       "      <td>NaN</td>\n",
       "      <td>2024-05-02</td>\n",
       "      <td>WOS:000326222300006</td>\n",
       "      <td>0</td>\n",
       "      <td>Alcohol Use and Related Behaviors Among Late-Adolescent Urban Youths: Peer and Parent Influences Peer and parent influences on alcohol use and related risky behaviors were examined in a sample of late-adolescent (M=17.3 years; SD=1.11 years) urban youths. Participants (N=400) completed an online measure assessing peer influences of alcohol use and alcohol offers and also parental influences of rules against alcohol use and perceived levels of emotional family support, relative to youths' alcohol use, binge drinking, alcohol-related consequences, and intentions to drink. Hierarchical regression analyses revealed that increased peer alcohol use and alcohol offers were associated with youths' increased drinking, binge drinking, alcohol-related consequences, and intentions to drink. Controlling for peer influences, parental rules against alcohol use were associated with decreased drinking, binge drinking, and intentions to drink; increased levels of family support were associated with decreased alcohol-related consequences and intentions to drink. These findings suggest that parental influences, albeit small relative to peer influences, are associated with fewer instances of monthly alcohol use and related risky behaviors among late-adolescent urban youths.</td>\n",
       "    </tr>\n",
       "  </tbody>\n",
       "</table>\n",
       "</div>"
      ],
      "text/plain": [
       "  Publication Type                              Authors  Book Authors  \\\n",
       "0  J                Shin, YJ; Lee, JK; Lu, Y; Hecht, ML NaN             \n",
       "1  J                Schwinn, TM; Schinke, SP            NaN             \n",
       "\n",
       "  Book Editors  Book Group Authors  \\\n",
       "0  NaN         NaN                   \n",
       "1  NaN         NaN                   \n",
       "\n",
       "                                          Author Full Names  \\\n",
       "0  Shin, YoungJu; Lee, Jeong-Kyu; Lu, Yu; Hecht, Michael L.   \n",
       "1  Schwinn, Traci M.; Schinke, Steven P.                      \n",
       "\n",
       "   Book Author Full Names Group Authors  \\\n",
       "0 NaN                      NaN            \n",
       "1 NaN                      NaN            \n",
       "\n",
       "                                                                                                            Article Title  \\\n",
       "0  Exploring Parental Influence on the Progression of Alcohol Use in Mexican-Heritage Youth: a Latent Transition Analysis   \n",
       "1  Alcohol Use and Related Behaviors Among Late-Adolescent Urban Youths: Peer and Parent Influences                         \n",
       "\n",
       "                                    Source Title Book Series Title  \\\n",
       "0  PREVENTION SCIENCE                             NaN                \n",
       "1  JOURNAL OF CHILD & ADOLESCENT SUBSTANCE ABUSE  NaN                \n",
       "\n",
       "   Book Series Subtitle Language Document Type Conference Title  \\\n",
       "0 NaN                    English  Article       NaN               \n",
       "1 NaN                    English  Article       NaN               \n",
       "\n",
       "  Conference Date Conference Location Conference Sponsor Conference Host  \\\n",
       "0  NaN             NaN                 NaN                NaN              \n",
       "1  NaN             NaN                 NaN                NaN              \n",
       "\n",
       "                                                                                                                    Author Keywords  \\\n",
       "0  Youth substance use; Latent class analysis; Latent transition analysis; Targeted parent-child communication; Parental monitoring   \n",
       "1  alcohol; influences; parents; peers; youth                                                                                         \n",
       "\n",
       "                                                                                                                            Keywords Plus  \\\n",
       "0  SUBSTANCE USE; DRUG-USE; CHILD COMMUNICATION; FAMILY-STRUCTURE; SAS PROCEDURE; LATINO YOUTH; SELF-ESTEEM; ADOLESCENTS; RISK; MARIJUANA   \n",
       "1  SUBSTANCE USE; DRUG-USE; TOBACCO; INVOLVEMENT; FAMILY; ABUSE                                                                             \n",
       "\n",
       "                                                                                                                                                                                                                                                                                                                                                                                                                                                                                                                                                                                                                                                                                                                                                                                                                                                                                                                                                                                                                                                                                                                                                                                                                    Abstract  \\\n",
       "0  Mexican-heritage youth are members of the fastest growing minority group and are at particular risk for substance use including alcohol consumption. Youth face numerous risk factors including positive descriptions of substance use on media and peer offers that are potentially ameliorated by parental anti-substance use socialization efforts. Guided by primary socialization theory and the theory of planned behavior, the present study posited eight research questions to identify discrete subgroups/patterns of Mexican-heritage youth alcohol use behavior and parental influence on youth outcomes. Longitudinal survey data (n = 1147) from youth in 29 public schools located in Phoenix, Arizona, were collected over 3 years. Latent class and transition analyses identified four discrete subgroups characterized by response patterns of alcohol use behaviors and perceptions in Mexican-heritage youth: (1) non-drinker, (2) potential drinker, (3) experimenter, and (4) regular drinker. Targeted parent-child communication about alcohol and parental monitoring were found to be significant predictors for youth alcohol use. Research implications and future directions are suggested.   \n",
       "1  Peer and parent influences on alcohol use and related risky behaviors were examined in a sample of late-adolescent (M=17.3 years; SD=1.11 years) urban youths. Participants (N=400) completed an online measure assessing peer influences of alcohol use and alcohol offers and also parental influences of rules against alcohol use and perceived levels of emotional family support, relative to youths' alcohol use, binge drinking, alcohol-related consequences, and intentions to drink. Hierarchical regression analyses revealed that increased peer alcohol use and alcohol offers were associated with youths' increased drinking, binge drinking, alcohol-related consequences, and intentions to drink. Controlling for peer influences, parental rules against alcohol use were associated with decreased drinking, binge drinking, and intentions to drink; increased levels of family support were associated with decreased alcohol-related consequences and intentions to drink. These findings suggest that parental influences, albeit small relative to peer influences, are associated with fewer instances of monthly alcohol use and related risky behaviors among late-adolescent urban youths.    \n",
       "\n",
       "                                                                                                                                                                                                                                                                                                       Addresses  \\\n",
       "0  [Shin, YoungJu] Indiana Univ Purdue Univ, Dept Commun Studies, 425 Univ Blvd,Cavanaugh Hall 309, Indianapolis, IN 46202 USA; [Lee, Jeong-Kyu] Univ Wollongong, Ctr Hlth Initiat, Wollongong, NSW, Australia; [Lu, Yu; Hecht, Michael L.] Penn State Univ, Dept Commun Arts & Sci, University Pk, PA 16802 USA   \n",
       "1  [Schwinn, Traci M.; Schinke, Steven P.] Columbia Univ, New York, NY 10027 USA                                                                                                                                                                                                                                   \n",
       "\n",
       "                                                                                                                                                                                                                                           Affiliations  \\\n",
       "0  Indiana University System; Indiana University-Purdue University Indianapolis; University of Wollongong; Pennsylvania Commonwealth System of Higher Education (PCSHE); Pennsylvania State University; Pennsylvania State University - University Park   \n",
       "1  Columbia University                                                                                                                                                                                                                                    \n",
       "\n",
       "                                                                                                                               Reprint Addresses  \\\n",
       "0  Shin, YJ (corresponding author), Indiana Univ Purdue Univ, Dept Commun Studies, 425 Univ Blvd,Cavanaugh Hall 309, Indianapolis, IN 46202 USA.   \n",
       "1  Schwinn, TM (corresponding author), Columbia Univ, Sch Social Work, 1255 Amsterdam Ave, New York, NY 10027 USA.                                 \n",
       "\n",
       "                                                       Email Addresses  \\\n",
       "0  younshin@iupui.edu; jklee@uow.edu.au; yxl235@psu.edu; mlh10@psu.edu   \n",
       "1  tms40@columbia.edu                                                    \n",
       "\n",
       "                                                            Researcher Ids  \\\n",
       "0  Lu, Yu/AGB-5690-2022; Shin, YoungJu/ABA-1000-2020; Lu, Yu/AAA-3190-2020   \n",
       "1  NaN                                                                       \n",
       "\n",
       "                                                          ORCIDs  \\\n",
       "0  Lu, Yu/0000-0002-5128-6868; Shin, YoungJu/0000-0001-6751-8064   \n",
       "1  NaN                                                             \n",
       "\n",
       "                                           Funding Orgs  \\\n",
       "0  National Institute on Drug Abuse [R01DA005629]         \n",
       "1  NIAAA NIH HHS [R01 AA011924] Funding Source: Medline   \n",
       "\n",
       "                                                                                                                                                      Funding Name Preferred  \\\n",
       "0  National Institute on Drug Abuse(United States Department of Health & Human ServicesNational Institutes of Health (NIH) - USANIH National Institute on Drug Abuse (NIDA))   \n",
       "1  NIAAA NIH HHS(United States Department of Health & Human ServicesNational Institutes of Health (NIH) - USANIH National Institute on Alcohol Abuse & Alcoholism (NIAAA))     \n",
       "\n",
       "                                                                                                                                                                                                                                                                                                                                              Funding Text  \\\n",
       "0  This manuscript was supported by Grant Numbers R01DA005629 from the National Institute on Drug Abuse to The Pennsylvania State University (Grant Recipient), Michael Hecht, Principal Investigator. Its contents are solely the responsibility of the authors and do not necessarily represent the official views of the National Institutes of Health.   \n",
       "1  NaN                                                                                                                                                                                                                                                                                                                                                       \n",
       "\n",
       "   Cited References  Cited Reference Count  Times Cited, WoS Core  \\\n",
       "0 NaN                54                     29                      \n",
       "1 NaN                32                     23                      \n",
       "\n",
       "   Times Cited, All Databases  180 Day Usage Count  Since 2013 Usage Count  \\\n",
       "0  30                          0                    19                       \n",
       "1  38                          3                    48                       \n",
       "\n",
       "                                  Publisher Publisher City  \\\n",
       "0  SPRINGER/PLENUM PUBLISHERS                NEW YORK        \n",
       "1  ROUTLEDGE JOURNALS, TAYLOR & FRANCIS LTD  ABINGDON        \n",
       "\n",
       "                                                Publisher Address       ISSN  \\\n",
       "0  233 SPRING ST, NEW YORK, NY 10013 USA                           1389-4986   \n",
       "1  2-4 PARK SQUARE, MILTON PARK, ABINGDON OX14 4RN, OXON, ENGLAND  1067-828X   \n",
       "\n",
       "       eISSN ISBN  Journal Abbreviation        Journal ISO Abbreviation  \\\n",
       "0  1573-6695  NaN  PREV SCI              Prev. Sci.                       \n",
       "1  1547-0652  NaN  J CHILD ADOLES SUBST  J. Child Adolesc. Subst. Abus.   \n",
       "\n",
       "  Publication Date  Publication Year Volume Issue Part Number Supplement  \\\n",
       "0  FEB              2016              17.0   2     NaN         NaN         \n",
       "1  JAN 1            2014              23.0   1     NaN         NaN         \n",
       "\n",
       "  Special Issue  Meeting Abstract Start Page End Page Article Number  \\\n",
       "0  NaN          NaN                188        198      NaN             \n",
       "1  NaN          NaN                58         64       NaN             \n",
       "\n",
       "                            DOI  DOI Link  Book DOI Early Access Date  \\\n",
       "0  10.1007/s11121-015-0596-1     0.0      NaN        NaN                \n",
       "1  10.1080/1067828X.2012.735561  0.0      NaN        NaN                \n",
       "\n",
       "   Number of Pages                               WoS Categories  \\\n",
       "0  11               Public, Environmental & Occupational Health   \n",
       "1  7                Substance Abuse                               \n",
       "\n",
       "                   Web of Science Index  \\\n",
       "0  Social Science Citation Index (SSCI)   \n",
       "1  Social Science Citation Index (SSCI)   \n",
       "\n",
       "                                Research Areas IDS Number   Pubmed Id  \\\n",
       "0  Public, Environmental & Occupational Health  DB7KA      26300049.0   \n",
       "1  Substance Abuse                              242FC      25246757.0   \n",
       "\n",
       "          Open Access Designations  Highly Cited Status  Hot Paper Status  \\\n",
       "0  Green Accepted, Green Submitted NaN                  NaN                 \n",
       "1  Green Accepted                  NaN                  NaN                 \n",
       "\n",
       "  Date of Export   UT (Unique WOS ID)  Web of Science Record  \\\n",
       "0  2024-05-02     WOS:000368692700005  0                       \n",
       "1  2024-05-02     WOS:000326222300006  0                       \n",
       "\n",
       "                                                                                                                                                                                                                                                                                                                                                                                                                                                                                                                                                                                                                                                                                                                                                                                                                                                                                                                                                                                                                                                                                                                                                                                                                                                                                                                                               text  \n",
       "0  Exploring Parental Influence on the Progression of Alcohol Use in Mexican-Heritage Youth: a Latent Transition Analysis Mexican-heritage youth are members of the fastest growing minority group and are at particular risk for substance use including alcohol consumption. Youth face numerous risk factors including positive descriptions of substance use on media and peer offers that are potentially ameliorated by parental anti-substance use socialization efforts. Guided by primary socialization theory and the theory of planned behavior, the present study posited eight research questions to identify discrete subgroups/patterns of Mexican-heritage youth alcohol use behavior and parental influence on youth outcomes. Longitudinal survey data (n = 1147) from youth in 29 public schools located in Phoenix, Arizona, were collected over 3 years. Latent class and transition analyses identified four discrete subgroups characterized by response patterns of alcohol use behaviors and perceptions in Mexican-heritage youth: (1) non-drinker, (2) potential drinker, (3) experimenter, and (4) regular drinker. Targeted parent-child communication about alcohol and parental monitoring were found to be significant predictors for youth alcohol use. Research implications and future directions are suggested.  \n",
       "1  Alcohol Use and Related Behaviors Among Late-Adolescent Urban Youths: Peer and Parent Influences Peer and parent influences on alcohol use and related risky behaviors were examined in a sample of late-adolescent (M=17.3 years; SD=1.11 years) urban youths. Participants (N=400) completed an online measure assessing peer influences of alcohol use and alcohol offers and also parental influences of rules against alcohol use and perceived levels of emotional family support, relative to youths' alcohol use, binge drinking, alcohol-related consequences, and intentions to drink. Hierarchical regression analyses revealed that increased peer alcohol use and alcohol offers were associated with youths' increased drinking, binge drinking, alcohol-related consequences, and intentions to drink. Controlling for peer influences, parental rules against alcohol use were associated with decreased drinking, binge drinking, and intentions to drink; increased levels of family support were associated with decreased alcohol-related consequences and intentions to drink. These findings suggest that parental influences, albeit small relative to peer influences, are associated with fewer instances of monthly alcohol use and related risky behaviors among late-adolescent urban youths.                         "
      ]
     },
     "execution_count": 10,
     "metadata": {},
     "output_type": "execute_result"
    }
   ],
   "source": [
    "art['text'] = art['Article Title'].fillna('') + ' ' + art['Abstract'].fillna('')\n",
    "art.head(2)\n"
   ]
  },
  {
   "cell_type": "code",
   "execution_count": 11,
   "metadata": {},
   "outputs": [
    {
     "name": "stderr",
     "output_type": "stream",
     "text": [
      "[nltk_data] Downloading package stopwords to\n",
      "[nltk_data]     C:\\Users\\jcor864\\AppData\\Roaming\\nltk_data...\n",
      "[nltk_data]   Package stopwords is already up-to-date!\n",
      "[nltk_data] Downloading collection 'all'\n",
      "[nltk_data]    | \n",
      "[nltk_data]    | Downloading package abc to\n",
      "[nltk_data]    |     C:\\Users\\jcor864\\AppData\\Roaming\\nltk_data...\n",
      "[nltk_data]    |   Package abc is already up-to-date!\n",
      "[nltk_data]    | Downloading package alpino to\n",
      "[nltk_data]    |     C:\\Users\\jcor864\\AppData\\Roaming\\nltk_data...\n",
      "[nltk_data]    |   Package alpino is already up-to-date!\n",
      "[nltk_data]    | Downloading package averaged_perceptron_tagger to\n",
      "[nltk_data]    |     C:\\Users\\jcor864\\AppData\\Roaming\\nltk_data...\n",
      "[nltk_data]    |   Package averaged_perceptron_tagger is already up-\n",
      "[nltk_data]    |       to-date!\n",
      "[nltk_data]    | Downloading package averaged_perceptron_tagger_ru to\n",
      "[nltk_data]    |     C:\\Users\\jcor864\\AppData\\Roaming\\nltk_data...\n",
      "[nltk_data]    |   Package averaged_perceptron_tagger_ru is already\n",
      "[nltk_data]    |       up-to-date!\n",
      "[nltk_data]    | Downloading package basque_grammars to\n",
      "[nltk_data]    |     C:\\Users\\jcor864\\AppData\\Roaming\\nltk_data...\n",
      "[nltk_data]    |   Package basque_grammars is already up-to-date!\n",
      "[nltk_data]    | Downloading package bcp47 to\n",
      "[nltk_data]    |     C:\\Users\\jcor864\\AppData\\Roaming\\nltk_data...\n",
      "[nltk_data]    |   Package bcp47 is already up-to-date!\n",
      "[nltk_data]    | Downloading package biocreative_ppi to\n",
      "[nltk_data]    |     C:\\Users\\jcor864\\AppData\\Roaming\\nltk_data...\n",
      "[nltk_data]    |   Package biocreative_ppi is already up-to-date!\n",
      "[nltk_data]    | Downloading package bllip_wsj_no_aux to\n",
      "[nltk_data]    |     C:\\Users\\jcor864\\AppData\\Roaming\\nltk_data...\n",
      "[nltk_data]    |   Package bllip_wsj_no_aux is already up-to-date!\n",
      "[nltk_data]    | Downloading package book_grammars to\n",
      "[nltk_data]    |     C:\\Users\\jcor864\\AppData\\Roaming\\nltk_data...\n",
      "[nltk_data]    |   Package book_grammars is already up-to-date!\n",
      "[nltk_data]    | Downloading package brown to\n",
      "[nltk_data]    |     C:\\Users\\jcor864\\AppData\\Roaming\\nltk_data...\n",
      "[nltk_data]    |   Package brown is already up-to-date!\n",
      "[nltk_data]    | Downloading package brown_tei to\n",
      "[nltk_data]    |     C:\\Users\\jcor864\\AppData\\Roaming\\nltk_data...\n",
      "[nltk_data]    |   Package brown_tei is already up-to-date!\n",
      "[nltk_data]    | Downloading package cess_cat to\n",
      "[nltk_data]    |     C:\\Users\\jcor864\\AppData\\Roaming\\nltk_data...\n",
      "[nltk_data]    |   Package cess_cat is already up-to-date!\n",
      "[nltk_data]    | Downloading package cess_esp to\n",
      "[nltk_data]    |     C:\\Users\\jcor864\\AppData\\Roaming\\nltk_data...\n",
      "[nltk_data]    |   Package cess_esp is already up-to-date!\n",
      "[nltk_data]    | Downloading package chat80 to\n",
      "[nltk_data]    |     C:\\Users\\jcor864\\AppData\\Roaming\\nltk_data...\n",
      "[nltk_data]    |   Package chat80 is already up-to-date!\n",
      "[nltk_data]    | Downloading package city_database to\n",
      "[nltk_data]    |     C:\\Users\\jcor864\\AppData\\Roaming\\nltk_data...\n",
      "[nltk_data]    |   Package city_database is already up-to-date!\n",
      "[nltk_data]    | Downloading package cmudict to\n",
      "[nltk_data]    |     C:\\Users\\jcor864\\AppData\\Roaming\\nltk_data...\n",
      "[nltk_data]    |   Package cmudict is already up-to-date!\n",
      "[nltk_data]    | Downloading package comparative_sentences to\n",
      "[nltk_data]    |     C:\\Users\\jcor864\\AppData\\Roaming\\nltk_data...\n",
      "[nltk_data]    |   Package comparative_sentences is already up-to-\n",
      "[nltk_data]    |       date!\n",
      "[nltk_data]    | Downloading package comtrans to\n",
      "[nltk_data]    |     C:\\Users\\jcor864\\AppData\\Roaming\\nltk_data...\n",
      "[nltk_data]    |   Package comtrans is already up-to-date!\n",
      "[nltk_data]    | Downloading package conll2000 to\n",
      "[nltk_data]    |     C:\\Users\\jcor864\\AppData\\Roaming\\nltk_data...\n",
      "[nltk_data]    |   Package conll2000 is already up-to-date!\n",
      "[nltk_data]    | Downloading package conll2002 to\n",
      "[nltk_data]    |     C:\\Users\\jcor864\\AppData\\Roaming\\nltk_data...\n",
      "[nltk_data]    |   Package conll2002 is already up-to-date!\n",
      "[nltk_data]    | Downloading package conll2007 to\n",
      "[nltk_data]    |     C:\\Users\\jcor864\\AppData\\Roaming\\nltk_data...\n",
      "[nltk_data]    |   Package conll2007 is already up-to-date!\n",
      "[nltk_data]    | Downloading package crubadan to\n",
      "[nltk_data]    |     C:\\Users\\jcor864\\AppData\\Roaming\\nltk_data...\n",
      "[nltk_data]    |   Package crubadan is already up-to-date!\n",
      "[nltk_data]    | Downloading package dependency_treebank to\n",
      "[nltk_data]    |     C:\\Users\\jcor864\\AppData\\Roaming\\nltk_data...\n",
      "[nltk_data]    |   Package dependency_treebank is already up-to-date!\n",
      "[nltk_data]    | Downloading package dolch to\n",
      "[nltk_data]    |     C:\\Users\\jcor864\\AppData\\Roaming\\nltk_data...\n",
      "[nltk_data]    |   Package dolch is already up-to-date!\n",
      "[nltk_data]    | Downloading package europarl_raw to\n",
      "[nltk_data]    |     C:\\Users\\jcor864\\AppData\\Roaming\\nltk_data...\n",
      "[nltk_data]    |   Package europarl_raw is already up-to-date!\n",
      "[nltk_data]    | Downloading package extended_omw to\n",
      "[nltk_data]    |     C:\\Users\\jcor864\\AppData\\Roaming\\nltk_data...\n",
      "[nltk_data]    |   Package extended_omw is already up-to-date!\n",
      "[nltk_data]    | Downloading package floresta to\n",
      "[nltk_data]    |     C:\\Users\\jcor864\\AppData\\Roaming\\nltk_data...\n",
      "[nltk_data]    |   Package floresta is already up-to-date!\n",
      "[nltk_data]    | Downloading package framenet_v15 to\n",
      "[nltk_data]    |     C:\\Users\\jcor864\\AppData\\Roaming\\nltk_data...\n",
      "[nltk_data]    |   Package framenet_v15 is already up-to-date!\n",
      "[nltk_data]    | Downloading package framenet_v17 to\n",
      "[nltk_data]    |     C:\\Users\\jcor864\\AppData\\Roaming\\nltk_data...\n",
      "[nltk_data]    |   Package framenet_v17 is already up-to-date!\n",
      "[nltk_data]    | Downloading package gazetteers to\n",
      "[nltk_data]    |     C:\\Users\\jcor864\\AppData\\Roaming\\nltk_data...\n",
      "[nltk_data]    |   Package gazetteers is already up-to-date!\n",
      "[nltk_data]    | Downloading package genesis to\n",
      "[nltk_data]    |     C:\\Users\\jcor864\\AppData\\Roaming\\nltk_data...\n",
      "[nltk_data]    |   Package genesis is already up-to-date!\n",
      "[nltk_data]    | Downloading package gutenberg to\n",
      "[nltk_data]    |     C:\\Users\\jcor864\\AppData\\Roaming\\nltk_data...\n",
      "[nltk_data]    |   Package gutenberg is already up-to-date!\n",
      "[nltk_data]    | Downloading package ieer to\n",
      "[nltk_data]    |     C:\\Users\\jcor864\\AppData\\Roaming\\nltk_data...\n",
      "[nltk_data]    |   Package ieer is already up-to-date!\n",
      "[nltk_data]    | Downloading package inaugural to\n",
      "[nltk_data]    |     C:\\Users\\jcor864\\AppData\\Roaming\\nltk_data...\n",
      "[nltk_data]    |   Package inaugural is already up-to-date!\n",
      "[nltk_data]    | Downloading package indian to\n",
      "[nltk_data]    |     C:\\Users\\jcor864\\AppData\\Roaming\\nltk_data...\n",
      "[nltk_data]    |   Package indian is already up-to-date!\n",
      "[nltk_data]    | Downloading package jeita to\n",
      "[nltk_data]    |     C:\\Users\\jcor864\\AppData\\Roaming\\nltk_data...\n",
      "[nltk_data]    |   Package jeita is already up-to-date!\n",
      "[nltk_data]    | Downloading package kimmo to\n",
      "[nltk_data]    |     C:\\Users\\jcor864\\AppData\\Roaming\\nltk_data...\n",
      "[nltk_data]    |   Package kimmo is already up-to-date!\n",
      "[nltk_data]    | Downloading package knbc to\n",
      "[nltk_data]    |     C:\\Users\\jcor864\\AppData\\Roaming\\nltk_data...\n",
      "[nltk_data]    |   Package knbc is already up-to-date!\n",
      "[nltk_data]    | Downloading package large_grammars to\n",
      "[nltk_data]    |     C:\\Users\\jcor864\\AppData\\Roaming\\nltk_data...\n",
      "[nltk_data]    |   Package large_grammars is already up-to-date!\n",
      "[nltk_data]    | Downloading package lin_thesaurus to\n",
      "[nltk_data]    |     C:\\Users\\jcor864\\AppData\\Roaming\\nltk_data...\n",
      "[nltk_data]    |   Package lin_thesaurus is already up-to-date!\n",
      "[nltk_data]    | Downloading package mac_morpho to\n",
      "[nltk_data]    |     C:\\Users\\jcor864\\AppData\\Roaming\\nltk_data...\n",
      "[nltk_data]    |   Package mac_morpho is already up-to-date!\n",
      "[nltk_data]    | Downloading package machado to\n",
      "[nltk_data]    |     C:\\Users\\jcor864\\AppData\\Roaming\\nltk_data...\n",
      "[nltk_data]    |   Package machado is already up-to-date!\n",
      "[nltk_data]    | Downloading package masc_tagged to\n",
      "[nltk_data]    |     C:\\Users\\jcor864\\AppData\\Roaming\\nltk_data...\n",
      "[nltk_data]    |   Package masc_tagged is already up-to-date!\n",
      "[nltk_data]    | Downloading package maxent_ne_chunker to\n",
      "[nltk_data]    |     C:\\Users\\jcor864\\AppData\\Roaming\\nltk_data...\n",
      "[nltk_data]    |   Package maxent_ne_chunker is already up-to-date!\n",
      "[nltk_data]    | Downloading package maxent_treebank_pos_tagger to\n",
      "[nltk_data]    |     C:\\Users\\jcor864\\AppData\\Roaming\\nltk_data...\n",
      "[nltk_data]    |   Package maxent_treebank_pos_tagger is already up-\n",
      "[nltk_data]    |       to-date!\n",
      "[nltk_data]    | Downloading package moses_sample to\n",
      "[nltk_data]    |     C:\\Users\\jcor864\\AppData\\Roaming\\nltk_data...\n",
      "[nltk_data]    |   Package moses_sample is already up-to-date!\n",
      "[nltk_data]    | Downloading package movie_reviews to\n",
      "[nltk_data]    |     C:\\Users\\jcor864\\AppData\\Roaming\\nltk_data...\n",
      "[nltk_data]    |   Package movie_reviews is already up-to-date!\n",
      "[nltk_data]    | Downloading package mte_teip5 to\n",
      "[nltk_data]    |     C:\\Users\\jcor864\\AppData\\Roaming\\nltk_data...\n",
      "[nltk_data]    |   Package mte_teip5 is already up-to-date!\n",
      "[nltk_data]    | Downloading package mwa_ppdb to\n",
      "[nltk_data]    |     C:\\Users\\jcor864\\AppData\\Roaming\\nltk_data...\n",
      "[nltk_data]    |   Package mwa_ppdb is already up-to-date!\n",
      "[nltk_data]    | Downloading package names to\n",
      "[nltk_data]    |     C:\\Users\\jcor864\\AppData\\Roaming\\nltk_data...\n",
      "[nltk_data]    |   Package names is already up-to-date!\n",
      "[nltk_data]    | Downloading package nombank.1.0 to\n",
      "[nltk_data]    |     C:\\Users\\jcor864\\AppData\\Roaming\\nltk_data...\n",
      "[nltk_data]    |   Package nombank.1.0 is already up-to-date!\n",
      "[nltk_data]    | Downloading package nonbreaking_prefixes to\n",
      "[nltk_data]    |     C:\\Users\\jcor864\\AppData\\Roaming\\nltk_data...\n",
      "[nltk_data]    |   Package nonbreaking_prefixes is already up-to-date!\n",
      "[nltk_data]    | Downloading package nps_chat to\n",
      "[nltk_data]    |     C:\\Users\\jcor864\\AppData\\Roaming\\nltk_data...\n",
      "[nltk_data]    |   Package nps_chat is already up-to-date!\n",
      "[nltk_data]    | Downloading package omw to\n",
      "[nltk_data]    |     C:\\Users\\jcor864\\AppData\\Roaming\\nltk_data...\n",
      "[nltk_data]    |   Package omw is already up-to-date!\n",
      "[nltk_data]    | Downloading package omw-1.4 to\n",
      "[nltk_data]    |     C:\\Users\\jcor864\\AppData\\Roaming\\nltk_data...\n",
      "[nltk_data]    |   Package omw-1.4 is already up-to-date!\n",
      "[nltk_data]    | Downloading package opinion_lexicon to\n",
      "[nltk_data]    |     C:\\Users\\jcor864\\AppData\\Roaming\\nltk_data...\n",
      "[nltk_data]    |   Package opinion_lexicon is already up-to-date!\n",
      "[nltk_data]    | Downloading package panlex_swadesh to\n",
      "[nltk_data]    |     C:\\Users\\jcor864\\AppData\\Roaming\\nltk_data...\n",
      "[nltk_data]    |   Package panlex_swadesh is already up-to-date!\n",
      "[nltk_data]    | Downloading package paradigms to\n",
      "[nltk_data]    |     C:\\Users\\jcor864\\AppData\\Roaming\\nltk_data...\n",
      "[nltk_data]    |   Package paradigms is already up-to-date!\n",
      "[nltk_data]    | Downloading package pe08 to\n",
      "[nltk_data]    |     C:\\Users\\jcor864\\AppData\\Roaming\\nltk_data...\n",
      "[nltk_data]    |   Package pe08 is already up-to-date!\n",
      "[nltk_data]    | Downloading package perluniprops to\n",
      "[nltk_data]    |     C:\\Users\\jcor864\\AppData\\Roaming\\nltk_data...\n",
      "[nltk_data]    |   Package perluniprops is already up-to-date!\n",
      "[nltk_data]    | Downloading package pil to\n",
      "[nltk_data]    |     C:\\Users\\jcor864\\AppData\\Roaming\\nltk_data...\n",
      "[nltk_data]    |   Package pil is already up-to-date!\n",
      "[nltk_data]    | Downloading package pl196x to\n",
      "[nltk_data]    |     C:\\Users\\jcor864\\AppData\\Roaming\\nltk_data...\n",
      "[nltk_data]    |   Package pl196x is already up-to-date!\n",
      "[nltk_data]    | Downloading package porter_test to\n",
      "[nltk_data]    |     C:\\Users\\jcor864\\AppData\\Roaming\\nltk_data...\n",
      "[nltk_data]    |   Package porter_test is already up-to-date!\n",
      "[nltk_data]    | Downloading package ppattach to\n",
      "[nltk_data]    |     C:\\Users\\jcor864\\AppData\\Roaming\\nltk_data...\n",
      "[nltk_data]    |   Package ppattach is already up-to-date!\n",
      "[nltk_data]    | Downloading package problem_reports to\n",
      "[nltk_data]    |     C:\\Users\\jcor864\\AppData\\Roaming\\nltk_data...\n",
      "[nltk_data]    |   Package problem_reports is already up-to-date!\n",
      "[nltk_data]    | Downloading package product_reviews_1 to\n",
      "[nltk_data]    |     C:\\Users\\jcor864\\AppData\\Roaming\\nltk_data...\n",
      "[nltk_data]    |   Package product_reviews_1 is already up-to-date!\n",
      "[nltk_data]    | Downloading package product_reviews_2 to\n",
      "[nltk_data]    |     C:\\Users\\jcor864\\AppData\\Roaming\\nltk_data...\n",
      "[nltk_data]    |   Package product_reviews_2 is already up-to-date!\n",
      "[nltk_data]    | Downloading package propbank to\n",
      "[nltk_data]    |     C:\\Users\\jcor864\\AppData\\Roaming\\nltk_data...\n",
      "[nltk_data]    |   Package propbank is already up-to-date!\n",
      "[nltk_data]    | Downloading package pros_cons to\n",
      "[nltk_data]    |     C:\\Users\\jcor864\\AppData\\Roaming\\nltk_data...\n",
      "[nltk_data]    |   Package pros_cons is already up-to-date!\n",
      "[nltk_data]    | Downloading package ptb to\n",
      "[nltk_data]    |     C:\\Users\\jcor864\\AppData\\Roaming\\nltk_data...\n",
      "[nltk_data]    |   Package ptb is already up-to-date!\n",
      "[nltk_data]    | Downloading package punkt to\n",
      "[nltk_data]    |     C:\\Users\\jcor864\\AppData\\Roaming\\nltk_data...\n",
      "[nltk_data]    |   Package punkt is already up-to-date!\n",
      "[nltk_data]    | Downloading package qc to\n",
      "[nltk_data]    |     C:\\Users\\jcor864\\AppData\\Roaming\\nltk_data...\n",
      "[nltk_data]    |   Package qc is already up-to-date!\n",
      "[nltk_data]    | Downloading package reuters to\n",
      "[nltk_data]    |     C:\\Users\\jcor864\\AppData\\Roaming\\nltk_data...\n",
      "[nltk_data]    |   Package reuters is already up-to-date!\n",
      "[nltk_data]    | Downloading package rslp to\n",
      "[nltk_data]    |     C:\\Users\\jcor864\\AppData\\Roaming\\nltk_data...\n",
      "[nltk_data]    |   Package rslp is already up-to-date!\n",
      "[nltk_data]    | Downloading package rte to\n",
      "[nltk_data]    |     C:\\Users\\jcor864\\AppData\\Roaming\\nltk_data...\n",
      "[nltk_data]    |   Package rte is already up-to-date!\n",
      "[nltk_data]    | Downloading package sample_grammars to\n",
      "[nltk_data]    |     C:\\Users\\jcor864\\AppData\\Roaming\\nltk_data...\n",
      "[nltk_data]    |   Package sample_grammars is already up-to-date!\n",
      "[nltk_data]    | Downloading package semcor to\n",
      "[nltk_data]    |     C:\\Users\\jcor864\\AppData\\Roaming\\nltk_data...\n",
      "[nltk_data]    |   Package semcor is already up-to-date!\n",
      "[nltk_data]    | Downloading package senseval to\n",
      "[nltk_data]    |     C:\\Users\\jcor864\\AppData\\Roaming\\nltk_data...\n",
      "[nltk_data]    |   Package senseval is already up-to-date!\n",
      "[nltk_data]    | Downloading package sentence_polarity to\n",
      "[nltk_data]    |     C:\\Users\\jcor864\\AppData\\Roaming\\nltk_data...\n",
      "[nltk_data]    |   Package sentence_polarity is already up-to-date!\n",
      "[nltk_data]    | Downloading package sentiwordnet to\n",
      "[nltk_data]    |     C:\\Users\\jcor864\\AppData\\Roaming\\nltk_data...\n",
      "[nltk_data]    |   Package sentiwordnet is already up-to-date!\n",
      "[nltk_data]    | Downloading package shakespeare to\n",
      "[nltk_data]    |     C:\\Users\\jcor864\\AppData\\Roaming\\nltk_data...\n",
      "[nltk_data]    |   Package shakespeare is already up-to-date!\n",
      "[nltk_data]    | Downloading package sinica_treebank to\n",
      "[nltk_data]    |     C:\\Users\\jcor864\\AppData\\Roaming\\nltk_data...\n",
      "[nltk_data]    |   Package sinica_treebank is already up-to-date!\n",
      "[nltk_data]    | Downloading package smultron to\n",
      "[nltk_data]    |     C:\\Users\\jcor864\\AppData\\Roaming\\nltk_data...\n",
      "[nltk_data]    |   Package smultron is already up-to-date!\n",
      "[nltk_data]    | Downloading package snowball_data to\n",
      "[nltk_data]    |     C:\\Users\\jcor864\\AppData\\Roaming\\nltk_data...\n",
      "[nltk_data]    |   Package snowball_data is already up-to-date!\n",
      "[nltk_data]    | Downloading package spanish_grammars to\n",
      "[nltk_data]    |     C:\\Users\\jcor864\\AppData\\Roaming\\nltk_data...\n",
      "[nltk_data]    |   Package spanish_grammars is already up-to-date!\n",
      "[nltk_data]    | Downloading package state_union to\n",
      "[nltk_data]    |     C:\\Users\\jcor864\\AppData\\Roaming\\nltk_data...\n",
      "[nltk_data]    |   Package state_union is already up-to-date!\n",
      "[nltk_data]    | Downloading package stopwords to\n",
      "[nltk_data]    |     C:\\Users\\jcor864\\AppData\\Roaming\\nltk_data...\n",
      "[nltk_data]    |   Package stopwords is already up-to-date!\n",
      "[nltk_data]    | Downloading package subjectivity to\n",
      "[nltk_data]    |     C:\\Users\\jcor864\\AppData\\Roaming\\nltk_data...\n",
      "[nltk_data]    |   Package subjectivity is already up-to-date!\n",
      "[nltk_data]    | Downloading package swadesh to\n",
      "[nltk_data]    |     C:\\Users\\jcor864\\AppData\\Roaming\\nltk_data...\n",
      "[nltk_data]    |   Package swadesh is already up-to-date!\n",
      "[nltk_data]    | Downloading package switchboard to\n",
      "[nltk_data]    |     C:\\Users\\jcor864\\AppData\\Roaming\\nltk_data...\n",
      "[nltk_data]    |   Package switchboard is already up-to-date!\n",
      "[nltk_data]    | Downloading package tagsets to\n",
      "[nltk_data]    |     C:\\Users\\jcor864\\AppData\\Roaming\\nltk_data...\n",
      "[nltk_data]    |   Package tagsets is already up-to-date!\n",
      "[nltk_data]    | Downloading package timit to\n",
      "[nltk_data]    |     C:\\Users\\jcor864\\AppData\\Roaming\\nltk_data...\n",
      "[nltk_data]    |   Package timit is already up-to-date!\n",
      "[nltk_data]    | Downloading package toolbox to\n",
      "[nltk_data]    |     C:\\Users\\jcor864\\AppData\\Roaming\\nltk_data...\n",
      "[nltk_data]    |   Package toolbox is already up-to-date!\n",
      "[nltk_data]    | Downloading package treebank to\n",
      "[nltk_data]    |     C:\\Users\\jcor864\\AppData\\Roaming\\nltk_data...\n",
      "[nltk_data]    |   Package treebank is already up-to-date!\n",
      "[nltk_data]    | Downloading package twitter_samples to\n",
      "[nltk_data]    |     C:\\Users\\jcor864\\AppData\\Roaming\\nltk_data...\n",
      "[nltk_data]    |   Package twitter_samples is already up-to-date!\n",
      "[nltk_data]    | Downloading package udhr to\n",
      "[nltk_data]    |     C:\\Users\\jcor864\\AppData\\Roaming\\nltk_data...\n",
      "[nltk_data]    |   Package udhr is already up-to-date!\n",
      "[nltk_data]    | Downloading package udhr2 to\n",
      "[nltk_data]    |     C:\\Users\\jcor864\\AppData\\Roaming\\nltk_data...\n",
      "[nltk_data]    |   Package udhr2 is already up-to-date!\n",
      "[nltk_data]    | Downloading package unicode_samples to\n",
      "[nltk_data]    |     C:\\Users\\jcor864\\AppData\\Roaming\\nltk_data...\n",
      "[nltk_data]    |   Package unicode_samples is already up-to-date!\n",
      "[nltk_data]    | Downloading package universal_tagset to\n",
      "[nltk_data]    |     C:\\Users\\jcor864\\AppData\\Roaming\\nltk_data...\n",
      "[nltk_data]    |   Package universal_tagset is already up-to-date!\n",
      "[nltk_data]    | Downloading package universal_treebanks_v20 to\n",
      "[nltk_data]    |     C:\\Users\\jcor864\\AppData\\Roaming\\nltk_data...\n",
      "[nltk_data]    |   Package universal_treebanks_v20 is already up-to-\n",
      "[nltk_data]    |       date!\n",
      "[nltk_data]    | Downloading package vader_lexicon to\n",
      "[nltk_data]    |     C:\\Users\\jcor864\\AppData\\Roaming\\nltk_data...\n",
      "[nltk_data]    |   Package vader_lexicon is already up-to-date!\n",
      "[nltk_data]    | Downloading package verbnet to\n",
      "[nltk_data]    |     C:\\Users\\jcor864\\AppData\\Roaming\\nltk_data...\n",
      "[nltk_data]    |   Package verbnet is already up-to-date!\n",
      "[nltk_data]    | Downloading package verbnet3 to\n",
      "[nltk_data]    |     C:\\Users\\jcor864\\AppData\\Roaming\\nltk_data...\n",
      "[nltk_data]    |   Package verbnet3 is already up-to-date!\n",
      "[nltk_data]    | Downloading package webtext to\n",
      "[nltk_data]    |     C:\\Users\\jcor864\\AppData\\Roaming\\nltk_data...\n",
      "[nltk_data]    |   Package webtext is already up-to-date!\n",
      "[nltk_data]    | Downloading package wmt15_eval to\n",
      "[nltk_data]    |     C:\\Users\\jcor864\\AppData\\Roaming\\nltk_data...\n",
      "[nltk_data]    |   Package wmt15_eval is already up-to-date!\n",
      "[nltk_data]    | Downloading package word2vec_sample to\n",
      "[nltk_data]    |     C:\\Users\\jcor864\\AppData\\Roaming\\nltk_data...\n",
      "[nltk_data]    |   Package word2vec_sample is already up-to-date!\n",
      "[nltk_data]    | Downloading package wordnet to\n",
      "[nltk_data]    |     C:\\Users\\jcor864\\AppData\\Roaming\\nltk_data...\n",
      "[nltk_data]    |   Package wordnet is already up-to-date!\n",
      "[nltk_data]    | Downloading package wordnet2021 to\n",
      "[nltk_data]    |     C:\\Users\\jcor864\\AppData\\Roaming\\nltk_data...\n",
      "[nltk_data]    |   Package wordnet2021 is already up-to-date!\n",
      "[nltk_data]    | Downloading package wordnet2022 to\n",
      "[nltk_data]    |     C:\\Users\\jcor864\\AppData\\Roaming\\nltk_data...\n",
      "[nltk_data]    |   Package wordnet2022 is already up-to-date!\n",
      "[nltk_data]    | Downloading package wordnet31 to\n",
      "[nltk_data]    |     C:\\Users\\jcor864\\AppData\\Roaming\\nltk_data...\n",
      "[nltk_data]    |   Package wordnet31 is already up-to-date!\n",
      "[nltk_data]    | Downloading package wordnet_ic to\n",
      "[nltk_data]    |     C:\\Users\\jcor864\\AppData\\Roaming\\nltk_data...\n",
      "[nltk_data]    |   Package wordnet_ic is already up-to-date!\n",
      "[nltk_data]    | Downloading package words to\n",
      "[nltk_data]    |     C:\\Users\\jcor864\\AppData\\Roaming\\nltk_data...\n",
      "[nltk_data]    |   Package words is already up-to-date!\n",
      "[nltk_data]    | Downloading package ycoe to\n",
      "[nltk_data]    |     C:\\Users\\jcor864\\AppData\\Roaming\\nltk_data...\n",
      "[nltk_data]    |   Package ycoe is already up-to-date!\n",
      "[nltk_data]    | \n",
      "[nltk_data]  Done downloading collection all\n",
      "C:\\Users\\jcor864\\AppData\\Local\\Temp\\ipykernel_21904\\3278824200.py:11: FutureWarning: The default value of regex will change from True to False in a future version.\n",
      "  art['text'] = art['text'].str.replace(r'\\b\\w{1,3}\\b', '') # remove words with less than 3 characters\n",
      "C:\\Users\\jcor864\\AppData\\Local\\Temp\\ipykernel_21904\\3278824200.py:12: FutureWarning: The default value of regex will change from True to False in a future version.\n",
      "  art['text'] = art['text'].str.replace(r'\\d+', '') # remove numbers\n",
      "C:\\Users\\jcor864\\AppData\\Local\\Temp\\ipykernel_21904\\3278824200.py:34: FutureWarning: The default value of regex will change from True to False in a future version.\n",
      "  art['text'] = art['text'].str.replace(r'\\b\\w{1,3}\\b', '') # remove lemmas with less than 3 characters\n"
     ]
    }
   ],
   "source": [
    "# Lemmatization\n",
    "import nltk\n",
    "import string\n",
    "nltk.download('stopwords')\n",
    "from nltk.tokenize import word_tokenize \n",
    "nltk.download('all')   # download wordlist\n",
    "from nltk.stem import WordNetLemmatizer\n",
    "english_stopwords = set(nltk.corpus.stopwords.words('english'))\n",
    "punctuation = set(string.punctuation)\n",
    "\n",
    "art['text'] = art['text'].str.replace(r'\\b\\w{1,3}\\b', '') # remove words with less than 3 characters\n",
    "art['text'] = art['text'].str.replace(r'\\d+', '') # remove numbers\n",
    "\n",
    "\n",
    "lemmatizer = WordNetLemmatizer() \n",
    "# tgw = ['alcohol','substance','youth','adolescent','factor','factors','among']  # topic general words to be excluded\n",
    "tgw = ['alcohol','among']  # topic general words to be excluded\n",
    "\n",
    "def lemmatizing_en(text):\n",
    "    word_tokens = word_tokenize(text.lower()) \n",
    "    word_tokens = [word for word in word_tokens if word not in punctuation]\n",
    "    word_tokens = [word for word in word_tokens if word.isalpha()]\n",
    "    word_tokens = [word for word in word_tokens if word not in english_stopwords]\n",
    "    word_tokens = [word for word in word_tokens if word not in tgw]\n",
    "    result = [lemmatizer.lemmatize(x) for x in word_tokens]\n",
    "    seperator = ' '\n",
    "    return seperator.join(result)  # return list and string\n",
    "\n",
    "art['text'] = [lemmatizing_en(s) for s in art['text']]\n",
    "\n",
    "for word in tgw:\n",
    "    art['text'] = art['text'].str.replace(word, '') # remove tgw words\n",
    "\n",
    "art['text'] = art['text'].str.replace(r'\\b\\w{1,3}\\b', '') # remove lemmas with less than 3 characters\n"
   ]
  },
  {
   "cell_type": "code",
   "execution_count": 12,
   "metadata": {},
   "outputs": [
    {
     "data": {
      "text/plain": [
       "'exploring parental influence progression youth latent transition analysis youth member fastest growing minority group particular risk substance including consumption youth face numerous risk factor including positive description substance medium peer offer potentially ameliorated parental socialization effort guided primary socialization theory theory planned behavior present study posited eight research question identify discrete youth behavior parental influence youth outcome longitudinal survey data youth public school located phoenix arizona collected year latent class transition analysis identified four discrete subgroup characterized response pattern behavior perception youth potential drinker experimenter regular drinker targeted communication parental monitoring found significant predictor youth research implication future direction suggested'"
      ]
     },
     "execution_count": 12,
     "metadata": {},
     "output_type": "execute_result"
    }
   ],
   "source": [
    "art['text'].iloc[0]"
   ]
  },
  {
   "cell_type": "markdown",
   "metadata": {},
   "source": [
    "## Bertopic"
   ]
  },
  {
   "cell_type": "code",
   "execution_count": 13,
   "metadata": {},
   "outputs": [
    {
     "name": "stdout",
     "output_type": "stream",
     "text": [
      "<class 'pandas.core.frame.DataFrame'>\n",
      "Int64Index: 5596 entries, 0 to 5596\n",
      "Data columns (total 73 columns):\n",
      " #   Column                      Non-Null Count  Dtype  \n",
      "---  ------                      --------------  -----  \n",
      " 0   Publication Type            5596 non-null   object \n",
      " 1   Authors                     5596 non-null   object \n",
      " 2   Book Authors                0 non-null      float64\n",
      " 3   Book Editors                5 non-null      object \n",
      " 4   Book Group Authors          0 non-null      float64\n",
      " 5   Author Full Names           5596 non-null   object \n",
      " 6   Book Author Full Names      0 non-null      float64\n",
      " 7   Group Authors               104 non-null    object \n",
      " 8   Article Title               5596 non-null   object \n",
      " 9   Source Title                5596 non-null   object \n",
      " 10  Book Series Title           5 non-null      object \n",
      " 11  Book Series Subtitle        0 non-null      float64\n",
      " 12  Language                    5596 non-null   object \n",
      " 13  Document Type               5596 non-null   object \n",
      " 14  Conference Title            53 non-null     object \n",
      " 15  Conference Date             53 non-null     object \n",
      " 16  Conference Location         53 non-null     object \n",
      " 17  Conference Sponsor          39 non-null     object \n",
      " 18  Conference Host             4 non-null      object \n",
      " 19  Author Keywords             4425 non-null   object \n",
      " 20  Keywords Plus               5429 non-null   object \n",
      " 21  Abstract                    5596 non-null   object \n",
      " 22  Addresses                   5593 non-null   object \n",
      " 23  Affiliations                5477 non-null   object \n",
      " 24  Reprint Addresses           5587 non-null   object \n",
      " 25  Email Addresses             5469 non-null   object \n",
      " 26  Researcher Ids              3694 non-null   object \n",
      " 27  ORCIDs                      4443 non-null   object \n",
      " 28  Funding Orgs                4176 non-null   object \n",
      " 29  Funding Name Preferred      4165 non-null   object \n",
      " 30  Funding Text                3718 non-null   object \n",
      " 31  Cited References            0 non-null      float64\n",
      " 32  Cited Reference Count       5596 non-null   int64  \n",
      " 33  Times Cited, WoS Core       5596 non-null   int64  \n",
      " 34  Times Cited, All Databases  5596 non-null   int64  \n",
      " 35  180 Day Usage Count         5596 non-null   int64  \n",
      " 36  Since 2013 Usage Count      5596 non-null   int64  \n",
      " 37  Publisher                   5596 non-null   object \n",
      " 38  Publisher City              5596 non-null   object \n",
      " 39  Publisher Address           5596 non-null   object \n",
      " 40  ISSN                        4883 non-null   object \n",
      " 41  eISSN                       4403 non-null   object \n",
      " 42  ISBN                        3 non-null      object \n",
      " 43  Journal Abbreviation        5596 non-null   object \n",
      " 44  Journal ISO Abbreviation    5595 non-null   object \n",
      " 45  Publication Date            5188 non-null   object \n",
      " 46  Publication Year            5596 non-null   int64  \n",
      " 47  Volume                      5540 non-null   object \n",
      " 48  Issue                       4354 non-null   object \n",
      " 49  Part Number                 17 non-null     object \n",
      " 50  Supplement                  76 non-null     object \n",
      " 51  Special Issue               151 non-null    object \n",
      " 52  Meeting Abstract            0 non-null      float64\n",
      " 53  Start Page                  3833 non-null   object \n",
      " 54  End Page                    3833 non-null   object \n",
      " 55  Article Number              1763 non-null   object \n",
      " 56  DOI                         5566 non-null   object \n",
      " 57  DOI Link                    5566 non-null   float64\n",
      " 58  Book DOI                    0 non-null      float64\n",
      " 59  Early Access Date           706 non-null    object \n",
      " 60  Number of Pages             5596 non-null   int64  \n",
      " 61  WoS Categories              5595 non-null   object \n",
      " 62  Web of Science Index        5596 non-null   object \n",
      " 63  Research Areas              5595 non-null   object \n",
      " 64  IDS Number                  5596 non-null   object \n",
      " 65  Pubmed Id                   5201 non-null   float64\n",
      " 66  Open Access Designations    5596 non-null   object \n",
      " 67  Highly Cited Status         0 non-null      float64\n",
      " 68  Hot Paper Status            0 non-null      float64\n",
      " 69  Date of Export              5596 non-null   object \n",
      " 70  UT (Unique WOS ID)          5596 non-null   object \n",
      " 71  Web of Science Record       5596 non-null   int64  \n",
      " 72  text                        5596 non-null   object \n",
      "dtypes: float64(11), int64(8), object(54)\n",
      "memory usage: 3.2+ MB\n"
     ]
    }
   ],
   "source": [
    "art.info()"
   ]
  },
  {
   "cell_type": "code",
   "execution_count": 14,
   "metadata": {},
   "outputs": [
    {
     "name": "stderr",
     "output_type": "stream",
     "text": [
      "2024-05-03 12:08:02,377 - BERTopic - Embedding - Transforming documents to embeddings.\n"
     ]
    },
    {
     "data": {
      "application/vnd.jupyter.widget-view+json": {
       "model_id": "a1ee89d39cf8400abf8d1660db51e8dc",
       "version_major": 2,
       "version_minor": 0
      },
      "text/plain": [
       "Batches:   0%|          | 0/175 [00:00<?, ?it/s]"
      ]
     },
     "metadata": {},
     "output_type": "display_data"
    },
    {
     "name": "stderr",
     "output_type": "stream",
     "text": [
      "2024-05-03 12:11:02,207 - BERTopic - Embedding - Completed ✓\n",
      "2024-05-03 12:11:02,208 - BERTopic - Dimensionality - Fitting the dimensionality reduction algorithm\n",
      "2024-05-03 12:11:25,327 - BERTopic - Dimensionality - Completed ✓\n",
      "2024-05-03 12:11:25,327 - BERTopic - Cluster - Start clustering the reduced embeddings\n",
      "2024-05-03 12:11:25,501 - BERTopic - Cluster - Completed ✓\n",
      "2024-05-03 12:11:25,502 - BERTopic - Representation - Extracting topics from clusters using representation models.\n",
      "2024-05-03 12:11:49,024 - BERTopic - Representation - Completed ✓\n",
      "2024-05-03 12:11:49,028 - BERTopic - Topic reduction - Reducing number of topics\n",
      "2024-05-03 12:11:55,693 - BERTopic - Topic reduction - Reduced number of topics from 84 to 11\n"
     ]
    }
   ],
   "source": [
    "\n",
    "from bertopic import BERTopic\n",
    "\n",
    "# Pre-calculate embeddings\n",
    "# from sentence_transformers import SentenceTransformer\n",
    "# embedding_model = SentenceTransformer(\"all-MiniLM-L6-v2\")\n",
    "# embeddings = embedding_model.encode(art['text'], show_progress_bar=True)\n",
    "\n",
    "# dimensionality reduction\n",
    "from umap import UMAP\n",
    "umap_model = UMAP(n_neighbors=15, n_components=5, min_dist=0.0, metric='cosine', random_state=42)    # Prevent Stochastic Behavior with random_state\n",
    "\n",
    "# clustering (controlling number of topics)\n",
    "# from hdbscan import HDBSCAN\n",
    "# hdbscan_model = HDBSCAN(min_cluster_size=150, metric='euclidean', cluster_selection_method='eom', prediction_data=True)\n",
    "\n",
    "# Improve topic representations\n",
    "from sklearn.feature_extraction.text import CountVectorizer\n",
    "vectorizer_model = CountVectorizer(stop_words=\"english\", ngram_range=(1, 2))\n",
    "\n",
    "# Fine-tune your topic representations\n",
    "from bertopic.representation import KeyBERTInspired\n",
    "representation_model = KeyBERTInspired()\n",
    "\n",
    "topic_model = BERTopic(\n",
    "\n",
    "  # Pipeline models\n",
    "  # embedding_model=embedding_model,\n",
    "  umap_model=umap_model,\n",
    "  # hdbscan_model=hdbscan_model,\n",
    "  vectorizer_model=vectorizer_model,\n",
    "  representation_model=representation_model,\n",
    "\n",
    "  # Hyperparameters\n",
    "  nr_topics=nr_topics,\n",
    "  top_n_words=10,\n",
    "  verbose=True\n",
    ")\n",
    "\n",
    "topics, probs = topic_model.fit_transform(art['text'])\n",
    "\n"
   ]
  },
  {
   "cell_type": "code",
   "execution_count": 15,
   "metadata": {},
   "outputs": [],
   "source": [
    "topic_model.save(path=\".\", serialization=\"safetensors\", save_ctfidf=True)"
   ]
  },
  {
   "cell_type": "code",
   "execution_count": 16,
   "metadata": {},
   "outputs": [
    {
     "data": {
      "text/plain": [
       "11"
      ]
     },
     "execution_count": 16,
     "metadata": {},
     "output_type": "execute_result"
    }
   ],
   "source": [
    "nr_topics"
   ]
  },
  {
   "cell_type": "code",
   "execution_count": 17,
   "metadata": {},
   "outputs": [
    {
     "data": {
      "text/plain": [
       "array([0.        , 0.45513667, 0.        , 0.        , 0.        ,\n",
       "       1.        , 1.        , 0.        , 0.72604774, 0.91888176,\n",
       "       0.8847519 , 0.98689247, 0.10145557, 0.        , 0.        ,\n",
       "       1.        , 0.41657135, 0.        , 0.        , 0.        ])"
      ]
     },
     "execution_count": 17,
     "metadata": {},
     "output_type": "execute_result"
    }
   ],
   "source": [
    "probs[:20]"
   ]
  },
  {
   "cell_type": "code",
   "execution_count": 18,
   "metadata": {},
   "outputs": [
    {
     "data": {
      "text/plain": [
       "11"
      ]
     },
     "execution_count": 18,
     "metadata": {},
     "output_type": "execute_result"
    }
   ],
   "source": [
    "opt_nr_topics = len(set(topics))\n",
    "opt_nr_topics"
   ]
  },
  {
   "cell_type": "code",
   "execution_count": 19,
   "metadata": {},
   "outputs": [
    {
     "name": "stdout",
     "output_type": "stream",
     "text": [
      "Topic 0\n",
      "adolescent           \t 0.47859999537467957\n",
      "adolescence          \t 0.4311999976634979\n",
      "risk factor          \t 0.35019999742507935\n",
      "youth                \t 0.3422999978065491\n",
      "parental             \t 0.3393000066280365\n",
      "prevalence           \t 0.30070000886917114\n",
      "adulthood            \t 0.29670000076293945\n",
      "prevention           \t 0.28600001335144043\n",
      "health               \t 0.2732999920845032\n",
      "parent               \t 0.2581000030040741\n",
      "\n",
      "Topic 1\n",
      "prenatal exposure    \t 0.4641000032424927\n",
      "adhd                 \t 0.4244000017642975\n",
      "disorder adhd        \t 0.41100001335144043\n",
      "cocaine exposure     \t 0.3580999970436096\n",
      "prenatal             \t 0.3425999879837036\n",
      "developmental        \t 0.2904999852180481\n",
      "marijuana            \t 0.26010000705718994\n",
      "maternal             \t 0.25\n",
      "adolescent           \t 0.24570000171661377\n",
      "pregnancy            \t 0.24120000004768372\n",
      "\n",
      "Topic 2\n",
      "fatty liver          \t 0.42829999327659607\n",
      "insulin resistance   \t 0.36070001125335693\n",
      "liver disease        \t 0.352400004863739\n",
      "obesity              \t 0.35179999470710754\n",
      "obese child          \t 0.3474000096321106\n",
      "obese                \t 0.33379998803138733\n",
      "cardiovascular risk  \t 0.33149999380111694\n",
      "insulin              \t 0.30869999527931213\n",
      "diabetes             \t 0.3034999966621399\n",
      "metabolic            \t 0.29580000042915344\n",
      "\n",
      "Topic 3\n",
      "fermentation         \t 0.5189999938011169\n",
      "ethanol              \t 0.4242999851703644\n",
      "wine                 \t 0.4115999937057495\n",
      "grape                \t 0.4101000130176544\n",
      "yeast                \t 0.36340001225471497\n",
      "phenolic             \t 0.3138999938964844\n",
      "aroma                \t 0.30970001220703125\n",
      "acetate              \t 0.2957000136375427\n",
      "biosynthesis         \t 0.2858000099658966\n",
      "extraction           \t 0.24490000307559967\n",
      "\n",
      "Topic 4\n",
      "ethanol exposure     \t 0.5309000015258789\n",
      "intermittent ethanol \t 0.4629000127315521\n",
      "ethanol              \t 0.4447999894618988\n",
      "hippocampal          \t 0.3531000018119812\n",
      "hippocampus          \t 0.3504999876022339\n",
      "microglial           \t 0.34389999508857727\n",
      "neurogenesis         \t 0.32919999957084656\n",
      "microglia            \t 0.3257000148296356\n",
      "adolescent binge     \t 0.31850001215934753\n",
      "adolescent exposure  \t 0.29499998688697815\n",
      "\n",
      "Topic 5\n",
      "liver disease        \t 0.4629000127315521\n",
      "fatty liver          \t 0.4415999948978424\n",
      "hepatic steatosis    \t 0.4350999891757965\n",
      "lipid profile        \t 0.3635999858379364\n",
      "hepatic              \t 0.3287000060081482\n",
      "genotype             \t 0.3028999865055084\n",
      "liver                \t 0.2930999994277954\n",
      "cholesterol          \t 0.28519999980926514\n",
      "nucleotide polymorphism \t 0.26840001344680786\n",
      "cirrhosis            \t 0.26190000772476196\n",
      "\n",
      "Topic 6\n",
      "adolescent sleep     \t 0.6801000237464905\n",
      "sleep disturbance    \t 0.5356000065803528\n",
      "association sleep    \t 0.5224000215530396\n",
      "sleep problem        \t 0.5037999749183655\n",
      "sleep difficulty     \t 0.49880000948905945\n",
      "sleep quality        \t 0.4927000105381012\n",
      "sleep loss           \t 0.4814000129699707\n",
      "sleepiness           \t 0.4706999957561493\n",
      "daytime sleepiness   \t 0.4690000116825104\n",
      "sleep duration       \t 0.46230000257492065\n",
      "\n",
      "Topic 7\n",
      "injury severity      \t 0.47040000557899475\n",
      "trauma case          \t 0.43959999084472656\n",
      "trauma               \t 0.3515999913215637\n",
      "hospitalization      \t 0.33399999141693115\n",
      "severity             \t 0.31220000982284546\n",
      "emergency department \t 0.3034000098705292\n",
      "injury               \t 0.2818000018596649\n",
      "fracture             \t 0.2815000116825104\n",
      "accident             \t 0.25279998779296875\n",
      "hospital             \t 0.25\n",
      "\n",
      "Topic 8\n",
      "risk breast          \t 0.5419999957084656\n",
      "cancer risk          \t 0.5353000164031982\n",
      "breast cancer        \t 0.43479999899864197\n",
      "smoking consumption  \t 0.4235000014305115\n",
      "risk factor          \t 0.4043000042438507\n",
      "increased risk       \t 0.33889999985694885\n",
      "cancer               \t 0.3043000102043152\n",
      "risk                 \t 0.290800005197525\n",
      "cancer case          \t 0.2865999937057495\n",
      "colorectal cancer    \t 0.24779999256134033\n",
      "\n",
      "Topic 9\n",
      "sibling influence    \t 0.7225000262260437\n",
      "adolescent sibling   \t 0.6937999725341797\n",
      "sibling relationship \t 0.6657000184059143\n",
      "effect sibling       \t 0.6611999869346619\n",
      "younger sibling      \t 0.6274999976158142\n",
      "sibling earlier      \t 0.6029999852180481\n",
      "sibling important    \t 0.602400004863739\n",
      "sibling substance    \t 0.599399983882904\n",
      "sibling drinking     \t 0.5871999859809875\n",
      "sibling              \t 0.5827000141143799\n",
      "\n"
     ]
    }
   ],
   "source": [
    "# topic information\n",
    "for i in range(0, opt_nr_topics-1):\n",
    "    print(f\"Topic {i}\")\n",
    "    for j in range(0,10):\n",
    "        word = topic_model.get_topic(i)[j][0]\n",
    "        print(f'{word.ljust(20, \" \")} \\t {round(topic_model.get_topic(i)[j][1],4)}')\n",
    "    print('')\n"
   ]
  },
  {
   "cell_type": "code",
   "execution_count": 20,
   "metadata": {},
   "outputs": [
    {
     "data": {
      "application/vnd.plotly.v1+json": {
       "config": {
        "plotlyServerURL": "https://plot.ly"
       },
       "data": [
        {
         "marker": {
          "color": "#D55E00"
         },
         "orientation": "h",
         "type": "bar",
         "x": [
          0.25813838839530945,
          0.2732865512371063,
          0.2859741747379303,
          0.2966897487640381,
          0.30070194602012634,
          0.33930641412734985,
          0.342275470495224,
          0.35023367404937744,
          0.43119314312934875,
          0.47861340641975403
         ],
         "xaxis": "x",
         "y": [
          "parent  ",
          "health  ",
          "prevention  ",
          "adulthood  ",
          "prevalence  ",
          "parental  ",
          "youth  ",
          "risk factor  ",
          "adolescence  ",
          "adolescent  "
         ],
         "yaxis": "y"
        },
        {
         "marker": {
          "color": "#0072B2"
         },
         "orientation": "h",
         "type": "bar",
         "x": [
          0.2411734163761139,
          0.2456747442483902,
          0.2500065267086029,
          0.2601422071456909,
          0.2905120849609375,
          0.3425845801830292,
          0.3580702245235443,
          0.41104304790496826,
          0.42444026470184326,
          0.4640553891658783
         ],
         "xaxis": "x2",
         "y": [
          "pregnancy  ",
          "adolescent  ",
          "maternal  ",
          "marijuana  ",
          "developmental  ",
          "prenatal  ",
          "cocaine exposure  ",
          "disorder adhd  ",
          "adhd  ",
          "prenatal exposure  "
         ],
         "yaxis": "y2"
        },
        {
         "marker": {
          "color": "#CC79A7"
         },
         "orientation": "h",
         "type": "bar",
         "x": [
          0.29577401280403137,
          0.3034590482711792,
          0.3087403178215027,
          0.3315463066101074,
          0.3338429927825928,
          0.34739693999290466,
          0.3517966568470001,
          0.35244515538215637,
          0.3607146739959717,
          0.4283027946949005
         ],
         "xaxis": "x3",
         "y": [
          "metabolic  ",
          "diabetes  ",
          "insulin  ",
          "cardiovascular risk  ",
          "obese  ",
          "obese child  ",
          "obesity  ",
          "liver disease  ",
          "insulin resistance  ",
          "fatty liver  "
         ],
         "yaxis": "y3"
        },
        {
         "marker": {
          "color": "#E69F00"
         },
         "orientation": "h",
         "type": "bar",
         "x": [
          0.244900643825531,
          0.28581473231315613,
          0.29572632908821106,
          0.30973488092422485,
          0.31394922733306885,
          0.3633829951286316,
          0.4100896120071411,
          0.4115903973579407,
          0.42426764965057373,
          0.5190218091011047
         ],
         "xaxis": "x4",
         "y": [
          "extraction  ",
          "biosynthesis  ",
          "acetate  ",
          "aroma  ",
          "phenolic  ",
          "yeast  ",
          "grape  ",
          "wine  ",
          "ethanol  ",
          "fermentation  "
         ],
         "yaxis": "y4"
        },
        {
         "marker": {
          "color": "#56B4E9"
         },
         "orientation": "h",
         "type": "bar",
         "x": [
          0.2949829399585724,
          0.3184841275215149,
          0.3256761133670807,
          0.3291812837123871,
          0.3438743054866791,
          0.3505019545555115,
          0.3530590832233429,
          0.4448038637638092,
          0.462871789932251,
          0.5308858156204224
         ],
         "xaxis": "x5",
         "y": [
          "adolescent exposure  ",
          "adolescent binge  ",
          "microglia  ",
          "neurogenesis  ",
          "microglial  ",
          "hippocampus  ",
          "hippocampal  ",
          "ethanol  ",
          "intermittent ethanol  ",
          "ethanol exposure  "
         ],
         "yaxis": "y5"
        },
        {
         "marker": {
          "color": "#009E73"
         },
         "orientation": "h",
         "type": "bar",
         "x": [
          0.2618538439273834,
          0.26836901903152466,
          0.2852495014667511,
          0.293082058429718,
          0.3028939962387085,
          0.3287264108657837,
          0.3635706603527069,
          0.435138463973999,
          0.44160526990890503,
          0.46288639307022095
         ],
         "xaxis": "x6",
         "y": [
          "cirrhosis  ",
          "nucleotide polymorphism  ",
          "cholesterol  ",
          "liver  ",
          "genotype  ",
          "hepatic  ",
          "lipid profile  ",
          "hepatic steatosis  ",
          "fatty liver  ",
          "liver disease  "
         ],
         "yaxis": "y6"
        },
        {
         "marker": {
          "color": "#F0E442"
         },
         "orientation": "h",
         "type": "bar",
         "x": [
          0.4623240828514099,
          0.46904587745666504,
          0.4707140326499939,
          0.48139649629592896,
          0.4927440583705902,
          0.4987665116786957,
          0.5038020014762878,
          0.5223540663719177,
          0.5355632901191711,
          0.6800994277000427
         ],
         "xaxis": "x7",
         "y": [
          "sleep duration  ",
          "daytime sleepiness  ",
          "sleepiness  ",
          "sleep loss  ",
          "sleep quality  ",
          "sleep difficulty  ",
          "sleep problem  ",
          "association sleep  ",
          "sleep disturbance  ",
          "adolescent sleep  "
         ],
         "yaxis": "y7"
        },
        {
         "marker": {
          "color": "#D55E00"
         },
         "orientation": "h",
         "type": "bar",
         "x": [
          0.25001782178878784,
          0.25280529260635376,
          0.2815040051937103,
          0.28176650404930115,
          0.3033580780029297,
          0.31221356987953186,
          0.3339576721191406,
          0.3515980541706085,
          0.4395594894886017,
          0.4703977406024933
         ],
         "xaxis": "x8",
         "y": [
          "hospital  ",
          "accident  ",
          "fracture  ",
          "injury  ",
          "emergency department  ",
          "severity  ",
          "hospitalization  ",
          "trauma  ",
          "trauma case  ",
          "injury severity  "
         ],
         "yaxis": "y8"
        },
        {
         "marker": {
          "color": "#0072B2"
         },
         "orientation": "h",
         "type": "bar",
         "x": [
          0.24783243238925934,
          0.28663209080696106,
          0.29079675674438477,
          0.304329514503479,
          0.3389461040496826,
          0.40427500009536743,
          0.42349866032600403,
          0.434770792722702,
          0.5352928042411804,
          0.5420027375221252
         ],
         "xaxis": "x9",
         "y": [
          "colorectal cancer  ",
          "cancer case  ",
          "risk  ",
          "cancer  ",
          "increased risk  ",
          "risk factor  ",
          "smoking consumption  ",
          "breast cancer  ",
          "cancer risk  ",
          "risk breast  "
         ],
         "yaxis": "y9"
        },
        {
         "marker": {
          "color": "#CC79A7"
         },
         "orientation": "h",
         "type": "bar",
         "x": [
          0.5826770663261414,
          0.5871729850769043,
          0.5993756651878357,
          0.6024200916290283,
          0.6029661297798157,
          0.6275389790534973,
          0.6611576080322266,
          0.6656880378723145,
          0.6938379406929016,
          0.7224916815757751
         ],
         "xaxis": "x10",
         "y": [
          "sibling  ",
          "sibling drinking  ",
          "sibling substance  ",
          "sibling important  ",
          "sibling earlier  ",
          "younger sibling  ",
          "effect sibling  ",
          "sibling relationship  ",
          "adolescent sibling  ",
          "sibling influence  "
         ],
         "yaxis": "y10"
        }
       ],
       "layout": {
        "annotations": [
         {
          "font": {
           "size": 16
          },
          "showarrow": false,
          "text": "Topic 0",
          "x": 0.0875,
          "xanchor": "center",
          "xref": "paper",
          "y": 1,
          "yanchor": "bottom",
          "yref": "paper"
         },
         {
          "font": {
           "size": 16
          },
          "showarrow": false,
          "text": "Topic 1",
          "x": 0.36250000000000004,
          "xanchor": "center",
          "xref": "paper",
          "y": 1,
          "yanchor": "bottom",
          "yref": "paper"
         },
         {
          "font": {
           "size": 16
          },
          "showarrow": false,
          "text": "Topic 2",
          "x": 0.6375000000000001,
          "xanchor": "center",
          "xref": "paper",
          "y": 1,
          "yanchor": "bottom",
          "yref": "paper"
         },
         {
          "font": {
           "size": 16
          },
          "showarrow": false,
          "text": "Topic 3",
          "x": 0.9125,
          "xanchor": "center",
          "xref": "paper",
          "y": 1,
          "yanchor": "bottom",
          "yref": "paper"
         },
         {
          "font": {
           "size": 16
          },
          "showarrow": false,
          "text": "Topic 4",
          "x": 0.0875,
          "xanchor": "center",
          "xref": "paper",
          "y": 0.6222222222222222,
          "yanchor": "bottom",
          "yref": "paper"
         },
         {
          "font": {
           "size": 16
          },
          "showarrow": false,
          "text": "Topic 5",
          "x": 0.36250000000000004,
          "xanchor": "center",
          "xref": "paper",
          "y": 0.6222222222222222,
          "yanchor": "bottom",
          "yref": "paper"
         },
         {
          "font": {
           "size": 16
          },
          "showarrow": false,
          "text": "Topic 6",
          "x": 0.6375000000000001,
          "xanchor": "center",
          "xref": "paper",
          "y": 0.6222222222222222,
          "yanchor": "bottom",
          "yref": "paper"
         },
         {
          "font": {
           "size": 16
          },
          "showarrow": false,
          "text": "Topic 7",
          "x": 0.9125,
          "xanchor": "center",
          "xref": "paper",
          "y": 0.6222222222222222,
          "yanchor": "bottom",
          "yref": "paper"
         },
         {
          "font": {
           "size": 16
          },
          "showarrow": false,
          "text": "Topic 8",
          "x": 0.0875,
          "xanchor": "center",
          "xref": "paper",
          "y": 0.24444444444444446,
          "yanchor": "bottom",
          "yref": "paper"
         },
         {
          "font": {
           "size": 16
          },
          "showarrow": false,
          "text": "Topic 9",
          "x": 0.36250000000000004,
          "xanchor": "center",
          "xref": "paper",
          "y": 0.24444444444444446,
          "yanchor": "bottom",
          "yref": "paper"
         }
        ],
        "height": 1500,
        "hoverlabel": {
         "bgcolor": "white",
         "font": {
          "family": "Rockwell",
          "size": 16
         }
        },
        "showlegend": false,
        "template": {
         "data": {
          "bar": [
           {
            "error_x": {
             "color": "#2a3f5f"
            },
            "error_y": {
             "color": "#2a3f5f"
            },
            "marker": {
             "line": {
              "color": "white",
              "width": 0.5
             },
             "pattern": {
              "fillmode": "overlay",
              "size": 10,
              "solidity": 0.2
             }
            },
            "type": "bar"
           }
          ],
          "barpolar": [
           {
            "marker": {
             "line": {
              "color": "white",
              "width": 0.5
             },
             "pattern": {
              "fillmode": "overlay",
              "size": 10,
              "solidity": 0.2
             }
            },
            "type": "barpolar"
           }
          ],
          "carpet": [
           {
            "aaxis": {
             "endlinecolor": "#2a3f5f",
             "gridcolor": "#C8D4E3",
             "linecolor": "#C8D4E3",
             "minorgridcolor": "#C8D4E3",
             "startlinecolor": "#2a3f5f"
            },
            "baxis": {
             "endlinecolor": "#2a3f5f",
             "gridcolor": "#C8D4E3",
             "linecolor": "#C8D4E3",
             "minorgridcolor": "#C8D4E3",
             "startlinecolor": "#2a3f5f"
            },
            "type": "carpet"
           }
          ],
          "choropleth": [
           {
            "colorbar": {
             "outlinewidth": 0,
             "ticks": ""
            },
            "type": "choropleth"
           }
          ],
          "contour": [
           {
            "colorbar": {
             "outlinewidth": 0,
             "ticks": ""
            },
            "colorscale": [
             [
              0,
              "#0d0887"
             ],
             [
              0.1111111111111111,
              "#46039f"
             ],
             [
              0.2222222222222222,
              "#7201a8"
             ],
             [
              0.3333333333333333,
              "#9c179e"
             ],
             [
              0.4444444444444444,
              "#bd3786"
             ],
             [
              0.5555555555555556,
              "#d8576b"
             ],
             [
              0.6666666666666666,
              "#ed7953"
             ],
             [
              0.7777777777777778,
              "#fb9f3a"
             ],
             [
              0.8888888888888888,
              "#fdca26"
             ],
             [
              1,
              "#f0f921"
             ]
            ],
            "type": "contour"
           }
          ],
          "contourcarpet": [
           {
            "colorbar": {
             "outlinewidth": 0,
             "ticks": ""
            },
            "type": "contourcarpet"
           }
          ],
          "heatmap": [
           {
            "colorbar": {
             "outlinewidth": 0,
             "ticks": ""
            },
            "colorscale": [
             [
              0,
              "#0d0887"
             ],
             [
              0.1111111111111111,
              "#46039f"
             ],
             [
              0.2222222222222222,
              "#7201a8"
             ],
             [
              0.3333333333333333,
              "#9c179e"
             ],
             [
              0.4444444444444444,
              "#bd3786"
             ],
             [
              0.5555555555555556,
              "#d8576b"
             ],
             [
              0.6666666666666666,
              "#ed7953"
             ],
             [
              0.7777777777777778,
              "#fb9f3a"
             ],
             [
              0.8888888888888888,
              "#fdca26"
             ],
             [
              1,
              "#f0f921"
             ]
            ],
            "type": "heatmap"
           }
          ],
          "heatmapgl": [
           {
            "colorbar": {
             "outlinewidth": 0,
             "ticks": ""
            },
            "colorscale": [
             [
              0,
              "#0d0887"
             ],
             [
              0.1111111111111111,
              "#46039f"
             ],
             [
              0.2222222222222222,
              "#7201a8"
             ],
             [
              0.3333333333333333,
              "#9c179e"
             ],
             [
              0.4444444444444444,
              "#bd3786"
             ],
             [
              0.5555555555555556,
              "#d8576b"
             ],
             [
              0.6666666666666666,
              "#ed7953"
             ],
             [
              0.7777777777777778,
              "#fb9f3a"
             ],
             [
              0.8888888888888888,
              "#fdca26"
             ],
             [
              1,
              "#f0f921"
             ]
            ],
            "type": "heatmapgl"
           }
          ],
          "histogram": [
           {
            "marker": {
             "pattern": {
              "fillmode": "overlay",
              "size": 10,
              "solidity": 0.2
             }
            },
            "type": "histogram"
           }
          ],
          "histogram2d": [
           {
            "colorbar": {
             "outlinewidth": 0,
             "ticks": ""
            },
            "colorscale": [
             [
              0,
              "#0d0887"
             ],
             [
              0.1111111111111111,
              "#46039f"
             ],
             [
              0.2222222222222222,
              "#7201a8"
             ],
             [
              0.3333333333333333,
              "#9c179e"
             ],
             [
              0.4444444444444444,
              "#bd3786"
             ],
             [
              0.5555555555555556,
              "#d8576b"
             ],
             [
              0.6666666666666666,
              "#ed7953"
             ],
             [
              0.7777777777777778,
              "#fb9f3a"
             ],
             [
              0.8888888888888888,
              "#fdca26"
             ],
             [
              1,
              "#f0f921"
             ]
            ],
            "type": "histogram2d"
           }
          ],
          "histogram2dcontour": [
           {
            "colorbar": {
             "outlinewidth": 0,
             "ticks": ""
            },
            "colorscale": [
             [
              0,
              "#0d0887"
             ],
             [
              0.1111111111111111,
              "#46039f"
             ],
             [
              0.2222222222222222,
              "#7201a8"
             ],
             [
              0.3333333333333333,
              "#9c179e"
             ],
             [
              0.4444444444444444,
              "#bd3786"
             ],
             [
              0.5555555555555556,
              "#d8576b"
             ],
             [
              0.6666666666666666,
              "#ed7953"
             ],
             [
              0.7777777777777778,
              "#fb9f3a"
             ],
             [
              0.8888888888888888,
              "#fdca26"
             ],
             [
              1,
              "#f0f921"
             ]
            ],
            "type": "histogram2dcontour"
           }
          ],
          "mesh3d": [
           {
            "colorbar": {
             "outlinewidth": 0,
             "ticks": ""
            },
            "type": "mesh3d"
           }
          ],
          "parcoords": [
           {
            "line": {
             "colorbar": {
              "outlinewidth": 0,
              "ticks": ""
             }
            },
            "type": "parcoords"
           }
          ],
          "pie": [
           {
            "automargin": true,
            "type": "pie"
           }
          ],
          "scatter": [
           {
            "fillpattern": {
             "fillmode": "overlay",
             "size": 10,
             "solidity": 0.2
            },
            "type": "scatter"
           }
          ],
          "scatter3d": [
           {
            "line": {
             "colorbar": {
              "outlinewidth": 0,
              "ticks": ""
             }
            },
            "marker": {
             "colorbar": {
              "outlinewidth": 0,
              "ticks": ""
             }
            },
            "type": "scatter3d"
           }
          ],
          "scattercarpet": [
           {
            "marker": {
             "colorbar": {
              "outlinewidth": 0,
              "ticks": ""
             }
            },
            "type": "scattercarpet"
           }
          ],
          "scattergeo": [
           {
            "marker": {
             "colorbar": {
              "outlinewidth": 0,
              "ticks": ""
             }
            },
            "type": "scattergeo"
           }
          ],
          "scattergl": [
           {
            "marker": {
             "colorbar": {
              "outlinewidth": 0,
              "ticks": ""
             }
            },
            "type": "scattergl"
           }
          ],
          "scattermapbox": [
           {
            "marker": {
             "colorbar": {
              "outlinewidth": 0,
              "ticks": ""
             }
            },
            "type": "scattermapbox"
           }
          ],
          "scatterpolar": [
           {
            "marker": {
             "colorbar": {
              "outlinewidth": 0,
              "ticks": ""
             }
            },
            "type": "scatterpolar"
           }
          ],
          "scatterpolargl": [
           {
            "marker": {
             "colorbar": {
              "outlinewidth": 0,
              "ticks": ""
             }
            },
            "type": "scatterpolargl"
           }
          ],
          "scatterternary": [
           {
            "marker": {
             "colorbar": {
              "outlinewidth": 0,
              "ticks": ""
             }
            },
            "type": "scatterternary"
           }
          ],
          "surface": [
           {
            "colorbar": {
             "outlinewidth": 0,
             "ticks": ""
            },
            "colorscale": [
             [
              0,
              "#0d0887"
             ],
             [
              0.1111111111111111,
              "#46039f"
             ],
             [
              0.2222222222222222,
              "#7201a8"
             ],
             [
              0.3333333333333333,
              "#9c179e"
             ],
             [
              0.4444444444444444,
              "#bd3786"
             ],
             [
              0.5555555555555556,
              "#d8576b"
             ],
             [
              0.6666666666666666,
              "#ed7953"
             ],
             [
              0.7777777777777778,
              "#fb9f3a"
             ],
             [
              0.8888888888888888,
              "#fdca26"
             ],
             [
              1,
              "#f0f921"
             ]
            ],
            "type": "surface"
           }
          ],
          "table": [
           {
            "cells": {
             "fill": {
              "color": "#EBF0F8"
             },
             "line": {
              "color": "white"
             }
            },
            "header": {
             "fill": {
              "color": "#C8D4E3"
             },
             "line": {
              "color": "white"
             }
            },
            "type": "table"
           }
          ]
         },
         "layout": {
          "annotationdefaults": {
           "arrowcolor": "#2a3f5f",
           "arrowhead": 0,
           "arrowwidth": 1
          },
          "autotypenumbers": "strict",
          "coloraxis": {
           "colorbar": {
            "outlinewidth": 0,
            "ticks": ""
           }
          },
          "colorscale": {
           "diverging": [
            [
             0,
             "#8e0152"
            ],
            [
             0.1,
             "#c51b7d"
            ],
            [
             0.2,
             "#de77ae"
            ],
            [
             0.3,
             "#f1b6da"
            ],
            [
             0.4,
             "#fde0ef"
            ],
            [
             0.5,
             "#f7f7f7"
            ],
            [
             0.6,
             "#e6f5d0"
            ],
            [
             0.7,
             "#b8e186"
            ],
            [
             0.8,
             "#7fbc41"
            ],
            [
             0.9,
             "#4d9221"
            ],
            [
             1,
             "#276419"
            ]
           ],
           "sequential": [
            [
             0,
             "#0d0887"
            ],
            [
             0.1111111111111111,
             "#46039f"
            ],
            [
             0.2222222222222222,
             "#7201a8"
            ],
            [
             0.3333333333333333,
             "#9c179e"
            ],
            [
             0.4444444444444444,
             "#bd3786"
            ],
            [
             0.5555555555555556,
             "#d8576b"
            ],
            [
             0.6666666666666666,
             "#ed7953"
            ],
            [
             0.7777777777777778,
             "#fb9f3a"
            ],
            [
             0.8888888888888888,
             "#fdca26"
            ],
            [
             1,
             "#f0f921"
            ]
           ],
           "sequentialminus": [
            [
             0,
             "#0d0887"
            ],
            [
             0.1111111111111111,
             "#46039f"
            ],
            [
             0.2222222222222222,
             "#7201a8"
            ],
            [
             0.3333333333333333,
             "#9c179e"
            ],
            [
             0.4444444444444444,
             "#bd3786"
            ],
            [
             0.5555555555555556,
             "#d8576b"
            ],
            [
             0.6666666666666666,
             "#ed7953"
            ],
            [
             0.7777777777777778,
             "#fb9f3a"
            ],
            [
             0.8888888888888888,
             "#fdca26"
            ],
            [
             1,
             "#f0f921"
            ]
           ]
          },
          "colorway": [
           "#636efa",
           "#EF553B",
           "#00cc96",
           "#ab63fa",
           "#FFA15A",
           "#19d3f3",
           "#FF6692",
           "#B6E880",
           "#FF97FF",
           "#FECB52"
          ],
          "font": {
           "color": "#2a3f5f"
          },
          "geo": {
           "bgcolor": "white",
           "lakecolor": "white",
           "landcolor": "white",
           "showlakes": true,
           "showland": true,
           "subunitcolor": "#C8D4E3"
          },
          "hoverlabel": {
           "align": "left"
          },
          "hovermode": "closest",
          "mapbox": {
           "style": "light"
          },
          "paper_bgcolor": "white",
          "plot_bgcolor": "white",
          "polar": {
           "angularaxis": {
            "gridcolor": "#EBF0F8",
            "linecolor": "#EBF0F8",
            "ticks": ""
           },
           "bgcolor": "white",
           "radialaxis": {
            "gridcolor": "#EBF0F8",
            "linecolor": "#EBF0F8",
            "ticks": ""
           }
          },
          "scene": {
           "xaxis": {
            "backgroundcolor": "white",
            "gridcolor": "#DFE8F3",
            "gridwidth": 2,
            "linecolor": "#EBF0F8",
            "showbackground": true,
            "ticks": "",
            "zerolinecolor": "#EBF0F8"
           },
           "yaxis": {
            "backgroundcolor": "white",
            "gridcolor": "#DFE8F3",
            "gridwidth": 2,
            "linecolor": "#EBF0F8",
            "showbackground": true,
            "ticks": "",
            "zerolinecolor": "#EBF0F8"
           },
           "zaxis": {
            "backgroundcolor": "white",
            "gridcolor": "#DFE8F3",
            "gridwidth": 2,
            "linecolor": "#EBF0F8",
            "showbackground": true,
            "ticks": "",
            "zerolinecolor": "#EBF0F8"
           }
          },
          "shapedefaults": {
           "line": {
            "color": "#2a3f5f"
           }
          },
          "ternary": {
           "aaxis": {
            "gridcolor": "#DFE8F3",
            "linecolor": "#A2B1C6",
            "ticks": ""
           },
           "baxis": {
            "gridcolor": "#DFE8F3",
            "linecolor": "#A2B1C6",
            "ticks": ""
           },
           "bgcolor": "white",
           "caxis": {
            "gridcolor": "#DFE8F3",
            "linecolor": "#A2B1C6",
            "ticks": ""
           }
          },
          "title": {
           "x": 0.05
          },
          "xaxis": {
           "automargin": true,
           "gridcolor": "#EBF0F8",
           "linecolor": "#EBF0F8",
           "ticks": "",
           "title": {
            "standoff": 15
           },
           "zerolinecolor": "#EBF0F8",
           "zerolinewidth": 2
          },
          "yaxis": {
           "automargin": true,
           "gridcolor": "#EBF0F8",
           "linecolor": "#EBF0F8",
           "ticks": "",
           "title": {
            "standoff": 15
           },
           "zerolinecolor": "#EBF0F8",
           "zerolinewidth": 2
          }
         }
        },
        "title": {
         "font": {
          "color": "Black",
          "size": 22
         },
         "text": "Topic Word Scores",
         "x": 0.5,
         "xanchor": "center",
         "yanchor": "top"
        },
        "width": 2000,
        "xaxis": {
         "anchor": "y",
         "domain": [
          0,
          0.175
         ],
         "showgrid": true
        },
        "xaxis10": {
         "anchor": "y10",
         "domain": [
          0.275,
          0.45
         ],
         "showgrid": true
        },
        "xaxis11": {
         "anchor": "y11",
         "domain": [
          0.55,
          0.7250000000000001
         ],
         "showgrid": true
        },
        "xaxis12": {
         "anchor": "y12",
         "domain": [
          0.825,
          1
         ],
         "showgrid": true
        },
        "xaxis2": {
         "anchor": "y2",
         "domain": [
          0.275,
          0.45
         ],
         "showgrid": true
        },
        "xaxis3": {
         "anchor": "y3",
         "domain": [
          0.55,
          0.7250000000000001
         ],
         "showgrid": true
        },
        "xaxis4": {
         "anchor": "y4",
         "domain": [
          0.825,
          1
         ],
         "showgrid": true
        },
        "xaxis5": {
         "anchor": "y5",
         "domain": [
          0,
          0.175
         ],
         "showgrid": true
        },
        "xaxis6": {
         "anchor": "y6",
         "domain": [
          0.275,
          0.45
         ],
         "showgrid": true
        },
        "xaxis7": {
         "anchor": "y7",
         "domain": [
          0.55,
          0.7250000000000001
         ],
         "showgrid": true
        },
        "xaxis8": {
         "anchor": "y8",
         "domain": [
          0.825,
          1
         ],
         "showgrid": true
        },
        "xaxis9": {
         "anchor": "y9",
         "domain": [
          0,
          0.175
         ],
         "showgrid": true
        },
        "yaxis": {
         "anchor": "x",
         "domain": [
          0.7555555555555555,
          1
         ],
         "showgrid": true
        },
        "yaxis10": {
         "anchor": "x10",
         "domain": [
          0,
          0.24444444444444446
         ],
         "showgrid": true
        },
        "yaxis11": {
         "anchor": "x11",
         "domain": [
          0,
          0.24444444444444446
         ],
         "showgrid": true
        },
        "yaxis12": {
         "anchor": "x12",
         "domain": [
          0,
          0.24444444444444446
         ],
         "showgrid": true
        },
        "yaxis2": {
         "anchor": "x2",
         "domain": [
          0.7555555555555555,
          1
         ],
         "showgrid": true
        },
        "yaxis3": {
         "anchor": "x3",
         "domain": [
          0.7555555555555555,
          1
         ],
         "showgrid": true
        },
        "yaxis4": {
         "anchor": "x4",
         "domain": [
          0.7555555555555555,
          1
         ],
         "showgrid": true
        },
        "yaxis5": {
         "anchor": "x5",
         "domain": [
          0.37777777777777777,
          0.6222222222222222
         ],
         "showgrid": true
        },
        "yaxis6": {
         "anchor": "x6",
         "domain": [
          0.37777777777777777,
          0.6222222222222222
         ],
         "showgrid": true
        },
        "yaxis7": {
         "anchor": "x7",
         "domain": [
          0.37777777777777777,
          0.6222222222222222
         ],
         "showgrid": true
        },
        "yaxis8": {
         "anchor": "x8",
         "domain": [
          0.37777777777777777,
          0.6222222222222222
         ],
         "showgrid": true
        },
        "yaxis9": {
         "anchor": "x9",
         "domain": [
          0,
          0.24444444444444446
         ],
         "showgrid": true
        }
       }
      }
     },
     "metadata": {},
     "output_type": "display_data"
    }
   ],
   "source": [
    "topic_model.visualize_barchart(top_n_topics=10, n_words=10,width=500, height=500)"
   ]
  },
  {
   "cell_type": "code",
   "execution_count": 21,
   "metadata": {},
   "outputs": [
    {
     "name": "stdout",
     "output_type": "stream",
     "text": [
      "Figure({\n",
      "    'data': [{'customdata': array([[0, 'adolescent | adolescence | risk factor | youth | parental', 3118],\n",
      "                                   [1,\n",
      "                                    'prenatal exposure | adhd | disorder adhd | cocaine exposure | prenatal',\n",
      "                                    153],\n",
      "                                   [2,\n",
      "                                    'fatty liver | insulin resistance | liver disease | obesity | obese child',\n",
      "                                    152],\n",
      "                                   [3, 'fermentation | ethanol | wine | grape | yeast', 116],\n",
      "                                   [4,\n",
      "                                    'ethanol exposure | intermittent ethanol | ethanol | hippocampal | hippocampus',\n",
      "                                    100],\n",
      "                                   [5,\n",
      "                                    'liver disease | fatty liver | hepatic steatosis | lipid profile | hepatic',\n",
      "                                    75],\n",
      "                                   [6,\n",
      "                                    'adolescent sleep | sleep disturbance | association sleep | sleep problem | sleep difficulty',\n",
      "                                    61],\n",
      "                                   [7,\n",
      "                                    'injury severity | trauma case | trauma | hospitalization | severity',\n",
      "                                    41],\n",
      "                                   [8,\n",
      "                                    'risk breast | cancer risk | breast cancer | smoking consumption | risk factor',\n",
      "                                    41],\n",
      "                                   [9,\n",
      "                                    'sibling influence | adolescent sibling | sibling relationship | effect sibling | younger sibling',\n",
      "                                    11]], dtype=object),\n",
      "              'hovertemplate': '<b>Topic %{customdata[0]}</b><br>%{customdata[1]}<br>Size: %{customdata[2]}',\n",
      "              'legendgroup': '',\n",
      "              'marker': {'color': '#B0BEC5',\n",
      "                         'line': {'color': 'DarkSlateGrey', 'width': 2},\n",
      "                         'size': array([3118,  153,  152,  116,  100,   75,   61,   41,   41,   11], dtype=int64),\n",
      "                         'sizemode': 'area',\n",
      "                         'sizeref': 1.94875,\n",
      "                         'symbol': 'circle'},\n",
      "              'mode': 'markers',\n",
      "              'name': '',\n",
      "              'orientation': 'v',\n",
      "              'showlegend': False,\n",
      "              'type': 'scatter',\n",
      "              'x': array([ 4.0310755e+00,  4.4210129e+00,  1.8242964e-01, -5.4260653e-01,\n",
      "                           4.8006268e+00, -1.2328598e-01,  4.1170969e+00,  5.3111714e-01,\n",
      "                           7.7488576e-04,  3.4204981e+00], dtype=float32),\n",
      "              'xaxis': 'x',\n",
      "              'y': array([-1.0331692 , -0.53550255, 10.13709   ,  9.553463  , -0.15523222,\n",
      "                           9.547557  , -1.490449  , 10.356609  ,  9.125587  , -1.0465901 ],\n",
      "                         dtype=float32),\n",
      "              'yaxis': 'y'}],\n",
      "    'layout': {'annotations': [{'showarrow': False,\n",
      "                                'text': 'D1',\n",
      "                                'x': -0.623997512459755,\n",
      "                                'y': 5.098042225837708,\n",
      "                                'yshift': 10},\n",
      "                               {'showarrow': False,\n",
      "                                'text': 'D2',\n",
      "                                'x': 2.4483616277575493,\n",
      "                                'xshift': 10,\n",
      "                                'y': 11.910100746154786}],\n",
      "               'height': 650,\n",
      "               'hoverlabel': {'bgcolor': 'white', 'font': {'family': 'Rockwell', 'size': 16}},\n",
      "               'legend': {'itemsizing': 'constant', 'tracegroupgap': 0},\n",
      "               'margin': {'t': 60},\n",
      "               'shapes': [{'line': {'color': '#CFD8DC', 'width': 2},\n",
      "                           'type': 'line',\n",
      "                           'x0': 2.4483616277575493,\n",
      "                           'x1': 2.4483616277575493,\n",
      "                           'y0': -1.7140162944793702,\n",
      "                           'y1': 11.910100746154786},\n",
      "                          {'line': {'color': '#9E9E9E', 'width': 2},\n",
      "                           'type': 'line',\n",
      "                           'x0': -0.623997512459755,\n",
      "                           'x1': 5.520720767974853,\n",
      "                           'y0': 5.098042225837708,\n",
      "                           'y1': 5.098042225837708}],\n",
      "               'sliders': [{'active': 0,\n",
      "                            'pad': {'t': 50},\n",
      "                            'steps': [{'args': [{'marker.color': [['red',\n",
      "                                                                  '#B0BEC5',\n",
      "                                                                  '#B0BEC5',\n",
      "                                                                  '#B0BEC5',\n",
      "                                                                  '#B0BEC5',\n",
      "                                                                  '#B0BEC5',\n",
      "                                                                  '#B0BEC5',\n",
      "                                                                  '#B0BEC5',\n",
      "                                                                  '#B0BEC5',\n",
      "                                                                  '#B0BEC5']]}],\n",
      "                                       'label': 'Topic 0',\n",
      "                                       'method': 'update'},\n",
      "                                      {'args': [{'marker.color': [['#B0BEC5',\n",
      "                                                                  'red', '#B0BEC5',\n",
      "                                                                  '#B0BEC5',\n",
      "                                                                  '#B0BEC5',\n",
      "                                                                  '#B0BEC5',\n",
      "                                                                  '#B0BEC5',\n",
      "                                                                  '#B0BEC5',\n",
      "                                                                  '#B0BEC5',\n",
      "                                                                  '#B0BEC5']]}],\n",
      "                                       'label': 'Topic 1',\n",
      "                                       'method': 'update'},\n",
      "                                      {'args': [{'marker.color': [['#B0BEC5',\n",
      "                                                                  '#B0BEC5', 'red',\n",
      "                                                                  '#B0BEC5',\n",
      "                                                                  '#B0BEC5',\n",
      "                                                                  '#B0BEC5',\n",
      "                                                                  '#B0BEC5',\n",
      "                                                                  '#B0BEC5',\n",
      "                                                                  '#B0BEC5',\n",
      "                                                                  '#B0BEC5']]}],\n",
      "                                       'label': 'Topic 2',\n",
      "                                       'method': 'update'},\n",
      "                                      {'args': [{'marker.color': [['#B0BEC5',\n",
      "                                                                  '#B0BEC5',\n",
      "                                                                  '#B0BEC5', 'red',\n",
      "                                                                  '#B0BEC5',\n",
      "                                                                  '#B0BEC5',\n",
      "                                                                  '#B0BEC5',\n",
      "                                                                  '#B0BEC5',\n",
      "                                                                  '#B0BEC5',\n",
      "                                                                  '#B0BEC5']]}],\n",
      "                                       'label': 'Topic 3',\n",
      "                                       'method': 'update'},\n",
      "                                      {'args': [{'marker.color': [['#B0BEC5',\n",
      "                                                                  '#B0BEC5',\n",
      "                                                                  '#B0BEC5',\n",
      "                                                                  '#B0BEC5', 'red',\n",
      "                                                                  '#B0BEC5',\n",
      "                                                                  '#B0BEC5',\n",
      "                                                                  '#B0BEC5',\n",
      "                                                                  '#B0BEC5',\n",
      "                                                                  '#B0BEC5']]}],\n",
      "                                       'label': 'Topic 4',\n",
      "                                       'method': 'update'},\n",
      "                                      {'args': [{'marker.color': [['#B0BEC5',\n",
      "                                                                  '#B0BEC5',\n",
      "                                                                  '#B0BEC5',\n",
      "                                                                  '#B0BEC5',\n",
      "                                                                  '#B0BEC5', 'red',\n",
      "                                                                  '#B0BEC5',\n",
      "                                                                  '#B0BEC5',\n",
      "                                                                  '#B0BEC5',\n",
      "                                                                  '#B0BEC5']]}],\n",
      "                                       'label': 'Topic 5',\n",
      "                                       'method': 'update'},\n",
      "                                      {'args': [{'marker.color': [['#B0BEC5',\n",
      "                                                                  '#B0BEC5',\n",
      "                                                                  '#B0BEC5',\n",
      "                                                                  '#B0BEC5',\n",
      "                                                                  '#B0BEC5',\n",
      "                                                                  '#B0BEC5', 'red',\n",
      "                                                                  '#B0BEC5',\n",
      "                                                                  '#B0BEC5',\n",
      "                                                                  '#B0BEC5']]}],\n",
      "                                       'label': 'Topic 6',\n",
      "                                       'method': 'update'},\n",
      "                                      {'args': [{'marker.color': [['#B0BEC5',\n",
      "                                                                  '#B0BEC5',\n",
      "                                                                  '#B0BEC5',\n",
      "                                                                  '#B0BEC5',\n",
      "                                                                  '#B0BEC5',\n",
      "                                                                  '#B0BEC5',\n",
      "                                                                  '#B0BEC5', 'red',\n",
      "                                                                  '#B0BEC5',\n",
      "                                                                  '#B0BEC5']]}],\n",
      "                                       'label': 'Topic 7',\n",
      "                                       'method': 'update'},\n",
      "                                      {'args': [{'marker.color': [['#B0BEC5',\n",
      "                                                                  '#B0BEC5',\n",
      "                                                                  '#B0BEC5',\n",
      "                                                                  '#B0BEC5',\n",
      "                                                                  '#B0BEC5',\n",
      "                                                                  '#B0BEC5',\n",
      "                                                                  '#B0BEC5',\n",
      "                                                                  '#B0BEC5', 'red',\n",
      "                                                                  '#B0BEC5']]}],\n",
      "                                       'label': 'Topic 8',\n",
      "                                       'method': 'update'},\n",
      "                                      {'args': [{'marker.color': [['#B0BEC5',\n",
      "                                                                  '#B0BEC5',\n",
      "                                                                  '#B0BEC5',\n",
      "                                                                  '#B0BEC5',\n",
      "                                                                  '#B0BEC5',\n",
      "                                                                  '#B0BEC5',\n",
      "                                                                  '#B0BEC5',\n",
      "                                                                  '#B0BEC5',\n",
      "                                                                  '#B0BEC5',\n",
      "                                                                  'red']]}],\n",
      "                                       'label': 'Topic 9',\n",
      "                                       'method': 'update'}]}],\n",
      "               'template': '...',\n",
      "               'title': {'font': {'color': 'Black', 'size': 22},\n",
      "                         'text': '<b>Intertopic Distance Map</b>',\n",
      "                         'x': 0.5,\n",
      "                         'xanchor': 'center',\n",
      "                         'y': 0.95,\n",
      "                         'yanchor': 'top'},\n",
      "               'width': 650,\n",
      "               'xaxis': {'anchor': 'y',\n",
      "                         'domain': [0.0, 1.0],\n",
      "                         'range': [-0.623997512459755, 5.520720767974853],\n",
      "                         'title': {'text': ''},\n",
      "                         'visible': False},\n",
      "               'yaxis': {'anchor': 'x',\n",
      "                         'domain': [0.0, 1.0],\n",
      "                         'range': [-1.7140162944793702, 11.910100746154786],\n",
      "                         'title': {'text': ''},\n",
      "                         'visible': False}}\n",
      "})\n"
     ]
    }
   ],
   "source": [
    "try:\n",
    "    print(topic_model.visualize_topics())\n",
    "except:\n",
    "    print('Topics kunnen niet gevisualiseerd worden.')\n",
    "    pass"
   ]
  },
  {
   "cell_type": "code",
   "execution_count": 22,
   "metadata": {},
   "outputs": [
    {
     "data": {
      "application/vnd.plotly.v1+json": {
       "config": {
        "plotlyServerURL": "https://plot.ly"
       },
       "data": [
        {
         "customdata": [
          [
           0,
           "adolescent | adolescence | risk factor | youth | parental",
           3118
          ],
          [
           1,
           "prenatal exposure | adhd | disorder adhd | cocaine exposure | prenatal",
           153
          ],
          [
           2,
           "fatty liver | insulin resistance | liver disease | obesity | obese child",
           152
          ],
          [
           3,
           "fermentation | ethanol | wine | grape | yeast",
           116
          ],
          [
           4,
           "ethanol exposure | intermittent ethanol | ethanol | hippocampal | hippocampus",
           100
          ],
          [
           5,
           "liver disease | fatty liver | hepatic steatosis | lipid profile | hepatic",
           75
          ],
          [
           6,
           "adolescent sleep | sleep disturbance | association sleep | sleep problem | sleep difficulty",
           61
          ],
          [
           7,
           "injury severity | trauma case | trauma | hospitalization | severity",
           41
          ],
          [
           8,
           "risk breast | cancer risk | breast cancer | smoking consumption | risk factor",
           41
          ],
          [
           9,
           "sibling influence | adolescent sibling | sibling relationship | effect sibling | younger sibling",
           11
          ]
         ],
         "hovertemplate": "<b>Topic %{customdata[0]}</b><br>%{customdata[1]}<br>Size: %{customdata[2]}",
         "legendgroup": "",
         "marker": {
          "color": "#B0BEC5",
          "line": {
           "color": "DarkSlateGrey",
           "width": 2
          },
          "size": [
           3118,
           153,
           152,
           116,
           100,
           75,
           61,
           41,
           41,
           11
          ],
          "sizemode": "area",
          "sizeref": 1.94875,
          "symbol": "circle"
         },
         "mode": "markers",
         "name": "",
         "orientation": "v",
         "showlegend": false,
         "type": "scatter",
         "x": [
          3.8328685760498047,
          3.7585670948028564,
          -9.542851448059082,
          -10.264172554016113,
          3.6147005558013916,
          -10.1793794631958,
          4.314027309417725,
          -9.286028861999512,
          -10.584131240844727,
          3.597393274307251
         ],
         "xaxis": "x",
         "y": [
          6.7215375900268555,
          7.309523582458496,
          15.768260955810547,
          16.384706497192383,
          7.810857772827148,
          15.973153114318848,
          6.602357864379883,
          15.439623832702637,
          15.785833358764648,
          6.171789646148682
         ],
         "yaxis": "y"
        }
       ],
       "layout": {
        "annotations": [
         {
          "showarrow": false,
          "text": "D1",
          "x": -12.171750926971436,
          "y": 12.04421683549881,
          "yshift": 10
         },
         {
          "showarrow": false,
          "text": "D2",
          "x": -3.605309760570526,
          "xshift": 10,
          "y": 18.84241247177124
         }
        ],
        "height": 650,
        "hoverlabel": {
         "bgcolor": "white",
         "font": {
          "family": "Rockwell",
          "size": 16
         }
        },
        "legend": {
         "itemsizing": "constant",
         "tracegroupgap": 0
        },
        "margin": {
         "t": 60
        },
        "shapes": [
         {
          "line": {
           "color": "#CFD8DC",
           "width": 2
          },
          "type": "line",
          "x0": -3.605309760570526,
          "x1": -3.605309760570526,
          "y0": 5.246021199226379,
          "y1": 18.84241247177124
         },
         {
          "line": {
           "color": "#9E9E9E",
           "width": 2
          },
          "type": "line",
          "x0": -12.171750926971436,
          "x1": 4.9611314058303835,
          "y0": 12.04421683549881,
          "y1": 12.04421683549881
         }
        ],
        "sliders": [
         {
          "active": 0,
          "pad": {
           "t": 50
          },
          "steps": [
           {
            "args": [
             {
              "marker.color": [
               [
                "red",
                "#B0BEC5",
                "#B0BEC5",
                "#B0BEC5",
                "#B0BEC5",
                "#B0BEC5",
                "#B0BEC5",
                "#B0BEC5",
                "#B0BEC5",
                "#B0BEC5"
               ]
              ]
             }
            ],
            "label": "Topic 0",
            "method": "update"
           },
           {
            "args": [
             {
              "marker.color": [
               [
                "#B0BEC5",
                "red",
                "#B0BEC5",
                "#B0BEC5",
                "#B0BEC5",
                "#B0BEC5",
                "#B0BEC5",
                "#B0BEC5",
                "#B0BEC5",
                "#B0BEC5"
               ]
              ]
             }
            ],
            "label": "Topic 1",
            "method": "update"
           },
           {
            "args": [
             {
              "marker.color": [
               [
                "#B0BEC5",
                "#B0BEC5",
                "red",
                "#B0BEC5",
                "#B0BEC5",
                "#B0BEC5",
                "#B0BEC5",
                "#B0BEC5",
                "#B0BEC5",
                "#B0BEC5"
               ]
              ]
             }
            ],
            "label": "Topic 2",
            "method": "update"
           },
           {
            "args": [
             {
              "marker.color": [
               [
                "#B0BEC5",
                "#B0BEC5",
                "#B0BEC5",
                "red",
                "#B0BEC5",
                "#B0BEC5",
                "#B0BEC5",
                "#B0BEC5",
                "#B0BEC5",
                "#B0BEC5"
               ]
              ]
             }
            ],
            "label": "Topic 3",
            "method": "update"
           },
           {
            "args": [
             {
              "marker.color": [
               [
                "#B0BEC5",
                "#B0BEC5",
                "#B0BEC5",
                "#B0BEC5",
                "red",
                "#B0BEC5",
                "#B0BEC5",
                "#B0BEC5",
                "#B0BEC5",
                "#B0BEC5"
               ]
              ]
             }
            ],
            "label": "Topic 4",
            "method": "update"
           },
           {
            "args": [
             {
              "marker.color": [
               [
                "#B0BEC5",
                "#B0BEC5",
                "#B0BEC5",
                "#B0BEC5",
                "#B0BEC5",
                "red",
                "#B0BEC5",
                "#B0BEC5",
                "#B0BEC5",
                "#B0BEC5"
               ]
              ]
             }
            ],
            "label": "Topic 5",
            "method": "update"
           },
           {
            "args": [
             {
              "marker.color": [
               [
                "#B0BEC5",
                "#B0BEC5",
                "#B0BEC5",
                "#B0BEC5",
                "#B0BEC5",
                "#B0BEC5",
                "red",
                "#B0BEC5",
                "#B0BEC5",
                "#B0BEC5"
               ]
              ]
             }
            ],
            "label": "Topic 6",
            "method": "update"
           },
           {
            "args": [
             {
              "marker.color": [
               [
                "#B0BEC5",
                "#B0BEC5",
                "#B0BEC5",
                "#B0BEC5",
                "#B0BEC5",
                "#B0BEC5",
                "#B0BEC5",
                "red",
                "#B0BEC5",
                "#B0BEC5"
               ]
              ]
             }
            ],
            "label": "Topic 7",
            "method": "update"
           },
           {
            "args": [
             {
              "marker.color": [
               [
                "#B0BEC5",
                "#B0BEC5",
                "#B0BEC5",
                "#B0BEC5",
                "#B0BEC5",
                "#B0BEC5",
                "#B0BEC5",
                "#B0BEC5",
                "red",
                "#B0BEC5"
               ]
              ]
             }
            ],
            "label": "Topic 8",
            "method": "update"
           },
           {
            "args": [
             {
              "marker.color": [
               [
                "#B0BEC5",
                "#B0BEC5",
                "#B0BEC5",
                "#B0BEC5",
                "#B0BEC5",
                "#B0BEC5",
                "#B0BEC5",
                "#B0BEC5",
                "#B0BEC5",
                "red"
               ]
              ]
             }
            ],
            "label": "Topic 9",
            "method": "update"
           }
          ]
         }
        ],
        "template": {
         "data": {
          "bar": [
           {
            "error_x": {
             "color": "rgb(36,36,36)"
            },
            "error_y": {
             "color": "rgb(36,36,36)"
            },
            "marker": {
             "line": {
              "color": "white",
              "width": 0.5
             },
             "pattern": {
              "fillmode": "overlay",
              "size": 10,
              "solidity": 0.2
             }
            },
            "type": "bar"
           }
          ],
          "barpolar": [
           {
            "marker": {
             "line": {
              "color": "white",
              "width": 0.5
             },
             "pattern": {
              "fillmode": "overlay",
              "size": 10,
              "solidity": 0.2
             }
            },
            "type": "barpolar"
           }
          ],
          "carpet": [
           {
            "aaxis": {
             "endlinecolor": "rgb(36,36,36)",
             "gridcolor": "white",
             "linecolor": "white",
             "minorgridcolor": "white",
             "startlinecolor": "rgb(36,36,36)"
            },
            "baxis": {
             "endlinecolor": "rgb(36,36,36)",
             "gridcolor": "white",
             "linecolor": "white",
             "minorgridcolor": "white",
             "startlinecolor": "rgb(36,36,36)"
            },
            "type": "carpet"
           }
          ],
          "choropleth": [
           {
            "colorbar": {
             "outlinewidth": 1,
             "tickcolor": "rgb(36,36,36)",
             "ticks": "outside"
            },
            "type": "choropleth"
           }
          ],
          "contour": [
           {
            "colorbar": {
             "outlinewidth": 1,
             "tickcolor": "rgb(36,36,36)",
             "ticks": "outside"
            },
            "colorscale": [
             [
              0,
              "#440154"
             ],
             [
              0.1111111111111111,
              "#482878"
             ],
             [
              0.2222222222222222,
              "#3e4989"
             ],
             [
              0.3333333333333333,
              "#31688e"
             ],
             [
              0.4444444444444444,
              "#26828e"
             ],
             [
              0.5555555555555556,
              "#1f9e89"
             ],
             [
              0.6666666666666666,
              "#35b779"
             ],
             [
              0.7777777777777778,
              "#6ece58"
             ],
             [
              0.8888888888888888,
              "#b5de2b"
             ],
             [
              1,
              "#fde725"
             ]
            ],
            "type": "contour"
           }
          ],
          "contourcarpet": [
           {
            "colorbar": {
             "outlinewidth": 1,
             "tickcolor": "rgb(36,36,36)",
             "ticks": "outside"
            },
            "type": "contourcarpet"
           }
          ],
          "heatmap": [
           {
            "colorbar": {
             "outlinewidth": 1,
             "tickcolor": "rgb(36,36,36)",
             "ticks": "outside"
            },
            "colorscale": [
             [
              0,
              "#440154"
             ],
             [
              0.1111111111111111,
              "#482878"
             ],
             [
              0.2222222222222222,
              "#3e4989"
             ],
             [
              0.3333333333333333,
              "#31688e"
             ],
             [
              0.4444444444444444,
              "#26828e"
             ],
             [
              0.5555555555555556,
              "#1f9e89"
             ],
             [
              0.6666666666666666,
              "#35b779"
             ],
             [
              0.7777777777777778,
              "#6ece58"
             ],
             [
              0.8888888888888888,
              "#b5de2b"
             ],
             [
              1,
              "#fde725"
             ]
            ],
            "type": "heatmap"
           }
          ],
          "heatmapgl": [
           {
            "colorbar": {
             "outlinewidth": 1,
             "tickcolor": "rgb(36,36,36)",
             "ticks": "outside"
            },
            "colorscale": [
             [
              0,
              "#440154"
             ],
             [
              0.1111111111111111,
              "#482878"
             ],
             [
              0.2222222222222222,
              "#3e4989"
             ],
             [
              0.3333333333333333,
              "#31688e"
             ],
             [
              0.4444444444444444,
              "#26828e"
             ],
             [
              0.5555555555555556,
              "#1f9e89"
             ],
             [
              0.6666666666666666,
              "#35b779"
             ],
             [
              0.7777777777777778,
              "#6ece58"
             ],
             [
              0.8888888888888888,
              "#b5de2b"
             ],
             [
              1,
              "#fde725"
             ]
            ],
            "type": "heatmapgl"
           }
          ],
          "histogram": [
           {
            "marker": {
             "line": {
              "color": "white",
              "width": 0.6
             }
            },
            "type": "histogram"
           }
          ],
          "histogram2d": [
           {
            "colorbar": {
             "outlinewidth": 1,
             "tickcolor": "rgb(36,36,36)",
             "ticks": "outside"
            },
            "colorscale": [
             [
              0,
              "#440154"
             ],
             [
              0.1111111111111111,
              "#482878"
             ],
             [
              0.2222222222222222,
              "#3e4989"
             ],
             [
              0.3333333333333333,
              "#31688e"
             ],
             [
              0.4444444444444444,
              "#26828e"
             ],
             [
              0.5555555555555556,
              "#1f9e89"
             ],
             [
              0.6666666666666666,
              "#35b779"
             ],
             [
              0.7777777777777778,
              "#6ece58"
             ],
             [
              0.8888888888888888,
              "#b5de2b"
             ],
             [
              1,
              "#fde725"
             ]
            ],
            "type": "histogram2d"
           }
          ],
          "histogram2dcontour": [
           {
            "colorbar": {
             "outlinewidth": 1,
             "tickcolor": "rgb(36,36,36)",
             "ticks": "outside"
            },
            "colorscale": [
             [
              0,
              "#440154"
             ],
             [
              0.1111111111111111,
              "#482878"
             ],
             [
              0.2222222222222222,
              "#3e4989"
             ],
             [
              0.3333333333333333,
              "#31688e"
             ],
             [
              0.4444444444444444,
              "#26828e"
             ],
             [
              0.5555555555555556,
              "#1f9e89"
             ],
             [
              0.6666666666666666,
              "#35b779"
             ],
             [
              0.7777777777777778,
              "#6ece58"
             ],
             [
              0.8888888888888888,
              "#b5de2b"
             ],
             [
              1,
              "#fde725"
             ]
            ],
            "type": "histogram2dcontour"
           }
          ],
          "mesh3d": [
           {
            "colorbar": {
             "outlinewidth": 1,
             "tickcolor": "rgb(36,36,36)",
             "ticks": "outside"
            },
            "type": "mesh3d"
           }
          ],
          "parcoords": [
           {
            "line": {
             "colorbar": {
              "outlinewidth": 1,
              "tickcolor": "rgb(36,36,36)",
              "ticks": "outside"
             }
            },
            "type": "parcoords"
           }
          ],
          "pie": [
           {
            "automargin": true,
            "type": "pie"
           }
          ],
          "scatter": [
           {
            "fillpattern": {
             "fillmode": "overlay",
             "size": 10,
             "solidity": 0.2
            },
            "type": "scatter"
           }
          ],
          "scatter3d": [
           {
            "line": {
             "colorbar": {
              "outlinewidth": 1,
              "tickcolor": "rgb(36,36,36)",
              "ticks": "outside"
             }
            },
            "marker": {
             "colorbar": {
              "outlinewidth": 1,
              "tickcolor": "rgb(36,36,36)",
              "ticks": "outside"
             }
            },
            "type": "scatter3d"
           }
          ],
          "scattercarpet": [
           {
            "marker": {
             "colorbar": {
              "outlinewidth": 1,
              "tickcolor": "rgb(36,36,36)",
              "ticks": "outside"
             }
            },
            "type": "scattercarpet"
           }
          ],
          "scattergeo": [
           {
            "marker": {
             "colorbar": {
              "outlinewidth": 1,
              "tickcolor": "rgb(36,36,36)",
              "ticks": "outside"
             }
            },
            "type": "scattergeo"
           }
          ],
          "scattergl": [
           {
            "marker": {
             "colorbar": {
              "outlinewidth": 1,
              "tickcolor": "rgb(36,36,36)",
              "ticks": "outside"
             }
            },
            "type": "scattergl"
           }
          ],
          "scattermapbox": [
           {
            "marker": {
             "colorbar": {
              "outlinewidth": 1,
              "tickcolor": "rgb(36,36,36)",
              "ticks": "outside"
             }
            },
            "type": "scattermapbox"
           }
          ],
          "scatterpolar": [
           {
            "marker": {
             "colorbar": {
              "outlinewidth": 1,
              "tickcolor": "rgb(36,36,36)",
              "ticks": "outside"
             }
            },
            "type": "scatterpolar"
           }
          ],
          "scatterpolargl": [
           {
            "marker": {
             "colorbar": {
              "outlinewidth": 1,
              "tickcolor": "rgb(36,36,36)",
              "ticks": "outside"
             }
            },
            "type": "scatterpolargl"
           }
          ],
          "scatterternary": [
           {
            "marker": {
             "colorbar": {
              "outlinewidth": 1,
              "tickcolor": "rgb(36,36,36)",
              "ticks": "outside"
             }
            },
            "type": "scatterternary"
           }
          ],
          "surface": [
           {
            "colorbar": {
             "outlinewidth": 1,
             "tickcolor": "rgb(36,36,36)",
             "ticks": "outside"
            },
            "colorscale": [
             [
              0,
              "#440154"
             ],
             [
              0.1111111111111111,
              "#482878"
             ],
             [
              0.2222222222222222,
              "#3e4989"
             ],
             [
              0.3333333333333333,
              "#31688e"
             ],
             [
              0.4444444444444444,
              "#26828e"
             ],
             [
              0.5555555555555556,
              "#1f9e89"
             ],
             [
              0.6666666666666666,
              "#35b779"
             ],
             [
              0.7777777777777778,
              "#6ece58"
             ],
             [
              0.8888888888888888,
              "#b5de2b"
             ],
             [
              1,
              "#fde725"
             ]
            ],
            "type": "surface"
           }
          ],
          "table": [
           {
            "cells": {
             "fill": {
              "color": "rgb(237,237,237)"
             },
             "line": {
              "color": "white"
             }
            },
            "header": {
             "fill": {
              "color": "rgb(217,217,217)"
             },
             "line": {
              "color": "white"
             }
            },
            "type": "table"
           }
          ]
         },
         "layout": {
          "annotationdefaults": {
           "arrowhead": 0,
           "arrowwidth": 1
          },
          "autotypenumbers": "strict",
          "coloraxis": {
           "colorbar": {
            "outlinewidth": 1,
            "tickcolor": "rgb(36,36,36)",
            "ticks": "outside"
           }
          },
          "colorscale": {
           "diverging": [
            [
             0,
             "rgb(103,0,31)"
            ],
            [
             0.1,
             "rgb(178,24,43)"
            ],
            [
             0.2,
             "rgb(214,96,77)"
            ],
            [
             0.3,
             "rgb(244,165,130)"
            ],
            [
             0.4,
             "rgb(253,219,199)"
            ],
            [
             0.5,
             "rgb(247,247,247)"
            ],
            [
             0.6,
             "rgb(209,229,240)"
            ],
            [
             0.7,
             "rgb(146,197,222)"
            ],
            [
             0.8,
             "rgb(67,147,195)"
            ],
            [
             0.9,
             "rgb(33,102,172)"
            ],
            [
             1,
             "rgb(5,48,97)"
            ]
           ],
           "sequential": [
            [
             0,
             "#440154"
            ],
            [
             0.1111111111111111,
             "#482878"
            ],
            [
             0.2222222222222222,
             "#3e4989"
            ],
            [
             0.3333333333333333,
             "#31688e"
            ],
            [
             0.4444444444444444,
             "#26828e"
            ],
            [
             0.5555555555555556,
             "#1f9e89"
            ],
            [
             0.6666666666666666,
             "#35b779"
            ],
            [
             0.7777777777777778,
             "#6ece58"
            ],
            [
             0.8888888888888888,
             "#b5de2b"
            ],
            [
             1,
             "#fde725"
            ]
           ],
           "sequentialminus": [
            [
             0,
             "#440154"
            ],
            [
             0.1111111111111111,
             "#482878"
            ],
            [
             0.2222222222222222,
             "#3e4989"
            ],
            [
             0.3333333333333333,
             "#31688e"
            ],
            [
             0.4444444444444444,
             "#26828e"
            ],
            [
             0.5555555555555556,
             "#1f9e89"
            ],
            [
             0.6666666666666666,
             "#35b779"
            ],
            [
             0.7777777777777778,
             "#6ece58"
            ],
            [
             0.8888888888888888,
             "#b5de2b"
            ],
            [
             1,
             "#fde725"
            ]
           ]
          },
          "colorway": [
           "#1F77B4",
           "#FF7F0E",
           "#2CA02C",
           "#D62728",
           "#9467BD",
           "#8C564B",
           "#E377C2",
           "#7F7F7F",
           "#BCBD22",
           "#17BECF"
          ],
          "font": {
           "color": "rgb(36,36,36)"
          },
          "geo": {
           "bgcolor": "white",
           "lakecolor": "white",
           "landcolor": "white",
           "showlakes": true,
           "showland": true,
           "subunitcolor": "white"
          },
          "hoverlabel": {
           "align": "left"
          },
          "hovermode": "closest",
          "mapbox": {
           "style": "light"
          },
          "paper_bgcolor": "white",
          "plot_bgcolor": "white",
          "polar": {
           "angularaxis": {
            "gridcolor": "rgb(232,232,232)",
            "linecolor": "rgb(36,36,36)",
            "showgrid": false,
            "showline": true,
            "ticks": "outside"
           },
           "bgcolor": "white",
           "radialaxis": {
            "gridcolor": "rgb(232,232,232)",
            "linecolor": "rgb(36,36,36)",
            "showgrid": false,
            "showline": true,
            "ticks": "outside"
           }
          },
          "scene": {
           "xaxis": {
            "backgroundcolor": "white",
            "gridcolor": "rgb(232,232,232)",
            "gridwidth": 2,
            "linecolor": "rgb(36,36,36)",
            "showbackground": true,
            "showgrid": false,
            "showline": true,
            "ticks": "outside",
            "zeroline": false,
            "zerolinecolor": "rgb(36,36,36)"
           },
           "yaxis": {
            "backgroundcolor": "white",
            "gridcolor": "rgb(232,232,232)",
            "gridwidth": 2,
            "linecolor": "rgb(36,36,36)",
            "showbackground": true,
            "showgrid": false,
            "showline": true,
            "ticks": "outside",
            "zeroline": false,
            "zerolinecolor": "rgb(36,36,36)"
           },
           "zaxis": {
            "backgroundcolor": "white",
            "gridcolor": "rgb(232,232,232)",
            "gridwidth": 2,
            "linecolor": "rgb(36,36,36)",
            "showbackground": true,
            "showgrid": false,
            "showline": true,
            "ticks": "outside",
            "zeroline": false,
            "zerolinecolor": "rgb(36,36,36)"
           }
          },
          "shapedefaults": {
           "fillcolor": "black",
           "line": {
            "width": 0
           },
           "opacity": 0.3
          },
          "ternary": {
           "aaxis": {
            "gridcolor": "rgb(232,232,232)",
            "linecolor": "rgb(36,36,36)",
            "showgrid": false,
            "showline": true,
            "ticks": "outside"
           },
           "baxis": {
            "gridcolor": "rgb(232,232,232)",
            "linecolor": "rgb(36,36,36)",
            "showgrid": false,
            "showline": true,
            "ticks": "outside"
           },
           "bgcolor": "white",
           "caxis": {
            "gridcolor": "rgb(232,232,232)",
            "linecolor": "rgb(36,36,36)",
            "showgrid": false,
            "showline": true,
            "ticks": "outside"
           }
          },
          "title": {
           "x": 0.05
          },
          "xaxis": {
           "automargin": true,
           "gridcolor": "rgb(232,232,232)",
           "linecolor": "rgb(36,36,36)",
           "showgrid": false,
           "showline": true,
           "ticks": "outside",
           "title": {
            "standoff": 15
           },
           "zeroline": false,
           "zerolinecolor": "rgb(36,36,36)"
          },
          "yaxis": {
           "automargin": true,
           "gridcolor": "rgb(232,232,232)",
           "linecolor": "rgb(36,36,36)",
           "showgrid": false,
           "showline": true,
           "ticks": "outside",
           "title": {
            "standoff": 15
           },
           "zeroline": false,
           "zerolinecolor": "rgb(36,36,36)"
          }
         }
        },
        "title": {
         "font": {
          "color": "Black",
          "size": 22
         },
         "text": "<b>Intertopic Distance Map</b>",
         "x": 0.5,
         "xanchor": "center",
         "y": 0.95,
         "yanchor": "top"
        },
        "width": 650,
        "xaxis": {
         "anchor": "y",
         "domain": [
          0,
          1
         ],
         "range": [
          -12.171750926971436,
          4.9611314058303835
         ],
         "title": {
          "text": ""
         },
         "visible": false
        },
        "yaxis": {
         "anchor": "x",
         "domain": [
          0,
          1
         ],
         "range": [
          5.246021199226379,
          18.84241247177124
         ],
         "title": {
          "text": ""
         },
         "visible": false
        }
       }
      }
     },
     "metadata": {},
     "output_type": "display_data"
    }
   ],
   "source": [
    "topic_model.visualize_topics()"
   ]
  },
  {
   "cell_type": "code",
   "execution_count": 23,
   "metadata": {},
   "outputs": [
    {
     "data": {
      "text/html": [
       "<div>\n",
       "<style scoped>\n",
       "    .dataframe tbody tr th:only-of-type {\n",
       "        vertical-align: middle;\n",
       "    }\n",
       "\n",
       "    .dataframe tbody tr th {\n",
       "        vertical-align: top;\n",
       "    }\n",
       "\n",
       "    .dataframe thead th {\n",
       "        text-align: right;\n",
       "    }\n",
       "</style>\n",
       "<table border=\"1\" class=\"dataframe\">\n",
       "  <thead>\n",
       "    <tr style=\"text-align: right;\">\n",
       "      <th></th>\n",
       "      <th>Topic</th>\n",
       "      <th>Count</th>\n",
       "      <th>Name</th>\n",
       "      <th>Representation</th>\n",
       "    </tr>\n",
       "  </thead>\n",
       "  <tbody>\n",
       "    <tr>\n",
       "      <th>0</th>\n",
       "      <td>-1</td>\n",
       "      <td>1728</td>\n",
       "      <td>-1_adolescent_adolescence_youth_risk factor</td>\n",
       "      <td>[adolescent, adolescence, youth, risk factor, adulthood, parental, prevalence, prevention, intervention, assessed]</td>\n",
       "    </tr>\n",
       "    <tr>\n",
       "      <th>1</th>\n",
       "      <td>0</td>\n",
       "      <td>3118</td>\n",
       "      <td>0_adolescent_adolescence_risk factor_youth</td>\n",
       "      <td>[adolescent, adolescence, risk factor, youth, parental, prevalence, adulthood, prevention, health, parent]</td>\n",
       "    </tr>\n",
       "    <tr>\n",
       "      <th>2</th>\n",
       "      <td>1</td>\n",
       "      <td>153</td>\n",
       "      <td>1_prenatal exposure_adhd_disorder adhd_cocaine exposure</td>\n",
       "      <td>[prenatal exposure, adhd, disorder adhd, cocaine exposure, prenatal, developmental, marijuana, maternal, adolescent, pregnancy]</td>\n",
       "    </tr>\n",
       "    <tr>\n",
       "      <th>3</th>\n",
       "      <td>2</td>\n",
       "      <td>152</td>\n",
       "      <td>2_fatty liver_insulin resistance_liver disease_obesity</td>\n",
       "      <td>[fatty liver, insulin resistance, liver disease, obesity, obese child, obese, cardiovascular risk, insulin, diabetes, metabolic]</td>\n",
       "    </tr>\n",
       "    <tr>\n",
       "      <th>4</th>\n",
       "      <td>3</td>\n",
       "      <td>116</td>\n",
       "      <td>3_fermentation_ethanol_wine_grape</td>\n",
       "      <td>[fermentation, ethanol, wine, grape, yeast, phenolic, aroma, acetate, biosynthesis, extraction]</td>\n",
       "    </tr>\n",
       "    <tr>\n",
       "      <th>5</th>\n",
       "      <td>4</td>\n",
       "      <td>100</td>\n",
       "      <td>4_ethanol exposure_intermittent ethanol_ethanol_hippocampal</td>\n",
       "      <td>[ethanol exposure, intermittent ethanol, ethanol, hippocampal, hippocampus, microglial, neurogenesis, microglia, adolescent binge, adolescent exposure]</td>\n",
       "    </tr>\n",
       "    <tr>\n",
       "      <th>6</th>\n",
       "      <td>5</td>\n",
       "      <td>75</td>\n",
       "      <td>5_liver disease_fatty liver_hepatic steatosis_lipid profile</td>\n",
       "      <td>[liver disease, fatty liver, hepatic steatosis, lipid profile, hepatic, genotype, liver, cholesterol, nucleotide polymorphism, cirrhosis]</td>\n",
       "    </tr>\n",
       "    <tr>\n",
       "      <th>7</th>\n",
       "      <td>6</td>\n",
       "      <td>61</td>\n",
       "      <td>6_adolescent sleep_sleep disturbance_association sleep_sleep problem</td>\n",
       "      <td>[adolescent sleep, sleep disturbance, association sleep, sleep problem, sleep difficulty, sleep quality, sleep loss, sleepiness, daytime sleepiness, sleep duration]</td>\n",
       "    </tr>\n",
       "    <tr>\n",
       "      <th>8</th>\n",
       "      <td>7</td>\n",
       "      <td>41</td>\n",
       "      <td>7_injury severity_trauma case_trauma_hospitalization</td>\n",
       "      <td>[injury severity, trauma case, trauma, hospitalization, severity, emergency department, injury, fracture, accident, hospital]</td>\n",
       "    </tr>\n",
       "    <tr>\n",
       "      <th>9</th>\n",
       "      <td>8</td>\n",
       "      <td>41</td>\n",
       "      <td>8_risk breast_cancer risk_breast cancer_smoking consumption</td>\n",
       "      <td>[risk breast, cancer risk, breast cancer, smoking consumption, risk factor, increased risk, cancer, risk, cancer case, colorectal cancer]</td>\n",
       "    </tr>\n",
       "    <tr>\n",
       "      <th>10</th>\n",
       "      <td>9</td>\n",
       "      <td>11</td>\n",
       "      <td>9_sibling influence_adolescent sibling_sibling relationship_effect sibling</td>\n",
       "      <td>[sibling influence, adolescent sibling, sibling relationship, effect sibling, younger sibling, sibling earlier, sibling important, sibling substance, sibling drinking, sibling]</td>\n",
       "    </tr>\n",
       "  </tbody>\n",
       "</table>\n",
       "</div>"
      ],
      "text/plain": [
       "    Topic  Count  \\\n",
       "0  -1      1728    \n",
       "1   0      3118    \n",
       "2   1      153     \n",
       "3   2      152     \n",
       "4   3      116     \n",
       "5   4      100     \n",
       "6   5      75      \n",
       "7   6      61      \n",
       "8   7      41      \n",
       "9   8      41      \n",
       "10  9      11      \n",
       "\n",
       "                                                                          Name  \\\n",
       "0   -1_adolescent_adolescence_youth_risk factor                                  \n",
       "1   0_adolescent_adolescence_risk factor_youth                                   \n",
       "2   1_prenatal exposure_adhd_disorder adhd_cocaine exposure                      \n",
       "3   2_fatty liver_insulin resistance_liver disease_obesity                       \n",
       "4   3_fermentation_ethanol_wine_grape                                            \n",
       "5   4_ethanol exposure_intermittent ethanol_ethanol_hippocampal                  \n",
       "6   5_liver disease_fatty liver_hepatic steatosis_lipid profile                  \n",
       "7   6_adolescent sleep_sleep disturbance_association sleep_sleep problem         \n",
       "8   7_injury severity_trauma case_trauma_hospitalization                         \n",
       "9   8_risk breast_cancer risk_breast cancer_smoking consumption                  \n",
       "10  9_sibling influence_adolescent sibling_sibling relationship_effect sibling   \n",
       "\n",
       "                                                                                                                                                                      Representation  \n",
       "0   [adolescent, adolescence, youth, risk factor, adulthood, parental, prevalence, prevention, intervention, assessed]                                                                \n",
       "1   [adolescent, adolescence, risk factor, youth, parental, prevalence, adulthood, prevention, health, parent]                                                                        \n",
       "2   [prenatal exposure, adhd, disorder adhd, cocaine exposure, prenatal, developmental, marijuana, maternal, adolescent, pregnancy]                                                   \n",
       "3   [fatty liver, insulin resistance, liver disease, obesity, obese child, obese, cardiovascular risk, insulin, diabetes, metabolic]                                                  \n",
       "4   [fermentation, ethanol, wine, grape, yeast, phenolic, aroma, acetate, biosynthesis, extraction]                                                                                   \n",
       "5   [ethanol exposure, intermittent ethanol, ethanol, hippocampal, hippocampus, microglial, neurogenesis, microglia, adolescent binge, adolescent exposure]                           \n",
       "6   [liver disease, fatty liver, hepatic steatosis, lipid profile, hepatic, genotype, liver, cholesterol, nucleotide polymorphism, cirrhosis]                                         \n",
       "7   [adolescent sleep, sleep disturbance, association sleep, sleep problem, sleep difficulty, sleep quality, sleep loss, sleepiness, daytime sleepiness, sleep duration]              \n",
       "8   [injury severity, trauma case, trauma, hospitalization, severity, emergency department, injury, fracture, accident, hospital]                                                     \n",
       "9   [risk breast, cancer risk, breast cancer, smoking consumption, risk factor, increased risk, cancer, risk, cancer case, colorectal cancer]                                         \n",
       "10  [sibling influence, adolescent sibling, sibling relationship, effect sibling, younger sibling, sibling earlier, sibling important, sibling substance, sibling drinking, sibling]  "
      ]
     },
     "execution_count": 23,
     "metadata": {},
     "output_type": "execute_result"
    }
   ],
   "source": [
    "tm = topic_model.get_topic_info()[['Topic', 'Count', 'Name','Representation']]\n",
    "tm"
   ]
  },
  {
   "cell_type": "code",
   "execution_count": 24,
   "metadata": {},
   "outputs": [],
   "source": [
    "tm.to_excel('../topics.xlsx', index=False)"
   ]
  },
  {
   "cell_type": "code",
   "execution_count": 25,
   "metadata": {},
   "outputs": [],
   "source": [
    "# Run the visualization with the original embeddings\n",
    "# topic_model.visualize_documents(art['text'], embeddings=embeddings)"
   ]
  },
  {
   "cell_type": "code",
   "execution_count": 26,
   "metadata": {},
   "outputs": [
    {
     "data": {
      "application/vnd.plotly.v1+json": {
       "config": {
        "plotlyServerURL": "https://plot.ly"
       },
       "data": [
        {
         "coloraxis": "coloraxis",
         "hovertemplate": "x: %{x}<br>y: %{y}<br>Similarity Score: %{z}<extra></extra>",
         "name": "0",
         "type": "heatmap",
         "x": [
          "0_adolescent_adolescence_ri...",
          "1_prenatal exposure_adhd_di...",
          "2_fatty liver_insulin resis...",
          "3_fermentation_ethanol_wine",
          "4_ethanol exposure_intermit...",
          "5_liver disease_fatty liver...",
          "6_adolescent sleep_sleep di...",
          "7_injury severity_trauma ca...",
          "8_risk breast_cancer risk_b...",
          "9_sibling influence_adolesc..."
         ],
         "xaxis": "x",
         "y": [
          "0_adolescent_adolescence_ri...",
          "1_prenatal exposure_adhd_di...",
          "2_fatty liver_insulin resis...",
          "3_fermentation_ethanol_wine",
          "4_ethanol exposure_intermit...",
          "5_liver disease_fatty liver...",
          "6_adolescent sleep_sleep di...",
          "7_injury severity_trauma ca...",
          "8_risk breast_cancer risk_b...",
          "9_sibling influence_adolesc..."
         ],
         "yaxis": "y",
         "z": [
          [
           0.9999999999999997,
           0.8247086513690177,
           0.7298047866248719,
           0.37450933454096913,
           0.6525509150712234,
           0.5788829080746837,
           0.8158233850142963,
           0.5447251089066788,
           0.6384583697455801,
           0.7098281048882901
          ],
          [
           0.8247086513690177,
           0.9999999999999994,
           0.6792040142447164,
           0.3448956476716613,
           0.7515234108821148,
           0.5976501704452406,
           0.7172219752078082,
           0.48764659368432195,
           0.5503330512160348,
           0.6890941070503499
          ],
          [
           0.7298047866248719,
           0.6792040142447164,
           0.9999999999999996,
           0.3957192581495812,
           0.5271014989899542,
           0.8095616965468087,
           0.6855002958834653,
           0.6706330649039708,
           0.7269270323197874,
           0.47519723188087754
          ],
          [
           0.37450933454096913,
           0.3448956476716613,
           0.3957192581495812,
           1.0000000000000004,
           0.4024045580947056,
           0.5224242096274458,
           0.3538187349031063,
           0.36251525404705615,
           0.40775440924076056,
           0.22412810168879638
          ],
          [
           0.6525509150712234,
           0.7515234108821148,
           0.5271014989899542,
           0.4024045580947056,
           0.9999999999999998,
           0.6344799583883015,
           0.5977914100071493,
           0.36404635628351006,
           0.4381115036482159,
           0.484223038841905
          ],
          [
           0.5788829080746837,
           0.5976501704452406,
           0.8095616965468087,
           0.5224242096274458,
           0.6344799583883015,
           0.9999999999999996,
           0.5323386572986686,
           0.6047950561798384,
           0.7465192879097339,
           0.41639572424052484
          ],
          [
           0.8158233850142963,
           0.7172219752078082,
           0.6855002958834653,
           0.3538187349031063,
           0.5977914100071493,
           0.5323386572986686,
           1.0000000000000002,
           0.5249011883185373,
           0.5486150979327851,
           0.5370314994012962
          ],
          [
           0.5447251089066788,
           0.48764659368432195,
           0.6706330649039708,
           0.36251525404705615,
           0.36404635628351006,
           0.6047950561798384,
           0.5249011883185373,
           1.0000000000000002,
           0.572984399939676,
           0.29663700095345946
          ],
          [
           0.6384583697455801,
           0.5503330512160348,
           0.7269270323197874,
           0.40775440924076056,
           0.4381115036482159,
           0.7465192879097339,
           0.5486150979327851,
           0.572984399939676,
           1.0000000000000004,
           0.4337748982747964
          ],
          [
           0.7098281048882901,
           0.6890941070503499,
           0.47519723188087754,
           0.22412810168879638,
           0.484223038841905,
           0.41639572424052484,
           0.5370314994012962,
           0.29663700095345946,
           0.4337748982747964,
           1.0000000000000004
          ]
         ]
        }
       ],
       "layout": {
        "coloraxis": {
         "colorbar": {
          "title": {
           "text": "Similarity Score"
          }
         },
         "colorscale": [
          [
           0,
           "rgb(247,252,240)"
          ],
          [
           0.125,
           "rgb(224,243,219)"
          ],
          [
           0.25,
           "rgb(204,235,197)"
          ],
          [
           0.375,
           "rgb(168,221,181)"
          ],
          [
           0.5,
           "rgb(123,204,196)"
          ],
          [
           0.625,
           "rgb(78,179,211)"
          ],
          [
           0.75,
           "rgb(43,140,190)"
          ],
          [
           0.875,
           "rgb(8,104,172)"
          ],
          [
           1,
           "rgb(8,64,129)"
          ]
         ]
        },
        "height": 800,
        "hoverlabel": {
         "bgcolor": "white",
         "font": {
          "family": "Rockwell",
          "size": 16
         }
        },
        "legend": {
         "title": {
          "text": "Trend"
         }
        },
        "margin": {
         "t": 60
        },
        "showlegend": true,
        "template": {
         "data": {
          "bar": [
           {
            "error_x": {
             "color": "#2a3f5f"
            },
            "error_y": {
             "color": "#2a3f5f"
            },
            "marker": {
             "line": {
              "color": "#E5ECF6",
              "width": 0.5
             },
             "pattern": {
              "fillmode": "overlay",
              "size": 10,
              "solidity": 0.2
             }
            },
            "type": "bar"
           }
          ],
          "barpolar": [
           {
            "marker": {
             "line": {
              "color": "#E5ECF6",
              "width": 0.5
             },
             "pattern": {
              "fillmode": "overlay",
              "size": 10,
              "solidity": 0.2
             }
            },
            "type": "barpolar"
           }
          ],
          "carpet": [
           {
            "aaxis": {
             "endlinecolor": "#2a3f5f",
             "gridcolor": "white",
             "linecolor": "white",
             "minorgridcolor": "white",
             "startlinecolor": "#2a3f5f"
            },
            "baxis": {
             "endlinecolor": "#2a3f5f",
             "gridcolor": "white",
             "linecolor": "white",
             "minorgridcolor": "white",
             "startlinecolor": "#2a3f5f"
            },
            "type": "carpet"
           }
          ],
          "choropleth": [
           {
            "colorbar": {
             "outlinewidth": 0,
             "ticks": ""
            },
            "type": "choropleth"
           }
          ],
          "contour": [
           {
            "colorbar": {
             "outlinewidth": 0,
             "ticks": ""
            },
            "colorscale": [
             [
              0,
              "#0d0887"
             ],
             [
              0.1111111111111111,
              "#46039f"
             ],
             [
              0.2222222222222222,
              "#7201a8"
             ],
             [
              0.3333333333333333,
              "#9c179e"
             ],
             [
              0.4444444444444444,
              "#bd3786"
             ],
             [
              0.5555555555555556,
              "#d8576b"
             ],
             [
              0.6666666666666666,
              "#ed7953"
             ],
             [
              0.7777777777777778,
              "#fb9f3a"
             ],
             [
              0.8888888888888888,
              "#fdca26"
             ],
             [
              1,
              "#f0f921"
             ]
            ],
            "type": "contour"
           }
          ],
          "contourcarpet": [
           {
            "colorbar": {
             "outlinewidth": 0,
             "ticks": ""
            },
            "type": "contourcarpet"
           }
          ],
          "heatmap": [
           {
            "colorbar": {
             "outlinewidth": 0,
             "ticks": ""
            },
            "colorscale": [
             [
              0,
              "#0d0887"
             ],
             [
              0.1111111111111111,
              "#46039f"
             ],
             [
              0.2222222222222222,
              "#7201a8"
             ],
             [
              0.3333333333333333,
              "#9c179e"
             ],
             [
              0.4444444444444444,
              "#bd3786"
             ],
             [
              0.5555555555555556,
              "#d8576b"
             ],
             [
              0.6666666666666666,
              "#ed7953"
             ],
             [
              0.7777777777777778,
              "#fb9f3a"
             ],
             [
              0.8888888888888888,
              "#fdca26"
             ],
             [
              1,
              "#f0f921"
             ]
            ],
            "type": "heatmap"
           }
          ],
          "heatmapgl": [
           {
            "colorbar": {
             "outlinewidth": 0,
             "ticks": ""
            },
            "colorscale": [
             [
              0,
              "#0d0887"
             ],
             [
              0.1111111111111111,
              "#46039f"
             ],
             [
              0.2222222222222222,
              "#7201a8"
             ],
             [
              0.3333333333333333,
              "#9c179e"
             ],
             [
              0.4444444444444444,
              "#bd3786"
             ],
             [
              0.5555555555555556,
              "#d8576b"
             ],
             [
              0.6666666666666666,
              "#ed7953"
             ],
             [
              0.7777777777777778,
              "#fb9f3a"
             ],
             [
              0.8888888888888888,
              "#fdca26"
             ],
             [
              1,
              "#f0f921"
             ]
            ],
            "type": "heatmapgl"
           }
          ],
          "histogram": [
           {
            "marker": {
             "pattern": {
              "fillmode": "overlay",
              "size": 10,
              "solidity": 0.2
             }
            },
            "type": "histogram"
           }
          ],
          "histogram2d": [
           {
            "colorbar": {
             "outlinewidth": 0,
             "ticks": ""
            },
            "colorscale": [
             [
              0,
              "#0d0887"
             ],
             [
              0.1111111111111111,
              "#46039f"
             ],
             [
              0.2222222222222222,
              "#7201a8"
             ],
             [
              0.3333333333333333,
              "#9c179e"
             ],
             [
              0.4444444444444444,
              "#bd3786"
             ],
             [
              0.5555555555555556,
              "#d8576b"
             ],
             [
              0.6666666666666666,
              "#ed7953"
             ],
             [
              0.7777777777777778,
              "#fb9f3a"
             ],
             [
              0.8888888888888888,
              "#fdca26"
             ],
             [
              1,
              "#f0f921"
             ]
            ],
            "type": "histogram2d"
           }
          ],
          "histogram2dcontour": [
           {
            "colorbar": {
             "outlinewidth": 0,
             "ticks": ""
            },
            "colorscale": [
             [
              0,
              "#0d0887"
             ],
             [
              0.1111111111111111,
              "#46039f"
             ],
             [
              0.2222222222222222,
              "#7201a8"
             ],
             [
              0.3333333333333333,
              "#9c179e"
             ],
             [
              0.4444444444444444,
              "#bd3786"
             ],
             [
              0.5555555555555556,
              "#d8576b"
             ],
             [
              0.6666666666666666,
              "#ed7953"
             ],
             [
              0.7777777777777778,
              "#fb9f3a"
             ],
             [
              0.8888888888888888,
              "#fdca26"
             ],
             [
              1,
              "#f0f921"
             ]
            ],
            "type": "histogram2dcontour"
           }
          ],
          "mesh3d": [
           {
            "colorbar": {
             "outlinewidth": 0,
             "ticks": ""
            },
            "type": "mesh3d"
           }
          ],
          "parcoords": [
           {
            "line": {
             "colorbar": {
              "outlinewidth": 0,
              "ticks": ""
             }
            },
            "type": "parcoords"
           }
          ],
          "pie": [
           {
            "automargin": true,
            "type": "pie"
           }
          ],
          "scatter": [
           {
            "fillpattern": {
             "fillmode": "overlay",
             "size": 10,
             "solidity": 0.2
            },
            "type": "scatter"
           }
          ],
          "scatter3d": [
           {
            "line": {
             "colorbar": {
              "outlinewidth": 0,
              "ticks": ""
             }
            },
            "marker": {
             "colorbar": {
              "outlinewidth": 0,
              "ticks": ""
             }
            },
            "type": "scatter3d"
           }
          ],
          "scattercarpet": [
           {
            "marker": {
             "colorbar": {
              "outlinewidth": 0,
              "ticks": ""
             }
            },
            "type": "scattercarpet"
           }
          ],
          "scattergeo": [
           {
            "marker": {
             "colorbar": {
              "outlinewidth": 0,
              "ticks": ""
             }
            },
            "type": "scattergeo"
           }
          ],
          "scattergl": [
           {
            "marker": {
             "colorbar": {
              "outlinewidth": 0,
              "ticks": ""
             }
            },
            "type": "scattergl"
           }
          ],
          "scattermapbox": [
           {
            "marker": {
             "colorbar": {
              "outlinewidth": 0,
              "ticks": ""
             }
            },
            "type": "scattermapbox"
           }
          ],
          "scatterpolar": [
           {
            "marker": {
             "colorbar": {
              "outlinewidth": 0,
              "ticks": ""
             }
            },
            "type": "scatterpolar"
           }
          ],
          "scatterpolargl": [
           {
            "marker": {
             "colorbar": {
              "outlinewidth": 0,
              "ticks": ""
             }
            },
            "type": "scatterpolargl"
           }
          ],
          "scatterternary": [
           {
            "marker": {
             "colorbar": {
              "outlinewidth": 0,
              "ticks": ""
             }
            },
            "type": "scatterternary"
           }
          ],
          "surface": [
           {
            "colorbar": {
             "outlinewidth": 0,
             "ticks": ""
            },
            "colorscale": [
             [
              0,
              "#0d0887"
             ],
             [
              0.1111111111111111,
              "#46039f"
             ],
             [
              0.2222222222222222,
              "#7201a8"
             ],
             [
              0.3333333333333333,
              "#9c179e"
             ],
             [
              0.4444444444444444,
              "#bd3786"
             ],
             [
              0.5555555555555556,
              "#d8576b"
             ],
             [
              0.6666666666666666,
              "#ed7953"
             ],
             [
              0.7777777777777778,
              "#fb9f3a"
             ],
             [
              0.8888888888888888,
              "#fdca26"
             ],
             [
              1,
              "#f0f921"
             ]
            ],
            "type": "surface"
           }
          ],
          "table": [
           {
            "cells": {
             "fill": {
              "color": "#EBF0F8"
             },
             "line": {
              "color": "white"
             }
            },
            "header": {
             "fill": {
              "color": "#C8D4E3"
             },
             "line": {
              "color": "white"
             }
            },
            "type": "table"
           }
          ]
         },
         "layout": {
          "annotationdefaults": {
           "arrowcolor": "#2a3f5f",
           "arrowhead": 0,
           "arrowwidth": 1
          },
          "autotypenumbers": "strict",
          "coloraxis": {
           "colorbar": {
            "outlinewidth": 0,
            "ticks": ""
           }
          },
          "colorscale": {
           "diverging": [
            [
             0,
             "#8e0152"
            ],
            [
             0.1,
             "#c51b7d"
            ],
            [
             0.2,
             "#de77ae"
            ],
            [
             0.3,
             "#f1b6da"
            ],
            [
             0.4,
             "#fde0ef"
            ],
            [
             0.5,
             "#f7f7f7"
            ],
            [
             0.6,
             "#e6f5d0"
            ],
            [
             0.7,
             "#b8e186"
            ],
            [
             0.8,
             "#7fbc41"
            ],
            [
             0.9,
             "#4d9221"
            ],
            [
             1,
             "#276419"
            ]
           ],
           "sequential": [
            [
             0,
             "#0d0887"
            ],
            [
             0.1111111111111111,
             "#46039f"
            ],
            [
             0.2222222222222222,
             "#7201a8"
            ],
            [
             0.3333333333333333,
             "#9c179e"
            ],
            [
             0.4444444444444444,
             "#bd3786"
            ],
            [
             0.5555555555555556,
             "#d8576b"
            ],
            [
             0.6666666666666666,
             "#ed7953"
            ],
            [
             0.7777777777777778,
             "#fb9f3a"
            ],
            [
             0.8888888888888888,
             "#fdca26"
            ],
            [
             1,
             "#f0f921"
            ]
           ],
           "sequentialminus": [
            [
             0,
             "#0d0887"
            ],
            [
             0.1111111111111111,
             "#46039f"
            ],
            [
             0.2222222222222222,
             "#7201a8"
            ],
            [
             0.3333333333333333,
             "#9c179e"
            ],
            [
             0.4444444444444444,
             "#bd3786"
            ],
            [
             0.5555555555555556,
             "#d8576b"
            ],
            [
             0.6666666666666666,
             "#ed7953"
            ],
            [
             0.7777777777777778,
             "#fb9f3a"
            ],
            [
             0.8888888888888888,
             "#fdca26"
            ],
            [
             1,
             "#f0f921"
            ]
           ]
          },
          "colorway": [
           "#636efa",
           "#EF553B",
           "#00cc96",
           "#ab63fa",
           "#FFA15A",
           "#19d3f3",
           "#FF6692",
           "#B6E880",
           "#FF97FF",
           "#FECB52"
          ],
          "font": {
           "color": "#2a3f5f"
          },
          "geo": {
           "bgcolor": "white",
           "lakecolor": "white",
           "landcolor": "#E5ECF6",
           "showlakes": true,
           "showland": true,
           "subunitcolor": "white"
          },
          "hoverlabel": {
           "align": "left"
          },
          "hovermode": "closest",
          "mapbox": {
           "style": "light"
          },
          "paper_bgcolor": "white",
          "plot_bgcolor": "#E5ECF6",
          "polar": {
           "angularaxis": {
            "gridcolor": "white",
            "linecolor": "white",
            "ticks": ""
           },
           "bgcolor": "#E5ECF6",
           "radialaxis": {
            "gridcolor": "white",
            "linecolor": "white",
            "ticks": ""
           }
          },
          "scene": {
           "xaxis": {
            "backgroundcolor": "#E5ECF6",
            "gridcolor": "white",
            "gridwidth": 2,
            "linecolor": "white",
            "showbackground": true,
            "ticks": "",
            "zerolinecolor": "white"
           },
           "yaxis": {
            "backgroundcolor": "#E5ECF6",
            "gridcolor": "white",
            "gridwidth": 2,
            "linecolor": "white",
            "showbackground": true,
            "ticks": "",
            "zerolinecolor": "white"
           },
           "zaxis": {
            "backgroundcolor": "#E5ECF6",
            "gridcolor": "white",
            "gridwidth": 2,
            "linecolor": "white",
            "showbackground": true,
            "ticks": "",
            "zerolinecolor": "white"
           }
          },
          "shapedefaults": {
           "line": {
            "color": "#2a3f5f"
           }
          },
          "ternary": {
           "aaxis": {
            "gridcolor": "white",
            "linecolor": "white",
            "ticks": ""
           },
           "baxis": {
            "gridcolor": "white",
            "linecolor": "white",
            "ticks": ""
           },
           "bgcolor": "#E5ECF6",
           "caxis": {
            "gridcolor": "white",
            "linecolor": "white",
            "ticks": ""
           }
          },
          "title": {
           "x": 0.05
          },
          "xaxis": {
           "automargin": true,
           "gridcolor": "white",
           "linecolor": "white",
           "ticks": "",
           "title": {
            "standoff": 15
           },
           "zerolinecolor": "white",
           "zerolinewidth": 2
          },
          "yaxis": {
           "automargin": true,
           "gridcolor": "white",
           "linecolor": "white",
           "ticks": "",
           "title": {
            "standoff": 15
           },
           "zerolinecolor": "white",
           "zerolinewidth": 2
          }
         }
        },
        "title": {
         "font": {
          "color": "Black",
          "size": 22
         },
         "text": "<b>Similarity Matrix</b>",
         "x": 0.55,
         "xanchor": "center",
         "y": 0.95,
         "yanchor": "top"
        },
        "width": 800,
        "xaxis": {
         "anchor": "y",
         "constrain": "domain",
         "domain": [
          0,
          1
         ],
         "scaleanchor": "y"
        },
        "yaxis": {
         "anchor": "x",
         "autorange": "reversed",
         "constrain": "domain",
         "domain": [
          0,
          1
         ]
        }
       }
      }
     },
     "metadata": {},
     "output_type": "display_data"
    }
   ],
   "source": [
    "topic_model.visualize_heatmap()"
   ]
  },
  {
   "cell_type": "code",
   "execution_count": 27,
   "metadata": {},
   "outputs": [
    {
     "data": {
      "text/plain": [
       "array([0.        , 0.45513667, 0.        , 0.        , 0.        ,\n",
       "       1.        , 1.        , 0.        , 0.72604774, 0.91888176,\n",
       "       0.8847519 , 0.98689247, 0.10145557, 0.        , 0.        ,\n",
       "       1.        , 0.41657135, 0.        , 0.        , 0.        ])"
      ]
     },
     "execution_count": 27,
     "metadata": {},
     "output_type": "execute_result"
    }
   ],
   "source": [
    "probs[:20]"
   ]
  },
  {
   "cell_type": "markdown",
   "metadata": {},
   "source": [
    "## Attaching Discovered Topic Labels to Original Articles"
   ]
  },
  {
   "cell_type": "code",
   "execution_count": 28,
   "metadata": {},
   "outputs": [],
   "source": [
    "art['Topic'] = topics\n",
    "art['Prob'] = probs\n",
    "# art = art[(art['Topic'] >= 0)]   # -1 refers to all outliers and should typically be ignored. \n",
    "art = art.drop(columns=['text'])"
   ]
  },
  {
   "cell_type": "code",
   "execution_count": 29,
   "metadata": {},
   "outputs": [
    {
     "data": {
      "text/html": [
       "<div>\n",
       "<style scoped>\n",
       "    .dataframe tbody tr th:only-of-type {\n",
       "        vertical-align: middle;\n",
       "    }\n",
       "\n",
       "    .dataframe tbody tr th {\n",
       "        vertical-align: top;\n",
       "    }\n",
       "\n",
       "    .dataframe thead th {\n",
       "        text-align: right;\n",
       "    }\n",
       "</style>\n",
       "<table border=\"1\" class=\"dataframe\">\n",
       "  <thead>\n",
       "    <tr style=\"text-align: right;\">\n",
       "      <th></th>\n",
       "      <th>Article Title</th>\n",
       "      <th>Abstract</th>\n",
       "      <th>Prob</th>\n",
       "    </tr>\n",
       "  </thead>\n",
       "  <tbody>\n",
       "    <tr>\n",
       "      <th>130</th>\n",
       "      <td>Emotional Processing and Brain Activity in Youth at High Risk for Alcoholism</td>\n",
       "      <td>Background: Even in the absence of heavy alcohol use, youth with familial alcoholism (family history positive [FHP]) exhibit atypical brain functioning and behavior. Although emotional and cognitive systems are affected in alcohol use disorders (AUDs), little attention has focused on whether brain and behavior phenotypes related to the interplay between affective and executive functioning may be a premorbid risk factor for the development of AUDs in FHP youth. Methods: Twenty-four FHP and 22 family history negative (FHN) 12- to 16-year-old adolescents completed study procedures. After exclusion of participants with clinically significant depressive symptoms and those who did not meet performance criteria during an Emotional Go-NoGo task, 19 FHP and 17 FHN youth were included in functional magnetic resonance imaging (fMRI) analyses. Resting state functional connectivity MRI, using amygdalar seed regions, was analyzed in 16 FHP and 18 FHN youth, after exclusion of participants with excessive head movement. Results: fMRI showed that brain activity in FHP youth, compared with FHN peers, was reduced during emotional processing in the superior temporal cortex, as well as during cognitive control within emotional contexts in frontal and striatal regions. Group differences in resting state amygdalar connectivity were seen bilaterally between FHP and FHN youth. In FHP youth, reduced resting state synchrony between the left amygdala and left superior frontal gyrus was related to poorer response inhibition, as measured during the fMRI task. Conclusions: To our knowledge, this is the first study to examine emotion-cognition interactions and resting state functional connectivity in FHP youth. Findings from this research provide insight into neural and behavioral phenotypes associated with emotional processing in familial alcoholism, which may relate to increased risk of developing AUDs.</td>\n",
       "      <td>0.584518</td>\n",
       "    </tr>\n",
       "    <tr>\n",
       "      <th>141</th>\n",
       "      <td>Prenatal substance exposure, adverse childhood experiences and diagnosed mental and behavioral disorders - A longitudinal register-based matched cohort study in Finland</td>\n",
       "      <td>Both prenatal substance exposure (PSE, alcohol/drugs) and experiences during the first years of life have powerful effects on brain development. However, only a few studies have investigated the combined effect of PSE and adverse childhood experiences (ACEs) on mental and behavioral disorders among exposed adolescents and adults. This longitudinal register-based cohort study 1) compared the nature and extent of diagnosed mental and behavioral disorders among youth with PSE and matched unexposed controls, and 2) investigated the influence of PSE, health in infancy and ACEs (maternal risk factors and out-of-home care, OHC) on diagnoses of mental and behavioral disorders. The data consisted of 615 exposed youth aged 15-24 years and 1787 matched unexposed controls. Data from hospital medical records and nine registers were merged for the analysis. Descriptive analysis methods and Cox regression were used. The results showed that the prevalence of mental and behavioral disorders was twice as high among exposed compared with controls. The highest levels of mental and behavioral disorders and ACEs were found among exposed with at least one OHC episode. The difference in the risk of mental and behavioral disorders between exposed and controls diminished after controlling for the effect of ACEs. Low birth weight, maternal risk factors, and OHC were the strongest predictors of mental and behavioral disorders. The results suggest that PSE alone does not explain poorer mental health among exposed youth. Risk factors accumulate, and low birth weight and ACEs are strongly associated with increased risk of mental and behavioral disorders.</td>\n",
       "      <td>0.688872</td>\n",
       "    </tr>\n",
       "    <tr>\n",
       "      <th>147</th>\n",
       "      <td>The Relationship Between Socioeconomic Status and Brain Volume in Children and Adolescents With Prenatal Alcohol Exposure</td>\n",
       "      <td>The positive relationship between socioeconomic status (SES) and cognitive performance is mediated, in part, by differences in brain structure in typically developing youth. Associations between brain regions that relate to SES overlap with brain regions known to be sensitive to prenatal alcohol exposure (PAE). Animal models demonstrate that PAE attenuates neural and cognitive benefits of early life enrichment. However, whether or not environmental factors related to SES are associated with brain development in youth affected by PAE remains unknown in humans. Methods T1-weighted magnetic resonance imaging (MRI) scans were obtained in participants with PAE and compared to age- and sex- matched Controls (n = 197, 48% with PAE, 44% girls, 6.5-17.7 years old). General linear modeling was utilized to examine associations between SES and subcortical brain volumes for youth with PAE compared to Controls. Results Group by SES interactions were observed within the hippocampus (HPC), nucleus accumbens (NAc) and ventral diencephalon (vDC) (corrected p values &lt;0.05), where positive associations (e.g., higher SES related to larger subcortical volumes) were observed within Controls, but not youth with PAE. Post hoc analyses examined associations between SES and brain volumes within each group independently, and revealed widespread positive associations among Controls (Amyg, HPC, NAc, Pallidum, Putamen, vDC), but not youth with PAE. Across both groups, larger subcortical volumes were related to higher cognitive performance. Conclusion Typically developing youth exhibit increased subcortical volumes with increased SES, and surprisingly, this relationship is absent in adolescents with PAE. Findings suggest that subcortical brain volumes are neurocognitively relevant in both groups. The present results expand our understanding of the impact of PAE on the developing human brain within varying environmental contexts, and may inform novel environmental interventions that aim to improve, in part, on-going disruptions in brain development among youth with PAE. Our study highlights novel complexities in the pursuit to understand SES-brain associations, as we provide evidence that SES matters for brain outcomes among typically developing youth, and possibly not as much on an already altered brain as a result of PAE.</td>\n",
       "      <td>1.000000</td>\n",
       "    </tr>\n",
       "    <tr>\n",
       "      <th>190</th>\n",
       "      <td>Individual differences in the development of youth externalizing problems predict a broad range of adult psychosocial outcomes</td>\n",
       "      <td>This study examined how youth aggressive and delinquent externalizing problem behaviors across childhood and adolescence are connected to consequential psychosocial life outcomes in adulthood. Using data from a longitudinal, high-risk sample (N = 1069) that assessed children and their parents regularly from early childhood (ages 3-5) through adulthood, multilevel growth factors of externalizing behaviors were used to predict adult outcomes (age 24-31), providing a sense of how externalizing problems across development were related to these outcomes via maternal, paternal, teacher, and child report. Findings indicated strong support for the lasting connections between youth externalizing problems with later educational attainment and legal difficulties, spanning informants and enduring beyond other meaningful contributors (i.e., child sex, cognitive ability, parental income and education, parental mental health and relationship quality). Some support was also found, although less consistently, linking externalizing problems and later alcohol use as well as romantic relationship quality. Delinquent/rule-breaking behaviors were often stronger predictors of later outcomes than aggressive behaviors. Taken together, these results indicate the importance of the role youth externalizing behaviors have in adult psychosocial functioning one to two decades later.</td>\n",
       "      <td>0.673816</td>\n",
       "    </tr>\n",
       "    <tr>\n",
       "      <th>230</th>\n",
       "      <td>Lower total and regional grey matter brain volumes in youth with perinatally-acquired HIV infection: Associations with HIV disease severity, substance use, and cognition</td>\n",
       "      <td>Despite improved survival due to combination antiretroviral therapy (cART), youth with perinatallyacquired HIV (PHIV) show cognitive deficits and developmental delay at increased rates. HIV affects the brain during critical periods of development, and the brain may be a persistent reservoir for HIV due to suboptimal blood brain barrier penetration of cART. We conducted structural magnetic resonance imaging (sMRI) and cognitive testing in 40 PHIV youth (mean age = 16.7 years) recruited from the NIH Pediatric HIV/AIDS Cohort Study (PHACS) who are part of the first generation of PHIV youth surviving into adulthood. Historical and current HIV disease severity and substance use measures were also collected. Total and regional cortical grey matter brain volumes were compared to a group of 334 typically developing, HIV-unexposed and uninfected youth (frequency-matched for age and sex) from the Pediatric Imaging, Neurocognition, and Genetics (PING) study (mean age = 16.1 years). PHIV youth had smaller (2.8-5.1%) total and regional grey matter volumes than HIV-unexposed and uninfected youth, with smallest volumes seen among PHIV youth with higher past peak viral load (VL) and recent unsuppressed VL. In PHIV youth, worse cognitive performance correlated with smaller volumes. This pattern of smaller grey matter volumes suggests that PHIV infection may influence brain development and underlie cognitive dysfunction seen in this population. Among PHIV youth, smaller volumes were also linked to substance use (alcohol use: 9.0-13.4%; marijuana use: 10.1-16.0%). In this study, collection of substance use information was limited to the PHIV cohort; future studies should also collect substance use information in controls to further address interactions between HIV and substance use on brain volume. (C) 2017 Elsevier Inc. All rights reserved.</td>\n",
       "      <td>0.790849</td>\n",
       "    </tr>\n",
       "    <tr>\n",
       "      <th>278</th>\n",
       "      <td>Interactive Association of Dopamine Receptor (DRD4) Genotype and ADHD on Alcohol Expectancies in Children</td>\n",
       "      <td>Positive and negative alcohol expectancies (AEs) are beliefs about the consequences of alcohol use (e.g., happy, sad, lazy) and they predict patterns of adolescent and adult alcohol engagement in clinical and nonclinical samples. However, significantly less is known about predictors of AE in children, despite significant variability in AE early in and across development. To identify temporally ordered risk factors that precede AE, we evaluated the independent and interactive association of the functional 7-repeat polymorphism of the dopamine D-4 receptor (DRD4) genotype and attention-deficit/hyperactivity disorder (ADHD) with respect to individual differences in positive-social, negative-arousal, sedated/impaired, and wild/crazy AE in school-age children (N = 149) prospectively followed from 6-9 to 8-13 years of age. Controlling for age, sex, and wave, DRD4 7+ carriers reported more wild/crazy AE, but DRD4 was unrelated to the remaining AE domains. ADHD symptoms independently predicted higher negative-arousal, sedated/impaired, and wild/crazy AE, but not positive-social. We also observed a significant interaction in which ADHD symptoms positively predicted wild/crazy AE only in youth with the 7-repeat DRD4 genotype; the same interaction marginally predicted sedated/impaired AE. No interactive effects were observed for the remaining AE domains. These preliminary results suggest that, among DRD4 youth, early ADHD symptoms predict that children will expect alcohol to have wild/crazy effects. We consider these results within a developmental framework to better understand pathways to and from youth alcohol problems.</td>\n",
       "      <td>0.546188</td>\n",
       "    </tr>\n",
       "    <tr>\n",
       "      <th>502</th>\n",
       "      <td>ADHD and risky sexual behavior in adolescents: Conduct problems and substance use as mediators of risk</td>\n",
       "      <td>BackgroundRecent studies have linked attention-deficit/hyperactivity disorder (ADHD) to elevated rates of risky sexual behavior (RSB) in adult samples. The current study tested whether ADHD symptoms were associated with RSB among adolescents, and examined comorbid conduct problems and problematic substance use as joint mediators of this association. MethodsADHD symptoms, conduct problems (oppositional defiant disorder/conduct disorder symptoms), problematic alcohol use (alcohol use disorder symptoms, alcohol use frequency), problematic marijuana use (marijuana use disorder symptoms, marijuana use frequency), and RSB were assessed among an ethnically diverse cross-sectional sample of adolescents (N=115; mean age=14.9years) involved in the juvenile justice system. ResultsBootstrapped mediation models revealed an initial association between ADHD symptoms and RSB that was accounted for fully by the influence of problematic alcohol and marijuana use, but not conduct problems. A follow-up multiple groups mediation analysis demonstrated that the relationship between ADHD symptoms and RSB emerged only among youth with clinically elevated conduct problems, and that problematic marijuana use fully accounted for this relationship. Hyperactive/impulsive, but not inattentive, symptoms were related to RSB, although the pattern of indirect effects was consistent with the multiple groups analysis. ConclusionsThe association between ADHD and adolescent RSB is restricted to youth with elevated comorbid conduct problems and reflects the contributions of comorbid marijuana use problems, and to a lesser extent alcohol use problems. Early identification and treatment of these comorbid conditions may be important for the prevention of negative sexual health outcomes among youth with ADHD.</td>\n",
       "      <td>1.000000</td>\n",
       "    </tr>\n",
       "    <tr>\n",
       "      <th>518</th>\n",
       "      <td>Association of Prenatal Alcohol Exposure With Psychological, Behavioral, and Neurodevelopmental Outcomes in Children From the Adolescent Brain Cognitive Development Study</td>\n",
       "      <td>Objective: Data on the neurodevelopmental and associated behavioral effects of tight to moderate in utero alcohol exposure are limited. This retrospective investigation tested for associations between reported maternal prenatal alcohol use and psychological, behavioral, and neurodevelopmental outcomes in substance-naive youths. Methods: Participants were 9,719 youths (ages 9.0 to 10.9 years) from the Adolescent Brain Cognitive Development Study. Based on parental reports. 2,518 (25.9%) had been exposed to alcohol in utero. Generalized additive mixed models and multilevel cross-sectional and longitudinal mediation models were used to test whether prenatal alcohol exposure was associated with psychological, behavioral, and cognitive outcomes, and whether differences in brain structure and resting-state functional connectivity partially explained these associations at baseline and 1-year follow-up, after controlling for possible confounding factors. Results: Prenatal alcohol exposure of any severity was associated with greater psychopathology, attention deficits, and impulsiveness, with some effects showing a dose-dependent response. Children with prenatal alcohol exposure, compared with those without, displayed greater cerebral and regional volume and greater regional surface area. Resting-state functional connectivity was largely unaltered in children with in utero exposure. Some of the psychological and behavioral outcomes at baseline and at the 1-year follow-up were partially explained by differences in brain structure among youths who had been exposed to alcohol in utero. Conclusions: Any alcohol use during pregnancy is associated with subtle yet significant psychological and behavioral effects in children. Women should continue to be advised to abstain from alcohol consumption from conception throughout pregnancy.</td>\n",
       "      <td>0.869918</td>\n",
       "    </tr>\n",
       "    <tr>\n",
       "      <th>573</th>\n",
       "      <td>Hippocampal Volumes in Adolescents with and without a Family History of Alcoholism</td>\n",
       "      <td>Background and Objectives: The hippocampus may be vulnerable to the effects of heavy alcohol use during adolescence, which is a time of continued neurodevelopment. However, differences in hippocampal volume may be due to risk factors such as a family history (FH) of alcoholism. We examined hippocampal volumes in youth with and without a FH of alcoholism prior to the initiation of alcohol use. Methods: Participants were demographically matched adolescents (aged 12-14) with positive (n = 15; FHP) and negative (n = 15; FHN) FH of alcoholism. Each group consisted of 10 males and 5 females with minimal previous substance use. Manual hippocampal tracings were completed on high-resolution magnetic resonance images by reliable raters, and intracranial volumes were controlled in analyses. Results: FH groups did not differ on memory or hippocampal volumes, but group x gender interactions (p &lt; .05) indicated that FHP males had larger left hippocampi than FHN males. Females showed greater left versus right hippocampal asymmetry, while males showed larger right versus left asymmetry. For all adolescents, larger right hippocampal volumes predicted poorer delayed visual memory (p &lt; .01). Conclusion and Significance: Alcoholism risk factors, such as family history of alcoholism, may differentially influence adolescent hippocampal development for boys as compared to girls. Results suggest that FH does not account for prior findings of reduced left hippocampal volumes in heavy drinking youth. Findings are preliminary, but suggest that future studies examining the effects of alcohol use on the adolescent brain should consider the influence of FH, especially among boys.</td>\n",
       "      <td>0.604949</td>\n",
       "    </tr>\n",
       "    <tr>\n",
       "      <th>582</th>\n",
       "      <td>Prenatal Exposure And Child brain and mental Health (PEACH) study: protocol for a cohort study of children and youth with prenatal alcohol exposure</td>\n",
       "      <td>Introduction Fetal alcohol spectrum disorder (FASD), which is caused by prenatal alcohol exposure (PAE), affects an estimated 4% of North Americans, and is the most common preventable cause of intellectual disability. Mental health problems, including anxiety and depression, are experienced by nearly all individuals with FASD. However, there is very limited knowledge about effective mental health treatments for individuals with FASD; effective treatments are hindered in part due to a lack of understanding of the basic neurobiology underlying internalising disorders in youth with FASD. Methods and analysis The Prenatal Exposure And Child brain and mental Health (PEACH) study includes children aged 7-18 years. We will use longitudinal neuroimaging (anatomical T1-weighted, diffusion and passive viewing function MRI) and mental health assessments (Behaviour Assessment Scale for Children, Multi-dimensional Anxiety Scale for Children, Children's Depression Inventory (CDI-2), Kiddie Scale of Affective Disorders) to: (1) characterise brain development trajectories in youth with FASD, (2) determine whether brain alterations mediate increased anxiety and depression in youth with FASD and (3) identify baseline brain features that predict changes of anxiety and depression symptoms over the next 2 years. All of this will be done while considering sex and adverse postnatal experiences, which can significantly impact mental health and brain outcomes. This project will forge new understanding of FASD and mental health from a neurobiological perspective, highlighting key time periods (ie, sensitive windows) and brain regions (ie, that may be susceptible to neurostimulation), while identifying factors that predict individual trajectories of anxiety and depression symptoms. Ethics and dissemination This study was approved by the University of Calgary Conjoint Health Research Ethics Board and the University of Alberta Health Research Ethics Board. Study results will be disseminated in peer-reviewed journals, at relevant conferences and in conjunction with our knowledge mobilisation partners.</td>\n",
       "      <td>0.907908</td>\n",
       "    </tr>\n",
       "  </tbody>\n",
       "</table>\n",
       "</div>"
      ],
      "text/plain": [
       "                                                                                                                                                                  Article Title  \\\n",
       "130  Emotional Processing and Brain Activity in Youth at High Risk for Alcoholism                                                                                                 \n",
       "141  Prenatal substance exposure, adverse childhood experiences and diagnosed mental and behavioral disorders - A longitudinal register-based matched cohort study in Finland     \n",
       "147  The Relationship Between Socioeconomic Status and Brain Volume in Children and Adolescents With Prenatal Alcohol Exposure                                                    \n",
       "190  Individual differences in the development of youth externalizing problems predict a broad range of adult psychosocial outcomes                                               \n",
       "230  Lower total and regional grey matter brain volumes in youth with perinatally-acquired HIV infection: Associations with HIV disease severity, substance use, and cognition    \n",
       "278  Interactive Association of Dopamine Receptor (DRD4) Genotype and ADHD on Alcohol Expectancies in Children                                                                    \n",
       "502  ADHD and risky sexual behavior in adolescents: Conduct problems and substance use as mediators of risk                                                                       \n",
       "518  Association of Prenatal Alcohol Exposure With Psychological, Behavioral, and Neurodevelopmental Outcomes in Children From the Adolescent Brain Cognitive Development Study   \n",
       "573  Hippocampal Volumes in Adolescents with and without a Family History of Alcoholism                                                                                           \n",
       "582  Prenatal Exposure And Child brain and mental Health (PEACH) study: protocol for a cohort study of children and youth with prenatal alcohol exposure                          \n",
       "\n",
       "                                                                                                                                                                                                                                                                                                                                                                                                                                                                                                                                                                                                                                                                                                                                                                                                                                                                                                                                                                                                                                                                                                                                                                                                                                                                                                                                                                                                                                                                                                                                                                                                                                                                                                                                                                                                                                                                                                                                                                                                                                                                                                                                                                                                                                                                                                                                                                                                                         Abstract  \\\n",
       "130  Background: Even in the absence of heavy alcohol use, youth with familial alcoholism (family history positive [FHP]) exhibit atypical brain functioning and behavior. Although emotional and cognitive systems are affected in alcohol use disorders (AUDs), little attention has focused on whether brain and behavior phenotypes related to the interplay between affective and executive functioning may be a premorbid risk factor for the development of AUDs in FHP youth. Methods: Twenty-four FHP and 22 family history negative (FHN) 12- to 16-year-old adolescents completed study procedures. After exclusion of participants with clinically significant depressive symptoms and those who did not meet performance criteria during an Emotional Go-NoGo task, 19 FHP and 17 FHN youth were included in functional magnetic resonance imaging (fMRI) analyses. Resting state functional connectivity MRI, using amygdalar seed regions, was analyzed in 16 FHP and 18 FHN youth, after exclusion of participants with excessive head movement. Results: fMRI showed that brain activity in FHP youth, compared with FHN peers, was reduced during emotional processing in the superior temporal cortex, as well as during cognitive control within emotional contexts in frontal and striatal regions. Group differences in resting state amygdalar connectivity were seen bilaterally between FHP and FHN youth. In FHP youth, reduced resting state synchrony between the left amygdala and left superior frontal gyrus was related to poorer response inhibition, as measured during the fMRI task. Conclusions: To our knowledge, this is the first study to examine emotion-cognition interactions and resting state functional connectivity in FHP youth. Findings from this research provide insight into neural and behavioral phenotypes associated with emotional processing in familial alcoholism, which may relate to increased risk of developing AUDs.                                                                                                                                                                                                                                                                                                                                                                                                                                             \n",
       "141  Both prenatal substance exposure (PSE, alcohol/drugs) and experiences during the first years of life have powerful effects on brain development. However, only a few studies have investigated the combined effect of PSE and adverse childhood experiences (ACEs) on mental and behavioral disorders among exposed adolescents and adults. This longitudinal register-based cohort study 1) compared the nature and extent of diagnosed mental and behavioral disorders among youth with PSE and matched unexposed controls, and 2) investigated the influence of PSE, health in infancy and ACEs (maternal risk factors and out-of-home care, OHC) on diagnoses of mental and behavioral disorders. The data consisted of 615 exposed youth aged 15-24 years and 1787 matched unexposed controls. Data from hospital medical records and nine registers were merged for the analysis. Descriptive analysis methods and Cox regression were used. The results showed that the prevalence of mental and behavioral disorders was twice as high among exposed compared with controls. The highest levels of mental and behavioral disorders and ACEs were found among exposed with at least one OHC episode. The difference in the risk of mental and behavioral disorders between exposed and controls diminished after controlling for the effect of ACEs. Low birth weight, maternal risk factors, and OHC were the strongest predictors of mental and behavioral disorders. The results suggest that PSE alone does not explain poorer mental health among exposed youth. Risk factors accumulate, and low birth weight and ACEs are strongly associated with increased risk of mental and behavioral disorders.                                                                                                                                                                                                                                                                                                                                                                                                                                                                                                                                                                                                                                                                                                            \n",
       "147  The positive relationship between socioeconomic status (SES) and cognitive performance is mediated, in part, by differences in brain structure in typically developing youth. Associations between brain regions that relate to SES overlap with brain regions known to be sensitive to prenatal alcohol exposure (PAE). Animal models demonstrate that PAE attenuates neural and cognitive benefits of early life enrichment. However, whether or not environmental factors related to SES are associated with brain development in youth affected by PAE remains unknown in humans. Methods T1-weighted magnetic resonance imaging (MRI) scans were obtained in participants with PAE and compared to age- and sex- matched Controls (n = 197, 48% with PAE, 44% girls, 6.5-17.7 years old). General linear modeling was utilized to examine associations between SES and subcortical brain volumes for youth with PAE compared to Controls. Results Group by SES interactions were observed within the hippocampus (HPC), nucleus accumbens (NAc) and ventral diencephalon (vDC) (corrected p values <0.05), where positive associations (e.g., higher SES related to larger subcortical volumes) were observed within Controls, but not youth with PAE. Post hoc analyses examined associations between SES and brain volumes within each group independently, and revealed widespread positive associations among Controls (Amyg, HPC, NAc, Pallidum, Putamen, vDC), but not youth with PAE. Across both groups, larger subcortical volumes were related to higher cognitive performance. Conclusion Typically developing youth exhibit increased subcortical volumes with increased SES, and surprisingly, this relationship is absent in adolescents with PAE. Findings suggest that subcortical brain volumes are neurocognitively relevant in both groups. The present results expand our understanding of the impact of PAE on the developing human brain within varying environmental contexts, and may inform novel environmental interventions that aim to improve, in part, on-going disruptions in brain development among youth with PAE. Our study highlights novel complexities in the pursuit to understand SES-brain associations, as we provide evidence that SES matters for brain outcomes among typically developing youth, and possibly not as much on an already altered brain as a result of PAE.   \n",
       "190  This study examined how youth aggressive and delinquent externalizing problem behaviors across childhood and adolescence are connected to consequential psychosocial life outcomes in adulthood. Using data from a longitudinal, high-risk sample (N = 1069) that assessed children and their parents regularly from early childhood (ages 3-5) through adulthood, multilevel growth factors of externalizing behaviors were used to predict adult outcomes (age 24-31), providing a sense of how externalizing problems across development were related to these outcomes via maternal, paternal, teacher, and child report. Findings indicated strong support for the lasting connections between youth externalizing problems with later educational attainment and legal difficulties, spanning informants and enduring beyond other meaningful contributors (i.e., child sex, cognitive ability, parental income and education, parental mental health and relationship quality). Some support was also found, although less consistently, linking externalizing problems and later alcohol use as well as romantic relationship quality. Delinquent/rule-breaking behaviors were often stronger predictors of later outcomes than aggressive behaviors. Taken together, these results indicate the importance of the role youth externalizing behaviors have in adult psychosocial functioning one to two decades later.                                                                                                                                                                                                                                                                                                                                                                                                                                                                                                                                                                                                                                                                                                                                                                                                                                                                                                                                                                                                 \n",
       "230  Despite improved survival due to combination antiretroviral therapy (cART), youth with perinatallyacquired HIV (PHIV) show cognitive deficits and developmental delay at increased rates. HIV affects the brain during critical periods of development, and the brain may be a persistent reservoir for HIV due to suboptimal blood brain barrier penetration of cART. We conducted structural magnetic resonance imaging (sMRI) and cognitive testing in 40 PHIV youth (mean age = 16.7 years) recruited from the NIH Pediatric HIV/AIDS Cohort Study (PHACS) who are part of the first generation of PHIV youth surviving into adulthood. Historical and current HIV disease severity and substance use measures were also collected. Total and regional cortical grey matter brain volumes were compared to a group of 334 typically developing, HIV-unexposed and uninfected youth (frequency-matched for age and sex) from the Pediatric Imaging, Neurocognition, and Genetics (PING) study (mean age = 16.1 years). PHIV youth had smaller (2.8-5.1%) total and regional grey matter volumes than HIV-unexposed and uninfected youth, with smallest volumes seen among PHIV youth with higher past peak viral load (VL) and recent unsuppressed VL. In PHIV youth, worse cognitive performance correlated with smaller volumes. This pattern of smaller grey matter volumes suggests that PHIV infection may influence brain development and underlie cognitive dysfunction seen in this population. Among PHIV youth, smaller volumes were also linked to substance use (alcohol use: 9.0-13.4%; marijuana use: 10.1-16.0%). In this study, collection of substance use information was limited to the PHIV cohort; future studies should also collect substance use information in controls to further address interactions between HIV and substance use on brain volume. (C) 2017 Elsevier Inc. All rights reserved.                                                                                                                                                                                                                                                                                                                                                                                                                                                                                                 \n",
       "278  Positive and negative alcohol expectancies (AEs) are beliefs about the consequences of alcohol use (e.g., happy, sad, lazy) and they predict patterns of adolescent and adult alcohol engagement in clinical and nonclinical samples. However, significantly less is known about predictors of AE in children, despite significant variability in AE early in and across development. To identify temporally ordered risk factors that precede AE, we evaluated the independent and interactive association of the functional 7-repeat polymorphism of the dopamine D-4 receptor (DRD4) genotype and attention-deficit/hyperactivity disorder (ADHD) with respect to individual differences in positive-social, negative-arousal, sedated/impaired, and wild/crazy AE in school-age children (N = 149) prospectively followed from 6-9 to 8-13 years of age. Controlling for age, sex, and wave, DRD4 7+ carriers reported more wild/crazy AE, but DRD4 was unrelated to the remaining AE domains. ADHD symptoms independently predicted higher negative-arousal, sedated/impaired, and wild/crazy AE, but not positive-social. We also observed a significant interaction in which ADHD symptoms positively predicted wild/crazy AE only in youth with the 7-repeat DRD4 genotype; the same interaction marginally predicted sedated/impaired AE. No interactive effects were observed for the remaining AE domains. These preliminary results suggest that, among DRD4 youth, early ADHD symptoms predict that children will expect alcohol to have wild/crazy effects. We consider these results within a developmental framework to better understand pathways to and from youth alcohol problems.                                                                                                                                                                                                                                                                                                                                                                                                                                                                                                                                                                                                                                                                                                                         \n",
       "502  BackgroundRecent studies have linked attention-deficit/hyperactivity disorder (ADHD) to elevated rates of risky sexual behavior (RSB) in adult samples. The current study tested whether ADHD symptoms were associated with RSB among adolescents, and examined comorbid conduct problems and problematic substance use as joint mediators of this association. MethodsADHD symptoms, conduct problems (oppositional defiant disorder/conduct disorder symptoms), problematic alcohol use (alcohol use disorder symptoms, alcohol use frequency), problematic marijuana use (marijuana use disorder symptoms, marijuana use frequency), and RSB were assessed among an ethnically diverse cross-sectional sample of adolescents (N=115; mean age=14.9years) involved in the juvenile justice system. ResultsBootstrapped mediation models revealed an initial association between ADHD symptoms and RSB that was accounted for fully by the influence of problematic alcohol and marijuana use, but not conduct problems. A follow-up multiple groups mediation analysis demonstrated that the relationship between ADHD symptoms and RSB emerged only among youth with clinically elevated conduct problems, and that problematic marijuana use fully accounted for this relationship. Hyperactive/impulsive, but not inattentive, symptoms were related to RSB, although the pattern of indirect effects was consistent with the multiple groups analysis. ConclusionsThe association between ADHD and adolescent RSB is restricted to youth with elevated comorbid conduct problems and reflects the contributions of comorbid marijuana use problems, and to a lesser extent alcohol use problems. Early identification and treatment of these comorbid conditions may be important for the prevention of negative sexual health outcomes among youth with ADHD.                                                                                                                                                                                                                                                                                                                                                                                                                                                                                                                                                           \n",
       "518  Objective: Data on the neurodevelopmental and associated behavioral effects of tight to moderate in utero alcohol exposure are limited. This retrospective investigation tested for associations between reported maternal prenatal alcohol use and psychological, behavioral, and neurodevelopmental outcomes in substance-naive youths. Methods: Participants were 9,719 youths (ages 9.0 to 10.9 years) from the Adolescent Brain Cognitive Development Study. Based on parental reports. 2,518 (25.9%) had been exposed to alcohol in utero. Generalized additive mixed models and multilevel cross-sectional and longitudinal mediation models were used to test whether prenatal alcohol exposure was associated with psychological, behavioral, and cognitive outcomes, and whether differences in brain structure and resting-state functional connectivity partially explained these associations at baseline and 1-year follow-up, after controlling for possible confounding factors. Results: Prenatal alcohol exposure of any severity was associated with greater psychopathology, attention deficits, and impulsiveness, with some effects showing a dose-dependent response. Children with prenatal alcohol exposure, compared with those without, displayed greater cerebral and regional volume and greater regional surface area. Resting-state functional connectivity was largely unaltered in children with in utero exposure. Some of the psychological and behavioral outcomes at baseline and at the 1-year follow-up were partially explained by differences in brain structure among youths who had been exposed to alcohol in utero. Conclusions: Any alcohol use during pregnancy is associated with subtle yet significant psychological and behavioral effects in children. Women should continue to be advised to abstain from alcohol consumption from conception throughout pregnancy.                                                                                                                                                                                                                                                                                                                                                                                                                                                                                                       \n",
       "573  Background and Objectives: The hippocampus may be vulnerable to the effects of heavy alcohol use during adolescence, which is a time of continued neurodevelopment. However, differences in hippocampal volume may be due to risk factors such as a family history (FH) of alcoholism. We examined hippocampal volumes in youth with and without a FH of alcoholism prior to the initiation of alcohol use. Methods: Participants were demographically matched adolescents (aged 12-14) with positive (n = 15; FHP) and negative (n = 15; FHN) FH of alcoholism. Each group consisted of 10 males and 5 females with minimal previous substance use. Manual hippocampal tracings were completed on high-resolution magnetic resonance images by reliable raters, and intracranial volumes were controlled in analyses. Results: FH groups did not differ on memory or hippocampal volumes, but group x gender interactions (p < .05) indicated that FHP males had larger left hippocampi than FHN males. Females showed greater left versus right hippocampal asymmetry, while males showed larger right versus left asymmetry. For all adolescents, larger right hippocampal volumes predicted poorer delayed visual memory (p < .01). Conclusion and Significance: Alcoholism risk factors, such as family history of alcoholism, may differentially influence adolescent hippocampal development for boys as compared to girls. Results suggest that FH does not account for prior findings of reduced left hippocampal volumes in heavy drinking youth. Findings are preliminary, but suggest that future studies examining the effects of alcohol use on the adolescent brain should consider the influence of FH, especially among boys.                                                                                                                                                                                                                                                                                                                                                                                                                                                                                                                                                                                                                                                                                 \n",
       "582  Introduction Fetal alcohol spectrum disorder (FASD), which is caused by prenatal alcohol exposure (PAE), affects an estimated 4% of North Americans, and is the most common preventable cause of intellectual disability. Mental health problems, including anxiety and depression, are experienced by nearly all individuals with FASD. However, there is very limited knowledge about effective mental health treatments for individuals with FASD; effective treatments are hindered in part due to a lack of understanding of the basic neurobiology underlying internalising disorders in youth with FASD. Methods and analysis The Prenatal Exposure And Child brain and mental Health (PEACH) study includes children aged 7-18 years. We will use longitudinal neuroimaging (anatomical T1-weighted, diffusion and passive viewing function MRI) and mental health assessments (Behaviour Assessment Scale for Children, Multi-dimensional Anxiety Scale for Children, Children's Depression Inventory (CDI-2), Kiddie Scale of Affective Disorders) to: (1) characterise brain development trajectories in youth with FASD, (2) determine whether brain alterations mediate increased anxiety and depression in youth with FASD and (3) identify baseline brain features that predict changes of anxiety and depression symptoms over the next 2 years. All of this will be done while considering sex and adverse postnatal experiences, which can significantly impact mental health and brain outcomes. This project will forge new understanding of FASD and mental health from a neurobiological perspective, highlighting key time periods (ie, sensitive windows) and brain regions (ie, that may be susceptible to neurostimulation), while identifying factors that predict individual trajectories of anxiety and depression symptoms. Ethics and dissemination This study was approved by the University of Calgary Conjoint Health Research Ethics Board and the University of Alberta Health Research Ethics Board. Study results will be disseminated in peer-reviewed journals, at relevant conferences and in conjunction with our knowledge mobilisation partners.                                                                                                                                                                                                                                   \n",
       "\n",
       "         Prob  \n",
       "130  0.584518  \n",
       "141  0.688872  \n",
       "147  1.000000  \n",
       "190  0.673816  \n",
       "230  0.790849  \n",
       "278  0.546188  \n",
       "502  1.000000  \n",
       "518  0.869918  \n",
       "573  0.604949  \n",
       "582  0.907908  "
      ]
     },
     "execution_count": 29,
     "metadata": {},
     "output_type": "execute_result"
    }
   ],
   "source": [
    "art[art['Topic'] == 1][['Article Title','Abstract','Prob']][:10]"
   ]
  },
  {
   "cell_type": "markdown",
   "metadata": {},
   "source": [
    "## Number of articles per topic and per year"
   ]
  },
  {
   "cell_type": "code",
   "execution_count": 30,
   "metadata": {},
   "outputs": [
    {
     "data": {
      "text/html": [
       "<div>\n",
       "<style scoped>\n",
       "    .dataframe tbody tr th:only-of-type {\n",
       "        vertical-align: middle;\n",
       "    }\n",
       "\n",
       "    .dataframe tbody tr th {\n",
       "        vertical-align: top;\n",
       "    }\n",
       "\n",
       "    .dataframe thead th {\n",
       "        text-align: right;\n",
       "    }\n",
       "</style>\n",
       "<table border=\"1\" class=\"dataframe\">\n",
       "  <thead>\n",
       "    <tr style=\"text-align: right;\">\n",
       "      <th>Topic</th>\n",
       "      <th>-1</th>\n",
       "      <th>0</th>\n",
       "      <th>1</th>\n",
       "      <th>2</th>\n",
       "      <th>3</th>\n",
       "      <th>4</th>\n",
       "      <th>5</th>\n",
       "      <th>6</th>\n",
       "      <th>7</th>\n",
       "      <th>8</th>\n",
       "      <th>9</th>\n",
       "      <th>All</th>\n",
       "    </tr>\n",
       "    <tr>\n",
       "      <th>Publication Year</th>\n",
       "      <th></th>\n",
       "      <th></th>\n",
       "      <th></th>\n",
       "      <th></th>\n",
       "      <th></th>\n",
       "      <th></th>\n",
       "      <th></th>\n",
       "      <th></th>\n",
       "      <th></th>\n",
       "      <th></th>\n",
       "      <th></th>\n",
       "      <th></th>\n",
       "    </tr>\n",
       "  </thead>\n",
       "  <tbody>\n",
       "    <tr>\n",
       "      <th>2000</th>\n",
       "      <td>11</td>\n",
       "      <td>10</td>\n",
       "      <td>1</td>\n",
       "      <td>2</td>\n",
       "      <td>0</td>\n",
       "      <td>0</td>\n",
       "      <td>0</td>\n",
       "      <td>0</td>\n",
       "      <td>0</td>\n",
       "      <td>0</td>\n",
       "      <td>0</td>\n",
       "      <td>24</td>\n",
       "    </tr>\n",
       "    <tr>\n",
       "      <th>2001</th>\n",
       "      <td>14</td>\n",
       "      <td>10</td>\n",
       "      <td>3</td>\n",
       "      <td>0</td>\n",
       "      <td>2</td>\n",
       "      <td>0</td>\n",
       "      <td>1</td>\n",
       "      <td>1</td>\n",
       "      <td>0</td>\n",
       "      <td>0</td>\n",
       "      <td>0</td>\n",
       "      <td>31</td>\n",
       "    </tr>\n",
       "    <tr>\n",
       "      <th>2002</th>\n",
       "      <td>12</td>\n",
       "      <td>16</td>\n",
       "      <td>0</td>\n",
       "      <td>2</td>\n",
       "      <td>3</td>\n",
       "      <td>0</td>\n",
       "      <td>1</td>\n",
       "      <td>2</td>\n",
       "      <td>0</td>\n",
       "      <td>0</td>\n",
       "      <td>0</td>\n",
       "      <td>36</td>\n",
       "    </tr>\n",
       "    <tr>\n",
       "      <th>2003</th>\n",
       "      <td>9</td>\n",
       "      <td>16</td>\n",
       "      <td>0</td>\n",
       "      <td>0</td>\n",
       "      <td>1</td>\n",
       "      <td>0</td>\n",
       "      <td>1</td>\n",
       "      <td>0</td>\n",
       "      <td>1</td>\n",
       "      <td>0</td>\n",
       "      <td>0</td>\n",
       "      <td>28</td>\n",
       "    </tr>\n",
       "    <tr>\n",
       "      <th>2004</th>\n",
       "      <td>8</td>\n",
       "      <td>13</td>\n",
       "      <td>1</td>\n",
       "      <td>0</td>\n",
       "      <td>0</td>\n",
       "      <td>0</td>\n",
       "      <td>0</td>\n",
       "      <td>2</td>\n",
       "      <td>0</td>\n",
       "      <td>0</td>\n",
       "      <td>0</td>\n",
       "      <td>24</td>\n",
       "    </tr>\n",
       "    <tr>\n",
       "      <th>2005</th>\n",
       "      <td>13</td>\n",
       "      <td>17</td>\n",
       "      <td>1</td>\n",
       "      <td>2</td>\n",
       "      <td>1</td>\n",
       "      <td>0</td>\n",
       "      <td>0</td>\n",
       "      <td>1</td>\n",
       "      <td>0</td>\n",
       "      <td>1</td>\n",
       "      <td>0</td>\n",
       "      <td>36</td>\n",
       "    </tr>\n",
       "    <tr>\n",
       "      <th>2006</th>\n",
       "      <td>25</td>\n",
       "      <td>35</td>\n",
       "      <td>2</td>\n",
       "      <td>1</td>\n",
       "      <td>1</td>\n",
       "      <td>0</td>\n",
       "      <td>2</td>\n",
       "      <td>0</td>\n",
       "      <td>1</td>\n",
       "      <td>0</td>\n",
       "      <td>0</td>\n",
       "      <td>67</td>\n",
       "    </tr>\n",
       "    <tr>\n",
       "      <th>2007</th>\n",
       "      <td>28</td>\n",
       "      <td>55</td>\n",
       "      <td>4</td>\n",
       "      <td>0</td>\n",
       "      <td>1</td>\n",
       "      <td>1</td>\n",
       "      <td>3</td>\n",
       "      <td>0</td>\n",
       "      <td>0</td>\n",
       "      <td>1</td>\n",
       "      <td>0</td>\n",
       "      <td>93</td>\n",
       "    </tr>\n",
       "    <tr>\n",
       "      <th>2008</th>\n",
       "      <td>47</td>\n",
       "      <td>82</td>\n",
       "      <td>4</td>\n",
       "      <td>1</td>\n",
       "      <td>1</td>\n",
       "      <td>2</td>\n",
       "      <td>4</td>\n",
       "      <td>0</td>\n",
       "      <td>1</td>\n",
       "      <td>1</td>\n",
       "      <td>0</td>\n",
       "      <td>143</td>\n",
       "    </tr>\n",
       "    <tr>\n",
       "      <th>2009</th>\n",
       "      <td>41</td>\n",
       "      <td>92</td>\n",
       "      <td>2</td>\n",
       "      <td>2</td>\n",
       "      <td>2</td>\n",
       "      <td>0</td>\n",
       "      <td>2</td>\n",
       "      <td>1</td>\n",
       "      <td>0</td>\n",
       "      <td>1</td>\n",
       "      <td>0</td>\n",
       "      <td>143</td>\n",
       "    </tr>\n",
       "    <tr>\n",
       "      <th>2010</th>\n",
       "      <td>54</td>\n",
       "      <td>102</td>\n",
       "      <td>1</td>\n",
       "      <td>0</td>\n",
       "      <td>0</td>\n",
       "      <td>0</td>\n",
       "      <td>3</td>\n",
       "      <td>2</td>\n",
       "      <td>2</td>\n",
       "      <td>1</td>\n",
       "      <td>0</td>\n",
       "      <td>165</td>\n",
       "    </tr>\n",
       "    <tr>\n",
       "      <th>2011</th>\n",
       "      <td>74</td>\n",
       "      <td>129</td>\n",
       "      <td>10</td>\n",
       "      <td>6</td>\n",
       "      <td>7</td>\n",
       "      <td>4</td>\n",
       "      <td>2</td>\n",
       "      <td>1</td>\n",
       "      <td>1</td>\n",
       "      <td>4</td>\n",
       "      <td>1</td>\n",
       "      <td>239</td>\n",
       "    </tr>\n",
       "    <tr>\n",
       "      <th>2012</th>\n",
       "      <td>81</td>\n",
       "      <td>141</td>\n",
       "      <td>8</td>\n",
       "      <td>3</td>\n",
       "      <td>5</td>\n",
       "      <td>3</td>\n",
       "      <td>1</td>\n",
       "      <td>3</td>\n",
       "      <td>0</td>\n",
       "      <td>2</td>\n",
       "      <td>0</td>\n",
       "      <td>247</td>\n",
       "    </tr>\n",
       "    <tr>\n",
       "      <th>2013</th>\n",
       "      <td>71</td>\n",
       "      <td>170</td>\n",
       "      <td>10</td>\n",
       "      <td>8</td>\n",
       "      <td>4</td>\n",
       "      <td>1</td>\n",
       "      <td>4</td>\n",
       "      <td>3</td>\n",
       "      <td>1</td>\n",
       "      <td>2</td>\n",
       "      <td>1</td>\n",
       "      <td>275</td>\n",
       "    </tr>\n",
       "    <tr>\n",
       "      <th>2014</th>\n",
       "      <td>99</td>\n",
       "      <td>197</td>\n",
       "      <td>17</td>\n",
       "      <td>3</td>\n",
       "      <td>7</td>\n",
       "      <td>7</td>\n",
       "      <td>5</td>\n",
       "      <td>5</td>\n",
       "      <td>0</td>\n",
       "      <td>2</td>\n",
       "      <td>1</td>\n",
       "      <td>343</td>\n",
       "    </tr>\n",
       "    <tr>\n",
       "      <th>2015</th>\n",
       "      <td>106</td>\n",
       "      <td>179</td>\n",
       "      <td>10</td>\n",
       "      <td>3</td>\n",
       "      <td>4</td>\n",
       "      <td>10</td>\n",
       "      <td>3</td>\n",
       "      <td>1</td>\n",
       "      <td>1</td>\n",
       "      <td>2</td>\n",
       "      <td>3</td>\n",
       "      <td>322</td>\n",
       "    </tr>\n",
       "    <tr>\n",
       "      <th>2016</th>\n",
       "      <td>96</td>\n",
       "      <td>181</td>\n",
       "      <td>13</td>\n",
       "      <td>2</td>\n",
       "      <td>7</td>\n",
       "      <td>5</td>\n",
       "      <td>3</td>\n",
       "      <td>1</td>\n",
       "      <td>4</td>\n",
       "      <td>2</td>\n",
       "      <td>1</td>\n",
       "      <td>315</td>\n",
       "    </tr>\n",
       "    <tr>\n",
       "      <th>2017</th>\n",
       "      <td>112</td>\n",
       "      <td>192</td>\n",
       "      <td>7</td>\n",
       "      <td>10</td>\n",
       "      <td>6</td>\n",
       "      <td>7</td>\n",
       "      <td>5</td>\n",
       "      <td>3</td>\n",
       "      <td>3</td>\n",
       "      <td>5</td>\n",
       "      <td>1</td>\n",
       "      <td>351</td>\n",
       "    </tr>\n",
       "    <tr>\n",
       "      <th>2018</th>\n",
       "      <td>101</td>\n",
       "      <td>194</td>\n",
       "      <td>8</td>\n",
       "      <td>14</td>\n",
       "      <td>7</td>\n",
       "      <td>12</td>\n",
       "      <td>4</td>\n",
       "      <td>5</td>\n",
       "      <td>2</td>\n",
       "      <td>2</td>\n",
       "      <td>1</td>\n",
       "      <td>350</td>\n",
       "    </tr>\n",
       "    <tr>\n",
       "      <th>2019</th>\n",
       "      <td>129</td>\n",
       "      <td>252</td>\n",
       "      <td>8</td>\n",
       "      <td>11</td>\n",
       "      <td>7</td>\n",
       "      <td>9</td>\n",
       "      <td>3</td>\n",
       "      <td>6</td>\n",
       "      <td>6</td>\n",
       "      <td>2</td>\n",
       "      <td>1</td>\n",
       "      <td>434</td>\n",
       "    </tr>\n",
       "    <tr>\n",
       "      <th>2020</th>\n",
       "      <td>140</td>\n",
       "      <td>247</td>\n",
       "      <td>16</td>\n",
       "      <td>15</td>\n",
       "      <td>6</td>\n",
       "      <td>10</td>\n",
       "      <td>6</td>\n",
       "      <td>5</td>\n",
       "      <td>4</td>\n",
       "      <td>1</td>\n",
       "      <td>0</td>\n",
       "      <td>450</td>\n",
       "    </tr>\n",
       "    <tr>\n",
       "      <th>2021</th>\n",
       "      <td>136</td>\n",
       "      <td>249</td>\n",
       "      <td>11</td>\n",
       "      <td>16</td>\n",
       "      <td>11</td>\n",
       "      <td>8</td>\n",
       "      <td>5</td>\n",
       "      <td>4</td>\n",
       "      <td>4</td>\n",
       "      <td>4</td>\n",
       "      <td>0</td>\n",
       "      <td>448</td>\n",
       "    </tr>\n",
       "    <tr>\n",
       "      <th>2022</th>\n",
       "      <td>154</td>\n",
       "      <td>242</td>\n",
       "      <td>8</td>\n",
       "      <td>30</td>\n",
       "      <td>17</td>\n",
       "      <td>8</td>\n",
       "      <td>8</td>\n",
       "      <td>8</td>\n",
       "      <td>7</td>\n",
       "      <td>5</td>\n",
       "      <td>0</td>\n",
       "      <td>487</td>\n",
       "    </tr>\n",
       "    <tr>\n",
       "      <th>2023</th>\n",
       "      <td>127</td>\n",
       "      <td>229</td>\n",
       "      <td>6</td>\n",
       "      <td>15</td>\n",
       "      <td>9</td>\n",
       "      <td>10</td>\n",
       "      <td>7</td>\n",
       "      <td>5</td>\n",
       "      <td>2</td>\n",
       "      <td>3</td>\n",
       "      <td>1</td>\n",
       "      <td>414</td>\n",
       "    </tr>\n",
       "    <tr>\n",
       "      <th>2024</th>\n",
       "      <td>40</td>\n",
       "      <td>68</td>\n",
       "      <td>2</td>\n",
       "      <td>6</td>\n",
       "      <td>7</td>\n",
       "      <td>3</td>\n",
       "      <td>2</td>\n",
       "      <td>2</td>\n",
       "      <td>1</td>\n",
       "      <td>0</td>\n",
       "      <td>0</td>\n",
       "      <td>131</td>\n",
       "    </tr>\n",
       "    <tr>\n",
       "      <th>All</th>\n",
       "      <td>1728</td>\n",
       "      <td>3118</td>\n",
       "      <td>153</td>\n",
       "      <td>152</td>\n",
       "      <td>116</td>\n",
       "      <td>100</td>\n",
       "      <td>75</td>\n",
       "      <td>61</td>\n",
       "      <td>41</td>\n",
       "      <td>41</td>\n",
       "      <td>11</td>\n",
       "      <td>5596</td>\n",
       "    </tr>\n",
       "  </tbody>\n",
       "</table>\n",
       "</div>"
      ],
      "text/plain": [
       "Topic               -1     0    1    2    3    4   5   6   7   8   9   All\n",
       "Publication Year                                                          \n",
       "2000              11    10    1    2    0    0    0   0   0   0   0   24  \n",
       "2001              14    10    3    0    2    0    1   1   0   0   0   31  \n",
       "2002              12    16    0    2    3    0    1   2   0   0   0   36  \n",
       "2003              9     16    0    0    1    0    1   0   1   0   0   28  \n",
       "2004              8     13    1    0    0    0    0   2   0   0   0   24  \n",
       "2005              13    17    1    2    1    0    0   1   0   1   0   36  \n",
       "2006              25    35    2    1    1    0    2   0   1   0   0   67  \n",
       "2007              28    55    4    0    1    1    3   0   0   1   0   93  \n",
       "2008              47    82    4    1    1    2    4   0   1   1   0   143 \n",
       "2009              41    92    2    2    2    0    2   1   0   1   0   143 \n",
       "2010              54    102   1    0    0    0    3   2   2   1   0   165 \n",
       "2011              74    129   10   6    7    4    2   1   1   4   1   239 \n",
       "2012              81    141   8    3    5    3    1   3   0   2   0   247 \n",
       "2013              71    170   10   8    4    1    4   3   1   2   1   275 \n",
       "2014              99    197   17   3    7    7    5   5   0   2   1   343 \n",
       "2015              106   179   10   3    4    10   3   1   1   2   3   322 \n",
       "2016              96    181   13   2    7    5    3   1   4   2   1   315 \n",
       "2017              112   192   7    10   6    7    5   3   3   5   1   351 \n",
       "2018              101   194   8    14   7    12   4   5   2   2   1   350 \n",
       "2019              129   252   8    11   7    9    3   6   6   2   1   434 \n",
       "2020              140   247   16   15   6    10   6   5   4   1   0   450 \n",
       "2021              136   249   11   16   11   8    5   4   4   4   0   448 \n",
       "2022              154   242   8    30   17   8    8   8   7   5   0   487 \n",
       "2023              127   229   6    15   9    10   7   5   2   3   1   414 \n",
       "2024              40    68    2    6    7    3    2   2   1   0   0   131 \n",
       "All               1728  3118  153  152  116  100  75  61  41  41  11  5596"
      ]
     },
     "execution_count": 30,
     "metadata": {},
     "output_type": "execute_result"
    }
   ],
   "source": [
    "# pivot table year x topic --> count\n",
    "\n",
    "pvt = pd.pivot_table(art, columns=\"Topic\", index=\"Publication Year\", values='Abstract',aggfunc='count', margins=True).fillna(0).astype(int)\n",
    "pvt"
   ]
  },
  {
   "cell_type": "code",
   "execution_count": 31,
   "metadata": {},
   "outputs": [],
   "source": [
    "pvt.to_excel('../pvt.xlsx')"
   ]
  },
  {
   "cell_type": "markdown",
   "metadata": {},
   "source": [
    "### Time trends"
   ]
  },
  {
   "cell_type": "code",
   "execution_count": 32,
   "metadata": {},
   "outputs": [
    {
     "data": {
      "text/html": [
       "<div>\n",
       "<style scoped>\n",
       "    .dataframe tbody tr th:only-of-type {\n",
       "        vertical-align: middle;\n",
       "    }\n",
       "\n",
       "    .dataframe tbody tr th {\n",
       "        vertical-align: top;\n",
       "    }\n",
       "\n",
       "    .dataframe thead th {\n",
       "        text-align: right;\n",
       "    }\n",
       "</style>\n",
       "<table border=\"1\" class=\"dataframe\">\n",
       "  <thead>\n",
       "    <tr style=\"text-align: right;\">\n",
       "      <th>Topic</th>\n",
       "      <th>Publication Year</th>\n",
       "      <th>-1</th>\n",
       "      <th>0</th>\n",
       "      <th>1</th>\n",
       "      <th>2</th>\n",
       "      <th>3</th>\n",
       "      <th>4</th>\n",
       "      <th>5</th>\n",
       "      <th>6</th>\n",
       "      <th>7</th>\n",
       "      <th>8</th>\n",
       "      <th>9</th>\n",
       "    </tr>\n",
       "  </thead>\n",
       "  <tbody>\n",
       "    <tr>\n",
       "      <th>0</th>\n",
       "      <td>2000</td>\n",
       "      <td>11</td>\n",
       "      <td>10</td>\n",
       "      <td>1</td>\n",
       "      <td>2</td>\n",
       "      <td>0</td>\n",
       "      <td>0</td>\n",
       "      <td>0</td>\n",
       "      <td>0</td>\n",
       "      <td>0</td>\n",
       "      <td>0</td>\n",
       "      <td>0</td>\n",
       "    </tr>\n",
       "    <tr>\n",
       "      <th>1</th>\n",
       "      <td>2001</td>\n",
       "      <td>14</td>\n",
       "      <td>10</td>\n",
       "      <td>3</td>\n",
       "      <td>0</td>\n",
       "      <td>2</td>\n",
       "      <td>0</td>\n",
       "      <td>1</td>\n",
       "      <td>1</td>\n",
       "      <td>0</td>\n",
       "      <td>0</td>\n",
       "      <td>0</td>\n",
       "    </tr>\n",
       "    <tr>\n",
       "      <th>2</th>\n",
       "      <td>2002</td>\n",
       "      <td>12</td>\n",
       "      <td>16</td>\n",
       "      <td>0</td>\n",
       "      <td>2</td>\n",
       "      <td>3</td>\n",
       "      <td>0</td>\n",
       "      <td>1</td>\n",
       "      <td>2</td>\n",
       "      <td>0</td>\n",
       "      <td>0</td>\n",
       "      <td>0</td>\n",
       "    </tr>\n",
       "    <tr>\n",
       "      <th>3</th>\n",
       "      <td>2003</td>\n",
       "      <td>9</td>\n",
       "      <td>16</td>\n",
       "      <td>0</td>\n",
       "      <td>0</td>\n",
       "      <td>1</td>\n",
       "      <td>0</td>\n",
       "      <td>1</td>\n",
       "      <td>0</td>\n",
       "      <td>1</td>\n",
       "      <td>0</td>\n",
       "      <td>0</td>\n",
       "    </tr>\n",
       "    <tr>\n",
       "      <th>4</th>\n",
       "      <td>2004</td>\n",
       "      <td>8</td>\n",
       "      <td>13</td>\n",
       "      <td>1</td>\n",
       "      <td>0</td>\n",
       "      <td>0</td>\n",
       "      <td>0</td>\n",
       "      <td>0</td>\n",
       "      <td>2</td>\n",
       "      <td>0</td>\n",
       "      <td>0</td>\n",
       "      <td>0</td>\n",
       "    </tr>\n",
       "    <tr>\n",
       "      <th>5</th>\n",
       "      <td>2005</td>\n",
       "      <td>13</td>\n",
       "      <td>17</td>\n",
       "      <td>1</td>\n",
       "      <td>2</td>\n",
       "      <td>1</td>\n",
       "      <td>0</td>\n",
       "      <td>0</td>\n",
       "      <td>1</td>\n",
       "      <td>0</td>\n",
       "      <td>1</td>\n",
       "      <td>0</td>\n",
       "    </tr>\n",
       "    <tr>\n",
       "      <th>6</th>\n",
       "      <td>2006</td>\n",
       "      <td>25</td>\n",
       "      <td>35</td>\n",
       "      <td>2</td>\n",
       "      <td>1</td>\n",
       "      <td>1</td>\n",
       "      <td>0</td>\n",
       "      <td>2</td>\n",
       "      <td>0</td>\n",
       "      <td>1</td>\n",
       "      <td>0</td>\n",
       "      <td>0</td>\n",
       "    </tr>\n",
       "    <tr>\n",
       "      <th>7</th>\n",
       "      <td>2007</td>\n",
       "      <td>28</td>\n",
       "      <td>55</td>\n",
       "      <td>4</td>\n",
       "      <td>0</td>\n",
       "      <td>1</td>\n",
       "      <td>1</td>\n",
       "      <td>3</td>\n",
       "      <td>0</td>\n",
       "      <td>0</td>\n",
       "      <td>1</td>\n",
       "      <td>0</td>\n",
       "    </tr>\n",
       "    <tr>\n",
       "      <th>8</th>\n",
       "      <td>2008</td>\n",
       "      <td>47</td>\n",
       "      <td>82</td>\n",
       "      <td>4</td>\n",
       "      <td>1</td>\n",
       "      <td>1</td>\n",
       "      <td>2</td>\n",
       "      <td>4</td>\n",
       "      <td>0</td>\n",
       "      <td>1</td>\n",
       "      <td>1</td>\n",
       "      <td>0</td>\n",
       "    </tr>\n",
       "    <tr>\n",
       "      <th>9</th>\n",
       "      <td>2009</td>\n",
       "      <td>41</td>\n",
       "      <td>92</td>\n",
       "      <td>2</td>\n",
       "      <td>2</td>\n",
       "      <td>2</td>\n",
       "      <td>0</td>\n",
       "      <td>2</td>\n",
       "      <td>1</td>\n",
       "      <td>0</td>\n",
       "      <td>1</td>\n",
       "      <td>0</td>\n",
       "    </tr>\n",
       "    <tr>\n",
       "      <th>10</th>\n",
       "      <td>2010</td>\n",
       "      <td>54</td>\n",
       "      <td>102</td>\n",
       "      <td>1</td>\n",
       "      <td>0</td>\n",
       "      <td>0</td>\n",
       "      <td>0</td>\n",
       "      <td>3</td>\n",
       "      <td>2</td>\n",
       "      <td>2</td>\n",
       "      <td>1</td>\n",
       "      <td>0</td>\n",
       "    </tr>\n",
       "    <tr>\n",
       "      <th>11</th>\n",
       "      <td>2011</td>\n",
       "      <td>74</td>\n",
       "      <td>129</td>\n",
       "      <td>10</td>\n",
       "      <td>6</td>\n",
       "      <td>7</td>\n",
       "      <td>4</td>\n",
       "      <td>2</td>\n",
       "      <td>1</td>\n",
       "      <td>1</td>\n",
       "      <td>4</td>\n",
       "      <td>1</td>\n",
       "    </tr>\n",
       "    <tr>\n",
       "      <th>12</th>\n",
       "      <td>2012</td>\n",
       "      <td>81</td>\n",
       "      <td>141</td>\n",
       "      <td>8</td>\n",
       "      <td>3</td>\n",
       "      <td>5</td>\n",
       "      <td>3</td>\n",
       "      <td>1</td>\n",
       "      <td>3</td>\n",
       "      <td>0</td>\n",
       "      <td>2</td>\n",
       "      <td>0</td>\n",
       "    </tr>\n",
       "    <tr>\n",
       "      <th>13</th>\n",
       "      <td>2013</td>\n",
       "      <td>71</td>\n",
       "      <td>170</td>\n",
       "      <td>10</td>\n",
       "      <td>8</td>\n",
       "      <td>4</td>\n",
       "      <td>1</td>\n",
       "      <td>4</td>\n",
       "      <td>3</td>\n",
       "      <td>1</td>\n",
       "      <td>2</td>\n",
       "      <td>1</td>\n",
       "    </tr>\n",
       "    <tr>\n",
       "      <th>14</th>\n",
       "      <td>2014</td>\n",
       "      <td>99</td>\n",
       "      <td>197</td>\n",
       "      <td>17</td>\n",
       "      <td>3</td>\n",
       "      <td>7</td>\n",
       "      <td>7</td>\n",
       "      <td>5</td>\n",
       "      <td>5</td>\n",
       "      <td>0</td>\n",
       "      <td>2</td>\n",
       "      <td>1</td>\n",
       "    </tr>\n",
       "    <tr>\n",
       "      <th>15</th>\n",
       "      <td>2015</td>\n",
       "      <td>106</td>\n",
       "      <td>179</td>\n",
       "      <td>10</td>\n",
       "      <td>3</td>\n",
       "      <td>4</td>\n",
       "      <td>10</td>\n",
       "      <td>3</td>\n",
       "      <td>1</td>\n",
       "      <td>1</td>\n",
       "      <td>2</td>\n",
       "      <td>3</td>\n",
       "    </tr>\n",
       "    <tr>\n",
       "      <th>16</th>\n",
       "      <td>2016</td>\n",
       "      <td>96</td>\n",
       "      <td>181</td>\n",
       "      <td>13</td>\n",
       "      <td>2</td>\n",
       "      <td>7</td>\n",
       "      <td>5</td>\n",
       "      <td>3</td>\n",
       "      <td>1</td>\n",
       "      <td>4</td>\n",
       "      <td>2</td>\n",
       "      <td>1</td>\n",
       "    </tr>\n",
       "    <tr>\n",
       "      <th>17</th>\n",
       "      <td>2017</td>\n",
       "      <td>112</td>\n",
       "      <td>192</td>\n",
       "      <td>7</td>\n",
       "      <td>10</td>\n",
       "      <td>6</td>\n",
       "      <td>7</td>\n",
       "      <td>5</td>\n",
       "      <td>3</td>\n",
       "      <td>3</td>\n",
       "      <td>5</td>\n",
       "      <td>1</td>\n",
       "    </tr>\n",
       "    <tr>\n",
       "      <th>18</th>\n",
       "      <td>2018</td>\n",
       "      <td>101</td>\n",
       "      <td>194</td>\n",
       "      <td>8</td>\n",
       "      <td>14</td>\n",
       "      <td>7</td>\n",
       "      <td>12</td>\n",
       "      <td>4</td>\n",
       "      <td>5</td>\n",
       "      <td>2</td>\n",
       "      <td>2</td>\n",
       "      <td>1</td>\n",
       "    </tr>\n",
       "    <tr>\n",
       "      <th>19</th>\n",
       "      <td>2019</td>\n",
       "      <td>129</td>\n",
       "      <td>252</td>\n",
       "      <td>8</td>\n",
       "      <td>11</td>\n",
       "      <td>7</td>\n",
       "      <td>9</td>\n",
       "      <td>3</td>\n",
       "      <td>6</td>\n",
       "      <td>6</td>\n",
       "      <td>2</td>\n",
       "      <td>1</td>\n",
       "    </tr>\n",
       "    <tr>\n",
       "      <th>20</th>\n",
       "      <td>2020</td>\n",
       "      <td>140</td>\n",
       "      <td>247</td>\n",
       "      <td>16</td>\n",
       "      <td>15</td>\n",
       "      <td>6</td>\n",
       "      <td>10</td>\n",
       "      <td>6</td>\n",
       "      <td>5</td>\n",
       "      <td>4</td>\n",
       "      <td>1</td>\n",
       "      <td>0</td>\n",
       "    </tr>\n",
       "    <tr>\n",
       "      <th>21</th>\n",
       "      <td>2021</td>\n",
       "      <td>136</td>\n",
       "      <td>249</td>\n",
       "      <td>11</td>\n",
       "      <td>16</td>\n",
       "      <td>11</td>\n",
       "      <td>8</td>\n",
       "      <td>5</td>\n",
       "      <td>4</td>\n",
       "      <td>4</td>\n",
       "      <td>4</td>\n",
       "      <td>0</td>\n",
       "    </tr>\n",
       "    <tr>\n",
       "      <th>22</th>\n",
       "      <td>2022</td>\n",
       "      <td>154</td>\n",
       "      <td>242</td>\n",
       "      <td>8</td>\n",
       "      <td>30</td>\n",
       "      <td>17</td>\n",
       "      <td>8</td>\n",
       "      <td>8</td>\n",
       "      <td>8</td>\n",
       "      <td>7</td>\n",
       "      <td>5</td>\n",
       "      <td>0</td>\n",
       "    </tr>\n",
       "    <tr>\n",
       "      <th>23</th>\n",
       "      <td>2023</td>\n",
       "      <td>127</td>\n",
       "      <td>229</td>\n",
       "      <td>6</td>\n",
       "      <td>15</td>\n",
       "      <td>9</td>\n",
       "      <td>10</td>\n",
       "      <td>7</td>\n",
       "      <td>5</td>\n",
       "      <td>2</td>\n",
       "      <td>3</td>\n",
       "      <td>1</td>\n",
       "    </tr>\n",
       "    <tr>\n",
       "      <th>24</th>\n",
       "      <td>2024</td>\n",
       "      <td>40</td>\n",
       "      <td>68</td>\n",
       "      <td>2</td>\n",
       "      <td>6</td>\n",
       "      <td>7</td>\n",
       "      <td>3</td>\n",
       "      <td>2</td>\n",
       "      <td>2</td>\n",
       "      <td>1</td>\n",
       "      <td>0</td>\n",
       "      <td>0</td>\n",
       "    </tr>\n",
       "  </tbody>\n",
       "</table>\n",
       "</div>"
      ],
      "text/plain": [
       "Topic Publication Year   -1    0   1   2   3   4  5  6  7  8  9\n",
       "0      2000             11   10   1   2   0   0   0  0  0  0  0\n",
       "1      2001             14   10   3   0   2   0   1  1  0  0  0\n",
       "2      2002             12   16   0   2   3   0   1  2  0  0  0\n",
       "3      2003             9    16   0   0   1   0   1  0  1  0  0\n",
       "4      2004             8    13   1   0   0   0   0  2  0  0  0\n",
       "5      2005             13   17   1   2   1   0   0  1  0  1  0\n",
       "6      2006             25   35   2   1   1   0   2  0  1  0  0\n",
       "7      2007             28   55   4   0   1   1   3  0  0  1  0\n",
       "8      2008             47   82   4   1   1   2   4  0  1  1  0\n",
       "9      2009             41   92   2   2   2   0   2  1  0  1  0\n",
       "10     2010             54   102  1   0   0   0   3  2  2  1  0\n",
       "11     2011             74   129  10  6   7   4   2  1  1  4  1\n",
       "12     2012             81   141  8   3   5   3   1  3  0  2  0\n",
       "13     2013             71   170  10  8   4   1   4  3  1  2  1\n",
       "14     2014             99   197  17  3   7   7   5  5  0  2  1\n",
       "15     2015             106  179  10  3   4   10  3  1  1  2  3\n",
       "16     2016             96   181  13  2   7   5   3  1  4  2  1\n",
       "17     2017             112  192  7   10  6   7   5  3  3  5  1\n",
       "18     2018             101  194  8   14  7   12  4  5  2  2  1\n",
       "19     2019             129  252  8   11  7   9   3  6  6  2  1\n",
       "20     2020             140  247  16  15  6   10  6  5  4  1  0\n",
       "21     2021             136  249  11  16  11  8   5  4  4  4  0\n",
       "22     2022             154  242  8   30  17  8   8  8  7  5  0\n",
       "23     2023             127  229  6   15  9   10  7  5  2  3  1\n",
       "24     2024             40   68   2   6   7   3   2  2  1  0  0"
      ]
     },
     "execution_count": 32,
     "metadata": {},
     "output_type": "execute_result"
    }
   ],
   "source": [
    "pvt1 = pvt.reset_index()\n",
    "pvt2 = pvt1.copy()\n",
    "\n",
    "pvt1 = pvt1.drop('All',axis=1)\n",
    "# pvt1 = pvt1[(pvt1['Publication Year'] != 2024)]\n",
    "pvt1 = pvt1[:-1]\n",
    "pvt1"
   ]
  },
  {
   "cell_type": "code",
   "execution_count": 33,
   "metadata": {},
   "outputs": [
    {
     "ename": "NameError",
     "evalue": "name 'zoekstring' is not defined",
     "output_type": "error",
     "traceback": [
      "\u001b[1;31m---------------------------------------------------------------------------\u001b[0m",
      "\u001b[1;31mNameError\u001b[0m                                 Traceback (most recent call last)",
      "Cell \u001b[1;32mIn[33], line 1\u001b[0m\n\u001b[1;32m----> 1\u001b[0m pvt1\u001b[38;5;241m.\u001b[39mto_csv(\u001b[38;5;124m'\u001b[39m\u001b[38;5;124m../pvt_\u001b[39m\u001b[38;5;124m'\u001b[39m \u001b[38;5;241m+\u001b[39m \u001b[38;5;28mstr\u001b[39m(zoekstring) \u001b[38;5;241m+\u001b[39m \u001b[38;5;124m'\u001b[39m\u001b[38;5;124m.csv\u001b[39m\u001b[38;5;124m'\u001b[39m, index\u001b[38;5;241m=\u001b[39m\u001b[38;5;28;01mFalse\u001b[39;00m)\n",
      "\u001b[1;31mNameError\u001b[0m: name 'zoekstring' is not defined"
     ]
    }
   ],
   "source": [
    "pvt1.to_csv('../pvt_' + str(zoekstring) + '.csv', index=False)"
   ]
  },
  {
   "cell_type": "code",
   "execution_count": null,
   "metadata": {},
   "outputs": [],
   "source": [
    "pvt1.shape"
   ]
  },
  {
   "cell_type": "code",
   "execution_count": null,
   "metadata": {},
   "outputs": [],
   "source": [
    "from matplotlib import pyplot as plt\n",
    "# set figure size as 8 x 20 inches\n",
    "plt.figure(figsize=(20,8))\n",
    "bottom = np.zeros(pvt1.shape[0])\n",
    "for i in range(0, opt_nr_topics-1):\n",
    "    plt.bar(pvt1['Publication Year'], pvt1[i], bottom = bottom, label=f'Topic {i}')\n",
    "    bottom += pvt1[i]\n",
    "\n",
    "plt.xlabel('Year')\n",
    "plt.ylabel('Number of Articles')\n",
    "plt.title('Number of Articles per Topic per Year')\n",
    "# set ticks on x as years\n",
    "plt.xticks(np.arange(pvt1['Publication Year'].min(), pvt1['Publication Year'].max()+1, 2))\n",
    "plt.legend()\n",
    "plt.grid()\n",
    "plt.show()"
   ]
  },
  {
   "cell_type": "code",
   "execution_count": null,
   "metadata": {},
   "outputs": [],
   "source": [
    "pvt2['All'] = pvt2['All'] - pvt2[-1]\n",
    "\n",
    "for i in range(0, opt_nr_topics-1):\n",
    "    pvt2[i] = pvt2[i] / pvt2['All']\n",
    "\n",
    "pvt2 = pvt2.drop('All',axis=1)\n",
    "# pvt2 = pvt2[(pvt2['Publication Year'] != 2024)]\n",
    "pvt2 = pvt2[:-1]\n",
    "pvt2\n",
    "\n"
   ]
  },
  {
   "cell_type": "code",
   "execution_count": null,
   "metadata": {},
   "outputs": [],
   "source": [
    "from matplotlib import pyplot as plt\n",
    "# set figure size as 8 x 20 inches\n",
    "plt.figure(figsize=(20,8))\n",
    "\n",
    "bottom = np.zeros(pvt1.shape[0])\n",
    "for i in range(0, opt_nr_topics-1):\n",
    "    plt.bar(pvt2['Publication Year'], pvt2[i], bottom=bottom, label=f'Topic {i}')\n",
    "    bottom += pvt2[i]\n",
    "\n",
    "plt.xlabel('Year')\n",
    "plt.ylabel('Relative number of Articles')\n",
    "plt.title('Relative number of Articles per Topic per Year')\n",
    "# set ticks on x as years\n",
    "plt.xticks(np.arange(pvt2['Publication Year'].min(), pvt2['Publication Year'].max()+1, 2))\n",
    "plt.legend(bbox_to_anchor=(1.0, 1.0), loc='upper left')\n",
    "plt.grid()\n",
    "plt.show()"
   ]
  },
  {
   "cell_type": "code",
   "execution_count": null,
   "metadata": {},
   "outputs": [],
   "source": [
    "art.to_excel('.' + '.xlsx',index=False)"
   ]
  },
  {
   "cell_type": "markdown",
   "metadata": {},
   "source": [
    "#### References\n",
    "\n",
    "- LDA gensim vs scikit-learn: https://blog.devgenius.io/working-with-sklearn-latent-dirichlet-allocation-lda-topic-modeling-on-airline-sentiment-twitter-56dfacfd58bf  - \n",
    "- Perplexity score: https://medium.com/@iqra.bismi/topic-modelling-using-lda-fe81a2a806e0#:~:text=Perplexity%20is%20a%20commonly%20used,score%20indicates%20better%20model%20performance\n",
    "- A Topic Modeling Comparison Between LDA, NMF, Top2Vec, and BERTopic to Demystify Twitter Posts: https://www.frontiersin.org/articles/10.3389/fsoc.2022.886498/full\n",
    "- https://towardsdatascience.com/visualizing-topic-models-with-scatterpies-and-t-sne-f21f228f7b02\n",
    "- https://maartengr.github.io/BERTopic/index.html "
   ]
  },
  {
   "cell_type": "markdown",
   "metadata": {},
   "source": []
  }
 ],
 "metadata": {
  "kernelspec": {
   "display_name": "Python 3",
   "language": "python",
   "name": "python3"
  },
  "language_info": {
   "codemirror_mode": {
    "name": "ipython",
    "version": 3
   },
   "file_extension": ".py",
   "mimetype": "text/x-python",
   "name": "python",
   "nbconvert_exporter": "python",
   "pygments_lexer": "ipython3",
   "version": "3.11.8"
  }
 },
 "nbformat": 4,
 "nbformat_minor": 2
}

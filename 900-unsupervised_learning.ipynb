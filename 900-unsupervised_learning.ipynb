{
  "cells": [
    {
      "cell_type": "markdown",
      "metadata": {
        "id": "_ERMifJ-wo53"
      },
      "source": [
        "**Chapter 9 – Unsupervised Learning**"
      ]
    },
    {
      "cell_type": "markdown",
      "metadata": {
        "id": "-jks1ECuwo55"
      },
      "source": [
        "<table align=\"left\">\n",
        "  <td>\n",
        "    <a href=\"https://colab.research.google.com/github/ageron/handson-ml3/blob/main/09_unsupervised_learning.ipynb\" target=\"_parent\"><img src=\"https://colab.research.google.com/assets/colab-badge.svg\" alt=\"Open In Colab\"/></a>\n",
        "  </td>\n",
        "  <td>\n",
        "    <a target=\"_blank\" href=\"https://kaggle.com/kernels/welcome?src=https://github.com/ageron/handson-ml3/blob/main/09_unsupervised_learning.ipynb\"><img src=\"https://kaggle.com/static/images/open-in-kaggle.svg\" /></a>\n",
        "  </td>\n",
        "</table>"
      ]
    },
    {
      "cell_type": "markdown",
      "metadata": {
        "id": "_V1t5dUowo56",
        "tags": []
      },
      "source": [
        "# Setup"
      ]
    },
    {
      "attachments": {},
      "cell_type": "markdown",
      "metadata": {
        "id": "2iWwVPnAwo56"
      },
      "source": [
        "The regular requirements as in previous notebooks"
      ]
    },
    {
      "cell_type": "code",
      "execution_count": null,
      "metadata": {
        "id": "8q9V8Kaowo56"
      },
      "outputs": [],
      "source": [
        "import sys\n",
        "from packaging import version\n",
        "import sklearn\n",
        "\n",
        "assert sys.version_info >= (3, 7)\n",
        "assert version.parse(sklearn.__version__) >= version.parse(\"1.0.1\")\n",
        "\n",
        "import matplotlib.pyplot as plt\n",
        "\n",
        "plt.rc('font', size=14)\n",
        "plt.rc('axes', labelsize=14, titlesize=14)\n",
        "plt.rc('legend', fontsize=14)\n",
        "plt.rc('xtick', labelsize=10)\n",
        "plt.rc('ytick', labelsize=10)\n",
        "\n",
        "# Common imports\n",
        "import numpy as np\n",
        "import os"
      ]
    },
    {
      "attachments": {},
      "cell_type": "markdown",
      "metadata": {},
      "source": [
        "# Unsupervised learning"
      ]
    },
    {
      "attachments": {},
      "cell_type": "markdown",
      "metadata": {},
      "source": [
        "Most of the applications of machine learning today are based on supervised\n",
        "learning (and as a result, this is where most of the investments go to).     \n",
        "The vast majority of the available data however is unlabeled: we have the input features X, but we do not have the labels y.    \n",
        "\n",
        "Let's assume you want to setup a quality assurance system on a manufacturing production line.   \n",
        "You want to create a system that will take a few pictures of each item on a\n",
        "manufacturing production line and detect which items are defective. You can fairly\n",
        "easily create a system that will take pictures automatically, and this might give you\n",
        "thousands of pictures every day. You can then build a reasonably large dataset in just\n",
        "a few weeks.   \n",
        "The problem comes when you want to provide labels “defective” or “normal” to all items. \n",
        "If you want to train a regular binary classifier that will predict whether an item is defective or not, you will need to label some pictures to use as training set.  \n",
        "This will generally require human expert knowledge and time. This requires an expensive effort (time and money).   \n",
        "So it will usually only be done on a small subset of the available pictures. As a\n",
        "result, the labeled dataset will be quite small, and the classifier’s performance will be\n",
        "disappointing. Moreover, every time the company makes any change to its products,\n",
        "the whole process will need to be started over from scratch. Wouldn’t it be great if\n",
        "the algorithm could just exploit the unlabeled data without needing humans to label\n",
        "every picture? "
      ]
    },
    {
      "attachments": {},
      "cell_type": "markdown",
      "metadata": {},
      "source": [
        "# Introduction"
      ]
    },
    {
      "attachments": {},
      "cell_type": "markdown",
      "metadata": {},
      "source": [
        "**Clustering**\n",
        "The goal is to group similar instances together into clusters.  \n",
        "Clustering is a great tool for data analysis, customer segmentation, recommender systems, search\n",
        "engines, image segmentation, semi-supervised learning, dimensionality reduction,\n",
        "and more.  \n",
        "\n",
        "**Anomaly detection (also called outlier detection)**  \n",
        "The objective is to learn what “normal” data looks like, and then use that to\n",
        "detect abnormal instances. These instances are called anomalies, or outliers, while\n",
        "the normal instances are called inliers. Anomaly detection is useful in a wide\n",
        "variety of applications, such as fraud detection, detecting defective products in\n",
        "manufacturing, identifying new trends in time series, or removing outliers from\n",
        "a dataset before training another model, which can significantly improve the\n",
        "performance of the resulting model.  \n",
        "\n",
        "**Density estimation**  \n",
        "This is the task of estimating the probability density function (PDF) of the random\n",
        "process that generated the dataset. Density estimation is commonly used for\n",
        "anomaly detection: instances located in very low-density regions are likely to be\n",
        "anomalies. It is also useful for data analysis and visualization.    \n",
        "\n",
        "We will cover with two clustering algorithms, k-means and\n",
        "DBSCAN. At the end we’ll discuss Gaussian mixture models and see how they can be used\n",
        "for density estimation, clustering, and anomaly detection."
      ]
    },
    {
      "cell_type": "markdown",
      "metadata": {
        "id": "EfYe7agvwo58"
      },
      "source": [
        "# Clustering"
      ]
    },
    {
      "cell_type": "markdown",
      "metadata": {
        "id": "LVhGU5gowo58"
      },
      "source": [
        "**Introduction – Classification _vs_ Clustering**"
      ]
    },
    {
      "attachments": {},
      "cell_type": "markdown",
      "metadata": {},
      "source": [
        "Look at the image below.\n",
        "The image on the left is the result of a supervised classification.  \n",
        "On the right where we want to perform clustering on the iris dataset.  \n",
        "There are no labels, since we don't know any labels in unsupervised learning.  \n",
        "<img width=75% src=\"img/classification_vs_clustering_plot.png\"> "
      ]
    },
    {
      "attachments": {},
      "cell_type": "markdown",
      "metadata": {
        "id": "AvjUzPKbwo59"
      },
      "source": [
        "The next figure shows how a Gaussian mixture model that can actually separate these clusters pretty well using all 4 features: petal length & width, and sepal length & width. This code maps each cluster to a class. Instead of hard coding the mapping, the code picks the most common class for each cluster. 96.6% of the plants is assigned to the right cluster.\n",
        "<img width=75% src=\"img/clustering_iris_plot.png\"> "
      ]
    },
    {
      "cell_type": "markdown",
      "metadata": {
        "id": "O8TbQDpPwo59"
      },
      "source": [
        "## K-Means"
      ]
    },
    {
      "cell_type": "markdown",
      "metadata": {
        "id": "WDhJyPZQwo5-"
      },
      "source": [
        "**Fit and predict**"
      ]
    },
    {
      "attachments": {},
      "cell_type": "markdown",
      "metadata": {
        "id": "XtnRDyYQwo5-"
      },
      "source": [
        "Let's train a K-Means clusterer on a dataset of blobs. It will try to find each blob's center and assign each instance to the closest blob:"
      ]
    },
    {
      "cell_type": "code",
      "execution_count": null,
      "metadata": {
        "id": "dCriY4inwo5-"
      },
      "outputs": [],
      "source": [
        "from sklearn.cluster import KMeans\n",
        "from sklearn.datasets import make_blobs\n",
        "\n",
        "# extra code – the exact arguments of make_blobs() are not important\n",
        "blob_centers = np.array([[ 0.2,  2.3], [-1.5 ,  2.3], [-2.8,  1.8],\n",
        "                         [-2.8,  2.8], [-2.8,  1.3]])\n",
        "blob_std = np.array([0.4, 0.3, 0.1, 0.1, 0.1])\n",
        "X, y = make_blobs(n_samples=2000, centers=blob_centers, cluster_std=blob_std,\n",
        "                  random_state=7)\n",
        "\n",
        "k = 5\n",
        "kmeans = KMeans(n_clusters=k, random_state=42,n_init=\"auto\") #version 1.4 default value n_init=\"auto\" instead of 10\n",
        "y_pred = kmeans.fit_predict(X)"
      ]
    },
    {
      "attachments": {},
      "cell_type": "markdown",
      "metadata": {
        "id": "CSWGKTk4wo5-"
      },
      "source": [
        "Now let's plot them:   \n",
        "<img width=50% src=\"img/blobs_plot.png\"> "
      ]
    },
    {
      "cell_type": "markdown",
      "metadata": {
        "id": "XaNA6dtcwo5-"
      },
      "source": [
        "Each instance was assigned to one of the 5 clusters:"
      ]
    },
    {
      "cell_type": "code",
      "execution_count": null,
      "metadata": {
        "id": "_dQcyW4wwo5-",
        "outputId": "69736e57-a669-462b-a726-5e5436461575"
      },
      "outputs": [],
      "source": [
        "y_pred"
      ]
    },
    {
      "cell_type": "code",
      "execution_count": null,
      "metadata": {
        "id": "_QMaPSeVwo5-",
        "outputId": "2e26fac2-646e-47aa-d8e8-100323e2d2a0"
      },
      "outputs": [],
      "source": [
        "y_pred is kmeans.labels_"
      ]
    },
    {
      "cell_type": "markdown",
      "metadata": {
        "id": "Px7xbdyPwo5-"
      },
      "source": [
        "And the following 5 _centroids_ (i.e., cluster centers) were estimated:"
      ]
    },
    {
      "cell_type": "code",
      "execution_count": null,
      "metadata": {
        "id": "kuGx-42qwo5-",
        "outputId": "c036ed09-9520-4d18-f13b-8947ad5b75a7"
      },
      "outputs": [],
      "source": [
        "kmeans.cluster_centers_"
      ]
    },
    {
      "cell_type": "markdown",
      "metadata": {
        "id": "AnHqzv_Iwo5-"
      },
      "source": [
        "Note that the `KMeans` instance preserves the labels of the instances it was trained on. Somewhat confusingly, in this context, the _label_ of an instance is the index of the cluster that instance gets assigned to (they are not targets, they are predictions):"
      ]
    },
    {
      "cell_type": "code",
      "execution_count": null,
      "metadata": {
        "id": "P6Xhq492wo5-",
        "outputId": "7edcd1e4-c70d-4513-b485-28c57e51c579"
      },
      "outputs": [],
      "source": [
        "kmeans.labels_"
      ]
    },
    {
      "cell_type": "code",
      "execution_count": null,
      "metadata": {},
      "outputs": [],
      "source": [
        "kmeans.labels_.shape"
      ]
    },
    {
      "cell_type": "markdown",
      "metadata": {
        "id": "7dBFnzRnwo5_"
      },
      "source": [
        "Of course, we can predict the labels of new instances:"
      ]
    },
    {
      "cell_type": "code",
      "execution_count": null,
      "metadata": {
        "id": "wTjRwtQbwo5_",
        "outputId": "c31cbfe4-52f5-4a7b-e14b-1bfcc622c84c"
      },
      "outputs": [],
      "source": [
        "import numpy as np\n",
        "\n",
        "X_new = np.array([[0, 2], [3, 2], [-3, 3], [-3, 2.5]])\n",
        "kmeans.predict(X_new)"
      ]
    },
    {
      "cell_type": "markdown",
      "metadata": {
        "id": "2sSrcg8xwo5_"
      },
      "source": [
        "**Decision Boundaries**"
      ]
    },
    {
      "attachments": {},
      "cell_type": "markdown",
      "metadata": {
        "id": "tTZQDYFkwo5_"
      },
      "source": [
        "Let's plot the model's decision boundaries. This gives us a _Voronoi diagram_:  \n",
        "<img width=50% src=\"img/voronoi_plot.png\"> "
      ]
    },
    {
      "cell_type": "markdown",
      "metadata": {
        "id": "yFil4z5rwo5_"
      },
      "source": [
        "Not bad! Some of the instances near the edges were probably assigned to the wrong cluster, but overall it looks pretty good."
      ]
    },
    {
      "cell_type": "markdown",
      "metadata": {
        "id": "aoLOMUOZwo5_"
      },
      "source": [
        "**Hard Clustering _vs_ Soft Clustering**"
      ]
    },
    {
      "cell_type": "markdown",
      "metadata": {
        "id": "lzUOzne5wo5_"
      },
      "source": [
        "Rather than arbitrarily choosing the closest cluster for each instance, which is called _hard clustering_, it might be better to measure the distance of each instance to all 5 centroids. This is what the `transform()` method does:"
      ]
    },
    {
      "cell_type": "code",
      "execution_count": null,
      "metadata": {
        "id": "7OP5Upb1wo5_",
        "outputId": "4febb5d4-11c7-4096-a2e9-8ca72c6ef48c"
      },
      "outputs": [],
      "source": [
        "kmeans.transform(X_new).round(2)"
      ]
    },
    {
      "cell_type": "markdown",
      "metadata": {
        "id": "2f6d4HGlwo5_"
      },
      "source": [
        "You can verify that this is indeed the Euclidian distance between each instance and each centroid:"
      ]
    },
    {
      "cell_type": "code",
      "execution_count": null,
      "metadata": {
        "id": "_ZxC8NFmwo5_",
        "outputId": "75db59a7-891b-4071-d389-3b3164cf8341"
      },
      "outputs": [],
      "source": [
        "# extra code\n",
        "np.linalg.norm(np.tile(X_new, (1, k)).reshape(-1, k, 2)\n",
        "               - kmeans.cluster_centers_, axis=2).round(2)"
      ]
    },
    {
      "cell_type": "markdown",
      "metadata": {
        "id": "HdeSuC8Dwo5_"
      },
      "source": [
        "### The K-Means Algorithm"
      ]
    },
    {
      "cell_type": "markdown",
      "metadata": {
        "id": "EEjeBUBWwo5_"
      },
      "source": [
        "The K-Means algorithm is one of the fastest clustering algorithms, and also one of the simplest:\n",
        "* First initialize $k$ centroids randomly: e.g., $k$ distinct instances are chosen randomly from the dataset and the centroids are placed at their locations.\n",
        "* Repeat until convergence (i.e., until the centroids stop moving):\n",
        "    * Assign each instance to the closest centroid.\n",
        "    * Update the centroids to be the mean of the instances that are assigned to them."
      ]
    },
    {
      "cell_type": "markdown",
      "metadata": {
        "id": "e16V5Gn2wo6A"
      },
      "source": [
        "The `KMeans` class uses an optimized initialization technique by default. To get the original K-Means algorithm (for educational purposes only), you must set `init=\"random\"` and `n_init=1`. More on this later in this chapter."
      ]
    },
    {
      "attachments": {},
      "cell_type": "markdown",
      "metadata": {
        "id": "vcXnSqeqwo6A"
      },
      "source": [
        "Let's run the K-Means algorithm for 1, 2 and 3 iterations, to see how the centroids move around:\n",
        "\n",
        "<img width=75% src=\"img/kmeans_algorithm_plot.png\"> "
      ]
    },
    {
      "cell_type": "markdown",
      "metadata": {
        "id": "ZeZdfeW6wo6A"
      },
      "source": [
        "**K-Means Variability**"
      ]
    },
    {
      "attachments": {},
      "cell_type": "markdown",
      "metadata": {
        "id": "8jY1PNQLwo6A"
      },
      "source": [
        "In the original K-Means algorithm, the centroids are just initialized randomly, and the algorithm simply runs a single iteration to gradually improve the centroids, as we saw above.\n",
        "\n",
        "However, one major problem with this approach is that if you run K-Means multiple times (or with different random seeds), it can converge to very different solutions, as you can see : \n",
        "<img width=75% src=\"img/kmeans_variability_plot.png\"> "
      ]
    },
    {
      "cell_type": "code",
      "execution_count": null,
      "metadata": {
        "id": "dEKsGFTlwo6A",
        "outputId": "53240f58-2f91-4574-b9cc-23f9067ebd0b"
      },
      "outputs": [],
      "source": [
        "good_init = np.array([[-3, 3], [-3, 2], [-3, 1], [-1, 2], [0, 2]])\n",
        "kmeans = KMeans(n_clusters=5, init=good_init, n_init=1, random_state=42)\n",
        "kmeans.fit(X)"
      ]
    },
    {
      "attachments": {},
      "cell_type": "markdown",
      "metadata": {},
      "source": [
        "The updated decision boundaries:   \n",
        "<img width=60% src=\"img/clustering_decision_boundaries.png\"> "
      ]
    },
    {
      "cell_type": "markdown",
      "metadata": {
        "id": "_zgvQiHawo6A"
      },
      "source": [
        "### Inertia"
      ]
    },
    {
      "attachments": {},
      "cell_type": "markdown",
      "metadata": {
        "id": "5-5zSZzUwo6A"
      },
      "source": [
        "To select the best model, we will need a way to evaluate a K-Mean model's performance. Unfortunately, clustering is an unsupervised task, so we do not have the targets. But at least we can measure the distance between each instance and its centroid. Inertia is the sum of the squared distances between each training instance and its closest centroid:"
      ]
    },
    {
      "cell_type": "code",
      "execution_count": null,
      "metadata": {
        "id": "75zbKLGcwo6A",
        "outputId": "849b70db-8d12-45ff-e91e-51aed83091e8"
      },
      "outputs": [],
      "source": [
        "kmeans.inertia_"
      ]
    },
    {
      "cell_type": "markdown",
      "metadata": {
        "id": "d111_AeRwo6B"
      },
      "source": [
        "The `score()` method returns the negative inertia. Why negative? Well, it is because a predictor's `score()` method must always respect the \"_greater is better_\" rule."
      ]
    },
    {
      "cell_type": "code",
      "execution_count": null,
      "metadata": {
        "id": "mObYDemMwo6B",
        "outputId": "1673b8f4-ebe8-4b31-e1fa-665fd13b9773"
      },
      "outputs": [],
      "source": [
        "kmeans.score(X)"
      ]
    },
    {
      "cell_type": "markdown",
      "metadata": {
        "id": "JC5t5srmwo6B"
      },
      "source": [
        "### Multiple Initializations"
      ]
    },
    {
      "cell_type": "markdown",
      "metadata": {
        "id": "68Ap7pnWwo6B"
      },
      "source": [
        "So one approach to solve the variability issue is to simply run the K-Means algorithm multiple times with different random initializations, and select the solution that minimizes the inertia."
      ]
    },
    {
      "attachments": {},
      "cell_type": "markdown",
      "metadata": {
        "id": "H2Fkh1Jywo6B"
      },
      "source": [
        "When you set the `n_init` hyperparameter, Scikit-Learn runs the original algorithm `n_init` times, and selects the solution that minimizes the inertia. By default, Scikit-Learn sets `n_init=10`. In future versions, default value will be \"auto\""
      ]
    },
    {
      "cell_type": "code",
      "execution_count": null,
      "metadata": {
        "id": "wUleU61Ywo6B",
        "outputId": "70d5f2c9-7b14-4416-aac9-be43e2cb5837"
      },
      "outputs": [],
      "source": [
        "# extra code\n",
        "kmeans_rnd_10_inits = KMeans(n_clusters=5, init=\"random\", n_init=10,\n",
        "                             random_state=2)\n",
        "kmeans_rnd_10_inits.fit(X)"
      ]
    },
    {
      "cell_type": "markdown",
      "metadata": {
        "id": "XQ9_fWp9wo6B"
      },
      "source": [
        "### Centroid initialization methods"
      ]
    },
    {
      "cell_type": "markdown",
      "metadata": {
        "id": "WJzXVbgDwo6B"
      },
      "source": [
        "Instead of initializing the centroids entirely randomly, it is preferable to initialize them using the following algorithm, proposed in a [2006 paper](https://goo.gl/eNUPw6) by David Arthur and Sergei Vassilvitskii:\n",
        "* Take one centroid $c_1$, chosen uniformly at random from the dataset.\n",
        "* Take a new center $c_i$, choosing an instance $\\mathbf{x}_i$ with probability: $D(\\mathbf{x}_i)^2$ / $\\sum\\limits_{j=1}^{m}{D(\\mathbf{x}_j)}^2$ where $D(\\mathbf{x}_i)$ is the distance between the instance $\\mathbf{x}_i$ and the closest centroid that was already chosen. This probability distribution ensures that instances that are further away from already chosen centroids are much more likely be selected as centroids.\n",
        "* Repeat the previous step until all $k$ centroids have been chosen."
      ]
    },
    {
      "cell_type": "markdown",
      "metadata": {
        "id": "kCw_57Bwwo6B"
      },
      "source": [
        "The rest of the K-Means++ algorithm is just regular K-Means. With this initialization, the K-Means algorithm is much less likely to converge to a suboptimal solution, so it is possible to reduce `n_init` considerably. Most of the time, this largely compensates for the additional complexity of the initialization process."
      ]
    },
    {
      "cell_type": "markdown",
      "metadata": {
        "id": "0oleTTYWwo6B"
      },
      "source": [
        "To set the initialization to K-Means++, simply set `init=\"k-means++\"` (this is actually the default):"
      ]
    },
    {
      "cell_type": "markdown",
      "metadata": {
        "id": "XVkl1Zc0wo6B"
      },
      "source": [
        "### Accelerated K-Means"
      ]
    },
    {
      "cell_type": "markdown",
      "metadata": {
        "id": "BMvQ27Cwwo6B"
      },
      "source": [
        "The K-Means algorithm can sometimes be accelerated by avoiding many unnecessary distance calculations: this is achieved by exploiting the triangle inequality (given three points A, B and C, the distance AC is always such that AC ≤ AB + BC) and by keeping track of lower and upper bounds for distances between instances and centroids (see this [2003 paper](https://www.aaai.org/Papers/ICML/2003/ICML03-022.pdf) by Charles Elkan for more details)."
      ]
    },
    {
      "cell_type": "markdown",
      "metadata": {
        "id": "qJdze5PSwo6B"
      },
      "source": [
        "For Elkan's variant of K-Means, use `algorithm=\"elkan\"`. For regular KMeans, use `algorithm=\"full\"`. The default is `\"auto\"`, which uses the full algorithm since Scikit-Learn 1.1 (it used Elkan's algorithm before that)."
      ]
    },
    {
      "cell_type": "markdown",
      "metadata": {
        "id": "0pEYAOVQwo6C"
      },
      "source": [
        "### Finding the optimal number of clusters"
      ]
    },
    {
      "attachments": {},
      "cell_type": "markdown",
      "metadata": {
        "id": "QY98IT_Wwo6C"
      },
      "source": [
        "What if the number of clusters was set to a lower or greater value than 5?   \n",
        "<img width=60% src=\"img/bad_n_clusters_plot.png\"> "
      ]
    },
    {
      "cell_type": "markdown",
      "metadata": {
        "id": "MgSDkx4ywo6D"
      },
      "source": [
        "Ouch, these two models don't look great. What about their inertias?"
      ]
    },
    {
      "cell_type": "code",
      "execution_count": null,
      "metadata": {
        "id": "5EIpsQKhwo6D",
        "outputId": "28d3b604-3d8d-4379-b99b-4be0e626d8bb"
      },
      "outputs": [],
      "source": [
        "kmeans_k3.inertia_"
      ]
    },
    {
      "cell_type": "code",
      "execution_count": null,
      "metadata": {
        "id": "PdPeZ3Kmwo6D",
        "outputId": "6ba206bc-b8a9-4169-c391-185354d803b3"
      },
      "outputs": [],
      "source": [
        "kmeans_k8.inertia_"
      ]
    },
    {
      "attachments": {},
      "cell_type": "markdown",
      "metadata": {
        "id": "-vkqPMlswo6D"
      },
      "source": [
        "No, we cannot simply take the value of $k$ that minimizes the inertia, since it keeps getting lower as we increase $k$. Indeed, the more clusters there are, the closer each instance will be to its closest centroid, and therefore the lower the inertia will be. However, we can plot the inertia as a function of $k$ and analyze the resulting curve:\n",
        "<img width=60% src=\"img/inertia_vs_k_plot.png\"> \n"
      ]
    },
    {
      "attachments": {},
      "cell_type": "markdown",
      "metadata": {
        "id": "FORHJQGXwo6D"
      },
      "source": [
        "As you can see, there is an elbow at $k=4$, which means that less clusters than that would be bad, and more clusters would not help much and might cut clusters in half. So $k=4$ is a pretty good choice. Of course in this example it is not perfect since it means that the two blobs in the lower left will be considered as just a single cluster, but it's a pretty good clustering nonetheless.\n",
        "<img width=60% src=\"img/clusters_k4.png\"> \n"
      ]
    },
    {
      "cell_type": "markdown",
      "metadata": {
        "id": "ZkBZeS9iwo6D"
      },
      "source": [
        "Another approach is to look at the _silhouette score_, which is the mean _silhouette coefficient_ over all the instances. An instance's silhouette coefficient is equal to (_b_ - _a_) / max(_a_, _b_) where _a_ is the mean distance to the other instances in the same cluster (it is the _mean intra-cluster distance_), and _b_ is the _mean nearest-cluster distance_, that is the mean distance to the instances of the next closest cluster (defined as the one that minimizes _b_, excluding the instance's own cluster). The silhouette coefficient can vary between -1 and +1: a coefficient close to +1 means that the instance is well inside its own cluster and far from other clusters, while a coefficient close to 0 means that it is close to a cluster boundary, and finally a coefficient close to -1 means that the instance may have been assigned to the wrong cluster."
      ]
    },
    {
      "cell_type": "markdown",
      "metadata": {
        "id": "QsNHdriFwo6D"
      },
      "source": [
        "Let's plot the silhouette score as a function of $k$:"
      ]
    },
    {
      "cell_type": "code",
      "execution_count": null,
      "metadata": {
        "id": "V_M5ZXlQwo6D"
      },
      "outputs": [],
      "source": [
        "from sklearn.metrics import silhouette_score"
      ]
    },
    {
      "cell_type": "code",
      "execution_count": null,
      "metadata": {
        "id": "QkV8ebAlwo6D",
        "outputId": "f0548779-ade9-48f9-a12f-397fec79a8b9"
      },
      "outputs": [],
      "source": [
        "silhouette_score(X, kmeans.labels_)"
      ]
    },
    {
      "attachments": {},
      "cell_type": "markdown",
      "metadata": {},
      "source": [
        "<img width=60% src=\"img/silhouette_score_vs_k_plot.png\"> "
      ]
    },
    {
      "cell_type": "markdown",
      "metadata": {
        "id": "-qlfPW4Qwo6D"
      },
      "source": [
        "As you can see, this visualization is much richer than the previous one: in particular, although it confirms that $k=4$ is a very good choice, but it also underlines the fact that $k=5$ is quite good as well."
      ]
    },
    {
      "attachments": {},
      "cell_type": "markdown",
      "metadata": {
        "id": "mccDn9bHwo6D"
      },
      "source": [
        "An even more informative visualization is given when you plot every instance's silhouette coefficient, sorted by the cluster they are assigned to and by the value of the coefficient. This is called a _silhouette diagram_:   \n",
        "<img width=60% src=\"img/silhouette_analysis_plot.png\"> "
      ]
    },
    {
      "cell_type": "markdown",
      "metadata": {
        "id": "EjiVdQkUwo6E"
      },
      "source": [
        "As you can see, $k=5$ looks like the best option here, as all clusters are roughly the same size, and they all cross the dashed line, which represents the mean silhouette score."
      ]
    },
    {
      "cell_type": "markdown",
      "metadata": {
        "id": "Yi1hLTtUwo6F"
      },
      "source": [
        "## Limits of K-Means"
      ]
    },
    {
      "attachments": {},
      "cell_type": "markdown",
      "metadata": {
        "id": "fy_Fy7Kfwo6F"
      },
      "source": [
        "Let's generate a more difficult dataset, with elongated blobs and varying densities, and show that K-Means struggles to cluster it correctly:     \n",
        "<img width=60% src=\"img/bad_kmeans_plot.png\">  "
      ]
    },
    {
      "cell_type": "markdown",
      "metadata": {
        "id": "26oVypP2wo6G"
      },
      "source": [
        "## Using Clustering for Image Segmentation"
      ]
    },
    {
      "attachments": {},
      "cell_type": "markdown",
      "metadata": {
        "id": "O3B5e1-gwo6G"
      },
      "source": [
        "Take a look af the following ladybug image:    \n",
        "\n",
        "<img width=40% src=\"img/ladybug.png\">  "
      ]
    },
    {
      "cell_type": "code",
      "execution_count": null,
      "metadata": {
        "id": "A0Y0gw_Kwo6G",
        "outputId": "d760c700-5884-47a0-c9e2-3eff4070b2f7"
      },
      "outputs": [],
      "source": [
        "import PIL\n",
        "filepath = \"img/ladybug.png\"\n",
        "image = np.asarray(PIL.Image.open(filepath))\n",
        "image.shape"
      ]
    },
    {
      "cell_type": "code",
      "execution_count": null,
      "metadata": {
        "id": "ral---hYwo6G"
      },
      "outputs": [],
      "source": [
        "X = image.reshape(-1, 3)\n",
        "kmeans = KMeans(n_clusters=8, random_state=42, n_init=10).fit(X)\n",
        "segmented_img = kmeans.cluster_centers_[kmeans.labels_]\n",
        "segmented_img = segmented_img.reshape(image.shape)"
      ]
    },
    {
      "attachments": {},
      "cell_type": "markdown",
      "metadata": {},
      "source": [
        "<img width=75% src=\"img/image_segmentation_plot.png\">  "
      ]
    },
    {
      "cell_type": "markdown",
      "metadata": {
        "id": "OZ8-lMdgwo6H"
      },
      "source": [
        "## Using Clustering for Semi-Supervised Learning"
      ]
    },
    {
      "cell_type": "markdown",
      "metadata": {
        "id": "gx5SZ4S6wo6H"
      },
      "source": [
        "Another use case for clustering is semi-supervised learning, when we have plenty of unlabeled instances and very few labeled instances."
      ]
    },
    {
      "cell_type": "markdown",
      "metadata": {
        "id": "PBY-iCEOwo6H"
      },
      "source": [
        "Let's tackle the _digits dataset_ which is a simple MNIST-like dataset containing 1,797 grayscale 8×8 images representing digits 0 to 9."
      ]
    },
    {
      "cell_type": "code",
      "execution_count": null,
      "metadata": {
        "id": "1bwwbHHvwo6H"
      },
      "outputs": [],
      "source": [
        "from sklearn.datasets import load_digits\n",
        "\n",
        "X_digits, y_digits = load_digits(return_X_y=True)\n",
        "X_train, y_train = X_digits[:1400], y_digits[:1400]\n",
        "X_test, y_test = X_digits[1400:], y_digits[1400:]"
      ]
    },
    {
      "cell_type": "markdown",
      "metadata": {
        "id": "ZLkoPaDGwo6H"
      },
      "source": [
        "Let's look at the performance of a logistic regression model when we only have 50 labeled instances:"
      ]
    },
    {
      "cell_type": "code",
      "execution_count": null,
      "metadata": {
        "id": "JKttl8iewo6H",
        "outputId": "06f31aeb-b173-461b-f335-77d457c87af6"
      },
      "outputs": [],
      "source": [
        "from sklearn.linear_model import LogisticRegression\n",
        "\n",
        "n_labeled = 50\n",
        "log_reg = LogisticRegression(max_iter=10_000)\n",
        "log_reg.fit(X_train[:n_labeled], y_train[:n_labeled])"
      ]
    },
    {
      "cell_type": "code",
      "execution_count": null,
      "metadata": {
        "id": "ceNwNYfPwo6H",
        "outputId": "7c457185-7350-46b3-f6dc-1bf7ddc21f36"
      },
      "outputs": [],
      "source": [
        "log_reg.score(X_test, y_test)"
      ]
    },
    {
      "cell_type": "code",
      "execution_count": null,
      "metadata": {
        "id": "1BS1u9Arwo6I",
        "outputId": "5e0804d7-1ad5-4307-fe5d-d194a3fd000a"
      },
      "outputs": [],
      "source": [
        "# extra code – measure the accuracy when we use the whole training set\n",
        "log_reg_full = LogisticRegression(max_iter=10_000)\n",
        "log_reg_full.fit(X_train, y_train)\n",
        "log_reg_full.score(X_test, y_test)"
      ]
    },
    {
      "cell_type": "markdown",
      "metadata": {
        "id": "zRE6Pn4Gwo6I"
      },
      "source": [
        "It's much less than earlier of course. Let's see how we can do better. First, let's cluster the training set into 50 clusters, then for each cluster let's find the image closest to the centroid. We will call these images the representative images:"
      ]
    },
    {
      "cell_type": "code",
      "execution_count": null,
      "metadata": {
        "id": "HKg8PJ0qwo6I"
      },
      "outputs": [],
      "source": [
        "k = 50\n",
        "kmeans = KMeans(n_clusters=k, random_state=42,n_init=10)\n",
        "X_digits_dist = kmeans.fit_transform(X_train)\n",
        "representative_digit_idx = X_digits_dist.argmin(axis=0)\n",
        "X_representative_digits = X_train[representative_digit_idx]"
      ]
    },
    {
      "cell_type": "markdown",
      "metadata": {
        "id": "RJR6ioCJwo6I"
      },
      "source": [
        "Now let's plot these representative images and label them manually:"
      ]
    },
    {
      "attachments": {},
      "cell_type": "markdown",
      "metadata": {},
      "source": [
        "<img width=60% src=\"img/representative_images_plot.png\">  "
      ]
    },
    {
      "cell_type": "code",
      "execution_count": null,
      "metadata": {
        "id": "pTMVMawkwo6I"
      },
      "outputs": [],
      "source": [
        "y_representative_digits = np.array([\n",
        "    1, 3, 6, 0, 7, 9, 2, 4, 8, 9,\n",
        "    5, 4, 7, 1, 2, 6, 1, 2, 5, 1,\n",
        "    4, 1, 3, 3, 8, 8, 2, 5, 6, 9,\n",
        "    1, 4, 0, 6, 8, 3, 4, 6, 7, 2,\n",
        "    4, 1, 0, 7, 5, 1, 9, 9, 3, 7\n",
        "])"
      ]
    },
    {
      "cell_type": "markdown",
      "metadata": {
        "id": "FhSIZowfwo6I"
      },
      "source": [
        "Now we have a dataset with just 50 labeled instances, but instead of being completely random instances, each of them is a representative image of its cluster. Let's see if the performance is any better:"
      ]
    },
    {
      "cell_type": "code",
      "execution_count": null,
      "metadata": {
        "id": "Eiywzz0cwo6I",
        "outputId": "4481cff4-bbd1-41c9-8414-a8ba4602c632"
      },
      "outputs": [],
      "source": [
        "log_reg = LogisticRegression(max_iter=10_000)\n",
        "log_reg.fit(X_representative_digits, y_representative_digits)\n",
        "log_reg.score(X_test, y_test)"
      ]
    },
    {
      "cell_type": "markdown",
      "metadata": {
        "id": "UVs6W8DFwo6I"
      },
      "source": [
        "Wow! We jumped from 74.8% accuracy to 84.9%, although we are still only training the model on 50 instances. Since it's often costly and painful to label instances, especially when it has to be done manually by experts, it's a good idea to make them label representative instances rather than just random instances."
      ]
    },
    {
      "cell_type": "markdown",
      "metadata": {
        "id": "IIiK9Mmewo6I"
      },
      "source": [
        "But perhaps we can go one step further: what if we propagated the labels to all the other instances in the same cluster?"
      ]
    },
    {
      "cell_type": "code",
      "execution_count": null,
      "metadata": {
        "id": "zE1pKRmwwo6I"
      },
      "outputs": [],
      "source": [
        "y_train_propagated = np.empty(len(X_train), dtype=np.int64)\n",
        "for i in range(k):\n",
        "    y_train_propagated[kmeans.labels_ == i] = y_representative_digits[i]"
      ]
    },
    {
      "cell_type": "code",
      "execution_count": null,
      "metadata": {
        "id": "q6UQOMU5wo6I",
        "outputId": "c21a571f-ddad-4234-a755-34ccf745f71e"
      },
      "outputs": [],
      "source": [
        "log_reg = LogisticRegression(max_iter=10_000)\n",
        "log_reg.fit(X_train, y_train_propagated)"
      ]
    },
    {
      "cell_type": "code",
      "execution_count": null,
      "metadata": {
        "id": "CA_G-Nfrwo6J",
        "outputId": "9a0ced1b-d61e-437c-9e85-ef5df328cc90"
      },
      "outputs": [],
      "source": [
        "log_reg.score(X_test, y_test)"
      ]
    },
    {
      "cell_type": "markdown",
      "metadata": {
        "id": "UD89ugh1wo6J"
      },
      "source": [
        "We got another significant accuracy boost! Let's see if we can do even better by ignoring the 1% instances that are farthest from their cluster center: this should eliminate some outliers:"
      ]
    },
    {
      "cell_type": "code",
      "execution_count": null,
      "metadata": {
        "id": "ln5hS_FWwo6J"
      },
      "outputs": [],
      "source": [
        "percentile_closest = 99 #try to play around with this parameter to see what happens\n",
        "\n",
        "X_cluster_dist = X_digits_dist[np.arange(len(X_train)), kmeans.labels_]\n",
        "for i in range(k):\n",
        "    in_cluster = (kmeans.labels_ == i)\n",
        "    cluster_dist = X_cluster_dist[in_cluster]\n",
        "    cutoff_distance = np.percentile(cluster_dist, percentile_closest)\n",
        "    above_cutoff = (X_cluster_dist > cutoff_distance)\n",
        "    X_cluster_dist[in_cluster & above_cutoff] = -1\n",
        "\n",
        "partially_propagated = (X_cluster_dist != -1)\n",
        "X_train_partially_propagated = X_train[partially_propagated]\n",
        "y_train_partially_propagated = y_train_propagated[partially_propagated]"
      ]
    },
    {
      "cell_type": "code",
      "execution_count": null,
      "metadata": {
        "id": "2xUBiPIVwo6J",
        "outputId": "9458d361-fa38-4944-b6cc-723b955b02a9"
      },
      "outputs": [],
      "source": [
        "log_reg = LogisticRegression(max_iter=10_000)\n",
        "log_reg.fit(X_train_partially_propagated, y_train_partially_propagated)\n",
        "log_reg.score(X_test, y_test)"
      ]
    },
    {
      "cell_type": "markdown",
      "metadata": {
        "id": "H_rpDieGwo6J"
      },
      "source": [
        "Wow, another accuracy boost! We have even slightly surpassed the performance we got by training on the fully labeled training set!"
      ]
    },
    {
      "cell_type": "markdown",
      "metadata": {
        "id": "kcdgKk-jwo6J"
      },
      "source": [
        "Our propagated labels are actually pretty good: their accuracy is about 97.6%:"
      ]
    },
    {
      "cell_type": "code",
      "execution_count": null,
      "metadata": {
        "id": "ytFHo2hpwo6J",
        "outputId": "c3ce37d3-6cb2-477d-910f-ce24d141b5da"
      },
      "outputs": [],
      "source": [
        "(y_train_partially_propagated == y_train[partially_propagated]).mean()"
      ]
    },
    {
      "attachments": {},
      "cell_type": "markdown",
      "metadata": {
        "id": "B3Xx0zw7wo6J"
      },
      "source": [
        "You could now do a few iterations of *active learning*:\n",
        "1. Manually label the instances that the classifier is least sure about, if possible by picking them in distinct clusters.\n",
        "2. Train a new model with these additional labels.\n",
        "\n",
        "Or you could label the instances that different models disagree on e.g., an SVM and a Random Forest."
      ]
    },
    {
      "cell_type": "markdown",
      "metadata": {
        "id": "RQTi0q3Uwo6J"
      },
      "source": [
        "## DBSCAN"
      ]
    },
    {
      "attachments": {},
      "cell_type": "markdown",
      "metadata": {},
      "source": [
        "This algorithm defines clusters as continuous regions of high density. \n",
        "\n",
        "* For each instance, the algorithm counts how many instances are located within\n",
        "a small distance ε (epsilon) from it. This region is called the instance’s ε-\n",
        "neighborhood.\n",
        "* If an instance has at least min_samples instances in its ε-neighborhood (including\n",
        "itself), then it is considered a core instance. In other words, core instances are\n",
        "those that are located in dense regions.\n",
        "* All instances in the neighborhood of a core instance belong to the same cluster.\n",
        "This neighborhood may include other core instances; therefore, a long sequence\n",
        "of neighboring core instances forms a single cluster.\n",
        "* Any instance that is not a core instance and does not have one in its neighborhood\n",
        "is considered an anomaly.   \n",
        "\n",
        "This algorithm works well if all the clusters are well separated by low-density regions.\n",
        "Let's try it on the moons dataset"
      ]
    },
    {
      "cell_type": "code",
      "execution_count": null,
      "metadata": {
        "id": "HrBQhYgHwo6J",
        "outputId": "7f8ff019-2742-4adc-d057-c3a239967f29"
      },
      "outputs": [],
      "source": [
        "from sklearn.cluster import DBSCAN\n",
        "from sklearn.datasets import make_moons\n",
        "\n",
        "X, y = make_moons(n_samples=1000, noise=0.05, random_state=42)\n",
        "dbscan = DBSCAN(eps=0.05, min_samples=5)\n",
        "dbscan.fit(X)"
      ]
    },
    {
      "attachments": {},
      "cell_type": "markdown",
      "metadata": {},
      "source": [
        "Just take a look at the left image.   \n",
        "DBSCAN identified quite a lot of anomalies (red crosses), plus seven different clusters. How disappointing!\n",
        "Fortunately, if we widen each instance’s neighborhood by increasing eps to 0.2, we get\n",
        "the clustering on the right, which looks perfect.   \n",
        "\n",
        "DBSCAN is a very simple yet powerful algorithm capable of identifying any number of clusters of any shape.   \n",
        "It is robust to outliers, and it has just two hyperparameters (eps and min_samples).  \n",
        "If the density varies significantly across the clusters, or if there’s no sufficiently low-density region around some clusters,   \n",
        "DBSCAN can struggle to capture all the clusters properly. Moreover, its computational complexity is roughly $O(m^2n)$, so it does not scale well to large datasets.   \n",
        "\n",
        "<img width=60% src=\"img/dbscan_plot.png\">  "
      ]
    },
    {
      "attachments": {},
      "cell_type": "markdown",
      "metadata": {},
      "source": [
        "There are a few other clustering algorithms that you should have at least heard before and that are also available in Scikit-Learn.  \n",
        "\n",
        "* Agglomerative clustering connects the nearest pair of clusters (starting from indiviual instances)   \n",
        "* BIRCH (Balanced Iterative Reducing and Clustering using Hierarchies) for very large datasets   \n",
        "* Mean-Shift shifts circles in the direction of higher density but it is not suited for large datasets\n",
        "* Affinity propagation is similar to k-means but you don’t have to pick a number of clusters ahead of time but also not suited for large datasets   \n",
        "* Spectral clustering takes a similarity matrix, reduces the matrix’s dimensionality and uses another clustering algorithm in this low-dimensional space "
      ]
    },
    {
      "cell_type": "markdown",
      "metadata": {
        "id": "zejpklgvwo6L"
      },
      "source": [
        "# Gaussian Mixtures"
      ]
    },
    {
      "attachments": {},
      "cell_type": "markdown",
      "metadata": {},
      "source": [
        "Another clustering algorithm is Gaussian mixture models, which can be used for density estimation, clustering, and anomaly detection.\n",
        "A Gaussian mixture model (GMM) is a probabilistic model that assumes that the instances were generated from a mixture of several Gaussian distributions whose\n",
        "parameters are unknown. All the instances generated from a single Gaussian distribution form a cluster that typically looks like an ellipsoid.   \n",
        "Each cluster can have a different ellipsoidal shape, size, density, and orientation. \n",
        "There are several GMM variants. In the simplest variant, implemented in the GaussianMixture class, you must know in advance the number k of Gaussian distributions."
      ]
    },
    {
      "cell_type": "markdown",
      "metadata": {
        "id": "8ZH9X1h6wo6L"
      },
      "source": [
        "Let's generate the same dataset as earliers with three ellipsoids (the one K-Means had trouble with):"
      ]
    },
    {
      "cell_type": "code",
      "execution_count": 146,
      "metadata": {
        "id": "tbWwq9DMwo6L"
      },
      "outputs": [],
      "source": [
        "X1, y1 = make_blobs(n_samples=1000, centers=((4, -4), (0, 0)), random_state=42)\n",
        "X1 = X1.dot(np.array([[0.374, 0.95], [0.732, 0.598]]))\n",
        "X2, y2 = make_blobs(n_samples=250, centers=1, random_state=42)\n",
        "X2 = X2 + [6, -8]\n",
        "X = np.r_[X1, X2]\n",
        "y = np.r_[y1, y2]"
      ]
    },
    {
      "cell_type": "markdown",
      "metadata": {
        "id": "5iEuLsI9wo6L"
      },
      "source": [
        "Let's train a Gaussian mixture model on the previous dataset:"
      ]
    },
    {
      "cell_type": "code",
      "execution_count": 160,
      "metadata": {
        "id": "gxp4nf8Pwo6L",
        "outputId": "bd3205bf-65b2-4a60-87fc-761697bd75da"
      },
      "outputs": [
        {
          "data": {
            "text/html": [
              "<style>#sk-container-id-14 {color: black;background-color: white;}#sk-container-id-14 pre{padding: 0;}#sk-container-id-14 div.sk-toggleable {background-color: white;}#sk-container-id-14 label.sk-toggleable__label {cursor: pointer;display: block;width: 100%;margin-bottom: 0;padding: 0.3em;box-sizing: border-box;text-align: center;}#sk-container-id-14 label.sk-toggleable__label-arrow:before {content: \"▸\";float: left;margin-right: 0.25em;color: #696969;}#sk-container-id-14 label.sk-toggleable__label-arrow:hover:before {color: black;}#sk-container-id-14 div.sk-estimator:hover label.sk-toggleable__label-arrow:before {color: black;}#sk-container-id-14 div.sk-toggleable__content {max-height: 0;max-width: 0;overflow: hidden;text-align: left;background-color: #f0f8ff;}#sk-container-id-14 div.sk-toggleable__content pre {margin: 0.2em;color: black;border-radius: 0.25em;background-color: #f0f8ff;}#sk-container-id-14 input.sk-toggleable__control:checked~div.sk-toggleable__content {max-height: 200px;max-width: 100%;overflow: auto;}#sk-container-id-14 input.sk-toggleable__control:checked~label.sk-toggleable__label-arrow:before {content: \"▾\";}#sk-container-id-14 div.sk-estimator input.sk-toggleable__control:checked~label.sk-toggleable__label {background-color: #d4ebff;}#sk-container-id-14 div.sk-label input.sk-toggleable__control:checked~label.sk-toggleable__label {background-color: #d4ebff;}#sk-container-id-14 input.sk-hidden--visually {border: 0;clip: rect(1px 1px 1px 1px);clip: rect(1px, 1px, 1px, 1px);height: 1px;margin: -1px;overflow: hidden;padding: 0;position: absolute;width: 1px;}#sk-container-id-14 div.sk-estimator {font-family: monospace;background-color: #f0f8ff;border: 1px dotted black;border-radius: 0.25em;box-sizing: border-box;margin-bottom: 0.5em;}#sk-container-id-14 div.sk-estimator:hover {background-color: #d4ebff;}#sk-container-id-14 div.sk-parallel-item::after {content: \"\";width: 100%;border-bottom: 1px solid gray;flex-grow: 1;}#sk-container-id-14 div.sk-label:hover label.sk-toggleable__label {background-color: #d4ebff;}#sk-container-id-14 div.sk-serial::before {content: \"\";position: absolute;border-left: 1px solid gray;box-sizing: border-box;top: 0;bottom: 0;left: 50%;z-index: 0;}#sk-container-id-14 div.sk-serial {display: flex;flex-direction: column;align-items: center;background-color: white;padding-right: 0.2em;padding-left: 0.2em;position: relative;}#sk-container-id-14 div.sk-item {position: relative;z-index: 1;}#sk-container-id-14 div.sk-parallel {display: flex;align-items: stretch;justify-content: center;background-color: white;position: relative;}#sk-container-id-14 div.sk-item::before, #sk-container-id-14 div.sk-parallel-item::before {content: \"\";position: absolute;border-left: 1px solid gray;box-sizing: border-box;top: 0;bottom: 0;left: 50%;z-index: -1;}#sk-container-id-14 div.sk-parallel-item {display: flex;flex-direction: column;z-index: 1;position: relative;background-color: white;}#sk-container-id-14 div.sk-parallel-item:first-child::after {align-self: flex-end;width: 50%;}#sk-container-id-14 div.sk-parallel-item:last-child::after {align-self: flex-start;width: 50%;}#sk-container-id-14 div.sk-parallel-item:only-child::after {width: 0;}#sk-container-id-14 div.sk-dashed-wrapped {border: 1px dashed gray;margin: 0 0.4em 0.5em 0.4em;box-sizing: border-box;padding-bottom: 0.4em;background-color: white;}#sk-container-id-14 div.sk-label label {font-family: monospace;font-weight: bold;display: inline-block;line-height: 1.2em;}#sk-container-id-14 div.sk-label-container {text-align: center;}#sk-container-id-14 div.sk-container {/* jupyter's `normalize.less` sets `[hidden] { display: none; }` but bootstrap.min.css set `[hidden] { display: none !important; }` so we also need the `!important` here to be able to override the default hidden behavior on the sphinx rendered scikit-learn.org. See: https://github.com/scikit-learn/scikit-learn/issues/21755 */display: inline-block !important;position: relative;}#sk-container-id-14 div.sk-text-repr-fallback {display: none;}</style><div id=\"sk-container-id-14\" class=\"sk-top-container\"><div class=\"sk-text-repr-fallback\"><pre>GaussianMixture(n_components=3, n_init=10, random_state=42)</pre><b>In a Jupyter environment, please rerun this cell to show the HTML representation or trust the notebook. <br />On GitHub, the HTML representation is unable to render, please try loading this page with nbviewer.org.</b></div><div class=\"sk-container\" hidden><div class=\"sk-item\"><div class=\"sk-estimator sk-toggleable\"><input class=\"sk-toggleable__control sk-hidden--visually\" id=\"sk-estimator-id-14\" type=\"checkbox\" checked><label for=\"sk-estimator-id-14\" class=\"sk-toggleable__label sk-toggleable__label-arrow\">GaussianMixture</label><div class=\"sk-toggleable__content\"><pre>GaussianMixture(n_components=3, n_init=10, random_state=42)</pre></div></div></div></div></div>"
            ],
            "text/plain": [
              "GaussianMixture(n_components=3, n_init=10, random_state=42)"
            ]
          },
          "execution_count": 160,
          "metadata": {},
          "output_type": "execute_result"
        }
      ],
      "source": [
        "from sklearn.mixture import GaussianMixture\n",
        "gm = GaussianMixture(n_components=3, n_init=10, random_state=42)\n",
        "gm.fit(X)"
      ]
    },
    {
      "cell_type": "markdown",
      "metadata": {
        "id": "I13yya1Hwo6L"
      },
      "source": [
        "Let's look at the parameters that the EM algorithm estimated:"
      ]
    },
    {
      "cell_type": "code",
      "execution_count": 149,
      "metadata": {
        "id": "G_fYRH0Swo6L",
        "outputId": "9dff6b73-011e-45c3-f7d2-85f15ab9972a"
      },
      "outputs": [
        {
          "data": {
            "text/plain": [
              "array([0.39025715, 0.40007391, 0.20966893])"
            ]
          },
          "execution_count": 149,
          "metadata": {},
          "output_type": "execute_result"
        }
      ],
      "source": [
        "gm.weights_"
      ]
    },
    {
      "cell_type": "code",
      "execution_count": 150,
      "metadata": {
        "id": "lNQBhENwwo6L",
        "outputId": "26131516-47d5-49a6-ed6c-8c7cc1e40adf"
      },
      "outputs": [
        {
          "data": {
            "text/plain": [
              "array([[ 0.05131611,  0.07521837],\n",
              "       [-1.40763156,  1.42708225],\n",
              "       [ 3.39893794,  1.05928897]])"
            ]
          },
          "execution_count": 150,
          "metadata": {},
          "output_type": "execute_result"
        }
      ],
      "source": [
        "gm.means_"
      ]
    },
    {
      "cell_type": "code",
      "execution_count": 151,
      "metadata": {
        "id": "FJDPLL9awo6L",
        "outputId": "fef6d468-26ad-4961-abfd-5dfd95337d69"
      },
      "outputs": [
        {
          "data": {
            "text/plain": [
              "array([[[ 0.68799922,  0.79606357],\n",
              "        [ 0.79606357,  1.21236106]],\n",
              "\n",
              "       [[ 0.63479409,  0.72970799],\n",
              "        [ 0.72970799,  1.1610351 ]],\n",
              "\n",
              "       [[ 1.14833585, -0.03256179],\n",
              "        [-0.03256179,  0.95490931]]])"
            ]
          },
          "execution_count": 151,
          "metadata": {},
          "output_type": "execute_result"
        }
      ],
      "source": [
        "gm.covariances_"
      ]
    },
    {
      "cell_type": "markdown",
      "metadata": {
        "id": "FuFk8xT1wo6L"
      },
      "source": [
        "Did the algorithm actually converge?"
      ]
    },
    {
      "cell_type": "code",
      "execution_count": 152,
      "metadata": {
        "id": "UK8XL9kdwo6L",
        "outputId": "81904401-138a-46cc-c60f-2822d7c0982e"
      },
      "outputs": [
        {
          "data": {
            "text/plain": [
              "True"
            ]
          },
          "execution_count": 152,
          "metadata": {},
          "output_type": "execute_result"
        }
      ],
      "source": [
        "gm.converged_"
      ]
    },
    {
      "cell_type": "markdown",
      "metadata": {
        "id": "7y5ZEBMXwo6L"
      },
      "source": [
        "Yes, good. How many iterations did it take?"
      ]
    },
    {
      "cell_type": "code",
      "execution_count": 153,
      "metadata": {
        "id": "WUqc9sxwwo6L",
        "outputId": "d5975e6a-caee-495e-e1f8-56c0ef70b5f5"
      },
      "outputs": [
        {
          "data": {
            "text/plain": [
              "4"
            ]
          },
          "execution_count": 153,
          "metadata": {},
          "output_type": "execute_result"
        }
      ],
      "source": [
        "gm.n_iter_"
      ]
    },
    {
      "cell_type": "markdown",
      "metadata": {
        "id": "o3ieycLwwo6L"
      },
      "source": [
        "You can now use the model to predict which cluster each instance belongs to (hard clustering) or the probabilities that it came from each cluster. For this, just use `predict()` method or the `predict_proba()` method:"
      ]
    },
    {
      "cell_type": "code",
      "execution_count": 154,
      "metadata": {
        "id": "WaGvVhQvwo6L",
        "outputId": "2a405ecf-b1ec-4ea9-e5b4-a75e3acc7b91"
      },
      "outputs": [
        {
          "data": {
            "text/plain": [
              "array([0, 0, 1, ..., 2, 2, 2], dtype=int64)"
            ]
          },
          "execution_count": 154,
          "metadata": {},
          "output_type": "execute_result"
        }
      ],
      "source": [
        "gm.predict(X)"
      ]
    },
    {
      "cell_type": "code",
      "execution_count": 155,
      "metadata": {
        "id": "DvExvDh9wo6L",
        "outputId": "c0d4c796-6f13-4820-c6d7-f30c9d050143"
      },
      "outputs": [
        {
          "data": {
            "text/plain": [
              "array([[0.977, 0.   , 0.023],\n",
              "       [0.983, 0.001, 0.016],\n",
              "       [0.   , 1.   , 0.   ],\n",
              "       ...,\n",
              "       [0.   , 0.   , 1.   ],\n",
              "       [0.   , 0.   , 1.   ],\n",
              "       [0.   , 0.   , 1.   ]])"
            ]
          },
          "execution_count": 155,
          "metadata": {},
          "output_type": "execute_result"
        }
      ],
      "source": [
        "gm.predict_proba(X).round(3)"
      ]
    },
    {
      "cell_type": "markdown",
      "metadata": {
        "id": "KFC3bn_hwo6L"
      },
      "source": [
        "This is a generative model, so you can sample new instances from it (and get their labels):"
      ]
    },
    {
      "cell_type": "code",
      "execution_count": 161,
      "metadata": {
        "id": "ML2HEy5Swo6L",
        "outputId": "45e34743-7094-4ed2-b62a-19a283952f27"
      },
      "outputs": [
        {
          "data": {
            "text/plain": [
              "array([[-0.86944074, -0.32767626],\n",
              "       [ 0.29836051,  0.28297011],\n",
              "       [-2.8014927 , -0.09047309],\n",
              "       [ 3.98203732,  1.49951491],\n",
              "       [ 3.81677148,  0.53095244],\n",
              "       [ 2.84104923, -0.73858639]])"
            ]
          },
          "execution_count": 161,
          "metadata": {},
          "output_type": "execute_result"
        }
      ],
      "source": [
        "X_new, y_new = gm.sample(6)\n",
        "X_new"
      ]
    },
    {
      "cell_type": "code",
      "execution_count": 162,
      "metadata": {
        "id": "8AgYEFe6wo6L",
        "outputId": "5283a0d4-977e-42e8-b167-82b2b6127997"
      },
      "outputs": [
        {
          "data": {
            "text/plain": [
              "array([0, 0, 1, 2, 2, 2])"
            ]
          },
          "execution_count": 162,
          "metadata": {},
          "output_type": "execute_result"
        }
      ],
      "source": [
        "y_new"
      ]
    },
    {
      "cell_type": "markdown",
      "metadata": {
        "id": "tXSc1YH4wo6M"
      },
      "source": [
        "Notice that they are sampled sequentially from each cluster."
      ]
    },
    {
      "attachments": {},
      "cell_type": "markdown",
      "metadata": {
        "id": "1TgEPcpmwo6M"
      },
      "source": [
        "Now let's plot the resulting decision boundaries (dashed lines) and density contours:\n",
        "\n",
        "<img width=60% src=\"img/gaussian_mixtures_plot.png\">  "
      ]
    },
    {
      "cell_type": "markdown",
      "metadata": {
        "id": "V6hsgCIjwo6M"
      },
      "source": [
        "You can impose constraints on the covariance matrices that the algorithm looks for by setting the `covariance_type` hyperparameter:\n",
        "* `\"spherical\"`: all clusters must be spherical, but they can have different diameters (i.e., different variances).\n",
        "* `\"diag\"`: clusters can take on any ellipsoidal shape of any size, but the ellipsoid's axes must be parallel to the axes (i.e., the covariance matrices must be diagonal).\n",
        "* `\"tied\"`: all clusters must have the same shape, which can be any ellipsoid (i.e., they all share the same covariance matrix).\n",
        "* `\"full\"` (default): no constraint, all clusters can take on any ellipsoidal shape of any size."
      ]
    },
    {
      "attachments": {},
      "cell_type": "markdown",
      "metadata": {},
      "source": [
        "<img width=60% src=\"img/covariance_type_plot1.png\">  \n",
        "<img width=60% src=\"img/covariance_type_plot2.png\">  "
      ]
    },
    {
      "cell_type": "markdown",
      "metadata": {
        "id": "j7ydtntCwo6M"
      },
      "source": [
        "## Anomaly Detection Using Gaussian Mixtures"
      ]
    },
    {
      "cell_type": "markdown",
      "metadata": {
        "id": "wE8AfdGkwo6M"
      },
      "source": [
        "Gaussian Mixtures can be used for _anomaly detection_: instances located in low-density regions can be considered anomalies. You must define what density threshold you want to use. For example, in a manufacturing company that tries to detect defective products, the ratio of defective products is usually well-known. Say it is equal to 2%, then you can set the density threshold to be the value that results in having 2% of the instances located in areas below that threshold density:"
      ]
    },
    {
      "cell_type": "code",
      "execution_count": 172,
      "metadata": {
        "id": "SsMJmErVwo6M"
      },
      "outputs": [],
      "source": [
        "densities = gm.score_samples(X)\n",
        "density_threshold = np.percentile(densities, 2)\n",
        "anomalies = X[densities < density_threshold]"
      ]
    },
    {
      "attachments": {},
      "cell_type": "markdown",
      "metadata": {},
      "source": [
        "\n",
        "<img width=60% src=\"img/mixture_anomaly_detection_plot.png\">  "
      ]
    },
    {
      "cell_type": "markdown",
      "metadata": {
        "id": "1yDv7axWwo6M"
      },
      "source": [
        "## Selecting the Number of Clusters"
      ]
    },
    {
      "cell_type": "markdown",
      "metadata": {
        "id": "4kZc5_G9wo6N"
      },
      "source": [
        "We cannot use the inertia or the silhouette score because they both assume that the clusters are spherical. Instead, we can try to find the model that minimizes a theoretical information criterion such as the Bayesian Information Criterion (BIC) or the Akaike Information Criterion (AIC):\n",
        "\n",
        "${BIC} = {\\log(m)p - 2\\log({\\hat L})}$\n",
        "\n",
        "${AIC} = 2p - 2\\log(\\hat L)$\n",
        "\n",
        "* $m$ is the number of instances.\n",
        "* $p$ is the number of parameters learned by the model.\n",
        "* $\\hat L$ is the maximized value of the likelihood function of the model. This is the conditional probability of the observed data $\\mathbf{X}$, given the model and its optimized parameters.\n",
        "\n",
        "Both BIC and AIC penalize models that have more parameters to learn (e.g., more clusters), and reward models that fit the data well (i.e., models that give a high likelihood to the observed data)."
      ]
    },
    {
      "cell_type": "code",
      "execution_count": 173,
      "metadata": {},
      "outputs": [
        {
          "name": "stdout",
          "output_type": "stream",
          "text": [
            "bic=8189.747000497188\n",
            "aic=8102.52172038215\n"
          ]
        }
      ],
      "source": [
        "print(f\"bic={gm.bic(X)}\")\n",
        "print(f\"aic={gm.aic(X)}\")"
      ]
    },
    {
      "attachments": {},
      "cell_type": "markdown",
      "metadata": {
        "id": "AzBb6Qazwo6N"
      },
      "source": [
        "Let's train Gaussian Mixture models with various values of $k$ and measure their BIC:\n",
        "<img width=60% src=\"img/aic_bic_vs_k_plot.png\">  "
      ]
    }
  ],
  "metadata": {
    "colab": {
      "provenance": []
    },
    "kernelspec": {
      "display_name": "Python 3",
      "language": "python",
      "name": "python3"
    },
    "language_info": {
      "codemirror_mode": {
        "name": "ipython",
        "version": 3
      },
      "file_extension": ".py",
      "mimetype": "text/x-python",
      "name": "python",
      "nbconvert_exporter": "python",
      "pygments_lexer": "ipython3",
      "version": "3.10.10"
    },
    "vscode": {
      "interpreter": {
        "hash": "79f22afa579cb20877eb7860ee2928c4e590dfb794dd3da5096bb7f945ed4800"
      }
    }
  },
  "nbformat": 4,
  "nbformat_minor": 0
}

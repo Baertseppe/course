{
 "cells": [
  {
   "attachments": {},
   "cell_type": "markdown",
   "metadata": {},
   "source": [
    "## Introduction\n",
    "\n",
    "\n",
    "\n",
    "## Prerequisites:\n",
    "\n",
    "- Install Vagrant from https://developer.hashicorp.com/vagrant/downloads (choose your platform)\n",
    "- Make sure you know your github login and password. \n",
    "- Make sure you have git including gitbash installed. If not install git+gitbash from https://git-scm.com/downloads \n",
    "- Free disk space: 5 GB\n",
    "\n",
    "## Installation of the tool AI-MDM\n",
    "\n",
    "1. Create a directory for the tool.\n",
    "1. Download Vagrant file from https://github.com/hogent-cads/AI_MDM_Prototype as \"Vagrantfile\" (not Vagrant.txt!)\n",
    "2. Download install-aimdm.sh from https://github.com/hogent-cads/AI_MDM_Prototype as \"install-aimdm.sh\"\n",
    "3. Open Git Bash from the directory were you saved both files. \n",
    "4. Type the following commands in the bash shell:\n",
    "   1. vagrant up\n",
    "   2. vagrant ssh. You now get a prompt like \"[vagrant@localhost ~]\". \n",
    "   3. cp /vagrant/install-aimdm.sh .\n",
    "   4. ls -l. Check if you find both downloaded files. \n",
    "   5. sudo dnf install dos2unix\n",
    "   6. dos2unix install-aimdm.sh\n",
    "   7. ./install-aimdm.sh\n",
    "   8. cd AI_MDM_Prototype/\n",
    "   9. ./start-aimdm.sh\n",
    "5.  Minimize bash window\n",
    "6.  Start web browser.\n",
    "7.  Surf to localhost:80/aimdmtool\n",
    "\n",
    "## DEMO and WORKSHOP\n",
    "\n",
    "> This is a prototype tool!  \n",
    "> There are many known (and probably even more unknown) bugs, which is completely normal in this phase of the project. \n",
    "> In case you discover an errors: enter a new issue at https://github.com/HOGENT-CADS/AI_MDM_Prototype/issues  \n",
    "\n",
    "1. Data Profiling with project file weblogs.csv\n",
    "3. Data Cleaning\n",
    "4. Deduplication\n",
    "5. Rule Learning\n",
    "6. Closing (in bash window)\n",
    "   1. exit\n",
    "   2. vagrant halt \n",
    "7. Startup again (in bash window):\n",
    "   1. Repeat steps 4 and 5.1, 5.2, 5.8, 5.9 and 6-8 above"
   ]
  },
  {
   "attachments": {},
   "cell_type": "markdown",
   "metadata": {},
   "source": []
  }
 ],
 "metadata": {
  "language_info": {
   "name": "python"
  },
  "orig_nbformat": 4
 },
 "nbformat": 4,
 "nbformat_minor": 2
}

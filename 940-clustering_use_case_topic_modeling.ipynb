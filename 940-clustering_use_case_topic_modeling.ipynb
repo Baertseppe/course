{
 "cells": [
  {
   "cell_type": "markdown",
   "metadata": {},
   "source": [
    "# Clustering use case: topic modeling\n",
    "\n",
    "## Contents\n",
    "\n",
    "1. Introduction to topic modeling\n",
    "2. Introduction to Natural Language Processing (NLP)\n",
    "3. Bertopic Modeling\n",
    "4. The algorithms\n",
    "5. Exercise\n",
    "\n",
    "\n",
    "## 1. Introduction to topic modeling\n",
    "\n",
    "-  A _systematic review_ extracts and interprets data from published studies on the topic (in the scientific literature), then analyzes, describes, critically appraises and summarizes interpretations into a refined evidence-based conclusion (source: Wikipedia)\n",
    "-  _Topic Modeling_ is an approach to text mining (= data mining of texts) based on unsupervised machine learning, which helps to determine hidden topics within a vast body of unstructured text. \n",
    "-  Due to the large amount of published work in many areas, traditional literature review becomes impractical, inefficient, time-consuming, and potentially less reliable. Yet, it is important to take stock of which topics have been core to the research and whether specific time trends can be identified in these topics. \n",
    "\n",
    "\n",
    "## 2. Introduction to NLP\n",
    "\n",
    "See [Intro to NLP](942-nlp.ipynb)\n",
    "\n",
    "\n",
    "## 3. Bertopic Modeling\n",
    "\n",
    "See [topic-modeling-alcohol-youth-bertopic](943-topic-modeling-alcohol-youth-bertopic.ipynb)\n",
    "\n",
    "\n",
    "## 4. The algorithms\n",
    "\n",
    "See [bertopic-modeling-algorithms](944-bertopic_modeling_algoritmhs.ipynb)\n",
    "\n",
    "\n",
    "\n",
    "## 5. Exercise\n",
    "\n",
    "- Think about the (possible) topic of your bachelor thesis. \n",
    "- Launch a \"good\" search at Web of Science (see HOGENT bib). \n",
    "- Export the articles information (at least title + abstract) and use bertopic modeling to cluster the articles in topics. \n",
    "- Evaluate the topics. Do they seem useful for your thesis? \n",
    "\n",
    "\n",
    "\n",
    "\n",
    "\n",
    "\n",
    "\n",
    "\n"
   ]
  }
 ],
 "metadata": {
  "language_info": {
   "name": "python"
  }
 },
 "nbformat": 4,
 "nbformat_minor": 2
}
